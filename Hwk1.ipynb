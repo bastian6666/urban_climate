{
 "cells": [
  {
   "cell_type": "markdown",
   "metadata": {},
   "source": [
    "# Urban Climate Homework 1"
   ]
  },
  {
   "cell_type": "code",
   "execution_count": 34,
   "metadata": {},
   "outputs": [],
   "source": [
    "import pandas as pd\n",
    "import plotly.graph_objects as go\n",
    "import calendar\n",
    "import numpy as np\n",
    "from sklearn.linear_model import LinearRegression\n",
    "import streamlit as st"
   ]
  },
  {
   "cell_type": "markdown",
   "metadata": {},
   "source": [
    "## Cleaning data"
   ]
  },
  {
   "cell_type": "code",
   "execution_count": 2,
   "metadata": {},
   "outputs": [],
   "source": [
    "class data_explore: \n",
    "\n",
    "    \"\"\"\n",
    "    A class for exploring and cleaning data.\n",
    "\n",
    "    Attributes:\n",
    "        df (DataFrame): The input data frame.\n",
    "        name (str): The name of the file.\n",
    "\n",
    "    Methods:\n",
    "        data_cleaning(): Cleans the data by dropping rows with -9999 values and saves the cleaned data to a CSV file.\n",
    "    \"\"\"\n",
    "\n",
    "    def __init__(self, df, file_name) -> None:\n",
    "\n",
    "        self.df = df\n",
    "        self.name = file_name\n",
    "\n",
    "        \"\"\"\n",
    "        Initializes the data_explore object.\n",
    "\n",
    "        Args:\n",
    "            df (DataFrame): The input data frame.\n",
    "            file_name (str): The name of the file.\n",
    "        \"\"\"\n",
    "\n",
    "    def data_celaning(self):\n",
    "\n",
    "        \"\"\"\n",
    "        Cleans the data by changing rows with -9999 values to NaN values and saves the cleaned data to a CSV file.\n",
    "        \"\"\"\n",
    "\n",
    "        df_columns = [\"year\", \"month\", \"day\", \"Mean T\", \"Maximum T\", \"Minimum T\"]\n",
    "\n",
    "        self.df.columns = df_columns\n",
    "\n",
    "        # print((self.df == -9999).any())\n",
    "\n",
    "        for col in df_columns:\n",
    "            # print(\"Column name = \", col)\n",
    "\n",
    "            index_v = self.df[self.df[col] == -9999].index.tolist()\n",
    "\n",
    "            df_clean = self.df.drop(self.df[self.df[col] == -9999].index)\n",
    "            df_clean_nan = self.df.replace(-9999,np.NaN)\n",
    "            \n",
    "\n",
    "        # print((df_clean == -9999).any())\n",
    "\n",
    "        df_clean.to_csv(self.name + \"_Clean.csv\")\n",
    "        df_clean_nan.to_csv(self.name + \"NaN_Clean.csv\")\n",
    "\n",
    "        return index_v, df_clean\n",
    "\n",
    "\n",
    "\n"
   ]
  },
  {
   "cell_type": "markdown",
   "metadata": {},
   "source": [
    "#### Small index correction"
   ]
  },
  {
   "cell_type": "code",
   "execution_count": 3,
   "metadata": {},
   "outputs": [],
   "source": [
    "\n",
    "df_urban = pd.read_csv(\"save_DMH2.csv\")\n",
    "df_rural = pd.read_csv(\"save_BWI2.csv\")\n",
    "\n",
    "index_values_rural, clean_rural_df = data_explore(df_rural, \"rural\").data_celaning()\n",
    "index_values_urban, clean_urban_df= data_explore(df_urban, \"urban\").data_celaning()\n",
    "\n",
    "# Since we only eliminate values from the Urban DataFrame, we need to eliminate that rows in the rural data.\n",
    "\n",
    "df_clean = clean_rural_df.drop(index_values_urban)\n",
    "\n",
    "df_clean.to_csv(\"rural_Clean.csv\")\n"
   ]
  },
  {
   "cell_type": "markdown",
   "metadata": {},
   "source": [
    "## Part 1"
   ]
  },
  {
   "cell_type": "markdown",
   "metadata": {},
   "source": [
    "### UHI Intensity DataFrame"
   ]
  },
  {
   "cell_type": "markdown",
   "metadata": {},
   "source": [
    "\n",
    "* Calculate the urban heat island intensity using daily mean, maximum, and minimum temperatures for each day and then average them to each month (no figure or value is needed). Then average the monthly results from 2000 to 2016. For example, you should average all the January results from 2000 to 2016 to obtain an averaged January urban heat island effect. Plot the averaged urban heat islands as a function of month (you can think of this as the averaged seasonal cycle of urban heat island). Use different colors or markers for daily mean, maximum, and minimum temperatures but plot them on the same figure.\n"
   ]
  },
  {
   "cell_type": "markdown",
   "metadata": {},
   "source": [
    "In order to calculate Urban Heat Island Intensity we can use: \n",
    "\n",
    "$$ UHI_{\\text{Intensity}} = \\Delta T = T_{urban} - T_{rural}$$"
   ]
  },
  {
   "cell_type": "code",
   "execution_count": 4,
   "metadata": {},
   "outputs": [],
   "source": [
    "def UHI_Intensity(urband_file_name, rurald_file_name, T_type):\n",
    "\n",
    "    \"\"\"\n",
    "    Calculates the Urban Heat Island (UHI) intensity using temperature data from urban and rural areas.\n",
    "\n",
    "    Args:\n",
    "        urband_file_name (str): The file name of the urban temperature data.\n",
    "        rurald_file_name (str): The file name of the rural temperature data.\n",
    "        T_type (str): The type of temperature to calculate the UHI intensity for.\n",
    "\n",
    "    Returns:\n",
    "        None. The calculated UHI intensity values are saved to a CSV file.\n",
    "    \"\"\"\n",
    "\n",
    "    df_urban = pd.read_csv(urband_file_name)\n",
    "    df_rural = pd.read_csv(rurald_file_name)\n",
    "\n",
    "    m = calendar.month_name[1:]\n",
    "\n",
    "    mean_month_temp_rural = []\n",
    "    mean_month_temp_urban = []\n",
    "\n",
    "    UHI_df = pd.DataFrame()\n",
    "    temp_df = pd.DataFrame()\n",
    "\n",
    "    temp_df[\"Month\"] = m\n",
    "    UHI_df[\"Month\"] = m\n",
    "\n",
    "    years = 2000\n",
    "\n",
    "    for ii in range(17):\n",
    "\n",
    "        j = 1\n",
    "\n",
    "        df_rural_year = df_rural.loc[df_rural['year'] == years]\n",
    "        df_urban_year = df_urban.loc[df_urban['year'] == years]\n",
    "\n",
    "        for jj in range(len(temp_df)):\n",
    "\n",
    "            df_rural_month = df_rural_year.loc[df_rural_year['month'] == j]\n",
    "            df_urban_month = df_urban_year.loc[df_urban_year['month'] == j]\n",
    "            \n",
    "            Mean_rural = df_rural_month.loc[:, T_type].mean()\n",
    "            Mean_urban = df_urban_month.loc[:, T_type].mean()\n",
    "\n",
    "\n",
    "            mean_month_temp_rural.append(Mean_rural)\n",
    "            mean_month_temp_urban.append(Mean_urban)\n",
    "            \n",
    "            j = j + 1\n",
    "\n",
    "        mean_month_temp_rural_C = [FahrenheitToCelsius(f) for f in mean_month_temp_rural]\n",
    "        mean_month_temp_urban_C = [FahrenheitToCelsius(f) for f in mean_month_temp_urban]\n",
    "\n",
    "        UHI_month_intensity_C = np.array(mean_month_temp_urban_C) - np.array(mean_month_temp_rural_C)\n",
    "        \n",
    "        temp_df[T_type + \"_rural \" + str(years)] = mean_month_temp_rural_C\n",
    "        temp_df[T_type + \"_urban \" + str(years)] = mean_month_temp_urban_C\n",
    "        UHI_df[\"UHI_intensity\" + T_type + \" \" + str(years)] = UHI_month_intensity_C\n",
    "        \n",
    "        mean_month_temp_rural = []\n",
    "        mean_month_temp_urban = []\n",
    "\n",
    "        years = years + 1\n",
    "\n",
    "\n",
    "    UHI_df['Mean'] = UHI_df.drop('Month', axis=1).apply(lambda x: x.mean(), axis=1)\n",
    "    \n",
    "    temp_df.to_csv(T_type + \"_temperature_df.csv\")\n",
    "    UHI_df.to_csv(\"UHI_intensity\" + T_type + \".csv\")\n",
    "\n"
   ]
  },
  {
   "cell_type": "code",
   "execution_count": 16,
   "metadata": {},
   "outputs": [],
   "source": [
    "\n",
    "def FahrenheitToCelsius(f):\n",
    "\n",
    "    \"\"\"\n",
    "    Converts a temperature value in Fahrenheit to Celsius.\n",
    "\n",
    "    Args:\n",
    "        f (float): The temperature value in Fahrenheit.\n",
    "\n",
    "    Returns:\n",
    "        float: The temperature value converted to Celsius.\n",
    "    \"\"\"\n",
    "\n",
    "    c = (f - 32) * 5 / 9\n",
    "\n",
    "    return c\n",
    "\n"
   ]
  },
  {
   "cell_type": "code",
   "execution_count": 5,
   "metadata": {},
   "outputs": [],
   "source": [
    "\n",
    "T_type = [\"Mean T\", \"Maximum T\", \"Minimum T\"]\n",
    "\n",
    "for Temperature_type in T_type:\n",
    "\n",
    "    UHI_Intensity(\"urban_Clean.csv\", \"rural_Clean.csv\", Temperature_type)\n",
    "        \n"
   ]
  },
  {
   "cell_type": "code",
   "execution_count": 67,
   "metadata": {},
   "outputs": [
    {
     "data": {
      "application/vnd.plotly.v1+json": {
       "config": {
        "plotlyServerURL": "https://plotly.com"
       },
       "data": [
        {
         "cells": {
          "align": "left",
          "values": [
           [
            "January",
            "February",
            "March",
            "April",
            "May",
            "June",
            "July",
            "August",
            "September",
            "October",
            "November",
            "December"
           ],
           [
            1.4787757396865553,
            1.4857006020799126,
            1.3965505557061533,
            1.5324074074074077,
            1.7104153489352731,
            1.885612567717594,
            2.021399957832595,
            1.9507695551338815,
            2.104575163398692,
            2.002951718321737,
            1.922714296446548,
            1.6967109424414932
           ],
           [
            0.4172816079836953,
            0.2814401622718046,
            0.2120418059697001,
            0.3981481481481486,
            0.5070630402698723,
            0.8731875892119303,
            0.9993674889310568,
            0.8644317942230645,
            0.7766884531590419,
            0.5850727387729293,
            0.3378784463977162,
            0.4285457711559332
           ],
           [
            2.637500878487596,
            2.776691136224605,
            2.626615162193909,
            2.772331154684096,
            2.8831962892683944,
            2.931201429060343,
            2.9696394686907026,
            3.060299388572634,
            3.4564270152505445,
            3.462998102466793,
            3.578205995041695,
            2.979166178618003
           ]
          ]
         },
         "header": {
          "align": "left",
          "fill": {
           "color": "rgb(8, 81, 156)"
          },
          "font": {
           "color": "white"
          },
          "line": {
           "color": "rgb(8, 81, 156)"
          },
          "values": [
           "Month",
           "UHI Intensity 2000 - 2016 (Mean T)",
           "UHI Intensity 2000 - 2016 (Max T)",
           "UHI Intensity 2000 - 2016 (Min T)"
          ]
         },
         "type": "table"
        }
       ],
       "layout": {
        "template": {
         "data": {
          "bar": [
           {
            "error_x": {
             "color": "#2a3f5f"
            },
            "error_y": {
             "color": "#2a3f5f"
            },
            "marker": {
             "line": {
              "color": "#E5ECF6",
              "width": 0.5
             },
             "pattern": {
              "fillmode": "overlay",
              "size": 10,
              "solidity": 0.2
             }
            },
            "type": "bar"
           }
          ],
          "barpolar": [
           {
            "marker": {
             "line": {
              "color": "#E5ECF6",
              "width": 0.5
             },
             "pattern": {
              "fillmode": "overlay",
              "size": 10,
              "solidity": 0.2
             }
            },
            "type": "barpolar"
           }
          ],
          "carpet": [
           {
            "aaxis": {
             "endlinecolor": "#2a3f5f",
             "gridcolor": "white",
             "linecolor": "white",
             "minorgridcolor": "white",
             "startlinecolor": "#2a3f5f"
            },
            "baxis": {
             "endlinecolor": "#2a3f5f",
             "gridcolor": "white",
             "linecolor": "white",
             "minorgridcolor": "white",
             "startlinecolor": "#2a3f5f"
            },
            "type": "carpet"
           }
          ],
          "choropleth": [
           {
            "colorbar": {
             "outlinewidth": 0,
             "ticks": ""
            },
            "type": "choropleth"
           }
          ],
          "contour": [
           {
            "colorbar": {
             "outlinewidth": 0,
             "ticks": ""
            },
            "colorscale": [
             [
              0,
              "#0d0887"
             ],
             [
              0.1111111111111111,
              "#46039f"
             ],
             [
              0.2222222222222222,
              "#7201a8"
             ],
             [
              0.3333333333333333,
              "#9c179e"
             ],
             [
              0.4444444444444444,
              "#bd3786"
             ],
             [
              0.5555555555555556,
              "#d8576b"
             ],
             [
              0.6666666666666666,
              "#ed7953"
             ],
             [
              0.7777777777777778,
              "#fb9f3a"
             ],
             [
              0.8888888888888888,
              "#fdca26"
             ],
             [
              1,
              "#f0f921"
             ]
            ],
            "type": "contour"
           }
          ],
          "contourcarpet": [
           {
            "colorbar": {
             "outlinewidth": 0,
             "ticks": ""
            },
            "type": "contourcarpet"
           }
          ],
          "heatmap": [
           {
            "colorbar": {
             "outlinewidth": 0,
             "ticks": ""
            },
            "colorscale": [
             [
              0,
              "#0d0887"
             ],
             [
              0.1111111111111111,
              "#46039f"
             ],
             [
              0.2222222222222222,
              "#7201a8"
             ],
             [
              0.3333333333333333,
              "#9c179e"
             ],
             [
              0.4444444444444444,
              "#bd3786"
             ],
             [
              0.5555555555555556,
              "#d8576b"
             ],
             [
              0.6666666666666666,
              "#ed7953"
             ],
             [
              0.7777777777777778,
              "#fb9f3a"
             ],
             [
              0.8888888888888888,
              "#fdca26"
             ],
             [
              1,
              "#f0f921"
             ]
            ],
            "type": "heatmap"
           }
          ],
          "heatmapgl": [
           {
            "colorbar": {
             "outlinewidth": 0,
             "ticks": ""
            },
            "colorscale": [
             [
              0,
              "#0d0887"
             ],
             [
              0.1111111111111111,
              "#46039f"
             ],
             [
              0.2222222222222222,
              "#7201a8"
             ],
             [
              0.3333333333333333,
              "#9c179e"
             ],
             [
              0.4444444444444444,
              "#bd3786"
             ],
             [
              0.5555555555555556,
              "#d8576b"
             ],
             [
              0.6666666666666666,
              "#ed7953"
             ],
             [
              0.7777777777777778,
              "#fb9f3a"
             ],
             [
              0.8888888888888888,
              "#fdca26"
             ],
             [
              1,
              "#f0f921"
             ]
            ],
            "type": "heatmapgl"
           }
          ],
          "histogram": [
           {
            "marker": {
             "pattern": {
              "fillmode": "overlay",
              "size": 10,
              "solidity": 0.2
             }
            },
            "type": "histogram"
           }
          ],
          "histogram2d": [
           {
            "colorbar": {
             "outlinewidth": 0,
             "ticks": ""
            },
            "colorscale": [
             [
              0,
              "#0d0887"
             ],
             [
              0.1111111111111111,
              "#46039f"
             ],
             [
              0.2222222222222222,
              "#7201a8"
             ],
             [
              0.3333333333333333,
              "#9c179e"
             ],
             [
              0.4444444444444444,
              "#bd3786"
             ],
             [
              0.5555555555555556,
              "#d8576b"
             ],
             [
              0.6666666666666666,
              "#ed7953"
             ],
             [
              0.7777777777777778,
              "#fb9f3a"
             ],
             [
              0.8888888888888888,
              "#fdca26"
             ],
             [
              1,
              "#f0f921"
             ]
            ],
            "type": "histogram2d"
           }
          ],
          "histogram2dcontour": [
           {
            "colorbar": {
             "outlinewidth": 0,
             "ticks": ""
            },
            "colorscale": [
             [
              0,
              "#0d0887"
             ],
             [
              0.1111111111111111,
              "#46039f"
             ],
             [
              0.2222222222222222,
              "#7201a8"
             ],
             [
              0.3333333333333333,
              "#9c179e"
             ],
             [
              0.4444444444444444,
              "#bd3786"
             ],
             [
              0.5555555555555556,
              "#d8576b"
             ],
             [
              0.6666666666666666,
              "#ed7953"
             ],
             [
              0.7777777777777778,
              "#fb9f3a"
             ],
             [
              0.8888888888888888,
              "#fdca26"
             ],
             [
              1,
              "#f0f921"
             ]
            ],
            "type": "histogram2dcontour"
           }
          ],
          "mesh3d": [
           {
            "colorbar": {
             "outlinewidth": 0,
             "ticks": ""
            },
            "type": "mesh3d"
           }
          ],
          "parcoords": [
           {
            "line": {
             "colorbar": {
              "outlinewidth": 0,
              "ticks": ""
             }
            },
            "type": "parcoords"
           }
          ],
          "pie": [
           {
            "automargin": true,
            "type": "pie"
           }
          ],
          "scatter": [
           {
            "fillpattern": {
             "fillmode": "overlay",
             "size": 10,
             "solidity": 0.2
            },
            "type": "scatter"
           }
          ],
          "scatter3d": [
           {
            "line": {
             "colorbar": {
              "outlinewidth": 0,
              "ticks": ""
             }
            },
            "marker": {
             "colorbar": {
              "outlinewidth": 0,
              "ticks": ""
             }
            },
            "type": "scatter3d"
           }
          ],
          "scattercarpet": [
           {
            "marker": {
             "colorbar": {
              "outlinewidth": 0,
              "ticks": ""
             }
            },
            "type": "scattercarpet"
           }
          ],
          "scattergeo": [
           {
            "marker": {
             "colorbar": {
              "outlinewidth": 0,
              "ticks": ""
             }
            },
            "type": "scattergeo"
           }
          ],
          "scattergl": [
           {
            "marker": {
             "colorbar": {
              "outlinewidth": 0,
              "ticks": ""
             }
            },
            "type": "scattergl"
           }
          ],
          "scattermapbox": [
           {
            "marker": {
             "colorbar": {
              "outlinewidth": 0,
              "ticks": ""
             }
            },
            "type": "scattermapbox"
           }
          ],
          "scatterpolar": [
           {
            "marker": {
             "colorbar": {
              "outlinewidth": 0,
              "ticks": ""
             }
            },
            "type": "scatterpolar"
           }
          ],
          "scatterpolargl": [
           {
            "marker": {
             "colorbar": {
              "outlinewidth": 0,
              "ticks": ""
             }
            },
            "type": "scatterpolargl"
           }
          ],
          "scatterternary": [
           {
            "marker": {
             "colorbar": {
              "outlinewidth": 0,
              "ticks": ""
             }
            },
            "type": "scatterternary"
           }
          ],
          "surface": [
           {
            "colorbar": {
             "outlinewidth": 0,
             "ticks": ""
            },
            "colorscale": [
             [
              0,
              "#0d0887"
             ],
             [
              0.1111111111111111,
              "#46039f"
             ],
             [
              0.2222222222222222,
              "#7201a8"
             ],
             [
              0.3333333333333333,
              "#9c179e"
             ],
             [
              0.4444444444444444,
              "#bd3786"
             ],
             [
              0.5555555555555556,
              "#d8576b"
             ],
             [
              0.6666666666666666,
              "#ed7953"
             ],
             [
              0.7777777777777778,
              "#fb9f3a"
             ],
             [
              0.8888888888888888,
              "#fdca26"
             ],
             [
              1,
              "#f0f921"
             ]
            ],
            "type": "surface"
           }
          ],
          "table": [
           {
            "cells": {
             "fill": {
              "color": "#EBF0F8"
             },
             "line": {
              "color": "white"
             }
            },
            "header": {
             "fill": {
              "color": "#C8D4E3"
             },
             "line": {
              "color": "white"
             }
            },
            "type": "table"
           }
          ]
         },
         "layout": {
          "annotationdefaults": {
           "arrowcolor": "#2a3f5f",
           "arrowhead": 0,
           "arrowwidth": 1
          },
          "autotypenumbers": "strict",
          "coloraxis": {
           "colorbar": {
            "outlinewidth": 0,
            "ticks": ""
           }
          },
          "colorscale": {
           "diverging": [
            [
             0,
             "#8e0152"
            ],
            [
             0.1,
             "#c51b7d"
            ],
            [
             0.2,
             "#de77ae"
            ],
            [
             0.3,
             "#f1b6da"
            ],
            [
             0.4,
             "#fde0ef"
            ],
            [
             0.5,
             "#f7f7f7"
            ],
            [
             0.6,
             "#e6f5d0"
            ],
            [
             0.7,
             "#b8e186"
            ],
            [
             0.8,
             "#7fbc41"
            ],
            [
             0.9,
             "#4d9221"
            ],
            [
             1,
             "#276419"
            ]
           ],
           "sequential": [
            [
             0,
             "#0d0887"
            ],
            [
             0.1111111111111111,
             "#46039f"
            ],
            [
             0.2222222222222222,
             "#7201a8"
            ],
            [
             0.3333333333333333,
             "#9c179e"
            ],
            [
             0.4444444444444444,
             "#bd3786"
            ],
            [
             0.5555555555555556,
             "#d8576b"
            ],
            [
             0.6666666666666666,
             "#ed7953"
            ],
            [
             0.7777777777777778,
             "#fb9f3a"
            ],
            [
             0.8888888888888888,
             "#fdca26"
            ],
            [
             1,
             "#f0f921"
            ]
           ],
           "sequentialminus": [
            [
             0,
             "#0d0887"
            ],
            [
             0.1111111111111111,
             "#46039f"
            ],
            [
             0.2222222222222222,
             "#7201a8"
            ],
            [
             0.3333333333333333,
             "#9c179e"
            ],
            [
             0.4444444444444444,
             "#bd3786"
            ],
            [
             0.5555555555555556,
             "#d8576b"
            ],
            [
             0.6666666666666666,
             "#ed7953"
            ],
            [
             0.7777777777777778,
             "#fb9f3a"
            ],
            [
             0.8888888888888888,
             "#fdca26"
            ],
            [
             1,
             "#f0f921"
            ]
           ]
          },
          "colorway": [
           "#636efa",
           "#EF553B",
           "#00cc96",
           "#ab63fa",
           "#FFA15A",
           "#19d3f3",
           "#FF6692",
           "#B6E880",
           "#FF97FF",
           "#FECB52"
          ],
          "font": {
           "color": "#2a3f5f"
          },
          "geo": {
           "bgcolor": "white",
           "lakecolor": "white",
           "landcolor": "#E5ECF6",
           "showlakes": true,
           "showland": true,
           "subunitcolor": "white"
          },
          "hoverlabel": {
           "align": "left"
          },
          "hovermode": "closest",
          "mapbox": {
           "style": "light"
          },
          "paper_bgcolor": "white",
          "plot_bgcolor": "#E5ECF6",
          "polar": {
           "angularaxis": {
            "gridcolor": "white",
            "linecolor": "white",
            "ticks": ""
           },
           "bgcolor": "#E5ECF6",
           "radialaxis": {
            "gridcolor": "white",
            "linecolor": "white",
            "ticks": ""
           }
          },
          "scene": {
           "xaxis": {
            "backgroundcolor": "#E5ECF6",
            "gridcolor": "white",
            "gridwidth": 2,
            "linecolor": "white",
            "showbackground": true,
            "ticks": "",
            "zerolinecolor": "white"
           },
           "yaxis": {
            "backgroundcolor": "#E5ECF6",
            "gridcolor": "white",
            "gridwidth": 2,
            "linecolor": "white",
            "showbackground": true,
            "ticks": "",
            "zerolinecolor": "white"
           },
           "zaxis": {
            "backgroundcolor": "#E5ECF6",
            "gridcolor": "white",
            "gridwidth": 2,
            "linecolor": "white",
            "showbackground": true,
            "ticks": "",
            "zerolinecolor": "white"
           }
          },
          "shapedefaults": {
           "line": {
            "color": "#2a3f5f"
           }
          },
          "ternary": {
           "aaxis": {
            "gridcolor": "white",
            "linecolor": "white",
            "ticks": ""
           },
           "baxis": {
            "gridcolor": "white",
            "linecolor": "white",
            "ticks": ""
           },
           "bgcolor": "#E5ECF6",
           "caxis": {
            "gridcolor": "white",
            "linecolor": "white",
            "ticks": ""
           }
          },
          "title": {
           "x": 0.05
          },
          "xaxis": {
           "automargin": true,
           "gridcolor": "white",
           "linecolor": "white",
           "ticks": "",
           "title": {
            "standoff": 15
           },
           "zerolinecolor": "white",
           "zerolinewidth": 2
          },
          "yaxis": {
           "automargin": true,
           "gridcolor": "white",
           "linecolor": "white",
           "ticks": "",
           "title": {
            "standoff": 15
           },
           "zerolinecolor": "white",
           "zerolinewidth": 2
          }
         }
        }
       }
      }
     },
     "metadata": {},
     "output_type": "display_data"
    }
   ],
   "source": [
    "df_mean = pd.read_csv(\"UHI_intensityMean T.csv\")\n",
    "df_max = pd.read_csv(\"UHI_intensityMaximum T.csv\")\n",
    "df_min = pd.read_csv(\"UHI_intensityMinimum T.csv\")\n",
    "\n",
    "fig = go.Figure(data=[go.Table(\n",
    "    header=dict(values=['Month', 'UHI Intensity 2000 - 2016 (Mean T)', 'UHI Intensity 2000 - 2016 (Max T)', 'UHI Intensity 2000 - 2016 (Min T)'],\n",
    "                line_color='rgb(8, 81, 156)', fill_color='rgb(8, 81, 156)', font=dict(color='white'),\n",
    "                align='left'),\n",
    "    cells=dict(values=[df_mean.Month, df_mean.Mean, df_max.Mean, df_min.Mean],\n",
    "               align='left'))\n",
    "])\n",
    "\n",
    "fig.show()"
   ]
  },
  {
   "cell_type": "markdown",
   "metadata": {},
   "source": [
    "### Plots"
   ]
  },
  {
   "cell_type": "code",
   "execution_count": 18,
   "metadata": {},
   "outputs": [
    {
     "data": {
      "application/vnd.plotly.v1+json": {
       "config": {
        "plotlyServerURL": "https://plotly.com"
       },
       "data": [
        {
         "mode": "lines+markers",
         "name": "Max",
         "type": "scatter",
         "x": [
          "January",
          "February",
          "March",
          "April",
          "May",
          "June",
          "July",
          "August",
          "September",
          "October",
          "November",
          "December"
         ],
         "y": [
          0.4172816079836953,
          0.2814401622718046,
          0.2120418059697001,
          0.3981481481481486,
          0.5070630402698723,
          0.8731875892119303,
          0.9993674889310568,
          0.8644317942230645,
          0.7766884531590419,
          0.5850727387729293,
          0.3378784463977162,
          0.4285457711559332
         ]
        },
        {
         "mode": "lines+markers",
         "name": "Mean",
         "type": "scatter",
         "x": [
          "January",
          "February",
          "March",
          "April",
          "May",
          "June",
          "July",
          "August",
          "September",
          "October",
          "November",
          "December"
         ],
         "y": [
          1.4787757396865553,
          1.4857006020799126,
          1.3965505557061533,
          1.5324074074074077,
          1.7104153489352731,
          1.885612567717594,
          2.021399957832595,
          1.9507695551338815,
          2.104575163398692,
          2.002951718321737,
          1.922714296446548,
          1.6967109424414932
         ]
        },
        {
         "mode": "lines+markers",
         "name": "Min",
         "type": "scatter",
         "x": [
          "January",
          "February",
          "March",
          "April",
          "May",
          "June",
          "July",
          "August",
          "September",
          "October",
          "November",
          "December"
         ],
         "y": [
          2.637500878487596,
          2.776691136224605,
          2.626615162193909,
          2.772331154684096,
          2.8831962892683944,
          2.931201429060343,
          2.9696394686907026,
          3.060299388572634,
          3.4564270152505445,
          3.462998102466793,
          3.578205995041695,
          2.979166178618003
         ]
        }
       ],
       "layout": {
        "template": {
         "data": {
          "bar": [
           {
            "error_x": {
             "color": "#2a3f5f"
            },
            "error_y": {
             "color": "#2a3f5f"
            },
            "marker": {
             "line": {
              "color": "#E5ECF6",
              "width": 0.5
             },
             "pattern": {
              "fillmode": "overlay",
              "size": 10,
              "solidity": 0.2
             }
            },
            "type": "bar"
           }
          ],
          "barpolar": [
           {
            "marker": {
             "line": {
              "color": "#E5ECF6",
              "width": 0.5
             },
             "pattern": {
              "fillmode": "overlay",
              "size": 10,
              "solidity": 0.2
             }
            },
            "type": "barpolar"
           }
          ],
          "carpet": [
           {
            "aaxis": {
             "endlinecolor": "#2a3f5f",
             "gridcolor": "white",
             "linecolor": "white",
             "minorgridcolor": "white",
             "startlinecolor": "#2a3f5f"
            },
            "baxis": {
             "endlinecolor": "#2a3f5f",
             "gridcolor": "white",
             "linecolor": "white",
             "minorgridcolor": "white",
             "startlinecolor": "#2a3f5f"
            },
            "type": "carpet"
           }
          ],
          "choropleth": [
           {
            "colorbar": {
             "outlinewidth": 0,
             "ticks": ""
            },
            "type": "choropleth"
           }
          ],
          "contour": [
           {
            "colorbar": {
             "outlinewidth": 0,
             "ticks": ""
            },
            "colorscale": [
             [
              0,
              "#0d0887"
             ],
             [
              0.1111111111111111,
              "#46039f"
             ],
             [
              0.2222222222222222,
              "#7201a8"
             ],
             [
              0.3333333333333333,
              "#9c179e"
             ],
             [
              0.4444444444444444,
              "#bd3786"
             ],
             [
              0.5555555555555556,
              "#d8576b"
             ],
             [
              0.6666666666666666,
              "#ed7953"
             ],
             [
              0.7777777777777778,
              "#fb9f3a"
             ],
             [
              0.8888888888888888,
              "#fdca26"
             ],
             [
              1,
              "#f0f921"
             ]
            ],
            "type": "contour"
           }
          ],
          "contourcarpet": [
           {
            "colorbar": {
             "outlinewidth": 0,
             "ticks": ""
            },
            "type": "contourcarpet"
           }
          ],
          "heatmap": [
           {
            "colorbar": {
             "outlinewidth": 0,
             "ticks": ""
            },
            "colorscale": [
             [
              0,
              "#0d0887"
             ],
             [
              0.1111111111111111,
              "#46039f"
             ],
             [
              0.2222222222222222,
              "#7201a8"
             ],
             [
              0.3333333333333333,
              "#9c179e"
             ],
             [
              0.4444444444444444,
              "#bd3786"
             ],
             [
              0.5555555555555556,
              "#d8576b"
             ],
             [
              0.6666666666666666,
              "#ed7953"
             ],
             [
              0.7777777777777778,
              "#fb9f3a"
             ],
             [
              0.8888888888888888,
              "#fdca26"
             ],
             [
              1,
              "#f0f921"
             ]
            ],
            "type": "heatmap"
           }
          ],
          "heatmapgl": [
           {
            "colorbar": {
             "outlinewidth": 0,
             "ticks": ""
            },
            "colorscale": [
             [
              0,
              "#0d0887"
             ],
             [
              0.1111111111111111,
              "#46039f"
             ],
             [
              0.2222222222222222,
              "#7201a8"
             ],
             [
              0.3333333333333333,
              "#9c179e"
             ],
             [
              0.4444444444444444,
              "#bd3786"
             ],
             [
              0.5555555555555556,
              "#d8576b"
             ],
             [
              0.6666666666666666,
              "#ed7953"
             ],
             [
              0.7777777777777778,
              "#fb9f3a"
             ],
             [
              0.8888888888888888,
              "#fdca26"
             ],
             [
              1,
              "#f0f921"
             ]
            ],
            "type": "heatmapgl"
           }
          ],
          "histogram": [
           {
            "marker": {
             "pattern": {
              "fillmode": "overlay",
              "size": 10,
              "solidity": 0.2
             }
            },
            "type": "histogram"
           }
          ],
          "histogram2d": [
           {
            "colorbar": {
             "outlinewidth": 0,
             "ticks": ""
            },
            "colorscale": [
             [
              0,
              "#0d0887"
             ],
             [
              0.1111111111111111,
              "#46039f"
             ],
             [
              0.2222222222222222,
              "#7201a8"
             ],
             [
              0.3333333333333333,
              "#9c179e"
             ],
             [
              0.4444444444444444,
              "#bd3786"
             ],
             [
              0.5555555555555556,
              "#d8576b"
             ],
             [
              0.6666666666666666,
              "#ed7953"
             ],
             [
              0.7777777777777778,
              "#fb9f3a"
             ],
             [
              0.8888888888888888,
              "#fdca26"
             ],
             [
              1,
              "#f0f921"
             ]
            ],
            "type": "histogram2d"
           }
          ],
          "histogram2dcontour": [
           {
            "colorbar": {
             "outlinewidth": 0,
             "ticks": ""
            },
            "colorscale": [
             [
              0,
              "#0d0887"
             ],
             [
              0.1111111111111111,
              "#46039f"
             ],
             [
              0.2222222222222222,
              "#7201a8"
             ],
             [
              0.3333333333333333,
              "#9c179e"
             ],
             [
              0.4444444444444444,
              "#bd3786"
             ],
             [
              0.5555555555555556,
              "#d8576b"
             ],
             [
              0.6666666666666666,
              "#ed7953"
             ],
             [
              0.7777777777777778,
              "#fb9f3a"
             ],
             [
              0.8888888888888888,
              "#fdca26"
             ],
             [
              1,
              "#f0f921"
             ]
            ],
            "type": "histogram2dcontour"
           }
          ],
          "mesh3d": [
           {
            "colorbar": {
             "outlinewidth": 0,
             "ticks": ""
            },
            "type": "mesh3d"
           }
          ],
          "parcoords": [
           {
            "line": {
             "colorbar": {
              "outlinewidth": 0,
              "ticks": ""
             }
            },
            "type": "parcoords"
           }
          ],
          "pie": [
           {
            "automargin": true,
            "type": "pie"
           }
          ],
          "scatter": [
           {
            "fillpattern": {
             "fillmode": "overlay",
             "size": 10,
             "solidity": 0.2
            },
            "type": "scatter"
           }
          ],
          "scatter3d": [
           {
            "line": {
             "colorbar": {
              "outlinewidth": 0,
              "ticks": ""
             }
            },
            "marker": {
             "colorbar": {
              "outlinewidth": 0,
              "ticks": ""
             }
            },
            "type": "scatter3d"
           }
          ],
          "scattercarpet": [
           {
            "marker": {
             "colorbar": {
              "outlinewidth": 0,
              "ticks": ""
             }
            },
            "type": "scattercarpet"
           }
          ],
          "scattergeo": [
           {
            "marker": {
             "colorbar": {
              "outlinewidth": 0,
              "ticks": ""
             }
            },
            "type": "scattergeo"
           }
          ],
          "scattergl": [
           {
            "marker": {
             "colorbar": {
              "outlinewidth": 0,
              "ticks": ""
             }
            },
            "type": "scattergl"
           }
          ],
          "scattermapbox": [
           {
            "marker": {
             "colorbar": {
              "outlinewidth": 0,
              "ticks": ""
             }
            },
            "type": "scattermapbox"
           }
          ],
          "scatterpolar": [
           {
            "marker": {
             "colorbar": {
              "outlinewidth": 0,
              "ticks": ""
             }
            },
            "type": "scatterpolar"
           }
          ],
          "scatterpolargl": [
           {
            "marker": {
             "colorbar": {
              "outlinewidth": 0,
              "ticks": ""
             }
            },
            "type": "scatterpolargl"
           }
          ],
          "scatterternary": [
           {
            "marker": {
             "colorbar": {
              "outlinewidth": 0,
              "ticks": ""
             }
            },
            "type": "scatterternary"
           }
          ],
          "surface": [
           {
            "colorbar": {
             "outlinewidth": 0,
             "ticks": ""
            },
            "colorscale": [
             [
              0,
              "#0d0887"
             ],
             [
              0.1111111111111111,
              "#46039f"
             ],
             [
              0.2222222222222222,
              "#7201a8"
             ],
             [
              0.3333333333333333,
              "#9c179e"
             ],
             [
              0.4444444444444444,
              "#bd3786"
             ],
             [
              0.5555555555555556,
              "#d8576b"
             ],
             [
              0.6666666666666666,
              "#ed7953"
             ],
             [
              0.7777777777777778,
              "#fb9f3a"
             ],
             [
              0.8888888888888888,
              "#fdca26"
             ],
             [
              1,
              "#f0f921"
             ]
            ],
            "type": "surface"
           }
          ],
          "table": [
           {
            "cells": {
             "fill": {
              "color": "#EBF0F8"
             },
             "line": {
              "color": "white"
             }
            },
            "header": {
             "fill": {
              "color": "#C8D4E3"
             },
             "line": {
              "color": "white"
             }
            },
            "type": "table"
           }
          ]
         },
         "layout": {
          "annotationdefaults": {
           "arrowcolor": "#2a3f5f",
           "arrowhead": 0,
           "arrowwidth": 1
          },
          "autotypenumbers": "strict",
          "coloraxis": {
           "colorbar": {
            "outlinewidth": 0,
            "ticks": ""
           }
          },
          "colorscale": {
           "diverging": [
            [
             0,
             "#8e0152"
            ],
            [
             0.1,
             "#c51b7d"
            ],
            [
             0.2,
             "#de77ae"
            ],
            [
             0.3,
             "#f1b6da"
            ],
            [
             0.4,
             "#fde0ef"
            ],
            [
             0.5,
             "#f7f7f7"
            ],
            [
             0.6,
             "#e6f5d0"
            ],
            [
             0.7,
             "#b8e186"
            ],
            [
             0.8,
             "#7fbc41"
            ],
            [
             0.9,
             "#4d9221"
            ],
            [
             1,
             "#276419"
            ]
           ],
           "sequential": [
            [
             0,
             "#0d0887"
            ],
            [
             0.1111111111111111,
             "#46039f"
            ],
            [
             0.2222222222222222,
             "#7201a8"
            ],
            [
             0.3333333333333333,
             "#9c179e"
            ],
            [
             0.4444444444444444,
             "#bd3786"
            ],
            [
             0.5555555555555556,
             "#d8576b"
            ],
            [
             0.6666666666666666,
             "#ed7953"
            ],
            [
             0.7777777777777778,
             "#fb9f3a"
            ],
            [
             0.8888888888888888,
             "#fdca26"
            ],
            [
             1,
             "#f0f921"
            ]
           ],
           "sequentialminus": [
            [
             0,
             "#0d0887"
            ],
            [
             0.1111111111111111,
             "#46039f"
            ],
            [
             0.2222222222222222,
             "#7201a8"
            ],
            [
             0.3333333333333333,
             "#9c179e"
            ],
            [
             0.4444444444444444,
             "#bd3786"
            ],
            [
             0.5555555555555556,
             "#d8576b"
            ],
            [
             0.6666666666666666,
             "#ed7953"
            ],
            [
             0.7777777777777778,
             "#fb9f3a"
            ],
            [
             0.8888888888888888,
             "#fdca26"
            ],
            [
             1,
             "#f0f921"
            ]
           ]
          },
          "colorway": [
           "#636efa",
           "#EF553B",
           "#00cc96",
           "#ab63fa",
           "#FFA15A",
           "#19d3f3",
           "#FF6692",
           "#B6E880",
           "#FF97FF",
           "#FECB52"
          ],
          "font": {
           "color": "#2a3f5f"
          },
          "geo": {
           "bgcolor": "white",
           "lakecolor": "white",
           "landcolor": "#E5ECF6",
           "showlakes": true,
           "showland": true,
           "subunitcolor": "white"
          },
          "hoverlabel": {
           "align": "left"
          },
          "hovermode": "closest",
          "mapbox": {
           "style": "light"
          },
          "paper_bgcolor": "white",
          "plot_bgcolor": "#E5ECF6",
          "polar": {
           "angularaxis": {
            "gridcolor": "white",
            "linecolor": "white",
            "ticks": ""
           },
           "bgcolor": "#E5ECF6",
           "radialaxis": {
            "gridcolor": "white",
            "linecolor": "white",
            "ticks": ""
           }
          },
          "scene": {
           "xaxis": {
            "backgroundcolor": "#E5ECF6",
            "gridcolor": "white",
            "gridwidth": 2,
            "linecolor": "white",
            "showbackground": true,
            "ticks": "",
            "zerolinecolor": "white"
           },
           "yaxis": {
            "backgroundcolor": "#E5ECF6",
            "gridcolor": "white",
            "gridwidth": 2,
            "linecolor": "white",
            "showbackground": true,
            "ticks": "",
            "zerolinecolor": "white"
           },
           "zaxis": {
            "backgroundcolor": "#E5ECF6",
            "gridcolor": "white",
            "gridwidth": 2,
            "linecolor": "white",
            "showbackground": true,
            "ticks": "",
            "zerolinecolor": "white"
           }
          },
          "shapedefaults": {
           "line": {
            "color": "#2a3f5f"
           }
          },
          "ternary": {
           "aaxis": {
            "gridcolor": "white",
            "linecolor": "white",
            "ticks": ""
           },
           "baxis": {
            "gridcolor": "white",
            "linecolor": "white",
            "ticks": ""
           },
           "bgcolor": "#E5ECF6",
           "caxis": {
            "gridcolor": "white",
            "linecolor": "white",
            "ticks": ""
           }
          },
          "title": {
           "x": 0.05
          },
          "xaxis": {
           "automargin": true,
           "gridcolor": "white",
           "linecolor": "white",
           "ticks": "",
           "title": {
            "standoff": 15
           },
           "zerolinecolor": "white",
           "zerolinewidth": 2
          },
          "yaxis": {
           "automargin": true,
           "gridcolor": "white",
           "linecolor": "white",
           "ticks": "",
           "title": {
            "standoff": 15
           },
           "zerolinecolor": "white",
           "zerolinewidth": 2
          }
         }
        },
        "title": {
         "text": "UHI Intensity for Max, Min and Mean Values of Temperature"
        },
        "updatemenus": [
         {
          "active": 0,
          "buttons": [
           {
            "args": [
             {
              "visible": [
               true,
               true,
               true
              ]
             },
             {
              "annotations": [],
              "title": "UHI Intensity for Max, Min and Mean Values of Temperature"
             }
            ],
            "label": "All",
            "method": "update"
           },
           {
            "args": [
             {
              "visible": [
               false,
               false,
               true
              ]
             },
             {
              "annotations": [],
              "title": "UHI Intensity for Minimum Values of Temperature"
             }
            ],
            "label": "Min",
            "method": "update"
           },
           {
            "args": [
             {
              "visible": [
               true,
               false,
               false
              ]
             },
             {
              "annotations": [],
              "title": "UHI Intensity for Maximum Values of Temperature"
             }
            ],
            "label": "Max",
            "method": "update"
           },
           {
            "args": [
             {
              "visible": [
               false,
               true,
               false
              ]
             },
             {
              "annotations": [],
              "title": "UHI Intensity for Mean Values of Temperature"
             }
            ],
            "label": "Mean",
            "method": "update"
           }
          ]
         }
        ],
        "xaxis": {
         "title": {
          "text": "Month"
         }
        },
        "yaxis": {
         "title": {
          "text": "UHI Intensity"
         }
        }
       }
      }
     },
     "metadata": {},
     "output_type": "display_data"
    }
   ],
   "source": [
    "\"\"\"\n",
    "This code reads the UHI intensity data from the CSV files and creates a line chart using the `plotly.graph_objects` module. \n",
    "The resulting chart displays the UHI intensity values for maximum, mean, and minimum temperature values across different months. \n",
    "The chart includes a title, x-axis label, and y-axis label.\n",
    "\n",
    "To run this code and visualize the UHI intensity values, make sure you have the necessary libraries imported and the required CSV \n",
    "files available in the specified file paths.\n",
    "\"\"\"\n",
    "\n",
    "df_max = pd.read_csv(\"UHI_intensityMaximum T.csv\")\n",
    "df_mean = pd.read_csv(\"UHI_intensityMean T.csv\")\n",
    "df_min = pd.read_csv(\"UHI_intensityMinimum T.csv\")\n",
    "\n",
    "\n",
    "fig = go.Figure()\n",
    "\n",
    "fig.add_trace(go.Scatter(x=df_max[\"Month\"], y=df_max[\"Mean\"],\n",
    "                    mode='lines+markers',\n",
    "                    name='Max'))\n",
    "fig.add_trace(go.Scatter(x=df_mean[\"Month\"], y=df_mean[\"Mean\"],\n",
    "                    mode='lines+markers',\n",
    "                    name='Mean'))\n",
    "fig.add_trace(go.Scatter(x=df_min[\"Month\"], y=df_min[\"Mean\"],\n",
    "                    mode='lines+markers',\n",
    "                    name='Min'))\n",
    "\n",
    "\n",
    "fig.update_layout(\n",
    "    updatemenus=[\n",
    "        dict(\n",
    "            active=0,\n",
    "            buttons=list([\n",
    "                dict(label=\"All\",\n",
    "                     method=\"update\",\n",
    "                     args=[{\"visible\": [True, True, True]},\n",
    "                           {\"title\": \"UHI Intensity for Max, Min and Mean Values of Temperature\",\n",
    "                            \"annotations\": []}]),\n",
    "                dict(label=\"Min\",\n",
    "                     method=\"update\",\n",
    "                     args=[{\"visible\": [False, False, True]},\n",
    "                           {\"title\": \"UHI Intensity for Minimum Values of Temperature\",\n",
    "                            \"annotations\": []}]),\n",
    "                dict(label=\"Max\",\n",
    "                     method=\"update\",\n",
    "                     args=[{\"visible\": [True, False, False]},\n",
    "                           {\"title\": \"UHI Intensity for Maximum Values of Temperature\",\n",
    "                            \"annotations\": []}]),\n",
    "                dict(label=\"Mean\",\n",
    "                     method=\"update\",\n",
    "                     args=[{\"visible\": [False, True, False]},\n",
    "                           {\"title\": \"UHI Intensity for Mean Values of Temperature\",\n",
    "                            \"annotations\": []}]),\n",
    "            ]),\n",
    "        )\n",
    "    ])\n",
    "\n",
    "fig.update_layout(title='UHI Intensity for Max, Min and Mean Values of Temperature',\n",
    "                   xaxis_title='Month',\n",
    "                   yaxis_title='UHI Intensity')\n",
    "\n",
    "fig.show()\n",
    "fig.write_image(\"fig1.pdf\")"
   ]
  },
  {
   "cell_type": "markdown",
   "metadata": {},
   "source": [
    "### Discussion: \n",
    "\n",
    "a) which season has the strongest urban heat island effect and what are the possible causes.\n",
    "\n",
    "* Answer: \n",
    "\n",
    "b) which temperature (mean, maximum, or minimum) yields the strongest urban heat island effect. What are the possible causes?\n",
    "\n",
    "* Answer: \n",
    "\n"
   ]
  },
  {
   "cell_type": "markdown",
   "metadata": {},
   "source": [
    "## Part 2"
   ]
  },
  {
   "cell_type": "markdown",
   "metadata": {},
   "source": [
    "* Calculate the urban heat island intensity using daily mean, maximum, and minimum temperatures for each day (no figure or value is needed). Average the daily urban heat island intensities over the summer season (including June, July, August) in the period of 2000-2016 and report the values. Report the values for daily mean, maximum, and minimum temperature separately. Here you should not take the simple average of June, July, and August results you obtain in 1 because June/July/August have different numbers of days, but you also show not report values for June, July, August separately. All I want is the values for the summer season, not for individual months in the summer season.\n"
   ]
  },
  {
   "cell_type": "code",
   "execution_count": 56,
   "metadata": {},
   "outputs": [],
   "source": [
    "\n",
    "def UHI_Summer_Intensity(urband_file_name, rurald_file_name, T_type):\n",
    "\n",
    "    df_urban = pd.read_csv(urband_file_name)\n",
    "    df_rural = pd.read_csv(rurald_file_name)\n",
    "\n",
    "    years = 2000\n",
    "\n",
    "    UHI_summer = pd.DataFrame()\n",
    "    urban_T_summer = pd.DataFrame()\n",
    "    rural_T_summer = pd.DataFrame()\n",
    "\n",
    "\n",
    "    rural_list = []\n",
    "    urban_list = []\n",
    "\n",
    "    for ii in range(17):\n",
    "\n",
    "        df_rural_year = df_rural.loc[df_rural['year'] == years]\n",
    "        df_urban_year = df_urban.loc[df_urban['year'] == years]\n",
    "\n",
    "        j = 6\n",
    "\n",
    "        for jj in range(3):\n",
    "\n",
    "            df_rural_month = df_rural_year.loc[df_rural_year['month'] == j]\n",
    "            list1 = df_rural_month.loc[:, T_type].tolist()\n",
    "            rural_list = list1 + rural_list\n",
    "            df_urban_month = df_urban_year.loc[df_urban_year['month'] == j]\n",
    "            list2 = df_urban_month.loc[:, T_type].tolist()\n",
    "            urban_list = list2 + urban_list\n",
    "                \n",
    "            j = j + 1\n",
    "\n",
    "\n",
    "        summer_temp_rural_C = [FahrenheitToCelsius(f) for f in rural_list]\n",
    "        summer_temp_urban_C = [FahrenheitToCelsius(f) for f in urban_list]\n",
    "        UHI_summer_intensity_C = np.array(summer_temp_urban_C) - np.array(summer_temp_rural_C)\n",
    "\n",
    "        urban_T_summer[T_type + \" \" + str(years)] = summer_temp_urban_C\n",
    "        rural_T_summer[T_type + \" \" + str(years)] = summer_temp_rural_C\n",
    "        UHI_summer[\"UHI\" + T_type + \" \" + str(years)] = UHI_summer_intensity_C\n",
    "\n",
    "        rural_list = []\n",
    "        urban_list = []\n",
    "\n",
    "        years = years + 1\n",
    "        \n",
    "    urban_T_summer['Mean'] = urban_T_summer.apply(lambda x: x.mean(), axis=1)\n",
    "    rural_T_summer['Mean'] = rural_T_summer.apply(lambda x: x.mean(), axis=1)\n",
    "    UHI_summer['Mean'] = UHI_summer.apply(lambda x: x.mean(), axis=1)\n",
    "\n",
    "    UHI_summer.to_csv(\"UHI_summer \" + T_type + \".csv\")\n",
    "    urban_T_summer.to_csv(\"Urban_summer \" + T_type + \".csv\")\n",
    "    rural_T_summer.to_csv(\"Rural_summer \" + T_type + \".csv\")\n"
   ]
  },
  {
   "cell_type": "code",
   "execution_count": 57,
   "metadata": {},
   "outputs": [],
   "source": [
    "T_type = [\"Mean T\", \"Maximum T\", \"Minimum T\"]\n",
    "\n",
    "for Temperature_type in T_type:\n",
    "\n",
    "    UHI_Summer_Intensity(\"urbanNaN_Clean.csv\", \"ruralNaN_Clean.csv\", Temperature_type)\n",
    "    \n"
   ]
  },
  {
   "cell_type": "code",
   "execution_count": 68,
   "metadata": {},
   "outputs": [
    {
     "data": {
      "application/vnd.plotly.v1+json": {
       "config": {
        "plotlyServerURL": "https://plotly.com"
       },
       "data": [
        {
         "cells": {
          "align": "left",
          "values": [
           [
            0,
            1,
            2,
            3,
            4,
            5,
            6,
            7,
            8,
            9,
            10,
            11,
            12,
            13,
            14,
            15,
            16,
            17,
            18,
            19,
            20,
            21,
            22,
            23,
            24,
            25,
            26,
            27,
            28,
            29,
            30,
            31,
            32,
            33,
            34,
            35,
            36,
            37,
            38,
            39,
            40,
            41,
            42,
            43,
            44,
            45,
            46,
            47,
            48,
            49,
            50,
            51,
            52,
            53,
            54,
            55,
            56,
            57,
            58,
            59,
            60,
            61,
            62,
            63,
            64,
            65,
            66,
            67,
            68,
            69,
            70,
            71,
            72,
            73,
            74,
            75,
            76,
            77,
            78,
            79,
            80,
            81,
            82,
            83,
            84,
            85,
            86,
            87,
            88,
            89,
            90,
            91
           ],
           [
            1.8790849673202616,
            1.830065359477124,
            1.6503267973856215,
            2.0424836601307184,
            2.0588235294117645,
            1.9934640522875813,
            2.009803921568627,
            1.9607843137254903,
            2.205882352941177,
            1.519607843137255,
            1.4869281045751637,
            1.862745098039216,
            1.8464052287581705,
            1.7156862745098034,
            1.8464052287581705,
            2.3039215686274503,
            2.026143790849673,
            1.9771241830065365,
            1.977124183006536,
            1.8790849673202608,
            2.0588235294117645,
            2.238562091503268,
            1.84640522875817,
            2.38562091503268,
            1.977124183006536,
            2.0588235294117645,
            2.075163398692811,
            1.6666666666666663,
            1.9771241830065356,
            1.944444444444444,
            2.173202614379084,
            2.0588235294117654,
            2.1405228758169934,
            2.483660130718955,
            1.8137254901960784,
            1.9444444444444449,
            2.1078431372549016,
            2.222222222222222,
            1.9771241830065356,
            2.3202614379084965,
            1.7973856209150323,
            2.238562091503267,
            2.434640522875817,
            1.9934640522875813,
            1.7973856209150323,
            1.96078431372549,
            1.9771241830065356,
            2.598039215686274,
            2.0424836601307192,
            2.156862745098039,
            1.7320261437908495,
            1.9281045751633976,
            1.7320261437908495,
            2.0915032679738563,
            1.9771241830065356,
            1.764705882352941,
            2.0424836601307192,
            1.7156862745098045,
            1.9281045751633987,
            1.6666666666666663,
            1.84640522875817,
            2.173202614379085,
            2.009803921568627,
            1.6503267973856206,
            1.977124183006536,
            1.7320261437908488,
            1.42156862745098,
            1.5849673202614387,
            1.830065359477124,
            2.1405228758169934,
            2.1405228758169934,
            2.189542483660131,
            2.1568627450980395,
            1.336805555555556,
            1.5522875816993469,
            1.1928104575163394,
            1.7810457516339868,
            2.1568627450980395,
            1.862745098039216,
            1.8300653594771243,
            1.8464052287581705,
            1.8627450980392155,
            1.993464052287582,
            1.96078431372549,
            2.3039215686274512,
            2.430555555555556,
            1.96078431372549,
            1.8790849673202616,
            1.7483660130718954,
            1.944444444444444,
            1.805555555555556,
            2.2916666666666656
           ],
           [
            0.9150326797385632,
            0.980392156862745,
            1.0457516339869268,
            1.0457516339869286,
            0.9803921568627458,
            0.915032679738562,
            0.8169934640522872,
            0.8823529411764708,
            1.013071895424837,
            0.8169934640522878,
            0.2614379084967324,
            0.7516339869281057,
            0.8169934640522876,
            0.7843137254901966,
            0.6535947712418306,
            0.947712418300654,
            0.8169934640522878,
            1.0457516339869275,
            0.947712418300654,
            0.9477124183006532,
            0.8169934640522873,
            0.9803921568627444,
            0.5555555555555555,
            0.8496732026143794,
            0.8823529411764708,
            0.7516339869281048,
            1.0130718954248357,
            0.7516339869281046,
            0.8823529411764712,
            0.9150326797385622,
            1.0130718954248368,
            0.7189542483660136,
            0.8169934640522885,
            1.372549019607843,
            1.07843137254902,
            1.2418300653594774,
            0.8823529411764703,
            1.2745098039215677,
            0.9150326797385616,
            1.2418300653594774,
            1.0130718954248352,
            1.111111111111111,
            1.274509803921568,
            1.0457516339869282,
            1.0130718954248366,
            0.8496732026143798,
            0.8823529411764708,
            1.1437908496732028,
            0.9477124183006536,
            1.3398692810457518,
            0.5228758169934647,
            0.8496732026143792,
            0.8823529411764703,
            1.0457516339869288,
            0.9477124183006532,
            0.9803921568627448,
            1.0457516339869282,
            1.0130718954248366,
            0.784313725490196,
            0.9477124183006538,
            0.88235294117647,
            0.915032679738562,
            0.5555555555555562,
            0.6862745098039212,
            0.7843137254901958,
            0.9803921568627448,
            0.5882352941176479,
            0.6535947712418304,
            0.7843137254901958,
            0.784313725490196,
            1.143790849673202,
            0.9477124183006528,
            1.2418300653594774,
            0.5902777777777779,
            0.8823529411764706,
            0.7189542483660134,
            0.7516339869281038,
            1.1111111111111114,
            1.0130718954248368,
            0.915032679738562,
            0.8496732026143792,
            0.8169934640522876,
            0.7189542483660128,
            0.8496732026143796,
            1.111111111111111,
            1.0763888888888886,
            0.947712418300654,
            0.8169934640522873,
            0.7843137254901966,
            0.849673202614379,
            1.1805555555555556,
            1.111111111111111
           ],
           [
            2.8758169934640514,
            2.581699346405228,
            2.38562091503268,
            3.006535947712418,
            3.202614379084967,
            3.071895424836601,
            3.2679738562091503,
            3.0065359477124183,
            3.398692810457516,
            2.2549019607843133,
            2.549019607843137,
            2.810457516339869,
            3.1372549019607843,
            3.137254901960784,
            3.1699346405228765,
            3.627450980392157,
            3.235294117647059,
            2.973856209150327,
            2.973856209150326,
            2.745098039215686,
            3.169934640522876,
            3.594771241830066,
            3.594771241830065,
            3.562091503267974,
            3.333333333333332,
            3.235294117647059,
            3.071895424836601,
            2.973856209150327,
            3.03921568627451,
            2.8758169934640514,
            3.0065359477124183,
            3.398692810457516,
            3.660130718954248,
            3.2679738562091503,
            2.647058823529412,
            2.516339869281045,
            3.137254901960784,
            3.169934640522876,
            3.0065359477124183,
            2.908496732026144,
            2.6797385620915044,
            3.562091503267974,
            3.7581699346405233,
            2.8431372549019605,
            2.026143790849674,
            2.973856209150326,
            3.3660130718954244,
            4.052287581699348,
            2.9084967320261432,
            2.8431372549019613,
            2.7450980392156867,
            2.908496732026144,
            2.6143790849673203,
            3.137254901960784,
            3.333333333333333,
            2.647058823529412,
            2.777777777777778,
            2.1241830065359477,
            2.712418300653595,
            2.2549019607843133,
            2.679738562091502,
            3.398692810457516,
            3.69281045751634,
            2.908496732026143,
            3.0065359477124183,
            2.5816993464052285,
            2.1568627450980387,
            2.4836601307189548,
            2.973856209150326,
            3.562091503267974,
            3.169934640522876,
            3.4640522875817,
            2.81045751633987,
            2.4652777777777777,
            2.287581699346405,
            1.9934640522875813,
            2.777777777777777,
            2.9411764705882346,
            2.908496732026144,
            2.908496732026143,
            2.908496732026145,
            2.9411764705882355,
            3.300653594771242,
            2.9411764705882355,
            3.3986928104575163,
            3.5069444444444446,
            2.9411764705882355,
            3.0392156862745106,
            2.810457516339869,
            3.03921568627451,
            2.569444444444444,
            3.4027777777777777
           ]
          ]
         },
         "header": {
          "align": "left",
          "fill": {
           "color": "rgb(8, 81, 156)"
          },
          "font": {
           "color": "white"
          },
          "line": {
           "color": "rgb(8, 81, 156)"
          },
          "values": [
           "Index day",
           "UHI Intensity Mean T 2000 - 2016",
           "UHI Intensity Max T 2000 - 2016",
           "UHI Intensity Min T 2000 - 2016"
          ]
         },
         "type": "table"
        }
       ],
       "layout": {
        "template": {
         "data": {
          "bar": [
           {
            "error_x": {
             "color": "#2a3f5f"
            },
            "error_y": {
             "color": "#2a3f5f"
            },
            "marker": {
             "line": {
              "color": "#E5ECF6",
              "width": 0.5
             },
             "pattern": {
              "fillmode": "overlay",
              "size": 10,
              "solidity": 0.2
             }
            },
            "type": "bar"
           }
          ],
          "barpolar": [
           {
            "marker": {
             "line": {
              "color": "#E5ECF6",
              "width": 0.5
             },
             "pattern": {
              "fillmode": "overlay",
              "size": 10,
              "solidity": 0.2
             }
            },
            "type": "barpolar"
           }
          ],
          "carpet": [
           {
            "aaxis": {
             "endlinecolor": "#2a3f5f",
             "gridcolor": "white",
             "linecolor": "white",
             "minorgridcolor": "white",
             "startlinecolor": "#2a3f5f"
            },
            "baxis": {
             "endlinecolor": "#2a3f5f",
             "gridcolor": "white",
             "linecolor": "white",
             "minorgridcolor": "white",
             "startlinecolor": "#2a3f5f"
            },
            "type": "carpet"
           }
          ],
          "choropleth": [
           {
            "colorbar": {
             "outlinewidth": 0,
             "ticks": ""
            },
            "type": "choropleth"
           }
          ],
          "contour": [
           {
            "colorbar": {
             "outlinewidth": 0,
             "ticks": ""
            },
            "colorscale": [
             [
              0,
              "#0d0887"
             ],
             [
              0.1111111111111111,
              "#46039f"
             ],
             [
              0.2222222222222222,
              "#7201a8"
             ],
             [
              0.3333333333333333,
              "#9c179e"
             ],
             [
              0.4444444444444444,
              "#bd3786"
             ],
             [
              0.5555555555555556,
              "#d8576b"
             ],
             [
              0.6666666666666666,
              "#ed7953"
             ],
             [
              0.7777777777777778,
              "#fb9f3a"
             ],
             [
              0.8888888888888888,
              "#fdca26"
             ],
             [
              1,
              "#f0f921"
             ]
            ],
            "type": "contour"
           }
          ],
          "contourcarpet": [
           {
            "colorbar": {
             "outlinewidth": 0,
             "ticks": ""
            },
            "type": "contourcarpet"
           }
          ],
          "heatmap": [
           {
            "colorbar": {
             "outlinewidth": 0,
             "ticks": ""
            },
            "colorscale": [
             [
              0,
              "#0d0887"
             ],
             [
              0.1111111111111111,
              "#46039f"
             ],
             [
              0.2222222222222222,
              "#7201a8"
             ],
             [
              0.3333333333333333,
              "#9c179e"
             ],
             [
              0.4444444444444444,
              "#bd3786"
             ],
             [
              0.5555555555555556,
              "#d8576b"
             ],
             [
              0.6666666666666666,
              "#ed7953"
             ],
             [
              0.7777777777777778,
              "#fb9f3a"
             ],
             [
              0.8888888888888888,
              "#fdca26"
             ],
             [
              1,
              "#f0f921"
             ]
            ],
            "type": "heatmap"
           }
          ],
          "heatmapgl": [
           {
            "colorbar": {
             "outlinewidth": 0,
             "ticks": ""
            },
            "colorscale": [
             [
              0,
              "#0d0887"
             ],
             [
              0.1111111111111111,
              "#46039f"
             ],
             [
              0.2222222222222222,
              "#7201a8"
             ],
             [
              0.3333333333333333,
              "#9c179e"
             ],
             [
              0.4444444444444444,
              "#bd3786"
             ],
             [
              0.5555555555555556,
              "#d8576b"
             ],
             [
              0.6666666666666666,
              "#ed7953"
             ],
             [
              0.7777777777777778,
              "#fb9f3a"
             ],
             [
              0.8888888888888888,
              "#fdca26"
             ],
             [
              1,
              "#f0f921"
             ]
            ],
            "type": "heatmapgl"
           }
          ],
          "histogram": [
           {
            "marker": {
             "pattern": {
              "fillmode": "overlay",
              "size": 10,
              "solidity": 0.2
             }
            },
            "type": "histogram"
           }
          ],
          "histogram2d": [
           {
            "colorbar": {
             "outlinewidth": 0,
             "ticks": ""
            },
            "colorscale": [
             [
              0,
              "#0d0887"
             ],
             [
              0.1111111111111111,
              "#46039f"
             ],
             [
              0.2222222222222222,
              "#7201a8"
             ],
             [
              0.3333333333333333,
              "#9c179e"
             ],
             [
              0.4444444444444444,
              "#bd3786"
             ],
             [
              0.5555555555555556,
              "#d8576b"
             ],
             [
              0.6666666666666666,
              "#ed7953"
             ],
             [
              0.7777777777777778,
              "#fb9f3a"
             ],
             [
              0.8888888888888888,
              "#fdca26"
             ],
             [
              1,
              "#f0f921"
             ]
            ],
            "type": "histogram2d"
           }
          ],
          "histogram2dcontour": [
           {
            "colorbar": {
             "outlinewidth": 0,
             "ticks": ""
            },
            "colorscale": [
             [
              0,
              "#0d0887"
             ],
             [
              0.1111111111111111,
              "#46039f"
             ],
             [
              0.2222222222222222,
              "#7201a8"
             ],
             [
              0.3333333333333333,
              "#9c179e"
             ],
             [
              0.4444444444444444,
              "#bd3786"
             ],
             [
              0.5555555555555556,
              "#d8576b"
             ],
             [
              0.6666666666666666,
              "#ed7953"
             ],
             [
              0.7777777777777778,
              "#fb9f3a"
             ],
             [
              0.8888888888888888,
              "#fdca26"
             ],
             [
              1,
              "#f0f921"
             ]
            ],
            "type": "histogram2dcontour"
           }
          ],
          "mesh3d": [
           {
            "colorbar": {
             "outlinewidth": 0,
             "ticks": ""
            },
            "type": "mesh3d"
           }
          ],
          "parcoords": [
           {
            "line": {
             "colorbar": {
              "outlinewidth": 0,
              "ticks": ""
             }
            },
            "type": "parcoords"
           }
          ],
          "pie": [
           {
            "automargin": true,
            "type": "pie"
           }
          ],
          "scatter": [
           {
            "fillpattern": {
             "fillmode": "overlay",
             "size": 10,
             "solidity": 0.2
            },
            "type": "scatter"
           }
          ],
          "scatter3d": [
           {
            "line": {
             "colorbar": {
              "outlinewidth": 0,
              "ticks": ""
             }
            },
            "marker": {
             "colorbar": {
              "outlinewidth": 0,
              "ticks": ""
             }
            },
            "type": "scatter3d"
           }
          ],
          "scattercarpet": [
           {
            "marker": {
             "colorbar": {
              "outlinewidth": 0,
              "ticks": ""
             }
            },
            "type": "scattercarpet"
           }
          ],
          "scattergeo": [
           {
            "marker": {
             "colorbar": {
              "outlinewidth": 0,
              "ticks": ""
             }
            },
            "type": "scattergeo"
           }
          ],
          "scattergl": [
           {
            "marker": {
             "colorbar": {
              "outlinewidth": 0,
              "ticks": ""
             }
            },
            "type": "scattergl"
           }
          ],
          "scattermapbox": [
           {
            "marker": {
             "colorbar": {
              "outlinewidth": 0,
              "ticks": ""
             }
            },
            "type": "scattermapbox"
           }
          ],
          "scatterpolar": [
           {
            "marker": {
             "colorbar": {
              "outlinewidth": 0,
              "ticks": ""
             }
            },
            "type": "scatterpolar"
           }
          ],
          "scatterpolargl": [
           {
            "marker": {
             "colorbar": {
              "outlinewidth": 0,
              "ticks": ""
             }
            },
            "type": "scatterpolargl"
           }
          ],
          "scatterternary": [
           {
            "marker": {
             "colorbar": {
              "outlinewidth": 0,
              "ticks": ""
             }
            },
            "type": "scatterternary"
           }
          ],
          "surface": [
           {
            "colorbar": {
             "outlinewidth": 0,
             "ticks": ""
            },
            "colorscale": [
             [
              0,
              "#0d0887"
             ],
             [
              0.1111111111111111,
              "#46039f"
             ],
             [
              0.2222222222222222,
              "#7201a8"
             ],
             [
              0.3333333333333333,
              "#9c179e"
             ],
             [
              0.4444444444444444,
              "#bd3786"
             ],
             [
              0.5555555555555556,
              "#d8576b"
             ],
             [
              0.6666666666666666,
              "#ed7953"
             ],
             [
              0.7777777777777778,
              "#fb9f3a"
             ],
             [
              0.8888888888888888,
              "#fdca26"
             ],
             [
              1,
              "#f0f921"
             ]
            ],
            "type": "surface"
           }
          ],
          "table": [
           {
            "cells": {
             "fill": {
              "color": "#EBF0F8"
             },
             "line": {
              "color": "white"
             }
            },
            "header": {
             "fill": {
              "color": "#C8D4E3"
             },
             "line": {
              "color": "white"
             }
            },
            "type": "table"
           }
          ]
         },
         "layout": {
          "annotationdefaults": {
           "arrowcolor": "#2a3f5f",
           "arrowhead": 0,
           "arrowwidth": 1
          },
          "autotypenumbers": "strict",
          "coloraxis": {
           "colorbar": {
            "outlinewidth": 0,
            "ticks": ""
           }
          },
          "colorscale": {
           "diverging": [
            [
             0,
             "#8e0152"
            ],
            [
             0.1,
             "#c51b7d"
            ],
            [
             0.2,
             "#de77ae"
            ],
            [
             0.3,
             "#f1b6da"
            ],
            [
             0.4,
             "#fde0ef"
            ],
            [
             0.5,
             "#f7f7f7"
            ],
            [
             0.6,
             "#e6f5d0"
            ],
            [
             0.7,
             "#b8e186"
            ],
            [
             0.8,
             "#7fbc41"
            ],
            [
             0.9,
             "#4d9221"
            ],
            [
             1,
             "#276419"
            ]
           ],
           "sequential": [
            [
             0,
             "#0d0887"
            ],
            [
             0.1111111111111111,
             "#46039f"
            ],
            [
             0.2222222222222222,
             "#7201a8"
            ],
            [
             0.3333333333333333,
             "#9c179e"
            ],
            [
             0.4444444444444444,
             "#bd3786"
            ],
            [
             0.5555555555555556,
             "#d8576b"
            ],
            [
             0.6666666666666666,
             "#ed7953"
            ],
            [
             0.7777777777777778,
             "#fb9f3a"
            ],
            [
             0.8888888888888888,
             "#fdca26"
            ],
            [
             1,
             "#f0f921"
            ]
           ],
           "sequentialminus": [
            [
             0,
             "#0d0887"
            ],
            [
             0.1111111111111111,
             "#46039f"
            ],
            [
             0.2222222222222222,
             "#7201a8"
            ],
            [
             0.3333333333333333,
             "#9c179e"
            ],
            [
             0.4444444444444444,
             "#bd3786"
            ],
            [
             0.5555555555555556,
             "#d8576b"
            ],
            [
             0.6666666666666666,
             "#ed7953"
            ],
            [
             0.7777777777777778,
             "#fb9f3a"
            ],
            [
             0.8888888888888888,
             "#fdca26"
            ],
            [
             1,
             "#f0f921"
            ]
           ]
          },
          "colorway": [
           "#636efa",
           "#EF553B",
           "#00cc96",
           "#ab63fa",
           "#FFA15A",
           "#19d3f3",
           "#FF6692",
           "#B6E880",
           "#FF97FF",
           "#FECB52"
          ],
          "font": {
           "color": "#2a3f5f"
          },
          "geo": {
           "bgcolor": "white",
           "lakecolor": "white",
           "landcolor": "#E5ECF6",
           "showlakes": true,
           "showland": true,
           "subunitcolor": "white"
          },
          "hoverlabel": {
           "align": "left"
          },
          "hovermode": "closest",
          "mapbox": {
           "style": "light"
          },
          "paper_bgcolor": "white",
          "plot_bgcolor": "#E5ECF6",
          "polar": {
           "angularaxis": {
            "gridcolor": "white",
            "linecolor": "white",
            "ticks": ""
           },
           "bgcolor": "#E5ECF6",
           "radialaxis": {
            "gridcolor": "white",
            "linecolor": "white",
            "ticks": ""
           }
          },
          "scene": {
           "xaxis": {
            "backgroundcolor": "#E5ECF6",
            "gridcolor": "white",
            "gridwidth": 2,
            "linecolor": "white",
            "showbackground": true,
            "ticks": "",
            "zerolinecolor": "white"
           },
           "yaxis": {
            "backgroundcolor": "#E5ECF6",
            "gridcolor": "white",
            "gridwidth": 2,
            "linecolor": "white",
            "showbackground": true,
            "ticks": "",
            "zerolinecolor": "white"
           },
           "zaxis": {
            "backgroundcolor": "#E5ECF6",
            "gridcolor": "white",
            "gridwidth": 2,
            "linecolor": "white",
            "showbackground": true,
            "ticks": "",
            "zerolinecolor": "white"
           }
          },
          "shapedefaults": {
           "line": {
            "color": "#2a3f5f"
           }
          },
          "ternary": {
           "aaxis": {
            "gridcolor": "white",
            "linecolor": "white",
            "ticks": ""
           },
           "baxis": {
            "gridcolor": "white",
            "linecolor": "white",
            "ticks": ""
           },
           "bgcolor": "#E5ECF6",
           "caxis": {
            "gridcolor": "white",
            "linecolor": "white",
            "ticks": ""
           }
          },
          "title": {
           "x": 0.05
          },
          "xaxis": {
           "automargin": true,
           "gridcolor": "white",
           "linecolor": "white",
           "ticks": "",
           "title": {
            "standoff": 15
           },
           "zerolinecolor": "white",
           "zerolinewidth": 2
          },
          "yaxis": {
           "automargin": true,
           "gridcolor": "white",
           "linecolor": "white",
           "ticks": "",
           "title": {
            "standoff": 15
           },
           "zerolinecolor": "white",
           "zerolinewidth": 2
          }
         }
        }
       }
      }
     },
     "metadata": {},
     "output_type": "display_data"
    }
   ],
   "source": [
    "df_mean = pd.read_csv(\"UHI_summer Mean T.csv\")\n",
    "df_max = pd.read_csv(\"UHI_summer Maximum T.csv\")\n",
    "df_min = pd.read_csv(\"UHI_summer Minimum T.csv\")\n",
    "\n",
    "fig = go.Figure(data=[go.Table(\n",
    "    header=dict(values=['Index day', 'UHI Intensity Mean T 2000 - 2016', 'UHI Intensity Max T 2000 - 2016', 'UHI Intensity Min T 2000 - 2016'],\n",
    "                line_color='rgb(8, 81, 156)', fill_color='rgb(8, 81, 156)', font=dict(color='white'),\n",
    "                align='left'),\n",
    "    cells=dict(values=[df_mean.index, df_mean.Mean, df_max.Mean, df_min.Mean],\n",
    "               align='left'))\n",
    "])\n",
    "fig.show()"
   ]
  },
  {
   "cell_type": "markdown",
   "metadata": {},
   "source": [
    "* Focus on daily results in the summer (June, July, August) seasons in the period of 2000-2016 (you should have 17 years x 92 summer days per year = 1564 summer days). Plot the daily urban heat island intensity (use different subplots or subfigures for daily mean, maximum, and minimum temperatures) as a function of the daily mean temperature of the rural site and fit a linear relation between the two. How does the urban heat island intensity change with the mean temperature of the rural site?\n",
    "\n",
    "\n",
    "  * Discussion: \n",
    "\n",
    "\n",
    "* Focus on daily results in the summer (June, July, August) seasons in the period of 2000-2016 (you should have 17 years x 92 summer days per year = 1564 summer days). Plot the daily urban heat island intensity (use different subplots or subfigures for daily mean, maximum, and minimum temperatures) as a function of the daily mean temperature of the urban site and fit a linear relation between the two. How does the urban heat island intensity change with the mean temperature of the urban site?\n",
    "\n",
    "\n",
    "  * Discussion:\n"
   ]
  },
  {
   "cell_type": "code",
   "execution_count": 3,
   "metadata": {},
   "outputs": [],
   "source": [
    "# Lets open all the df\n",
    "\n",
    "#! UHI df\n",
    "df_max = pd.read_csv(\"UHI_summer Maximum T.csv\")\n",
    "df_mean = pd.read_csv(\"UHI_summer Mean T.csv\")\n",
    "df_min = pd.read_csv(\"UHI_summer Minimum T.csv\")\n",
    "\n",
    "#! Urban df\n",
    "urban_summer_df_mean = pd.read_csv(\"Urban_summer Mean T.csv\")\n",
    "urban_summer_df_max = pd.read_csv(\"Urban_summer Maximum T.csv\")\n",
    "urban_summer_df_min = pd.read_csv(\"Urban_summer Minimum T.csv\")\n",
    "\n",
    "#! Rural df\n",
    "rural_summer_df_mean = pd.read_csv(\"Rural_summer Mean T.csv\")\n",
    "rural_summer_df_max = pd.read_csv(\"Rural_summer Maximum T.csv\")\n",
    "rural_summer_df_min = pd.read_csv(\"Rural_summer Minimum T.csv\")\n",
    "\n"
   ]
  },
  {
   "cell_type": "code",
   "execution_count": 213,
   "metadata": {},
   "outputs": [],
   "source": [
    "\n",
    "def linear_fit_relation(df_y, df_x):\n",
    "\n",
    "\n",
    "    model = LinearRegression()\n",
    "    x = df_x.Mean.values.reshape(-1, 1)\n",
    "    model.fit(x, df_y.Mean)\n",
    "\n",
    "    x_range = np.linspace(x.min(), x.max(), 100)\n",
    "    y_range = model.predict(x_range.reshape(-1, 1))\n",
    "\n",
    "    return x_range, y_range\n",
    "\n"
   ]
  },
  {
   "cell_type": "code",
   "execution_count": 5,
   "metadata": {},
   "outputs": [],
   "source": [
    "# Linear fit for Urban region\n",
    "x_mean_urban, y_urban_mean = linear_fit_relation(df_mean, urban_summer_df_mean)\n",
    "x_min_urban, y_urban_min = linear_fit_relation(df_min, urban_summer_df_min)\n",
    "x_max_urban, y_urban_max = linear_fit_relation(df_max, urban_summer_df_max)\n",
    "\n",
    "# Linear fit for Rural region\n",
    "x_mean_rural, y_rural_mean = linear_fit_relation(df_mean, rural_summer_df_mean)\n",
    "x_min_rural, y_rural_min = linear_fit_relation(df_min, rural_summer_df_min)\n",
    "x_max_rural, y_rural_max = linear_fit_relation(df_max, rural_summer_df_max)\n"
   ]
  },
  {
   "cell_type": "code",
   "execution_count": 6,
   "metadata": {},
   "outputs": [
    {
     "name": "stderr",
     "output_type": "stream",
     "text": [
      "/usr/local/lib/python3.10/site-packages/plotly/graph_objs/_deprecations.py:378: DeprecationWarning:\n",
      "\n",
      "plotly.graph_objs.Line is deprecated.\n",
      "Please replace it with one of the following more specific types\n",
      "  - plotly.graph_objs.scatter.Line\n",
      "  - plotly.graph_objs.layout.shape.Line\n",
      "  - etc.\n",
      "\n",
      "\n"
     ]
    },
    {
     "data": {
      "application/vnd.plotly.v1+json": {
       "config": {
        "plotlyServerURL": "https://plotly.com"
       },
       "data": [
        {
         "mode": "markers",
         "name": "Min Urban",
         "type": "scatter",
         "x": [
          23.56209150326797,
          23.26797385620915,
          23.202614379084967,
          23.26797385620915,
          23.137254901960784,
          22.516339869281044,
          22.516339869281044,
          22.54901960784313,
          22.77777777777778,
          22.581699346405227,
          22.352941176470587,
          22.48366013071896,
          22.7124183006536,
          21.764705882352946,
          21.895424836601304,
          21.993464052287575,
          22.15686274509804,
          21.928104575163395,
          22.254901960784316,
          21.99346405228758,
          21.503267973856204,
          21.37254901960784,
          21.013071895424837,
          21.24183006535948,
          21.47058823529412,
          21.47058823529412,
          21.9281045751634,
          21.895424836601308,
          21.69934640522876,
          21.993464052287575,
          21.895424836601308,
          21.732026143790847,
          21.633986928104576,
          21.47058823529412,
          22.41830065359477,
          22.745098039215687,
          22.7124183006536,
          22.77777777777778,
          22.6797385620915,
          22.87581699346405,
          22.581699346405227,
          22.54901960784313,
          22.45098039215686,
          22.54901960784314,
          21.895424836601304,
          22.450980392156865,
          23.202614379084963,
          23.431372549019606,
          24.01960784313726,
          23.4640522875817,
          23.10457516339869,
          23.0718954248366,
          23.16993464052288,
          23.431372549019606,
          22.875816993464053,
          21.99346405228758,
          22.54901960784313,
          23.300653594771244,
          23.0718954248366,
          22.6797385620915,
          23.0718954248366,
          23.496732026143796,
          19.15032679738562,
          18.69281045751634,
          17.84313725490196,
          17.745098039215687,
          18.039215686274503,
          17.941176470588236,
          18.0718954248366,
          19.34640522875817,
          20.35947712418301,
          21.24183006535948,
          20.68627450980392,
          21.21527777777778,
          20.55555555555556,
          20.294117647058822,
          20.13071895424837,
          20,
          20.22875816993464,
          20.294117647058822,
          20.49019607843137,
          20.228758169934643,
          20.65359477124183,
          21.764705882352946,
          21.666666666666664,
          21.666666666666668,
          22.254901960784316,
          22.026143790849677,
          22.38562091503268,
          22.51633986928104,
          21.736111111111107,
          21.666666666666668
         ],
         "y": [
          2.8758169934640514,
          2.581699346405228,
          2.38562091503268,
          3.006535947712418,
          3.202614379084967,
          3.071895424836601,
          3.2679738562091503,
          3.0065359477124183,
          3.398692810457516,
          2.2549019607843133,
          2.549019607843137,
          2.810457516339869,
          3.1372549019607843,
          3.137254901960784,
          3.1699346405228765,
          3.627450980392157,
          3.235294117647059,
          2.973856209150327,
          2.973856209150326,
          2.745098039215686,
          3.169934640522876,
          3.594771241830066,
          3.594771241830065,
          3.562091503267974,
          3.333333333333332,
          3.235294117647059,
          3.071895424836601,
          2.973856209150327,
          3.03921568627451,
          2.8758169934640514,
          3.0065359477124183,
          3.398692810457516,
          3.660130718954248,
          3.2679738562091503,
          2.647058823529412,
          2.516339869281045,
          3.137254901960784,
          3.169934640522876,
          3.0065359477124183,
          2.908496732026144,
          2.6797385620915044,
          3.562091503267974,
          3.7581699346405233,
          2.8431372549019605,
          2.026143790849674,
          2.973856209150326,
          3.3660130718954244,
          4.052287581699348,
          2.9084967320261432,
          2.8431372549019613,
          2.7450980392156867,
          2.908496732026144,
          2.6143790849673203,
          3.137254901960784,
          3.333333333333333,
          2.647058823529412,
          2.777777777777778,
          2.1241830065359477,
          2.712418300653595,
          2.2549019607843133,
          2.679738562091502,
          3.398692810457516,
          3.69281045751634,
          2.908496732026143,
          3.0065359477124183,
          2.5816993464052285,
          2.1568627450980387,
          2.4836601307189548,
          2.973856209150326,
          3.562091503267974,
          3.169934640522876,
          3.4640522875817,
          2.81045751633987,
          2.4652777777777777,
          2.287581699346405,
          1.9934640522875813,
          2.777777777777777,
          2.9411764705882346,
          2.908496732026144,
          2.908496732026143,
          2.908496732026145,
          2.9411764705882355,
          3.300653594771242,
          2.9411764705882355,
          3.3986928104575163,
          3.5069444444444446,
          2.9411764705882355,
          3.0392156862745106,
          2.810457516339869,
          3.03921568627451,
          2.569444444444444,
          3.4027777777777777
         ]
        },
        {
         "mode": "markers",
         "name": "Max Urban",
         "type": "scatter",
         "x": [
          31.993464052287575,
          32.35294117647059,
          31.89542483660131,
          32.287581699346404,
          31.5359477124183,
          30.13071895424837,
          30.91503267973856,
          31.73202614379085,
          31.764705882352946,
          31.83006535947712,
          30.91503267973856,
          31.078431372549023,
          30.81699346405229,
          30.424836601307188,
          30.392156862745104,
          31.5359477124183,
          31.862745098039213,
          30.22875816993464,
          29.836601307189543,
          30.751633986928105,
          30.163398692810453,
          30.065359477124183,
          28.986928104575163,
          30.228758169934643,
          30.22875816993464,
          29.96732026143791,
          30.13071895424837,
          29.509803921568626,
          29.967320261437905,
          30.163398692810453,
          30.457516339869283,
          31.1437908496732,
          30.424836601307188,
          31.307189542483652,
          31.437908496732028,
          32.18954248366013,
          32.15686274509803,
          32.908496732026144,
          31.99346405228758,
          32.67973856209151,
          31.37254901960784,
          31.764705882352946,
          31.503267973856207,
          30.88235294117647,
          30.71895424836601,
          31.928104575163403,
          32.61437908496732,
          33.39869281045752,
          33.10457516339869,
          32.84313725490196,
          31.372549019607845,
          31.993464052287575,
          32.745098039215684,
          32.48366013071895,
          31.274509803921568,
          31.47058823529412,
          31.73202614379085,
          32.15686274509804,
          31.86274509803922,
          30.91503267973856,
          31.111111111111107,
          31.797385620915037,
          29.24836601307189,
          27.94117647058824,
          25.45751633986928,
          25.686274509803923,
          26.04575163398693,
          27.058823529411764,
          27.908496732026144,
          29.54248366013072,
          30.81699346405229,
          30.424836601307188,
          30.91503267973856,
          30.625,
          29.01960784313725,
          27.87581699346405,
          28.95424836601307,
          29.08496732026144,
          29.281045751633982,
          30.098039215686278,
          29.64052287581699,
          29.70588235294117,
          30.392156862745097,
          31.372549019607845,
          30.94771241830065,
          31.666666666666668,
          31.83006535947712,
          31.86274509803922,
          31.27450980392157,
          31.37254901960784,
          30.97222222222222,
          31.25
         ],
         "y": [
          0.9150326797385632,
          0.980392156862745,
          1.0457516339869268,
          1.0457516339869286,
          0.9803921568627458,
          0.915032679738562,
          0.8169934640522872,
          0.8823529411764708,
          1.013071895424837,
          0.8169934640522878,
          0.2614379084967324,
          0.7516339869281057,
          0.8169934640522876,
          0.7843137254901966,
          0.6535947712418306,
          0.947712418300654,
          0.8169934640522878,
          1.0457516339869275,
          0.947712418300654,
          0.9477124183006532,
          0.8169934640522873,
          0.9803921568627444,
          0.5555555555555555,
          0.8496732026143794,
          0.8823529411764708,
          0.7516339869281048,
          1.0130718954248357,
          0.7516339869281046,
          0.8823529411764712,
          0.9150326797385622,
          1.0130718954248368,
          0.7189542483660136,
          0.8169934640522885,
          1.372549019607843,
          1.07843137254902,
          1.2418300653594774,
          0.8823529411764703,
          1.2745098039215677,
          0.9150326797385616,
          1.2418300653594774,
          1.0130718954248352,
          1.111111111111111,
          1.274509803921568,
          1.0457516339869282,
          1.0130718954248366,
          0.8496732026143798,
          0.8823529411764708,
          1.1437908496732028,
          0.9477124183006536,
          1.3398692810457518,
          0.5228758169934647,
          0.8496732026143792,
          0.8823529411764703,
          1.0457516339869288,
          0.9477124183006532,
          0.9803921568627448,
          1.0457516339869282,
          1.0130718954248366,
          0.784313725490196,
          0.9477124183006538,
          0.88235294117647,
          0.915032679738562,
          0.5555555555555562,
          0.6862745098039212,
          0.7843137254901958,
          0.9803921568627448,
          0.5882352941176479,
          0.6535947712418304,
          0.7843137254901958,
          0.784313725490196,
          1.143790849673202,
          0.9477124183006528,
          1.2418300653594774,
          0.5902777777777779,
          0.8823529411764706,
          0.7189542483660134,
          0.7516339869281038,
          1.1111111111111114,
          1.0130718954248368,
          0.915032679738562,
          0.8496732026143792,
          0.8169934640522876,
          0.7189542483660128,
          0.8496732026143796,
          1.111111111111111,
          1.0763888888888886,
          0.947712418300654,
          0.8169934640522873,
          0.7843137254901966,
          0.849673202614379,
          1.1805555555555556,
          1.111111111111111
         ]
        },
        {
         "mode": "markers",
         "name": "Mean Urban",
         "type": "scatter",
         "x": [
          27.810457516339877,
          27.85947712418301,
          27.598039215686278,
          27.826797385620917,
          27.38562091503268,
          26.3562091503268,
          26.73202614379085,
          27.18954248366013,
          27.287581699346404,
          27.25490196078432,
          26.650326797385624,
          26.830065359477125,
          26.781045751633982,
          26.111111111111114,
          26.209150326797385,
          26.79738562091504,
          27.02614379084967,
          26.12745098039216,
          26.094771241830067,
          26.38888888888889,
          25.882352941176475,
          25.784313725490197,
          25.016339869281047,
          25.767973856209156,
          25.88235294117647,
          25.76797385620915,
          26.078431372549023,
          25.71895424836601,
          25.84967320261438,
          26.1437908496732,
          26.209150326797385,
          26.47058823529412,
          26.062091503267972,
          26.437908496732028,
          26.977124183006534,
          27.516339869281044,
          27.516339869281044,
          27.90849673202614,
          27.38562091503268,
          27.85947712418301,
          26.99346405228758,
          27.18954248366013,
          27.026143790849677,
          26.764705882352946,
          26.37254901960784,
          27.205882352941178,
          27.94117647058824,
          28.4640522875817,
          28.578431372549023,
          28.202614379084967,
          27.30392156862745,
          27.565359477124183,
          27.973856209150327,
          28.00653594771242,
          27.14052287581699,
          26.797385620915037,
          27.205882352941178,
          27.74509803921569,
          27.565359477124183,
          26.879084967320264,
          27.15686274509804,
          27.69607843137255,
          24.232026143790847,
          23.349673202614376,
          21.683006535947715,
          21.73202614379085,
          22.07516339869281,
          22.565359477124183,
          23.03921568627451,
          24.49346405228758,
          25.653594771241828,
          25.88235294117647,
          25.83333333333333,
          25.972222222222225,
          24.8202614379085,
          24.084967320261438,
          24.59150326797386,
          24.607843137254903,
          24.80392156862745,
          25.26143790849673,
          25.09803921568627,
          25.016339869281044,
          25.571895424836605,
          26.633986928104576,
          26.38888888888889,
          26.71875,
          27.091503267973856,
          26.977124183006534,
          26.895424836601308,
          26.977124183006534,
          26.40625,
          26.49305555555556
         ],
         "y": [
          1.8790849673202616,
          1.830065359477124,
          1.6503267973856215,
          2.0424836601307184,
          2.0588235294117645,
          1.9934640522875813,
          2.009803921568627,
          1.9607843137254903,
          2.205882352941177,
          1.519607843137255,
          1.4869281045751637,
          1.862745098039216,
          1.8464052287581705,
          1.7156862745098034,
          1.8464052287581705,
          2.3039215686274503,
          2.026143790849673,
          1.9771241830065365,
          1.977124183006536,
          1.8790849673202608,
          2.0588235294117645,
          2.238562091503268,
          1.84640522875817,
          2.38562091503268,
          1.977124183006536,
          2.0588235294117645,
          2.075163398692811,
          1.6666666666666663,
          1.9771241830065356,
          1.944444444444444,
          2.173202614379084,
          2.0588235294117654,
          2.1405228758169934,
          2.483660130718955,
          1.8137254901960784,
          1.9444444444444449,
          2.1078431372549016,
          2.222222222222222,
          1.9771241830065356,
          2.3202614379084965,
          1.7973856209150323,
          2.238562091503267,
          2.434640522875817,
          1.9934640522875813,
          1.7973856209150323,
          1.96078431372549,
          1.9771241830065356,
          2.598039215686274,
          2.0424836601307192,
          2.156862745098039,
          1.7320261437908495,
          1.9281045751633976,
          1.7320261437908495,
          2.0915032679738563,
          1.9771241830065356,
          1.764705882352941,
          2.0424836601307192,
          1.7156862745098045,
          1.9281045751633987,
          1.6666666666666663,
          1.84640522875817,
          2.173202614379085,
          2.009803921568627,
          1.6503267973856206,
          1.977124183006536,
          1.7320261437908488,
          1.42156862745098,
          1.5849673202614387,
          1.830065359477124,
          2.1405228758169934,
          2.1405228758169934,
          2.189542483660131,
          2.1568627450980395,
          1.336805555555556,
          1.5522875816993469,
          1.1928104575163394,
          1.7810457516339868,
          2.1568627450980395,
          1.862745098039216,
          1.8300653594771243,
          1.8464052287581705,
          1.8627450980392155,
          1.993464052287582,
          1.96078431372549,
          2.3039215686274512,
          2.430555555555556,
          1.96078431372549,
          1.8790849673202616,
          1.7483660130718954,
          1.944444444444444,
          1.805555555555556,
          2.2916666666666656
         ]
        },
        {
         "mode": "markers",
         "name": "Min Rural",
         "type": "scatter",
         "x": [
          20.686274509803923,
          20.686274509803923,
          20.816993464052285,
          20.26143790849673,
          19.934640522875817,
          19.444444444444443,
          19.248366013071895,
          19.54248366013072,
          19.379084967320264,
          20.32679738562092,
          19.803921568627448,
          19.67320261437909,
          19.57516339869281,
          18.627450980392155,
          18.72549019607843,
          18.366013071895424,
          18.92156862745098,
          18.954248366013072,
          19.281045751633982,
          19.24836601307189,
          18.333333333333336,
          17.77777777777778,
          17.41830065359477,
          17.6797385620915,
          18.137254901960787,
          18.23529411764705,
          18.8562091503268,
          18.92156862745098,
          18.66013071895425,
          19.11764705882353,
          18.88888888888889,
          18.333333333333336,
          17.97385620915033,
          18.202614379084963,
          19.77124183006536,
          20.228758169934643,
          19.57516339869281,
          19.6078431372549,
          19.673202614379083,
          19.967320261437905,
          19.90196078431373,
          18.986928104575163,
          18.69281045751634,
          19.70588235294117,
          19.86928104575164,
          19.477124183006534,
          19.836601307189543,
          19.37908496732026,
          21.111111111111114,
          20.620915032679736,
          20.359477124183005,
          20.163398692810457,
          20.55555555555556,
          20.294117647058822,
          19.54248366013072,
          19.34640522875817,
          19.77124183006536,
          21.176470588235293,
          20.359477124183005,
          20.42483660130719,
          20.3921568627451,
          20.098039215686278,
          15.45751633986928,
          15.7843137254902,
          14.836601307189545,
          15.163398692810455,
          15.882352941176473,
          15.45751633986928,
          15.098039215686276,
          15.7843137254902,
          17.18954248366013,
          17.77777777777778,
          17.875816993464053,
          18.823529411764707,
          18.26797385620915,
          18.30065359477124,
          17.352941176470587,
          17.058823529411764,
          17.3202614379085,
          17.38562091503268,
          17.581699346405227,
          17.287581699346404,
          17.352941176470587,
          18.823529411764707,
          18.26797385620915,
          18.202614379084967,
          19.31372549019608,
          18.986928104575167,
          19.57516339869281,
          19.47712418300653,
          19.11764705882353,
          18.16993464052288
         ],
         "y": [
          2.8758169934640514,
          2.581699346405228,
          2.38562091503268,
          3.006535947712418,
          3.202614379084967,
          3.071895424836601,
          3.2679738562091503,
          3.0065359477124183,
          3.398692810457516,
          2.2549019607843133,
          2.549019607843137,
          2.810457516339869,
          3.1372549019607843,
          3.137254901960784,
          3.1699346405228765,
          3.627450980392157,
          3.235294117647059,
          2.973856209150327,
          2.973856209150326,
          2.745098039215686,
          3.169934640522876,
          3.594771241830066,
          3.594771241830065,
          3.562091503267974,
          3.333333333333332,
          3.235294117647059,
          3.071895424836601,
          2.973856209150327,
          3.03921568627451,
          2.8758169934640514,
          3.0065359477124183,
          3.398692810457516,
          3.660130718954248,
          3.2679738562091503,
          2.647058823529412,
          2.516339869281045,
          3.137254901960784,
          3.169934640522876,
          3.0065359477124183,
          2.908496732026144,
          2.6797385620915044,
          3.562091503267974,
          3.7581699346405233,
          2.8431372549019605,
          2.026143790849674,
          2.973856209150326,
          3.3660130718954244,
          4.052287581699348,
          2.9084967320261432,
          2.8431372549019613,
          2.7450980392156867,
          2.908496732026144,
          2.6143790849673203,
          3.137254901960784,
          3.333333333333333,
          2.647058823529412,
          2.777777777777778,
          2.1241830065359477,
          2.712418300653595,
          2.2549019607843133,
          2.679738562091502,
          3.398692810457516,
          3.69281045751634,
          2.908496732026143,
          3.0065359477124183,
          2.5816993464052285,
          2.1568627450980387,
          2.4836601307189548,
          2.973856209150326,
          3.562091503267974,
          3.169934640522876,
          3.4640522875817,
          2.81045751633987,
          2.4652777777777777,
          2.287581699346405,
          1.9934640522875813,
          2.777777777777777,
          2.9411764705882346,
          2.908496732026144,
          2.908496732026143,
          2.908496732026145,
          2.9411764705882355,
          3.300653594771242,
          2.9411764705882355,
          3.3986928104575163,
          3.5069444444444446,
          2.9411764705882355,
          3.0392156862745106,
          2.810457516339869,
          3.03921568627451,
          2.569444444444444,
          3.4027777777777777
         ]
        },
        {
         "mode": "markers",
         "name": "Max Rural",
         "type": "scatter",
         "x": [
          31.078431372549016,
          31.37254901960784,
          30.84967320261438,
          31.241830065359483,
          30.55555555555556,
          29.215686274509807,
          30.098039215686278,
          30.84967320261438,
          30.751633986928105,
          31.013071895424837,
          30.653594771241828,
          30.326797385620917,
          30,
          29.640522875816995,
          29.73856209150327,
          30.58823529411765,
          31.04575163398693,
          29.183006535947715,
          28.88888888888889,
          29.803921568627448,
          29.34640522875817,
          29.08496732026144,
          28.431372549019606,
          29.379084967320264,
          29.34640522875817,
          29.215686274509803,
          29.117647058823533,
          28.75816993464052,
          29.08496732026144,
          29.24836601307189,
          29.44444444444444,
          30.424836601307188,
          29.607843137254896,
          29.934640522875814,
          30.359477124183005,
          30.94771241830065,
          31.27450980392157,
          31.633986928104576,
          31.078431372549023,
          31.43790849673202,
          30.35947712418301,
          30.653594771241828,
          30.228758169934643,
          29.836601307189543,
          29.705882352941178,
          31.078431372549016,
          31.73202614379085,
          32.25490196078431,
          32.15686274509804,
          31.503267973856207,
          30.84967320261438,
          31.1437908496732,
          31.862745098039213,
          31.437908496732028,
          30.326797385620917,
          30.49019607843137,
          30.68627450980392,
          31.1437908496732,
          31.078431372549023,
          29.96732026143791,
          30.228758169934643,
          30.88235294117647,
          28.692810457516337,
          27.254901960784316,
          24.67320261437909,
          24.70588235294117,
          25.45751633986928,
          26.405228758169937,
          27.124183006535947,
          28.75816993464052,
          29.67320261437909,
          29.477124183006534,
          29.673202614379083,
          30.065359477124183,
          28.137254901960784,
          27.15686274509804,
          28.202614379084963,
          27.973856209150327,
          28.267973856209156,
          29.183006535947715,
          28.79084967320261,
          28.88888888888889,
          29.673202614379083,
          30.522875816993466,
          29.836601307189543,
          30.84967320261438,
          30.88235294117647,
          31.04575163398693,
          30.49019607843137,
          30.522875816993466,
          29.869281045751634,
          30.228758169934643
         ],
         "y": [
          0.9150326797385632,
          0.980392156862745,
          1.0457516339869268,
          1.0457516339869286,
          0.9803921568627458,
          0.915032679738562,
          0.8169934640522872,
          0.8823529411764708,
          1.013071895424837,
          0.8169934640522878,
          0.2614379084967324,
          0.7516339869281057,
          0.8169934640522876,
          0.7843137254901966,
          0.6535947712418306,
          0.947712418300654,
          0.8169934640522878,
          1.0457516339869275,
          0.947712418300654,
          0.9477124183006532,
          0.8169934640522873,
          0.9803921568627444,
          0.5555555555555555,
          0.8496732026143794,
          0.8823529411764708,
          0.7516339869281048,
          1.0130718954248357,
          0.7516339869281046,
          0.8823529411764712,
          0.9150326797385622,
          1.0130718954248368,
          0.7189542483660136,
          0.8169934640522885,
          1.372549019607843,
          1.07843137254902,
          1.2418300653594774,
          0.8823529411764703,
          1.2745098039215677,
          0.9150326797385616,
          1.2418300653594774,
          1.0130718954248352,
          1.111111111111111,
          1.274509803921568,
          1.0457516339869282,
          1.0130718954248366,
          0.8496732026143798,
          0.8823529411764708,
          1.1437908496732028,
          0.9477124183006536,
          1.3398692810457518,
          0.5228758169934647,
          0.8496732026143792,
          0.8823529411764703,
          1.0457516339869288,
          0.9477124183006532,
          0.9803921568627448,
          1.0457516339869282,
          1.0130718954248366,
          0.784313725490196,
          0.9477124183006538,
          0.88235294117647,
          0.915032679738562,
          0.5555555555555562,
          0.6862745098039212,
          0.7843137254901958,
          0.9803921568627448,
          0.5882352941176479,
          0.6535947712418304,
          0.7843137254901958,
          0.784313725490196,
          1.143790849673202,
          0.9477124183006528,
          1.2418300653594774,
          0.5902777777777779,
          0.8823529411764706,
          0.7189542483660134,
          0.7516339869281038,
          1.1111111111111114,
          1.0130718954248368,
          0.915032679738562,
          0.8496732026143792,
          0.8169934640522876,
          0.7189542483660128,
          0.8496732026143796,
          1.111111111111111,
          1.0763888888888886,
          0.947712418300654,
          0.8169934640522873,
          0.7843137254901966,
          0.849673202614379,
          1.1805555555555556,
          1.111111111111111
         ]
        },
        {
         "mode": "markers",
         "name": "Mean Rural",
         "type": "scatter",
         "x": [
          25.931372549019606,
          26.029411764705884,
          25.94771241830065,
          25.784313725490197,
          25.326797385620917,
          24.362745098039216,
          24.72222222222222,
          25.228758169934643,
          25.081699346405227,
          25.735294117647054,
          25.163398692810457,
          24.96732026143791,
          24.934640522875817,
          24.395424836601308,
          24.362745098039216,
          24.49346405228758,
          25,
          24.15032679738562,
          24.117647058823533,
          24.509803921568626,
          23.823529411764707,
          23.545751633986928,
          23.16993464052288,
          23.38235294117647,
          23.905228758169937,
          23.70915032679738,
          24.00326797385621,
          24.052287581699343,
          23.87254901960784,
          24.19934640522876,
          24.0359477124183,
          24.41176470588235,
          23.92156862745098,
          23.95424836601307,
          25.163398692810457,
          25.5718954248366,
          25.408496732026144,
          25.686274509803923,
          25.40849673202614,
          25.53921568627451,
          25.19607843137255,
          24.950980392156865,
          24.591503267973856,
          24.77124183006536,
          24.57516339869281,
          25.245098039215687,
          25.9640522875817,
          25.866013071895424,
          26.535947712418302,
          26.045751633986924,
          25.5718954248366,
          25.637254901960787,
          26.24183006535948,
          25.91503267973856,
          25.163398692810457,
          25.03267973856209,
          25.16339869281046,
          26.029411764705884,
          25.637254901960784,
          25.212418300653592,
          25.310457516339863,
          25.522875816993466,
          22.222222222222225,
          21.69934640522876,
          19.705882352941178,
          20,
          20.65359477124183,
          20.98039215686274,
          21.209150326797385,
          22.352941176470587,
          23.51307189542484,
          23.69281045751634,
          23.676470588235293,
          24.67320261437909,
          23.267973856209156,
          22.8921568627451,
          22.810457516339863,
          22.450980392156865,
          22.94117647058824,
          23.431372549019606,
          23.25163398692811,
          23.153594771241828,
          23.578431372549016,
          24.67320261437909,
          24.084967320261438,
          24.46078431372549,
          25.13071895424837,
          25.09803921568627,
          25.147058823529413,
          25.03267973856209,
          24.624183006535947,
          24.215686274509807
         ],
         "y": [
          1.8790849673202616,
          1.830065359477124,
          1.6503267973856215,
          2.0424836601307184,
          2.0588235294117645,
          1.9934640522875813,
          2.009803921568627,
          1.9607843137254903,
          2.205882352941177,
          1.519607843137255,
          1.4869281045751637,
          1.862745098039216,
          1.8464052287581705,
          1.7156862745098034,
          1.8464052287581705,
          2.3039215686274503,
          2.026143790849673,
          1.9771241830065365,
          1.977124183006536,
          1.8790849673202608,
          2.0588235294117645,
          2.238562091503268,
          1.84640522875817,
          2.38562091503268,
          1.977124183006536,
          2.0588235294117645,
          2.075163398692811,
          1.6666666666666663,
          1.9771241830065356,
          1.944444444444444,
          2.173202614379084,
          2.0588235294117654,
          2.1405228758169934,
          2.483660130718955,
          1.8137254901960784,
          1.9444444444444449,
          2.1078431372549016,
          2.222222222222222,
          1.9771241830065356,
          2.3202614379084965,
          1.7973856209150323,
          2.238562091503267,
          2.434640522875817,
          1.9934640522875813,
          1.7973856209150323,
          1.96078431372549,
          1.9771241830065356,
          2.598039215686274,
          2.0424836601307192,
          2.156862745098039,
          1.7320261437908495,
          1.9281045751633976,
          1.7320261437908495,
          2.0915032679738563,
          1.9771241830065356,
          1.764705882352941,
          2.0424836601307192,
          1.7156862745098045,
          1.9281045751633987,
          1.6666666666666663,
          1.84640522875817,
          2.173202614379085,
          2.009803921568627,
          1.6503267973856206,
          1.977124183006536,
          1.7320261437908488,
          1.42156862745098,
          1.5849673202614387,
          1.830065359477124,
          2.1405228758169934,
          2.1405228758169934,
          2.189542483660131,
          2.1568627450980395,
          1.336805555555556,
          1.5522875816993469,
          1.1928104575163394,
          1.7810457516339868,
          2.1568627450980395,
          1.862745098039216,
          1.8300653594771243,
          1.8464052287581705,
          1.8627450980392155,
          1.993464052287582,
          1.96078431372549,
          2.3039215686274512,
          2.430555555555556,
          1.96078431372549,
          1.8790849673202616,
          1.7483660130718954,
          1.944444444444444,
          1.805555555555556,
          2.2916666666666656
         ]
        },
        {
         "mode": "lines",
         "name": "Min Linear Regression Fit",
         "type": "scatter",
         "x": [
          17.745098039215687,
          17.808476926123987,
          17.871855813032283,
          17.935234699940583,
          17.998613586848883,
          18.06199247375718,
          18.12537136066548,
          18.18875024757378,
          18.252129134482075,
          18.315508021390375,
          18.378886908298675,
          18.44226579520697,
          18.50564468211527,
          18.56902356902357,
          18.632402455931867,
          18.695781342840167,
          18.759160229748467,
          18.822539116656763,
          18.885918003565063,
          18.949296890473363,
          19.01267577738166,
          19.07605466428996,
          19.13943355119826,
          19.20281243810656,
          19.266191325014855,
          19.329570211923155,
          19.392949098831455,
          19.45632798573975,
          19.51970687264805,
          19.58308575955635,
          19.646464646464647,
          19.709843533372947,
          19.773222420281247,
          19.836601307189543,
          19.899980194097843,
          19.963359081006143,
          20.02673796791444,
          20.09011685482274,
          20.15349574173104,
          20.216874628639335,
          20.280253515547635,
          20.343632402455935,
          20.40701128936423,
          20.47039017627253,
          20.53376906318083,
          20.597147950089127,
          20.660526836997427,
          20.723905723905727,
          20.787284610814027,
          20.850663497722323,
          20.914042384630623,
          20.977421271538923,
          21.04080015844722,
          21.10417904535552,
          21.16755793226382,
          21.230936819172115,
          21.294315706080415,
          21.357694592988715,
          21.42107347989701,
          21.48445236680531,
          21.54783125371361,
          21.611210140621907,
          21.674589027530207,
          21.737967914438507,
          21.801346801346803,
          21.864725688255103,
          21.928104575163403,
          21.9914834620717,
          22.05486234898,
          22.1182412358883,
          22.181620122796595,
          22.244999009704895,
          22.308377896613194,
          22.37175678352149,
          22.43513567042979,
          22.49851455733809,
          22.561893444246387,
          22.625272331154687,
          22.688651218062986,
          22.752030104971283,
          22.815408991879583,
          22.878787878787882,
          22.94216676569618,
          23.00554565260448,
          23.06892453951278,
          23.132303426421075,
          23.195682313329375,
          23.259061200237674,
          23.32244008714597,
          23.38581897405427,
          23.44919786096257,
          23.512576747870867,
          23.575955634779167,
          23.639334521687466,
          23.702713408595763,
          23.766092295504063,
          23.829471182412362,
          23.89285006932066,
          23.95622895622896,
          24.01960784313726
         ],
         "y": [
          2.9231344148978367,
          2.92413769810505,
          2.925140981312264,
          2.9261442645194777,
          2.9271475477266917,
          2.9281508309339053,
          2.9291541141411193,
          2.9301573973483332,
          2.931160680555547,
          2.932163963762761,
          2.9331672469699743,
          2.9341705301771883,
          2.935173813384402,
          2.936177096591616,
          2.9371803797988294,
          2.9381836630060434,
          2.939186946213257,
          2.940190229420471,
          2.9411935126276845,
          2.9421967958348985,
          2.943200079042112,
          2.944203362249326,
          2.9452066454565395,
          2.9462099286637535,
          2.9472132118709675,
          2.948216495078181,
          2.949219778285395,
          2.9502230614926086,
          2.9512263446998226,
          2.952229627907036,
          2.95323291111425,
          2.9542361943214637,
          2.9552394775286777,
          2.956242760735891,
          2.957246043943105,
          2.9582493271503187,
          2.9592526103575327,
          2.9602558935647463,
          2.9612591767719603,
          2.962262459979174,
          2.963265743186388,
          2.964269026393602,
          2.9652723096008153,
          2.9662755928080293,
          2.967278876015243,
          2.968282159222457,
          2.9692854424296704,
          2.9702887256368844,
          2.971292008844098,
          2.972295292051312,
          2.9732985752585255,
          2.9743018584657395,
          2.975305141672953,
          2.976308424880167,
          2.977311708087381,
          2.9783149912945945,
          2.979318274501808,
          2.980321557709022,
          2.981324840916236,
          2.9823281241234496,
          2.9833314073306636,
          2.984334690537877,
          2.985337973745091,
          2.9863412569523047,
          2.9873445401595187,
          2.988347823366732,
          2.989351106573946,
          2.9903543897811597,
          2.9913576729883737,
          2.9923609561955873,
          2.9933642394028013,
          2.994367522610015,
          2.995370805817229,
          2.9963740890244424,
          2.9973773722316563,
          2.9983806554388703,
          2.999383938646084,
          3.000387221853298,
          3.0013905050605114,
          3.0023937882677254,
          3.003397071474939,
          3.004400354682153,
          3.0054036378893665,
          3.0064069210965805,
          3.007410204303794,
          3.008413487511008,
          3.0094167707182216,
          3.0104200539254355,
          3.011423337132649,
          3.012426620339863,
          3.0134299035470766,
          3.0144331867542906,
          3.0154364699615046,
          3.016439753168718,
          3.0174430363759317,
          3.0184463195831457,
          3.0194496027903597,
          3.0204528859975732,
          3.021456169204787,
          3.0224594524120008
         ]
        },
        {
         "mode": "lines",
         "name": "Max Linear Regression Fit",
         "type": "scatter",
         "x": [
          25.45751633986928,
          25.537730243612597,
          25.61794414735591,
          25.698158051099227,
          25.77837195484254,
          25.858585858585858,
          25.93879976232917,
          26.01901366607249,
          26.099227569815802,
          26.17944147355912,
          26.259655377302433,
          26.33986928104575,
          26.420083184789068,
          26.50029708853238,
          26.5805109922757,
          26.660724896019012,
          26.74093879976233,
          26.821152703505643,
          26.90136660724896,
          26.981580510992274,
          27.06179441473559,
          27.142008318478908,
          27.22222222222222,
          27.30243612596554,
          27.382650029708852,
          27.46286393345217,
          27.543077837195483,
          27.6232917409388,
          27.703505644682114,
          27.78371954842543,
          27.863933452168745,
          27.94414735591206,
          28.02436125965538,
          28.104575163398692,
          28.18478906714201,
          28.265002970885323,
          28.34521687462864,
          28.425430778371954,
          28.50564468211527,
          28.585858585858585,
          28.666072489601902,
          28.746286393345216,
          28.826500297088533,
          28.90671420083185,
          28.986928104575163,
          29.06714200831848,
          29.147355912061794,
          29.22756981580511,
          29.307783719548425,
          29.387997623291742,
          29.468211527035056,
          29.548425430778373,
          29.628639334521687,
          29.708853238265004,
          29.78906714200832,
          29.869281045751634,
          29.949494949494948,
          30.029708853238265,
          30.109922756981582,
          30.190136660724896,
          30.270350564468213,
          30.350564468211527,
          30.430778371954844,
          30.510992275698158,
          30.591206179441475,
          30.671420083184792,
          30.751633986928105,
          30.831847890671423,
          30.912061794414736,
          30.992275698158053,
          31.072489601901367,
          31.152703505644684,
          31.232917409388,
          31.313131313131315,
          31.39334521687463,
          31.473559120617946,
          31.553773024361263,
          31.633986928104576,
          31.714200831847894,
          31.794414735591207,
          31.874628639334524,
          31.954842543077838,
          32.03505644682115,
          32.11527035056447,
          32.195484254307786,
          32.2756981580511,
          32.35591206179441,
          32.436125965537734,
          32.51633986928105,
          32.59655377302436,
          32.67676767676768,
          32.756981580510995,
          32.83719548425431,
          32.91740938799762,
          32.99762329174094,
          33.07783719548426,
          33.15805109922757,
          33.23826500297089,
          33.318478906714205,
          33.39869281045752
         ],
         "y": [
          0.6443440835780675,
          0.648414511501105,
          0.652484939424142,
          0.6565553673471795,
          0.6606257952702167,
          0.6646962231932542,
          0.6687666511162914,
          0.6728370790393289,
          0.6769075069623659,
          0.6809779348854034,
          0.6850483628084406,
          0.6891187907314781,
          0.6931892186545155,
          0.6972596465775528,
          0.70133007450059,
          0.7054005024236273,
          0.7094709303466648,
          0.713541358269702,
          0.7176117861927395,
          0.7216822141157767,
          0.725752642038814,
          0.7298230699618514,
          0.7338934978848887,
          0.7379639258079261,
          0.7420343537309634,
          0.7461047816540006,
          0.7501752095770379,
          0.7542456375000753,
          0.7583160654231126,
          0.76238649334615,
          0.7664569212691873,
          0.7705273491922245,
          0.774597777115262,
          0.7786682050382993,
          0.7827386329613367,
          0.786809060884374,
          0.7908794888074114,
          0.7949499167304485,
          0.7990203446534859,
          0.8030907725765232,
          0.8071612004995606,
          0.8112316284225979,
          0.8153020563456354,
          0.8193724842686726,
          0.8234429121917098,
          0.8275133401147473,
          0.8315837680377846,
          0.835654195960822,
          0.8397246238838593,
          0.8437950518068965,
          0.8478654797299338,
          0.8519359076529712,
          0.8560063355760085,
          0.8600767634990459,
          0.8641471914220832,
          0.8682176193451204,
          0.8722880472681577,
          0.8763584751911951,
          0.8804289031142326,
          0.8844993310372699,
          0.8885697589603071,
          0.8926401868833443,
          0.8967106148063818,
          0.9007810427294191,
          0.9048514706524565,
          0.9089218985754938,
          0.912992326498531,
          0.9170627544215685,
          0.9211331823446057,
          0.9252036102676432,
          0.9292740381906804,
          0.9333444661137177,
          0.9374148940367552,
          0.9414853219597924,
          0.9455557498828296,
          0.9496261778058671,
          0.9536966057289046,
          0.9577670336519416,
          0.9618374615749791,
          0.9659078894980163,
          0.9699783174210538,
          0.974048745344091,
          0.9781191732671283,
          0.9821896011901657,
          0.986260029113203,
          0.9903304570362402,
          0.9944008849592775,
          0.9984713128823152,
          1.0025417408053525,
          1.0066121687283895,
          1.010682596651427,
          1.0147530245744645,
          1.0188234524975015,
          1.022893880420539,
          1.0269643083435764,
          1.0310347362666135,
          1.035105164189651,
          1.0391755921126884,
          1.0432460200357259,
          1.0473164479587629
         ]
        },
        {
         "mode": "lines",
         "name": "Mean Linear Regression Fit",
         "type": "scatter",
         "x": [
          21.683006535947715,
          21.752657291872982,
          21.82230804779825,
          21.89195880372351,
          21.961609559648778,
          22.031260315574045,
          22.10091107149931,
          22.170561827424574,
          22.24021258334984,
          22.309863339275108,
          22.379514095200374,
          22.449164851125637,
          22.518815607050904,
          22.58846636297617,
          22.658117118901437,
          22.7277678748267,
          22.797418630751967,
          22.867069386677233,
          22.9367201426025,
          23.006370898527763,
          23.07602165445303,
          23.145672410378296,
          23.215323166303563,
          23.284973922228826,
          23.354624678154092,
          23.42427543407936,
          23.493926190004625,
          23.56357694592989,
          23.633227701855155,
          23.70287845778042,
          23.77252921370569,
          23.842179969630955,
          23.911830725556218,
          23.981481481481485,
          24.05113223740675,
          24.120782993332014,
          24.19043374925728,
          24.260084505182547,
          24.329735261107814,
          24.39938601703308,
          24.469036772958344,
          24.53868752888361,
          24.608338284808877,
          24.677989040734143,
          24.747639796659406,
          24.817290552584673,
          24.88694130850994,
          24.956592064435206,
          25.02624282036047,
          25.095893576285736,
          25.165544332211002,
          25.23519508813627,
          25.304845844061532,
          25.3744965999868,
          25.444147355912065,
          25.513798111837332,
          25.5834488677626,
          25.65309962368786,
          25.722750379613128,
          25.792401135538395,
          25.862051891463658,
          25.931702647388924,
          26.00135340331419,
          26.071004159239457,
          26.140654915164724,
          26.210305671089987,
          26.279956427015254,
          26.34960718294052,
          26.419257938865783,
          26.48890869479105,
          26.558559450716317,
          26.628210206641583,
          26.69786096256685,
          26.767511718492113,
          26.83716247441738,
          26.906813230342646,
          26.97646398626791,
          27.046114742193176,
          27.115765498118442,
          27.18541625404371,
          27.255067009968975,
          27.324717765894242,
          27.394368521819505,
          27.46401927774477,
          27.533670033670038,
          27.6033207895953,
          27.672971545520568,
          27.742622301445834,
          27.8122730573711,
          27.881923813296368,
          27.95157456922163,
          28.021225325146897,
          28.090876081072164,
          28.160526836997427,
          28.230177592922693,
          28.29982834884796,
          28.369479104773227,
          28.439129860698493,
          28.508780616623756,
          28.578431372549023
         ],
         "y": [
          1.6997090131858064,
          1.7035207868634896,
          1.7073325605411729,
          1.711144334218856,
          1.7149561078965394,
          1.7187678815742227,
          1.722579655251906,
          1.726391428929589,
          1.7302032026072722,
          1.7340149762849557,
          1.737826749962639,
          1.741638523640322,
          1.7454502973180053,
          1.7492620709956888,
          1.753073844673372,
          1.756885618351055,
          1.7606973920287383,
          1.7645091657064218,
          1.768320939384105,
          1.772132713061788,
          1.7759444867394714,
          1.7797562604171548,
          1.783568034094838,
          1.7873798077725211,
          1.7911915814502044,
          1.795003355127888,
          1.7988151288055712,
          1.8026269024832542,
          1.8064386761609375,
          1.8102504498386207,
          1.8140622235163042,
          1.8178739971939875,
          1.8216857708716705,
          1.8254975445493538,
          1.8293093182270372,
          1.8331210919047203,
          1.8369328655824035,
          1.8407446392600868,
          1.8445564129377703,
          1.8483681866154535,
          1.8521799602931366,
          1.8559917339708198,
          1.8598035076485033,
          1.8636152813261866,
          1.8674270550038696,
          1.871238828681553,
          1.8750506023592364,
          1.8788623760369196,
          1.8826741497146027,
          1.886485923392286,
          1.8902976970699694,
          1.8941094707476527,
          1.8979212444253357,
          1.901733018103019,
          1.9055447917807022,
          1.9093565654583857,
          1.913168339136069,
          1.916980112813752,
          1.9207918864914353,
          1.9246036601691188,
          1.9284154338468018,
          1.932227207524485,
          1.9360389812021683,
          1.9398507548798518,
          1.943662528557535,
          1.9474743022352181,
          1.9512860759129014,
          1.9550978495905849,
          1.958909623268268,
          1.9627213969459512,
          1.9665331706236344,
          1.970344944301318,
          1.9741567179790012,
          1.9779684916566842,
          1.9817802653343675,
          1.985592039012051,
          1.989403812689734,
          1.9932155863674172,
          1.9970273600451005,
          2.000839133722784,
          2.0046509074004675,
          2.0084626810781505,
          2.0122744547558336,
          2.016086228433517,
          2.0198980021112005,
          2.023709775788883,
          2.0275215494665666,
          2.03133332314425,
          2.0351450968219336,
          2.0389568704996166,
          2.0427686441772996,
          2.046580417854983,
          2.0503921915326666,
          2.054203965210349,
          2.0580157388880327,
          2.061827512565716,
          2.0656392862433997,
          2.0694510599210827,
          2.0732628335987657,
          2.077074607276449
         ]
        },
        {
         "mode": "lines",
         "name": "Min Linear Regression Fit",
         "type": "scatter",
         "x": [
          14.836601307189545,
          14.900640390836472,
          14.964679474483399,
          15.028718558130326,
          15.092757641777252,
          15.15679672542418,
          15.220835809071106,
          15.284874892718031,
          15.348913976364958,
          15.412953060011885,
          15.476992143658812,
          15.541031227305739,
          15.605070310952666,
          15.669109394599593,
          15.73314847824652,
          15.797187561893447,
          15.861226645540373,
          15.9252657291873,
          15.989304812834227,
          16.053343896481152,
          16.11738298012808,
          16.181422063775006,
          16.245461147421935,
          16.30950023106886,
          16.37353931471579,
          16.437578398362714,
          16.501617482009642,
          16.565656565656568,
          16.629695649303493,
          16.69373473295042,
          16.757773816597346,
          16.821812900244275,
          16.8858519838912,
          16.94989106753813,
          17.013930151185054,
          17.077969234831983,
          17.142008318478908,
          17.206047402125833,
          17.27008648577276,
          17.33412556941969,
          17.398164653066615,
          17.46220373671354,
          17.52624282036047,
          17.590281904007394,
          17.654320987654323,
          17.718360071301248,
          17.782399154948177,
          17.846438238595102,
          17.91047732224203,
          17.974516405888956,
          18.03855548953588,
          18.10259457318281,
          18.166633656829738,
          18.230672740476663,
          18.29471182412359,
          18.358750907770517,
          18.422789991417442,
          18.48682907506437,
          18.550868158711296,
          18.614907242358225,
          18.67894632600515,
          18.74298540965208,
          18.807024493299004,
          18.87106357694593,
          18.935102660592857,
          18.999141744239786,
          19.06318082788671,
          19.127219911533636,
          19.191258995180565,
          19.25529807882749,
          19.31933716247442,
          19.383376246121344,
          19.447415329768273,
          19.511454413415198,
          19.575493497062126,
          19.63953258070905,
          19.703571664355977,
          19.767610748002905,
          19.831649831649834,
          19.89568891529676,
          19.959727998943684,
          20.023767082590613,
          20.087806166237538,
          20.151845249884467,
          20.215884333531392,
          20.27992341717832,
          20.343962500825246,
          20.408001584472174,
          20.4720406681191,
          20.536079751766025,
          20.600118835412953,
          20.664157919059882,
          20.728197002706807,
          20.792236086353732,
          20.85627517000066,
          20.920314253647586,
          20.984353337294515,
          21.04839242094144,
          21.11243150458837,
          21.176470588235293
         ],
         "y": [
          3.2428909893370417,
          3.238762675068057,
          3.2346343607990726,
          3.2305060465300883,
          3.2263777322611036,
          3.222249417992119,
          3.2181211037231345,
          3.2139927894541502,
          3.2098644751851655,
          3.2057361609161807,
          3.2016078466471964,
          3.197479532378212,
          3.1933512181092274,
          3.1892229038402427,
          3.1850945895712583,
          3.180966275302274,
          3.1768379610332893,
          3.1727096467643046,
          3.16858133249532,
          3.164453018226336,
          3.160324703957351,
          3.1561963896883665,
          3.1520680754193817,
          3.1479397611503974,
          3.143811446881413,
          3.1396831326124284,
          3.1355548183434436,
          3.1314265040744593,
          3.127298189805475,
          3.1231698755364903,
          3.1190415612675055,
          3.1149132469985212,
          3.110784932729537,
          3.106656618460552,
          3.1025283041915674,
          3.0983999899225827,
          3.094271675653599,
          3.090143361384614,
          3.0860150471156294,
          3.0818867328466446,
          3.0777584185776607,
          3.073630104308676,
          3.0695017900396913,
          3.065373475770707,
          3.061245161501722,
          3.057116847232738,
          3.052988532963753,
          3.048860218694769,
          3.044731904425784,
          3.0406035901568,
          3.036475275887815,
          3.0323469616188303,
          3.028218647349846,
          3.0240903330808617,
          3.019962018811877,
          3.0158337045428922,
          3.011705390273908,
          3.0075770760049236,
          3.003448761735939,
          2.999320447466954,
          2.99519213319797,
          2.9910638189289855,
          2.986935504660001,
          2.982807190391016,
          2.9786788761220317,
          2.974550561853047,
          2.9704222475840627,
          2.966293933315078,
          2.962165619046093,
          2.9580373047771094,
          2.9539089905081246,
          2.94978067623914,
          2.945652361970155,
          2.9415240477011713,
          2.9373957334321865,
          2.9332674191632018,
          2.9291391048942175,
          2.9250107906252327,
          2.9208824763562484,
          2.9167541620872637,
          2.9126258478182794,
          2.9084975335492946,
          2.9043692192803103,
          2.9002409050113256,
          2.896112590742341,
          2.8919842764733565,
          2.8878559622043722,
          2.8837276479353875,
          2.8795993336664027,
          2.8754710193974184,
          2.871342705128434,
          2.8672143908594494,
          2.8630860765904647,
          2.8589577623214804,
          2.8548294480524956,
          2.8507011337835113,
          2.8465728195145266,
          2.8424445052455423,
          2.8383161909765575,
          2.834187876707573
         ]
        },
        {
         "mode": "lines",
         "name": "Max Linear Regression Fit",
         "type": "scatter",
         "x": [
          24.67320261437909,
          24.749785436059952,
          24.82636825774081,
          24.902951079421673,
          24.97953390110253,
          25.056116722783393,
          25.132699544464256,
          25.209282366145114,
          25.285865187825976,
          25.36244800950684,
          25.439030831187697,
          25.51561365286856,
          25.592196474549418,
          25.66877929623028,
          25.745362117911142,
          25.821944939592,
          25.898527761272863,
          25.975110582953725,
          26.051693404634584,
          26.128276226315446,
          26.204859047996305,
          26.281441869677167,
          26.35802469135803,
          26.434607513038888,
          26.51119033471975,
          26.58777315640061,
          26.66435597808147,
          26.740938799762333,
          26.81752162144319,
          26.894104443124053,
          26.970687264804916,
          27.047270086485774,
          27.123852908166636,
          27.200435729847495,
          27.277018551528357,
          27.35360137320922,
          27.430184194890078,
          27.50676701657094,
          27.5833498382518,
          27.65993265993266,
          27.736515481613523,
          27.81309830329438,
          27.889681124975244,
          27.966263946656106,
          28.042846768336965,
          28.119429590017827,
          28.196012411698685,
          28.272595233379548,
          28.34917805506041,
          28.42576087674127,
          28.50234369842213,
          28.57892652010299,
          28.65550934178385,
          28.732092163464714,
          28.808674985145572,
          28.885257806826434,
          28.961840628507296,
          29.038423450188155,
          29.115006271869017,
          29.19158909354988,
          29.268171915230738,
          29.3447547369116,
          29.42133755859246,
          29.49792038027332,
          29.57450320195418,
          29.65108602363504,
          29.727668845315904,
          29.804251666996763,
          29.880834488677625,
          29.957417310358487,
          30.034000132039345,
          30.110582953720208,
          30.18716577540107,
          30.26374859708193,
          30.34033141876279,
          30.41691424044365,
          30.49349706212451,
          30.57007988380537,
          30.646662705486232,
          30.723245527167094,
          30.799828348847953,
          30.876411170528815,
          30.952993992209677,
          31.029576813890536,
          31.106159635571398,
          31.18274245725226,
          31.25932527893312,
          31.33590810061398,
          31.41249092229484,
          31.489073743975702,
          31.56565656565656,
          31.642239387337423,
          31.718822209018285,
          31.795405030699143,
          31.871987852380006,
          31.948570674060868,
          32.025153495741726,
          32.101736317422585,
          32.17831913910345,
          32.25490196078431
         ],
         "y": [
          0.7100836682794407,
          0.7130903137322323,
          0.7160969591850238,
          0.7191036046378154,
          0.7221102500906068,
          0.7251168955433984,
          0.72812354099619,
          0.7311301864489815,
          0.7341368319017731,
          0.7371434773545646,
          0.7401501228073561,
          0.7431567682601478,
          0.7461634137129393,
          0.7491700591657308,
          0.7521767046185225,
          0.7551833500713138,
          0.7581899955241055,
          0.761196640976897,
          0.7642032864296885,
          0.7672099318824802,
          0.7702165773352715,
          0.7732232227880632,
          0.7762298682408547,
          0.7792365136936462,
          0.7822431591464377,
          0.7852498045992292,
          0.7882564500520209,
          0.7912630955048124,
          0.7942697409576039,
          0.7972763864103954,
          0.8002830318631872,
          0.8032896773159787,
          0.8062963227687702,
          0.8093029682215617,
          0.8123096136743532,
          0.8153162591271449,
          0.8183229045799364,
          0.8213295500327279,
          0.8243361954855194,
          0.8273428409383109,
          0.8303494863911026,
          0.8333561318438939,
          0.8363627772966856,
          0.8393694227494771,
          0.8423760682022686,
          0.8453827136550603,
          0.8483893591078516,
          0.8513960045606433,
          0.8544026500134349,
          0.8574092954662264,
          0.8604159409190181,
          0.8634225863718094,
          0.8664292318246011,
          0.8694358772773926,
          0.8724425227301841,
          0.8754491681829756,
          0.8784558136357673,
          0.8814624590885588,
          0.8844691045413503,
          0.887475749994142,
          0.8904823954469333,
          0.893489040899725,
          0.8964956863525165,
          0.899502331805308,
          0.9025089772580995,
          0.905515622710891,
          0.9085222681636828,
          0.9115289136164743,
          0.9145355590692658,
          0.9175422045220573,
          0.9205488499748488,
          0.9235554954276405,
          0.926562140880432,
          0.9295687863332235,
          0.932575431786015,
          0.9355820772388065,
          0.9385887226915982,
          0.9415953681443895,
          0.9446020135971812,
          0.9476086590499727,
          0.9506153045027642,
          0.9536219499555557,
          0.9566285954083474,
          0.9596352408611389,
          0.9626418863139304,
          0.9656485317667222,
          0.9686551772195134,
          0.9716618226723052,
          0.9746684681250967,
          0.9776751135778882,
          0.9806817590306797,
          0.9836884044834712,
          0.9866950499362629,
          0.9897016953890544,
          0.9927083408418459,
          0.9957149862946374,
          0.9987216317474289,
          1.0017282772002205,
          1.0047349226530122,
          1.0077415681058035
         ]
        },
        {
         "mode": "lines",
         "name": "Mean Linear Regression Fit",
         "type": "scatter",
         "x": [
          19.705882352941178,
          19.774872912127815,
          19.843863471314453,
          19.91285403050109,
          19.98184458968773,
          20.050835148874366,
          20.119825708061004,
          20.188816267247642,
          20.25780682643428,
          20.326797385620917,
          20.395787944807555,
          20.464778503994193,
          20.53376906318083,
          20.602759622367465,
          20.671750181554103,
          20.74074074074074,
          20.80973129992738,
          20.878721859114016,
          20.947712418300654,
          21.01670297748729,
          21.08569353667393,
          21.154684095860567,
          21.223674655047205,
          21.292665214233843,
          21.36165577342048,
          21.430646332607118,
          21.499636891793756,
          21.568627450980394,
          21.63761801016703,
          21.70660856935367,
          21.775599128540307,
          21.844589687726945,
          21.913580246913583,
          21.98257080610022,
          22.051561365286858,
          22.120551924473496,
          22.189542483660134,
          22.25853304284677,
          22.32752360203341,
          22.396514161220047,
          22.465504720406685,
          22.53449527959332,
          22.603485838779957,
          22.672476397966594,
          22.741466957153232,
          22.81045751633987,
          22.879448075526508,
          22.948438634713145,
          23.017429193899783,
          23.08641975308642,
          23.15541031227306,
          23.224400871459697,
          23.293391430646334,
          23.362381989832972,
          23.43137254901961,
          23.500363108206248,
          23.569353667392885,
          23.638344226579523,
          23.70733478576616,
          23.7763253449528,
          23.845315904139436,
          23.91430646332607,
          23.98329702251271,
          24.052287581699346,
          24.121278140885984,
          24.19026870007262,
          24.25925925925926,
          24.328249818445897,
          24.397240377632535,
          24.466230936819173,
          24.53522149600581,
          24.60421205519245,
          24.673202614379086,
          24.742193173565724,
          24.81118373275236,
          24.880174291939,
          24.949164851125637,
          25.018155410312275,
          25.087145969498913,
          25.15613652868555,
          25.22512708787219,
          25.294117647058826,
          25.363108206245464,
          25.4320987654321,
          25.50108932461874,
          25.570079883805377,
          25.639070442992015,
          25.708061002178653,
          25.77705156136529,
          25.846042120551928,
          25.915032679738566,
          25.984023238925204,
          26.05301379811184,
          26.122004357298476,
          26.190994916485113,
          26.25998547567175,
          26.32897603485839,
          26.397966594045027,
          26.466957153231665,
          26.535947712418302
         ],
         "y": [
          1.8250665050771573,
          1.8269654948605814,
          1.8288644846440052,
          1.830763474427429,
          1.8326624642108529,
          1.8345614539942767,
          1.8364604437777006,
          1.8383594335611244,
          1.8402584233445483,
          1.842157413127972,
          1.844056402911396,
          1.8459553926948198,
          1.8478543824782436,
          1.8497533722616675,
          1.8516523620450913,
          1.8535513518285152,
          1.855450341611939,
          1.8573493313953628,
          1.8592483211787867,
          1.8611473109622105,
          1.8630463007456344,
          1.8649452905290584,
          1.8668442803124823,
          1.8687432700959061,
          1.87064225987933,
          1.8725412496627538,
          1.8744402394461777,
          1.8763392292296017,
          1.8782382190130256,
          1.8801372087964494,
          1.8820361985798733,
          1.883935188363297,
          1.885834178146721,
          1.8877331679301448,
          1.8896321577135686,
          1.8915311474969925,
          1.8934301372804163,
          1.8953291270638402,
          1.897228116847264,
          1.8991271066306878,
          1.9010260964141117,
          1.9029250861975355,
          1.9048240759809594,
          1.9067230657643832,
          1.908622055547807,
          1.910521045331231,
          1.9124200351146547,
          1.9143190248980788,
          1.9162180146815027,
          1.9181170044649265,
          1.9200159942483503,
          1.9219149840317742,
          1.9238139738151983,
          1.925712963598622,
          1.927611953382046,
          1.9295109431654698,
          1.9314099329488936,
          1.9333089227323175,
          1.9352079125157413,
          1.9371069022991652,
          1.939005892082589,
          1.9409048818660128,
          1.9428038716494367,
          1.9447028614328605,
          1.9466018512162844,
          1.9485008409997082,
          1.950399830783132,
          1.952298820566556,
          1.9541978103499797,
          1.9560968001334036,
          1.9579957899168274,
          1.9598947797002513,
          1.9617937694836753,
          1.9636927592670992,
          1.965591749050523,
          1.9674907388339469,
          1.9693897286173707,
          1.9712887184007948,
          1.9731877081842186,
          1.9750866979676425,
          1.9769856877510663,
          1.9788846775344902,
          1.980783667317914,
          1.9826826571013378,
          1.9845816468847617,
          1.9864806366681855,
          1.9883796264516094,
          1.9902786162350332,
          1.992177606018457,
          1.994076595801881,
          1.9959755855853047,
          1.9978745753687286,
          1.9997735651521524,
          2.0016725549355763,
          2.003571544719,
          2.005470534502424,
          2.007369524285848,
          2.009268514069272,
          2.011167503852696,
          2.01306649363612
         ]
        }
       ],
       "layout": {
        "template": {
         "data": {
          "bar": [
           {
            "error_x": {
             "color": "rgb(36,36,36)"
            },
            "error_y": {
             "color": "rgb(36,36,36)"
            },
            "marker": {
             "line": {
              "color": "white",
              "width": 0.5
             },
             "pattern": {
              "fillmode": "overlay",
              "size": 10,
              "solidity": 0.2
             }
            },
            "type": "bar"
           }
          ],
          "barpolar": [
           {
            "marker": {
             "line": {
              "color": "white",
              "width": 0.5
             },
             "pattern": {
              "fillmode": "overlay",
              "size": 10,
              "solidity": 0.2
             }
            },
            "type": "barpolar"
           }
          ],
          "carpet": [
           {
            "aaxis": {
             "endlinecolor": "rgb(36,36,36)",
             "gridcolor": "white",
             "linecolor": "white",
             "minorgridcolor": "white",
             "startlinecolor": "rgb(36,36,36)"
            },
            "baxis": {
             "endlinecolor": "rgb(36,36,36)",
             "gridcolor": "white",
             "linecolor": "white",
             "minorgridcolor": "white",
             "startlinecolor": "rgb(36,36,36)"
            },
            "type": "carpet"
           }
          ],
          "choropleth": [
           {
            "colorbar": {
             "outlinewidth": 1,
             "tickcolor": "rgb(36,36,36)",
             "ticks": "outside"
            },
            "type": "choropleth"
           }
          ],
          "contour": [
           {
            "colorbar": {
             "outlinewidth": 1,
             "tickcolor": "rgb(36,36,36)",
             "ticks": "outside"
            },
            "colorscale": [
             [
              0,
              "#440154"
             ],
             [
              0.1111111111111111,
              "#482878"
             ],
             [
              0.2222222222222222,
              "#3e4989"
             ],
             [
              0.3333333333333333,
              "#31688e"
             ],
             [
              0.4444444444444444,
              "#26828e"
             ],
             [
              0.5555555555555556,
              "#1f9e89"
             ],
             [
              0.6666666666666666,
              "#35b779"
             ],
             [
              0.7777777777777778,
              "#6ece58"
             ],
             [
              0.8888888888888888,
              "#b5de2b"
             ],
             [
              1,
              "#fde725"
             ]
            ],
            "type": "contour"
           }
          ],
          "contourcarpet": [
           {
            "colorbar": {
             "outlinewidth": 1,
             "tickcolor": "rgb(36,36,36)",
             "ticks": "outside"
            },
            "type": "contourcarpet"
           }
          ],
          "heatmap": [
           {
            "colorbar": {
             "outlinewidth": 1,
             "tickcolor": "rgb(36,36,36)",
             "ticks": "outside"
            },
            "colorscale": [
             [
              0,
              "#440154"
             ],
             [
              0.1111111111111111,
              "#482878"
             ],
             [
              0.2222222222222222,
              "#3e4989"
             ],
             [
              0.3333333333333333,
              "#31688e"
             ],
             [
              0.4444444444444444,
              "#26828e"
             ],
             [
              0.5555555555555556,
              "#1f9e89"
             ],
             [
              0.6666666666666666,
              "#35b779"
             ],
             [
              0.7777777777777778,
              "#6ece58"
             ],
             [
              0.8888888888888888,
              "#b5de2b"
             ],
             [
              1,
              "#fde725"
             ]
            ],
            "type": "heatmap"
           }
          ],
          "heatmapgl": [
           {
            "colorbar": {
             "outlinewidth": 1,
             "tickcolor": "rgb(36,36,36)",
             "ticks": "outside"
            },
            "colorscale": [
             [
              0,
              "#440154"
             ],
             [
              0.1111111111111111,
              "#482878"
             ],
             [
              0.2222222222222222,
              "#3e4989"
             ],
             [
              0.3333333333333333,
              "#31688e"
             ],
             [
              0.4444444444444444,
              "#26828e"
             ],
             [
              0.5555555555555556,
              "#1f9e89"
             ],
             [
              0.6666666666666666,
              "#35b779"
             ],
             [
              0.7777777777777778,
              "#6ece58"
             ],
             [
              0.8888888888888888,
              "#b5de2b"
             ],
             [
              1,
              "#fde725"
             ]
            ],
            "type": "heatmapgl"
           }
          ],
          "histogram": [
           {
            "marker": {
             "line": {
              "color": "white",
              "width": 0.6
             }
            },
            "type": "histogram"
           }
          ],
          "histogram2d": [
           {
            "colorbar": {
             "outlinewidth": 1,
             "tickcolor": "rgb(36,36,36)",
             "ticks": "outside"
            },
            "colorscale": [
             [
              0,
              "#440154"
             ],
             [
              0.1111111111111111,
              "#482878"
             ],
             [
              0.2222222222222222,
              "#3e4989"
             ],
             [
              0.3333333333333333,
              "#31688e"
             ],
             [
              0.4444444444444444,
              "#26828e"
             ],
             [
              0.5555555555555556,
              "#1f9e89"
             ],
             [
              0.6666666666666666,
              "#35b779"
             ],
             [
              0.7777777777777778,
              "#6ece58"
             ],
             [
              0.8888888888888888,
              "#b5de2b"
             ],
             [
              1,
              "#fde725"
             ]
            ],
            "type": "histogram2d"
           }
          ],
          "histogram2dcontour": [
           {
            "colorbar": {
             "outlinewidth": 1,
             "tickcolor": "rgb(36,36,36)",
             "ticks": "outside"
            },
            "colorscale": [
             [
              0,
              "#440154"
             ],
             [
              0.1111111111111111,
              "#482878"
             ],
             [
              0.2222222222222222,
              "#3e4989"
             ],
             [
              0.3333333333333333,
              "#31688e"
             ],
             [
              0.4444444444444444,
              "#26828e"
             ],
             [
              0.5555555555555556,
              "#1f9e89"
             ],
             [
              0.6666666666666666,
              "#35b779"
             ],
             [
              0.7777777777777778,
              "#6ece58"
             ],
             [
              0.8888888888888888,
              "#b5de2b"
             ],
             [
              1,
              "#fde725"
             ]
            ],
            "type": "histogram2dcontour"
           }
          ],
          "mesh3d": [
           {
            "colorbar": {
             "outlinewidth": 1,
             "tickcolor": "rgb(36,36,36)",
             "ticks": "outside"
            },
            "type": "mesh3d"
           }
          ],
          "parcoords": [
           {
            "line": {
             "colorbar": {
              "outlinewidth": 1,
              "tickcolor": "rgb(36,36,36)",
              "ticks": "outside"
             }
            },
            "type": "parcoords"
           }
          ],
          "pie": [
           {
            "automargin": true,
            "type": "pie"
           }
          ],
          "scatter": [
           {
            "fillpattern": {
             "fillmode": "overlay",
             "size": 10,
             "solidity": 0.2
            },
            "type": "scatter"
           }
          ],
          "scatter3d": [
           {
            "line": {
             "colorbar": {
              "outlinewidth": 1,
              "tickcolor": "rgb(36,36,36)",
              "ticks": "outside"
             }
            },
            "marker": {
             "colorbar": {
              "outlinewidth": 1,
              "tickcolor": "rgb(36,36,36)",
              "ticks": "outside"
             }
            },
            "type": "scatter3d"
           }
          ],
          "scattercarpet": [
           {
            "marker": {
             "colorbar": {
              "outlinewidth": 1,
              "tickcolor": "rgb(36,36,36)",
              "ticks": "outside"
             }
            },
            "type": "scattercarpet"
           }
          ],
          "scattergeo": [
           {
            "marker": {
             "colorbar": {
              "outlinewidth": 1,
              "tickcolor": "rgb(36,36,36)",
              "ticks": "outside"
             }
            },
            "type": "scattergeo"
           }
          ],
          "scattergl": [
           {
            "marker": {
             "colorbar": {
              "outlinewidth": 1,
              "tickcolor": "rgb(36,36,36)",
              "ticks": "outside"
             }
            },
            "type": "scattergl"
           }
          ],
          "scattermapbox": [
           {
            "marker": {
             "colorbar": {
              "outlinewidth": 1,
              "tickcolor": "rgb(36,36,36)",
              "ticks": "outside"
             }
            },
            "type": "scattermapbox"
           }
          ],
          "scatterpolar": [
           {
            "marker": {
             "colorbar": {
              "outlinewidth": 1,
              "tickcolor": "rgb(36,36,36)",
              "ticks": "outside"
             }
            },
            "type": "scatterpolar"
           }
          ],
          "scatterpolargl": [
           {
            "marker": {
             "colorbar": {
              "outlinewidth": 1,
              "tickcolor": "rgb(36,36,36)",
              "ticks": "outside"
             }
            },
            "type": "scatterpolargl"
           }
          ],
          "scatterternary": [
           {
            "marker": {
             "colorbar": {
              "outlinewidth": 1,
              "tickcolor": "rgb(36,36,36)",
              "ticks": "outside"
             }
            },
            "type": "scatterternary"
           }
          ],
          "surface": [
           {
            "colorbar": {
             "outlinewidth": 1,
             "tickcolor": "rgb(36,36,36)",
             "ticks": "outside"
            },
            "colorscale": [
             [
              0,
              "#440154"
             ],
             [
              0.1111111111111111,
              "#482878"
             ],
             [
              0.2222222222222222,
              "#3e4989"
             ],
             [
              0.3333333333333333,
              "#31688e"
             ],
             [
              0.4444444444444444,
              "#26828e"
             ],
             [
              0.5555555555555556,
              "#1f9e89"
             ],
             [
              0.6666666666666666,
              "#35b779"
             ],
             [
              0.7777777777777778,
              "#6ece58"
             ],
             [
              0.8888888888888888,
              "#b5de2b"
             ],
             [
              1,
              "#fde725"
             ]
            ],
            "type": "surface"
           }
          ],
          "table": [
           {
            "cells": {
             "fill": {
              "color": "rgb(237,237,237)"
             },
             "line": {
              "color": "white"
             }
            },
            "header": {
             "fill": {
              "color": "rgb(217,217,217)"
             },
             "line": {
              "color": "white"
             }
            },
            "type": "table"
           }
          ]
         },
         "layout": {
          "annotationdefaults": {
           "arrowhead": 0,
           "arrowwidth": 1
          },
          "autotypenumbers": "strict",
          "coloraxis": {
           "colorbar": {
            "outlinewidth": 1,
            "tickcolor": "rgb(36,36,36)",
            "ticks": "outside"
           }
          },
          "colorscale": {
           "diverging": [
            [
             0,
             "rgb(103,0,31)"
            ],
            [
             0.1,
             "rgb(178,24,43)"
            ],
            [
             0.2,
             "rgb(214,96,77)"
            ],
            [
             0.3,
             "rgb(244,165,130)"
            ],
            [
             0.4,
             "rgb(253,219,199)"
            ],
            [
             0.5,
             "rgb(247,247,247)"
            ],
            [
             0.6,
             "rgb(209,229,240)"
            ],
            [
             0.7,
             "rgb(146,197,222)"
            ],
            [
             0.8,
             "rgb(67,147,195)"
            ],
            [
             0.9,
             "rgb(33,102,172)"
            ],
            [
             1,
             "rgb(5,48,97)"
            ]
           ],
           "sequential": [
            [
             0,
             "#440154"
            ],
            [
             0.1111111111111111,
             "#482878"
            ],
            [
             0.2222222222222222,
             "#3e4989"
            ],
            [
             0.3333333333333333,
             "#31688e"
            ],
            [
             0.4444444444444444,
             "#26828e"
            ],
            [
             0.5555555555555556,
             "#1f9e89"
            ],
            [
             0.6666666666666666,
             "#35b779"
            ],
            [
             0.7777777777777778,
             "#6ece58"
            ],
            [
             0.8888888888888888,
             "#b5de2b"
            ],
            [
             1,
             "#fde725"
            ]
           ],
           "sequentialminus": [
            [
             0,
             "#440154"
            ],
            [
             0.1111111111111111,
             "#482878"
            ],
            [
             0.2222222222222222,
             "#3e4989"
            ],
            [
             0.3333333333333333,
             "#31688e"
            ],
            [
             0.4444444444444444,
             "#26828e"
            ],
            [
             0.5555555555555556,
             "#1f9e89"
            ],
            [
             0.6666666666666666,
             "#35b779"
            ],
            [
             0.7777777777777778,
             "#6ece58"
            ],
            [
             0.8888888888888888,
             "#b5de2b"
            ],
            [
             1,
             "#fde725"
            ]
           ]
          },
          "colorway": [
           "#1F77B4",
           "#FF7F0E",
           "#2CA02C",
           "#D62728",
           "#9467BD",
           "#8C564B",
           "#E377C2",
           "#7F7F7F",
           "#BCBD22",
           "#17BECF"
          ],
          "font": {
           "color": "rgb(36,36,36)"
          },
          "geo": {
           "bgcolor": "white",
           "lakecolor": "white",
           "landcolor": "white",
           "showlakes": true,
           "showland": true,
           "subunitcolor": "white"
          },
          "hoverlabel": {
           "align": "left"
          },
          "hovermode": "closest",
          "mapbox": {
           "style": "light"
          },
          "paper_bgcolor": "white",
          "plot_bgcolor": "white",
          "polar": {
           "angularaxis": {
            "gridcolor": "rgb(232,232,232)",
            "linecolor": "rgb(36,36,36)",
            "showgrid": false,
            "showline": true,
            "ticks": "outside"
           },
           "bgcolor": "white",
           "radialaxis": {
            "gridcolor": "rgb(232,232,232)",
            "linecolor": "rgb(36,36,36)",
            "showgrid": false,
            "showline": true,
            "ticks": "outside"
           }
          },
          "scene": {
           "xaxis": {
            "backgroundcolor": "white",
            "gridcolor": "rgb(232,232,232)",
            "gridwidth": 2,
            "linecolor": "rgb(36,36,36)",
            "showbackground": true,
            "showgrid": false,
            "showline": true,
            "ticks": "outside",
            "zeroline": false,
            "zerolinecolor": "rgb(36,36,36)"
           },
           "yaxis": {
            "backgroundcolor": "white",
            "gridcolor": "rgb(232,232,232)",
            "gridwidth": 2,
            "linecolor": "rgb(36,36,36)",
            "showbackground": true,
            "showgrid": false,
            "showline": true,
            "ticks": "outside",
            "zeroline": false,
            "zerolinecolor": "rgb(36,36,36)"
           },
           "zaxis": {
            "backgroundcolor": "white",
            "gridcolor": "rgb(232,232,232)",
            "gridwidth": 2,
            "linecolor": "rgb(36,36,36)",
            "showbackground": true,
            "showgrid": false,
            "showline": true,
            "ticks": "outside",
            "zeroline": false,
            "zerolinecolor": "rgb(36,36,36)"
           }
          },
          "shapedefaults": {
           "fillcolor": "black",
           "line": {
            "width": 0
           },
           "opacity": 0.3
          },
          "ternary": {
           "aaxis": {
            "gridcolor": "rgb(232,232,232)",
            "linecolor": "rgb(36,36,36)",
            "showgrid": false,
            "showline": true,
            "ticks": "outside"
           },
           "baxis": {
            "gridcolor": "rgb(232,232,232)",
            "linecolor": "rgb(36,36,36)",
            "showgrid": false,
            "showline": true,
            "ticks": "outside"
           },
           "bgcolor": "white",
           "caxis": {
            "gridcolor": "rgb(232,232,232)",
            "linecolor": "rgb(36,36,36)",
            "showgrid": false,
            "showline": true,
            "ticks": "outside"
           }
          },
          "title": {
           "x": 0.05
          },
          "xaxis": {
           "automargin": true,
           "gridcolor": "rgb(232,232,232)",
           "linecolor": "rgb(36,36,36)",
           "showgrid": false,
           "showline": true,
           "ticks": "outside",
           "title": {
            "standoff": 15
           },
           "zeroline": false,
           "zerolinecolor": "rgb(36,36,36)"
          },
          "yaxis": {
           "automargin": true,
           "gridcolor": "rgb(232,232,232)",
           "linecolor": "rgb(36,36,36)",
           "showgrid": false,
           "showline": true,
           "ticks": "outside",
           "title": {
            "standoff": 15
           },
           "zeroline": false,
           "zerolinecolor": "rgb(36,36,36)"
          }
         }
        },
        "title": {
         "text": "UHI Intensity vs Temperature in Cº"
        },
        "updatemenus": [
         {
          "active": 0,
          "buttons": [
           {
            "args": [
             {
              "visible": [
               true,
               true,
               true,
               true,
               true,
               true,
               false,
               false,
               false,
               false,
               false,
               false
              ]
             },
             {
              "annotations": [],
              "title": "UHI Intensity vs Temperature Cº in Urban area"
             }
            ],
            "label": "All",
            "method": "update"
           },
           {
            "args": [
             {
              "visible": [
               true,
               false,
               false,
               false,
               false,
               false,
               true,
               false,
               false,
               false,
               false,
               false
              ]
             },
             {
              "annotations": [],
              "title": "UHI Intensity vs Temperature Cº for Minimum Values in Urban area"
             }
            ],
            "label": "Min Urban",
            "method": "update"
           },
           {
            "args": [
             {
              "visible": [
               false,
               true,
               false,
               false,
               false,
               false,
               false,
               true,
               false,
               false,
               false,
               false
              ]
             },
             {
              "annotations": [],
              "title": "UHI Intensity vs Temperature Cº for Maximum Values in Urban area"
             }
            ],
            "label": "Max Urban",
            "method": "update"
           },
           {
            "args": [
             {
              "visible": [
               false,
               false,
               true,
               false,
               false,
               false,
               false,
               false,
               true,
               false,
               false,
               false
              ]
             },
             {
              "annotations": [],
              "title": "UHI Intensity vs Temperature Cº for Mean Values in Urban area"
             }
            ],
            "label": "Mean Urban",
            "method": "update"
           },
           {
            "args": [
             {
              "visible": [
               false,
               false,
               false,
               true,
               false,
               false,
               false,
               false,
               false,
               true,
               false,
               false
              ]
             },
             {
              "annotations": [],
              "title": "UHI Intensity vs Temperature Cº for Minimum Values in Rural area"
             }
            ],
            "label": "Min Rural",
            "method": "update"
           },
           {
            "args": [
             {
              "visible": [
               false,
               false,
               false,
               false,
               true,
               false,
               false,
               false,
               false,
               false,
               true,
               false
              ]
             },
             {
              "annotations": [],
              "title": "UHI Intensity vs Temperature Cº for Maximum Values in Rural area"
             }
            ],
            "label": "Max Rural",
            "method": "update"
           },
           {
            "args": [
             {
              "visible": [
               false,
               false,
               false,
               false,
               false,
               true,
               false,
               false,
               false,
               false,
               false,
               true
              ]
             },
             {
              "annotations": [],
              "title": "UHI Intensity vs Temperature Cº for Mean Values in Rural area"
             }
            ],
            "label": "Mean Rural",
            "method": "update"
           }
          ]
         }
        ],
        "xaxis": {
         "title": {
          "text": "Mean Temperature Cº"
         }
        },
        "yaxis": {
         "title": {
          "text": "UHI Intensity"
         }
        }
       }
      }
     },
     "metadata": {},
     "output_type": "display_data"
    }
   ],
   "source": [
    "\n",
    "fig = go.Figure()\n",
    "\n",
    "# Section for Urban vs UHI Intensity\n",
    "fig.add_trace(go.Scatter(y=df_min[\"Mean\"], x=urban_summer_df_min[\"Mean\"],\n",
    "                    mode='markers',\n",
    "                    name='Min Urban'))\n",
    "fig.add_trace(go.Scatter(y= df_max[\"Mean\"], x=urban_summer_df_max[\"Mean\"],\n",
    "                    mode='markers',\n",
    "                    name='Max Urban'))\n",
    "fig.add_trace(go.Scatter(y=df_mean[\"Mean\"], x=urban_summer_df_mean[\"Mean\"],\n",
    "                    mode='markers',\n",
    "                    name='Mean Urban'))\n",
    "\n",
    "# Section for Rural vs UHI Intensity\n",
    "fig.add_trace(go.Scatter(y=df_min[\"Mean\"], x=rural_summer_df_min[\"Mean\"],\n",
    "                    mode='markers',\n",
    "                    name='Min Rural'))\n",
    "fig.add_trace(go.Scatter(y= df_max[\"Mean\"], x=rural_summer_df_max[\"Mean\"],\n",
    "                    mode='markers',\n",
    "                    name='Max Rural'))\n",
    "fig.add_trace(go.Scatter(y=df_mean[\"Mean\"], x=rural_summer_df_mean[\"Mean\"],\n",
    "                    mode='markers',\n",
    "                    name='Mean Rural'))\n",
    "\n",
    "fig.add_trace(go.Line(x=x_min_urban, y=y_urban_min,\n",
    "                    mode='lines',\n",
    "                    name='Min Linear Regression Fit'))\n",
    "fig.add_trace(go.Line(x=x_max_urban, y=y_urban_max,\n",
    "                    mode='lines',\n",
    "                    name='Max Linear Regression Fit'))\n",
    "fig.add_trace(go.Line(x=x_mean_urban, y=y_urban_mean,\n",
    "                    mode='lines',\n",
    "                    name='Mean Linear Regression Fit'))\n",
    "\n",
    "fig.add_trace(go.Line(x=x_min_rural, y=y_rural_min,\n",
    "                    mode='lines',\n",
    "                    name='Min Linear Regression Fit'))\n",
    "fig.add_trace(go.Line(x=x_max_rural, y=y_rural_max,\n",
    "                    mode='lines',\n",
    "                    name='Max Linear Regression Fit'))\n",
    "fig.add_trace(go.Line(x=x_mean_rural, y=y_rural_mean,\n",
    "                    mode='lines',\n",
    "                    name='Mean Linear Regression Fit'))\n",
    "\n",
    "\n",
    "fig.update_layout(\n",
    "    updatemenus=[\n",
    "        dict(\n",
    "            active=0,\n",
    "            buttons=list([\n",
    "                dict(label=\"All\",\n",
    "                     method=\"update\",\n",
    "                     args=[{\"visible\": [True, True, True, True, True, True, False, False, False, False, False, False]},\n",
    "                           {\"title\": \"UHI Intensity vs Temperature Cº in Urban area\",\n",
    "                            \"annotations\": []}]),\n",
    "                dict(label=\"Min Urban\",\n",
    "                     method=\"update\",\n",
    "                     args=[{\"visible\": [True, False, False, False, False, False, True, False, False, False, False, False]},\n",
    "                           {\"title\": \"UHI Intensity vs Temperature Cº for Minimum Values in Urban area\",\n",
    "                            \"annotations\": []}]),\n",
    "                dict(label=\"Max Urban\",\n",
    "                     method=\"update\",\n",
    "                     args=[{\"visible\": [False, True, False, False, False, False, False, True, False, False, False, False]},\n",
    "                           {\"title\": \"UHI Intensity vs Temperature Cº for Maximum Values in Urban area\",\n",
    "                            \"annotations\": []}]),\n",
    "                dict(label=\"Mean Urban\",\n",
    "                     method=\"update\",\n",
    "                     args=[{\"visible\": [False, False, True, False, False, False, False, False, True, False, False, False]},\n",
    "                           {\"title\": \"UHI Intensity vs Temperature Cº for Mean Values in Urban area\",\n",
    "                            \"annotations\": []}]),\n",
    "                dict(label=\"Min Rural\",\n",
    "                     method=\"update\",\n",
    "                     args=[{\"visible\": [False, False, False, True, False, False, False, False, False, True, False, False]},\n",
    "                           {\"title\": \"UHI Intensity vs Temperature Cº for Minimum Values in Rural area\",\n",
    "                            \"annotations\": []}]),\n",
    "                dict(label=\"Max Rural\",\n",
    "                     method=\"update\",\n",
    "                     args=[{\"visible\": [False, False, False, False, True, False, False, False, False, False, True, False]},\n",
    "                           {\"title\": \"UHI Intensity vs Temperature Cº for Maximum Values in Rural area\",\n",
    "                            \"annotations\": []}]),\n",
    "                dict(label=\"Mean Rural\",\n",
    "                     method=\"update\",\n",
    "                     args=[{\"visible\": [False, False, False, False, False, True, False, False, False, False, False, True]},\n",
    "                           {\"title\": \"UHI Intensity vs Temperature Cº for Mean Values in Rural area\",\n",
    "                            \"annotations\": []}]),\n",
    "            ]),\n",
    "        )\n",
    "    ])\n",
    "\n",
    "fig.update_layout(title='UHI Intensity vs Temperature in Cº',\n",
    "                   yaxis_title='UHI Intensity',\n",
    "                   xaxis_title='Mean Temperature Cº',\n",
    "                   template=\"simple_white\")\n",
    "\n",
    "fig.show()"
   ]
  },
  {
   "cell_type": "code",
   "execution_count": 33,
   "metadata": {},
   "outputs": [],
   "source": [
    "fig.write_image(\"Rural_mean.pdf\")"
   ]
  },
  {
   "cell_type": "markdown",
   "metadata": {},
   "source": [
    "One of the questions researchers have been trying to figure out is whether the UHI intensity increases or decreases as the climate system warms up (i.e., in a warming climate). Your results in 1.4 and 1.5 probably give you different answers to this question. Which one do you think is correct or more correct? Discuss your results.\n",
    "\n",
    "* Discussion: \n",
    "\n"
   ]
  },
  {
   "cell_type": "markdown",
   "metadata": {},
   "source": [
    "## Part 3"
   ]
  },
  {
   "cell_type": "markdown",
   "metadata": {},
   "source": [
    "Identify and list the heat wave days in the period of 2000-2016. For simplicity, let’s define a day as a heat wave day if the daily mean temperature at BWI is higher than 30 oC. Define the other days in the summer season as non-heat wave days. Make sure when you add heat wave days and non-heat wave days, you get 1564 days in total.\n",
    "\n",
    "Calculate the urban heat island intensity using daily mean, maximum, and minimum temperatures averaged over all heat wave days.\n",
    "\n",
    "Calculate the urban heat island intensity using daily mean, maximum, and minimum temperatures averaged over all non-heat wave but summer days."
   ]
  },
  {
   "cell_type": "code",
   "execution_count": 169,
   "metadata": {},
   "outputs": [],
   "source": [
    "\n",
    "def UHI_intensity_heat_wave(df_urban, df_rural, name=str, heat_wave = bool):\n",
    "    rural_summer_df = pd.read_csv(df_rural)\n",
    "    rural_summer_df_reference = pd.read_csv(df_rural)\n",
    "    urban_summer_df = pd.read_csv(df_urban)\n",
    "\n",
    "    UHI_hw = pd.DataFrame()\n",
    "\n",
    "    if heat_wave == True: \n",
    "\n",
    "        # Rural\n",
    "        rural_summer_df.mask((rural_summer_df <= 30), inplace=True)\n",
    "\n",
    "        # Urban\n",
    "        urban_summer_df.mask((rural_summer_df_reference <= 30), inplace=True)\n",
    "\n",
    "    else: \n",
    "\n",
    "        rural_summer_df.mask((rural_summer_df >= 30), inplace=True)\n",
    "\n",
    "        # Urban\n",
    "        urban_summer_df.mask((rural_summer_df_reference >= 30), inplace=True)\n",
    "\n",
    "\n",
    "    rural_summer_df.columns.str.match('Unnamed')\n",
    "    urban_summer_df.columns.str.match('Unnamed')\n",
    "\n",
    "    rural_heat_wave = rural_summer_df.loc[:, ~rural_summer_df.columns.str.match('Unnamed')]\n",
    "    urban_heat_wave = urban_summer_df.loc[:, ~urban_summer_df.columns.str.match('Unnamed')]\n",
    "\n",
    "\n",
    "    rural_heat_wave['Mean'] = rural_heat_wave.apply(lambda x: x.mean(), axis=1)\n",
    "    urban_heat_wave['Mean'] = urban_heat_wave.apply(lambda x: x.mean(), axis=1)\n",
    "\n",
    "    UHI_heat_wave = np.array(urban_heat_wave.Mean) - np.array(rural_heat_wave.Mean)\n",
    "\n",
    "    UHI_hw[\"UHI Heat Wave\"] = UHI_heat_wave\n",
    "\n",
    "    rural_heat_wave.to_csv(\"Rural\" + name + \"_heat_wave.csv\")\n",
    "    urban_heat_wave.to_csv(\"Urban\" + name + \"_heat_wave.csv\")\n",
    "    UHI_hw.to_csv(\"UHI_\" + name + \"_heat_wave.csv\")"
   ]
  },
  {
   "cell_type": "code",
   "execution_count": null,
   "metadata": {},
   "outputs": [],
   "source": [
    "#! Urban df\n",
    "urban_summer_df_mean = \"Urban_summer Mean T.csv\"\n",
    "urban_summer_df_max = \"Urban_summer Maximum T.csv\"\n",
    "urban_summer_df_min = \"Urban_summer Minimum T.csv\"\n",
    "\n",
    "#! Rural df\n",
    "rural_summer_df_mean = \"Rural_summer Mean T.csv\"\n",
    "rural_summer_df_max = \"Rural_summer Maximum T.csv\"\n",
    "rural_summer_df_min = \"Rural_summer Minimum T.csv\"\n",
    "\n",
    "# For heat wave\n",
    "UHI_intensity_heat_wave(df_urban=urban_summer_df_mean, df_rural=rural_summer_df_mean, name=\"mean\", heat_wave = True)\n",
    "UHI_intensity_heat_wave(df_urban=urban_summer_df_min, df_rural=rural_summer_df_min, name=\"min\", heat_wave = True)\n",
    "UHI_intensity_heat_wave(df_urban=urban_summer_df_max, df_rural=rural_summer_df_max, name=\"max\", heat_wave = True)\n",
    "\n",
    "# For non heat wave\n",
    "UHI_intensity_heat_wave(df_urban=urban_summer_df_mean, df_rural=rural_summer_df_mean, name=\"mean_Non\", heat_wave = False)\n",
    "UHI_intensity_heat_wave(df_urban=urban_summer_df_min, df_rural=rural_summer_df_min, name=\"min_Non\", heat_wave = False)\n",
    "UHI_intensity_heat_wave(df_urban=urban_summer_df_max, df_rural=rural_summer_df_max, name=\"max_Non\", heat_wave = False)\n"
   ]
  },
  {
   "cell_type": "markdown",
   "metadata": {},
   "source": [
    "Compare the results in 1.8, 1.9 and 1.3. Discuss your findings in terms of whether the urban heat island intensity is enhanced during heat wave days or not."
   ]
  },
  {
   "cell_type": "code",
   "execution_count": 214,
   "metadata": {},
   "outputs": [
    {
     "name": "stdout",
     "output_type": "stream",
     "text": [
      "    Unnamed: 0  UHI Heat Wave      Mean\n",
      "0            0       1.666667  1.666667\n",
      "1            1       1.666667  1.666667\n",
      "2            2       2.222222  2.222222\n",
      "7            7       2.361111  2.361111\n",
      "8            8       2.222222  2.222222\n",
      "9            9       0.555556  0.555556\n",
      "13          13      -0.277778 -0.277778\n",
      "33          33       2.222222  2.222222\n",
      "34          34       2.222222  2.222222\n",
      "35          35       2.500000  2.500000\n",
      "36          36       2.777778  2.777778\n",
      "37          37       3.194444  3.194444\n",
      "38          38       1.111111  1.111111\n",
      "47          47       2.500000  2.500000\n",
      "48          48       2.777778  2.777778\n",
      "51          51       2.500000  2.500000\n",
      "52          52       2.500000  2.500000\n",
      "53          53       2.222222  2.222222\n",
      "54          54       1.805556  1.805556\n",
      "55          55       1.111111  1.111111\n",
      "59          59       2.222222  2.222222\n",
      "82          82       2.777778  2.777778\n",
      "85          85       1.944444  1.944444\n",
      "89          89       0.555556  0.555556\n",
      "90          90       1.666667  1.666667\n",
      "    Unnamed: 0  Mean T 2000  Mean T 2001  Mean T 2002  Mean T 2003  \\\n",
      "0            0          NaN          NaN          NaN          NaN   \n",
      "1            1          NaN          NaN          NaN          NaN   \n",
      "2            2          NaN          NaN          NaN          NaN   \n",
      "7            7          NaN    32.777778          NaN          NaN   \n",
      "8            8          NaN    32.777778          NaN          NaN   \n",
      "9            9          NaN    31.111111          NaN          NaN   \n",
      "13          13          NaN          NaN    31.111111          NaN   \n",
      "33          33          NaN          NaN    32.777778          NaN   \n",
      "34          34          NaN          NaN    33.333333          NaN   \n",
      "35          35          NaN          NaN          NaN          NaN   \n",
      "36          36          NaN          NaN          NaN          NaN   \n",
      "37          37          NaN          NaN          NaN          NaN   \n",
      "38          38          NaN          NaN          NaN          NaN   \n",
      "47          47          NaN          NaN          NaN          NaN   \n",
      "48          48          NaN          NaN          NaN          NaN   \n",
      "51          51          NaN          NaN          NaN          NaN   \n",
      "52          52          NaN          NaN          NaN          NaN   \n",
      "53          53          NaN          NaN          NaN          NaN   \n",
      "54          54          NaN          NaN          NaN          NaN   \n",
      "55          55          NaN          NaN          NaN          NaN   \n",
      "59          59          NaN          NaN          NaN          NaN   \n",
      "82          82          NaN          NaN          NaN          NaN   \n",
      "85          85          NaN          NaN          NaN          NaN   \n",
      "89          89          NaN          NaN          NaN          NaN   \n",
      "90          90          NaN          NaN          NaN          NaN   \n",
      "\n",
      "    Mean T 2004  Mean T 2005  Mean T 2006  Mean T 2007  Mean T 2008  \\\n",
      "0           NaN          NaN    33.333333          NaN          NaN   \n",
      "1           NaN          NaN    33.333333          NaN          NaN   \n",
      "2           NaN          NaN    33.888889          NaN          NaN   \n",
      "7           NaN          NaN          NaN    35.277778          NaN   \n",
      "8           NaN          NaN          NaN          NaN          NaN   \n",
      "9           NaN          NaN          NaN          NaN          NaN   \n",
      "13          NaN          NaN          NaN          NaN          NaN   \n",
      "33          NaN          NaN          NaN          NaN          NaN   \n",
      "34          NaN          NaN          NaN          NaN          NaN   \n",
      "35          NaN          NaN          NaN          NaN          NaN   \n",
      "36          NaN          NaN          NaN          NaN          NaN   \n",
      "37          NaN          NaN          NaN          NaN          NaN   \n",
      "38          NaN          NaN          NaN          NaN          NaN   \n",
      "47          NaN          NaN          NaN          NaN          NaN   \n",
      "48          NaN          NaN          NaN          NaN          NaN   \n",
      "51          NaN          NaN          NaN          NaN          NaN   \n",
      "52          NaN          NaN          NaN          NaN          NaN   \n",
      "53          NaN          NaN          NaN          NaN          NaN   \n",
      "54          NaN          NaN          NaN          NaN          NaN   \n",
      "55          NaN          NaN          NaN          NaN          NaN   \n",
      "59          NaN          NaN          NaN          NaN          NaN   \n",
      "82          NaN          NaN          NaN          NaN          NaN   \n",
      "85          NaN          NaN          NaN          NaN          NaN   \n",
      "89          NaN          NaN          NaN          NaN          NaN   \n",
      "90          NaN          NaN          NaN          NaN          NaN   \n",
      "\n",
      "    Mean T 2009  Mean T 2010  Mean T 2011  Mean T 2012  Mean T 2013  \\\n",
      "0           NaN          NaN          NaN          NaN          NaN   \n",
      "1           NaN          NaN          NaN          NaN          NaN   \n",
      "2           NaN          NaN          NaN          NaN          NaN   \n",
      "7           NaN          NaN          NaN          NaN          NaN   \n",
      "8           NaN          NaN          NaN          NaN          NaN   \n",
      "9           NaN          NaN          NaN          NaN          NaN   \n",
      "13          NaN          NaN          NaN          NaN          NaN   \n",
      "33          NaN          NaN          NaN          NaN          NaN   \n",
      "34          NaN          NaN          NaN          NaN          NaN   \n",
      "35          NaN          NaN          NaN    33.888889          NaN   \n",
      "36          NaN    34.444444          NaN    33.888889          NaN   \n",
      "37          NaN    34.166667          NaN    35.555556          NaN   \n",
      "38          NaN          NaN          NaN    33.888889          NaN   \n",
      "47          NaN          NaN          NaN    33.055556          NaN   \n",
      "48          NaN          NaN          NaN    35.000000          NaN   \n",
      "51          NaN          NaN    33.888889          NaN          NaN   \n",
      "52          NaN          NaN    36.666667          NaN          NaN   \n",
      "53          NaN          NaN    34.722222          NaN          NaN   \n",
      "54          NaN    33.888889    33.888889          NaN          NaN   \n",
      "55          NaN    31.388889          NaN          NaN          NaN   \n",
      "59          NaN          NaN    33.888889          NaN          NaN   \n",
      "82          NaN          NaN          NaN    33.611111          NaN   \n",
      "85          NaN    33.055556          NaN          NaN          NaN   \n",
      "89          NaN    31.111111          NaN          NaN          NaN   \n",
      "90          NaN          NaN          NaN    32.222222          NaN   \n",
      "\n",
      "    Mean T 2014  Mean T 2015  Mean T 2016       Mean  \n",
      "0           NaN          NaN          NaN  33.333333  \n",
      "1           NaN          NaN          NaN  33.333333  \n",
      "2           NaN          NaN          NaN  33.888889  \n",
      "7           NaN          NaN          NaN  34.027778  \n",
      "8           NaN          NaN          NaN  32.777778  \n",
      "9           NaN          NaN          NaN  31.111111  \n",
      "13          NaN          NaN    30.555556  30.833333  \n",
      "33          NaN          NaN          NaN  32.777778  \n",
      "34          NaN          NaN          NaN  33.333333  \n",
      "35          NaN          NaN          NaN  33.888889  \n",
      "36          NaN          NaN          NaN  34.166667  \n",
      "37          NaN          NaN          NaN  34.861111  \n",
      "38          NaN          NaN          NaN  33.888889  \n",
      "47          NaN          NaN          NaN  33.055556  \n",
      "48          NaN          NaN          NaN  35.000000  \n",
      "51          NaN          NaN          NaN  33.888889  \n",
      "52          NaN          NaN          NaN  36.666667  \n",
      "53          NaN          NaN    32.500000  33.611111  \n",
      "54          NaN          NaN          NaN  33.888889  \n",
      "55          NaN          NaN    32.222222  31.805556  \n",
      "59          NaN          NaN          NaN  33.888889  \n",
      "82          NaN          NaN          NaN  33.611111  \n",
      "85          NaN          NaN          NaN  33.055556  \n",
      "89          NaN          NaN          NaN  31.111111  \n",
      "90          NaN          NaN          NaN  32.222222  \n"
     ]
    },
    {
     "name": "stderr",
     "output_type": "stream",
     "text": [
      "/usr/local/lib/python3.10/site-packages/plotly/graph_objs/_deprecations.py:378: DeprecationWarning:\n",
      "\n",
      "plotly.graph_objs.Line is deprecated.\n",
      "Please replace it with one of the following more specific types\n",
      "  - plotly.graph_objs.scatter.Line\n",
      "  - plotly.graph_objs.layout.shape.Line\n",
      "  - etc.\n",
      "\n",
      "\n"
     ]
    },
    {
     "data": {
      "application/vnd.plotly.v1+json": {
       "config": {
        "plotlyServerURL": "https://plotly.com"
       },
       "data": [
        {
         "mode": "markers",
         "name": "Min Urban",
         "type": "scatter",
         "x": [
          33.333333333333336,
          33.333333333333336,
          33.888888888888886,
          34.02777777777778,
          32.77777777777778,
          31.11111111111111,
          30.833333333333336,
          32.77777777777778,
          33.333333333333336,
          33.888888888888886,
          34.166666666666664,
          34.861111111111114,
          33.888888888888886,
          33.05555555555556,
          35,
          33.888888888888886,
          36.66666666666666,
          33.611111111111114,
          33.888888888888886,
          31.80555555555556,
          33.888888888888886,
          33.611111111111114,
          33.05555555555556,
          31.11111111111111,
          32.22222222222222
         ],
         "y": [
          1.666666666666668,
          1.666666666666668,
          2.222222222222218,
          2.361111111111107,
          2.222222222222218,
          0.55555555555555,
          -0.2777777777777785,
          2.222222222222218,
          2.222222222222225,
          2.4999999999999964,
          2.7777777777777715,
          3.19444444444445,
          1.1111111111111072,
          2.4999999999999964,
          2.7777777777777786,
          2.4999999999999964,
          2.499999999999993,
          2.222222222222221,
          1.80555555555555,
          1.1111111111111145,
          2.222222222222218,
          2.7777777777777857,
          1.9444444444444464,
          0.55555555555555,
          1.6666666666666607
         ]
        },
        {
         "mode": "lines",
         "name": "Min Linear Regression Fit",
         "type": "scatter",
         "x": [
          30.833333333333336,
          30.892255892255893,
          30.951178451178453,
          31.01010101010101,
          31.06902356902357,
          31.127946127946128,
          31.18686868686869,
          31.245791245791246,
          31.304713804713806,
          31.363636363636363,
          31.422558922558924,
          31.48148148148148,
          31.54040404040404,
          31.5993265993266,
          31.65824915824916,
          31.717171717171716,
          31.776094276094277,
          31.835016835016834,
          31.893939393939394,
          31.95286195286195,
          32.01178451178451,
          32.07070707070707,
          32.129629629629626,
          32.18855218855219,
          32.24747474747475,
          32.30639730639731,
          32.36531986531986,
          32.42424242424242,
          32.48316498316498,
          32.54208754208754,
          32.6010101010101,
          32.65993265993266,
          32.71885521885522,
          32.77777777777778,
          32.83670033670033,
          32.89562289562289,
          32.95454545454545,
          33.013468013468014,
          33.07239057239057,
          33.13131313131313,
          33.19023569023569,
          33.24915824915825,
          33.3080808080808,
          33.36700336700336,
          33.425925925925924,
          33.484848484848484,
          33.54377104377104,
          33.6026936026936,
          33.66161616161616,
          33.72053872053872,
          33.77946127946127,
          33.838383838383834,
          33.897306397306394,
          33.956228956228955,
          34.01515151515151,
          34.07407407407407,
          34.13299663299663,
          34.19191919191919,
          34.250841750841744,
          34.309764309764304,
          34.368686868686865,
          34.427609427609426,
          34.48653198653198,
          34.54545454545454,
          34.6043771043771,
          34.66329966329966,
          34.722222222222214,
          34.781144781144775,
          34.840067340067336,
          34.898989898989896,
          34.95791245791245,
          35.01683501683501,
          35.07575757575757,
          35.134680134680124,
          35.193602693602685,
          35.252525252525245,
          35.311447811447806,
          35.37037037037037,
          35.42929292929292,
          35.48821548821548,
          35.54713804713804,
          35.606060606060595,
          35.664983164983155,
          35.723905723905716,
          35.78282828282828,
          35.84175084175084,
          35.90067340067339,
          35.95959595959595,
          36.01851851851851,
          36.077441077441065,
          36.136363636363626,
          36.19528619528619,
          36.25420875420875,
          36.31313131313131,
          36.37205387205386,
          36.43097643097642,
          36.48989898989898,
          36.548821548821536,
          36.6077441077441,
          36.66666666666666
         ],
         "y": [
          0.7138619984941368,
          0.7429354043826422,
          0.7720088102711511,
          0.8010822161596582,
          0.8301556220481654,
          0.8592290279366726,
          0.8883024338251815,
          0.9173758397136886,
          0.9464492456021958,
          0.9755226514907029,
          1.0045960573792119,
          1.0336694632677172,
          1.0627428691562262,
          1.0918162750447333,
          1.1208896809332423,
          1.1499630868217476,
          1.1790364927102566,
          1.2081098985987637,
          1.2371833044872727,
          1.266256710375778,
          1.295330116264287,
          1.3244035221527959,
          1.3534769280412995,
          1.3825503339298084,
          1.4116237398183173,
          1.4406971457068263,
          1.4697705515953299,
          1.4988439574838388,
          1.527917363372346,
          1.5569907692608567,
          1.5860641751493603,
          1.6151375810378674,
          1.6442109869263781,
          1.6732843928148853,
          1.7023577987033924,
          1.7314312045918996,
          1.7605046104804067,
          1.7895780163689174,
          1.818651422257421,
          1.8477248281459282,
          1.876798234034439,
          1.905871639922946,
          1.9349450458114497,
          1.9640184516999604,
          1.9930918575884675,
          2.0221652634769747,
          2.051238669365482,
          2.080312075253989,
          2.1093854811424997,
          2.138458887031007,
          2.1675322929195104,
          2.196605698808021,
          2.2256791046965283,
          2.2547525105850355,
          2.2838259164735426,
          2.3128993223620498,
          2.341972728250557,
          2.3710461341390676,
          2.400119540027571,
          2.4291929459160784,
          2.458266351804589,
          2.4873397576930962,
          2.5164131635816034,
          2.5454865694701105,
          2.5745599753586177,
          2.6036333812471284,
          2.632706787135632,
          2.661780193024139,
          2.69085359891265,
          2.719927004801157,
          2.7490004106896606,
          2.7780738165781713,
          2.8071472224666785,
          2.8362206283551856,
          2.8652940342436928,
          2.8943674401322,
          2.9234408460207106,
          2.952514251909218,
          2.9815876577977214,
          3.010661063686232,
          3.0397344695747393,
          3.068807875463243,
          3.0978812813517536,
          3.1269546872402607,
          3.156028093128768,
          3.1851014990172786,
          3.214174904905782,
          3.243248310794293,
          3.2723217166828,
          3.3013951225713036,
          3.3304685284598143,
          3.3595419343483215,
          3.3886153402368286,
          3.4176887461253393,
          3.446762152013843,
          3.47583555790235,
          3.504908963790861,
          3.5339823696793644,
          3.5630557755678716,
          3.5921291814563823
         ]
        }
       ],
       "layout": {
        "template": {
         "data": {
          "bar": [
           {
            "error_x": {
             "color": "rgb(36,36,36)"
            },
            "error_y": {
             "color": "rgb(36,36,36)"
            },
            "marker": {
             "line": {
              "color": "white",
              "width": 0.5
             },
             "pattern": {
              "fillmode": "overlay",
              "size": 10,
              "solidity": 0.2
             }
            },
            "type": "bar"
           }
          ],
          "barpolar": [
           {
            "marker": {
             "line": {
              "color": "white",
              "width": 0.5
             },
             "pattern": {
              "fillmode": "overlay",
              "size": 10,
              "solidity": 0.2
             }
            },
            "type": "barpolar"
           }
          ],
          "carpet": [
           {
            "aaxis": {
             "endlinecolor": "rgb(36,36,36)",
             "gridcolor": "white",
             "linecolor": "white",
             "minorgridcolor": "white",
             "startlinecolor": "rgb(36,36,36)"
            },
            "baxis": {
             "endlinecolor": "rgb(36,36,36)",
             "gridcolor": "white",
             "linecolor": "white",
             "minorgridcolor": "white",
             "startlinecolor": "rgb(36,36,36)"
            },
            "type": "carpet"
           }
          ],
          "choropleth": [
           {
            "colorbar": {
             "outlinewidth": 1,
             "tickcolor": "rgb(36,36,36)",
             "ticks": "outside"
            },
            "type": "choropleth"
           }
          ],
          "contour": [
           {
            "colorbar": {
             "outlinewidth": 1,
             "tickcolor": "rgb(36,36,36)",
             "ticks": "outside"
            },
            "colorscale": [
             [
              0,
              "#440154"
             ],
             [
              0.1111111111111111,
              "#482878"
             ],
             [
              0.2222222222222222,
              "#3e4989"
             ],
             [
              0.3333333333333333,
              "#31688e"
             ],
             [
              0.4444444444444444,
              "#26828e"
             ],
             [
              0.5555555555555556,
              "#1f9e89"
             ],
             [
              0.6666666666666666,
              "#35b779"
             ],
             [
              0.7777777777777778,
              "#6ece58"
             ],
             [
              0.8888888888888888,
              "#b5de2b"
             ],
             [
              1,
              "#fde725"
             ]
            ],
            "type": "contour"
           }
          ],
          "contourcarpet": [
           {
            "colorbar": {
             "outlinewidth": 1,
             "tickcolor": "rgb(36,36,36)",
             "ticks": "outside"
            },
            "type": "contourcarpet"
           }
          ],
          "heatmap": [
           {
            "colorbar": {
             "outlinewidth": 1,
             "tickcolor": "rgb(36,36,36)",
             "ticks": "outside"
            },
            "colorscale": [
             [
              0,
              "#440154"
             ],
             [
              0.1111111111111111,
              "#482878"
             ],
             [
              0.2222222222222222,
              "#3e4989"
             ],
             [
              0.3333333333333333,
              "#31688e"
             ],
             [
              0.4444444444444444,
              "#26828e"
             ],
             [
              0.5555555555555556,
              "#1f9e89"
             ],
             [
              0.6666666666666666,
              "#35b779"
             ],
             [
              0.7777777777777778,
              "#6ece58"
             ],
             [
              0.8888888888888888,
              "#b5de2b"
             ],
             [
              1,
              "#fde725"
             ]
            ],
            "type": "heatmap"
           }
          ],
          "heatmapgl": [
           {
            "colorbar": {
             "outlinewidth": 1,
             "tickcolor": "rgb(36,36,36)",
             "ticks": "outside"
            },
            "colorscale": [
             [
              0,
              "#440154"
             ],
             [
              0.1111111111111111,
              "#482878"
             ],
             [
              0.2222222222222222,
              "#3e4989"
             ],
             [
              0.3333333333333333,
              "#31688e"
             ],
             [
              0.4444444444444444,
              "#26828e"
             ],
             [
              0.5555555555555556,
              "#1f9e89"
             ],
             [
              0.6666666666666666,
              "#35b779"
             ],
             [
              0.7777777777777778,
              "#6ece58"
             ],
             [
              0.8888888888888888,
              "#b5de2b"
             ],
             [
              1,
              "#fde725"
             ]
            ],
            "type": "heatmapgl"
           }
          ],
          "histogram": [
           {
            "marker": {
             "line": {
              "color": "white",
              "width": 0.6
             }
            },
            "type": "histogram"
           }
          ],
          "histogram2d": [
           {
            "colorbar": {
             "outlinewidth": 1,
             "tickcolor": "rgb(36,36,36)",
             "ticks": "outside"
            },
            "colorscale": [
             [
              0,
              "#440154"
             ],
             [
              0.1111111111111111,
              "#482878"
             ],
             [
              0.2222222222222222,
              "#3e4989"
             ],
             [
              0.3333333333333333,
              "#31688e"
             ],
             [
              0.4444444444444444,
              "#26828e"
             ],
             [
              0.5555555555555556,
              "#1f9e89"
             ],
             [
              0.6666666666666666,
              "#35b779"
             ],
             [
              0.7777777777777778,
              "#6ece58"
             ],
             [
              0.8888888888888888,
              "#b5de2b"
             ],
             [
              1,
              "#fde725"
             ]
            ],
            "type": "histogram2d"
           }
          ],
          "histogram2dcontour": [
           {
            "colorbar": {
             "outlinewidth": 1,
             "tickcolor": "rgb(36,36,36)",
             "ticks": "outside"
            },
            "colorscale": [
             [
              0,
              "#440154"
             ],
             [
              0.1111111111111111,
              "#482878"
             ],
             [
              0.2222222222222222,
              "#3e4989"
             ],
             [
              0.3333333333333333,
              "#31688e"
             ],
             [
              0.4444444444444444,
              "#26828e"
             ],
             [
              0.5555555555555556,
              "#1f9e89"
             ],
             [
              0.6666666666666666,
              "#35b779"
             ],
             [
              0.7777777777777778,
              "#6ece58"
             ],
             [
              0.8888888888888888,
              "#b5de2b"
             ],
             [
              1,
              "#fde725"
             ]
            ],
            "type": "histogram2dcontour"
           }
          ],
          "mesh3d": [
           {
            "colorbar": {
             "outlinewidth": 1,
             "tickcolor": "rgb(36,36,36)",
             "ticks": "outside"
            },
            "type": "mesh3d"
           }
          ],
          "parcoords": [
           {
            "line": {
             "colorbar": {
              "outlinewidth": 1,
              "tickcolor": "rgb(36,36,36)",
              "ticks": "outside"
             }
            },
            "type": "parcoords"
           }
          ],
          "pie": [
           {
            "automargin": true,
            "type": "pie"
           }
          ],
          "scatter": [
           {
            "fillpattern": {
             "fillmode": "overlay",
             "size": 10,
             "solidity": 0.2
            },
            "type": "scatter"
           }
          ],
          "scatter3d": [
           {
            "line": {
             "colorbar": {
              "outlinewidth": 1,
              "tickcolor": "rgb(36,36,36)",
              "ticks": "outside"
             }
            },
            "marker": {
             "colorbar": {
              "outlinewidth": 1,
              "tickcolor": "rgb(36,36,36)",
              "ticks": "outside"
             }
            },
            "type": "scatter3d"
           }
          ],
          "scattercarpet": [
           {
            "marker": {
             "colorbar": {
              "outlinewidth": 1,
              "tickcolor": "rgb(36,36,36)",
              "ticks": "outside"
             }
            },
            "type": "scattercarpet"
           }
          ],
          "scattergeo": [
           {
            "marker": {
             "colorbar": {
              "outlinewidth": 1,
              "tickcolor": "rgb(36,36,36)",
              "ticks": "outside"
             }
            },
            "type": "scattergeo"
           }
          ],
          "scattergl": [
           {
            "marker": {
             "colorbar": {
              "outlinewidth": 1,
              "tickcolor": "rgb(36,36,36)",
              "ticks": "outside"
             }
            },
            "type": "scattergl"
           }
          ],
          "scattermapbox": [
           {
            "marker": {
             "colorbar": {
              "outlinewidth": 1,
              "tickcolor": "rgb(36,36,36)",
              "ticks": "outside"
             }
            },
            "type": "scattermapbox"
           }
          ],
          "scatterpolar": [
           {
            "marker": {
             "colorbar": {
              "outlinewidth": 1,
              "tickcolor": "rgb(36,36,36)",
              "ticks": "outside"
             }
            },
            "type": "scatterpolar"
           }
          ],
          "scatterpolargl": [
           {
            "marker": {
             "colorbar": {
              "outlinewidth": 1,
              "tickcolor": "rgb(36,36,36)",
              "ticks": "outside"
             }
            },
            "type": "scatterpolargl"
           }
          ],
          "scatterternary": [
           {
            "marker": {
             "colorbar": {
              "outlinewidth": 1,
              "tickcolor": "rgb(36,36,36)",
              "ticks": "outside"
             }
            },
            "type": "scatterternary"
           }
          ],
          "surface": [
           {
            "colorbar": {
             "outlinewidth": 1,
             "tickcolor": "rgb(36,36,36)",
             "ticks": "outside"
            },
            "colorscale": [
             [
              0,
              "#440154"
             ],
             [
              0.1111111111111111,
              "#482878"
             ],
             [
              0.2222222222222222,
              "#3e4989"
             ],
             [
              0.3333333333333333,
              "#31688e"
             ],
             [
              0.4444444444444444,
              "#26828e"
             ],
             [
              0.5555555555555556,
              "#1f9e89"
             ],
             [
              0.6666666666666666,
              "#35b779"
             ],
             [
              0.7777777777777778,
              "#6ece58"
             ],
             [
              0.8888888888888888,
              "#b5de2b"
             ],
             [
              1,
              "#fde725"
             ]
            ],
            "type": "surface"
           }
          ],
          "table": [
           {
            "cells": {
             "fill": {
              "color": "rgb(237,237,237)"
             },
             "line": {
              "color": "white"
             }
            },
            "header": {
             "fill": {
              "color": "rgb(217,217,217)"
             },
             "line": {
              "color": "white"
             }
            },
            "type": "table"
           }
          ]
         },
         "layout": {
          "annotationdefaults": {
           "arrowhead": 0,
           "arrowwidth": 1
          },
          "autotypenumbers": "strict",
          "coloraxis": {
           "colorbar": {
            "outlinewidth": 1,
            "tickcolor": "rgb(36,36,36)",
            "ticks": "outside"
           }
          },
          "colorscale": {
           "diverging": [
            [
             0,
             "rgb(103,0,31)"
            ],
            [
             0.1,
             "rgb(178,24,43)"
            ],
            [
             0.2,
             "rgb(214,96,77)"
            ],
            [
             0.3,
             "rgb(244,165,130)"
            ],
            [
             0.4,
             "rgb(253,219,199)"
            ],
            [
             0.5,
             "rgb(247,247,247)"
            ],
            [
             0.6,
             "rgb(209,229,240)"
            ],
            [
             0.7,
             "rgb(146,197,222)"
            ],
            [
             0.8,
             "rgb(67,147,195)"
            ],
            [
             0.9,
             "rgb(33,102,172)"
            ],
            [
             1,
             "rgb(5,48,97)"
            ]
           ],
           "sequential": [
            [
             0,
             "#440154"
            ],
            [
             0.1111111111111111,
             "#482878"
            ],
            [
             0.2222222222222222,
             "#3e4989"
            ],
            [
             0.3333333333333333,
             "#31688e"
            ],
            [
             0.4444444444444444,
             "#26828e"
            ],
            [
             0.5555555555555556,
             "#1f9e89"
            ],
            [
             0.6666666666666666,
             "#35b779"
            ],
            [
             0.7777777777777778,
             "#6ece58"
            ],
            [
             0.8888888888888888,
             "#b5de2b"
            ],
            [
             1,
             "#fde725"
            ]
           ],
           "sequentialminus": [
            [
             0,
             "#440154"
            ],
            [
             0.1111111111111111,
             "#482878"
            ],
            [
             0.2222222222222222,
             "#3e4989"
            ],
            [
             0.3333333333333333,
             "#31688e"
            ],
            [
             0.4444444444444444,
             "#26828e"
            ],
            [
             0.5555555555555556,
             "#1f9e89"
            ],
            [
             0.6666666666666666,
             "#35b779"
            ],
            [
             0.7777777777777778,
             "#6ece58"
            ],
            [
             0.8888888888888888,
             "#b5de2b"
            ],
            [
             1,
             "#fde725"
            ]
           ]
          },
          "colorway": [
           "#1F77B4",
           "#FF7F0E",
           "#2CA02C",
           "#D62728",
           "#9467BD",
           "#8C564B",
           "#E377C2",
           "#7F7F7F",
           "#BCBD22",
           "#17BECF"
          ],
          "font": {
           "color": "rgb(36,36,36)"
          },
          "geo": {
           "bgcolor": "white",
           "lakecolor": "white",
           "landcolor": "white",
           "showlakes": true,
           "showland": true,
           "subunitcolor": "white"
          },
          "hoverlabel": {
           "align": "left"
          },
          "hovermode": "closest",
          "mapbox": {
           "style": "light"
          },
          "paper_bgcolor": "white",
          "plot_bgcolor": "white",
          "polar": {
           "angularaxis": {
            "gridcolor": "rgb(232,232,232)",
            "linecolor": "rgb(36,36,36)",
            "showgrid": false,
            "showline": true,
            "ticks": "outside"
           },
           "bgcolor": "white",
           "radialaxis": {
            "gridcolor": "rgb(232,232,232)",
            "linecolor": "rgb(36,36,36)",
            "showgrid": false,
            "showline": true,
            "ticks": "outside"
           }
          },
          "scene": {
           "xaxis": {
            "backgroundcolor": "white",
            "gridcolor": "rgb(232,232,232)",
            "gridwidth": 2,
            "linecolor": "rgb(36,36,36)",
            "showbackground": true,
            "showgrid": false,
            "showline": true,
            "ticks": "outside",
            "zeroline": false,
            "zerolinecolor": "rgb(36,36,36)"
           },
           "yaxis": {
            "backgroundcolor": "white",
            "gridcolor": "rgb(232,232,232)",
            "gridwidth": 2,
            "linecolor": "rgb(36,36,36)",
            "showbackground": true,
            "showgrid": false,
            "showline": true,
            "ticks": "outside",
            "zeroline": false,
            "zerolinecolor": "rgb(36,36,36)"
           },
           "zaxis": {
            "backgroundcolor": "white",
            "gridcolor": "rgb(232,232,232)",
            "gridwidth": 2,
            "linecolor": "rgb(36,36,36)",
            "showbackground": true,
            "showgrid": false,
            "showline": true,
            "ticks": "outside",
            "zeroline": false,
            "zerolinecolor": "rgb(36,36,36)"
           }
          },
          "shapedefaults": {
           "fillcolor": "black",
           "line": {
            "width": 0
           },
           "opacity": 0.3
          },
          "ternary": {
           "aaxis": {
            "gridcolor": "rgb(232,232,232)",
            "linecolor": "rgb(36,36,36)",
            "showgrid": false,
            "showline": true,
            "ticks": "outside"
           },
           "baxis": {
            "gridcolor": "rgb(232,232,232)",
            "linecolor": "rgb(36,36,36)",
            "showgrid": false,
            "showline": true,
            "ticks": "outside"
           },
           "bgcolor": "white",
           "caxis": {
            "gridcolor": "rgb(232,232,232)",
            "linecolor": "rgb(36,36,36)",
            "showgrid": false,
            "showline": true,
            "ticks": "outside"
           }
          },
          "title": {
           "x": 0.05
          },
          "xaxis": {
           "automargin": true,
           "gridcolor": "rgb(232,232,232)",
           "linecolor": "rgb(36,36,36)",
           "showgrid": false,
           "showline": true,
           "ticks": "outside",
           "title": {
            "standoff": 15
           },
           "zeroline": false,
           "zerolinecolor": "rgb(36,36,36)"
          },
          "yaxis": {
           "automargin": true,
           "gridcolor": "rgb(232,232,232)",
           "linecolor": "rgb(36,36,36)",
           "showgrid": false,
           "showline": true,
           "ticks": "outside",
           "title": {
            "standoff": 15
           },
           "zeroline": false,
           "zerolinecolor": "rgb(36,36,36)"
          }
         }
        },
        "title": {
         "text": "UHI Intensity During Heat Waves vs Temperature in Cº"
        },
        "xaxis": {
         "title": {
          "text": "Mean Temperature Cº"
         }
        },
        "yaxis": {
         "title": {
          "text": "UHI Intensity"
         }
        }
       }
      }
     },
     "metadata": {},
     "output_type": "display_data"
    }
   ],
   "source": [
    "df_min = pd.read_csv(\"UHI_mean_heat_wave.csv\")\n",
    "df_min['Mean'] = df_min['UHI Heat Wave']\n",
    "df_min = df_min.dropna()\n",
    "print(df_min)\n",
    "urban_summer_df_min = pd.read_csv(\"Urbanmean_heat_wave.csv\")\n",
    "urban_summer_df_min = urban_summer_df_min.dropna(subset=['Mean'])\n",
    "print(urban_summer_df_min)\n",
    "\n",
    "fig = go.Figure()\n",
    "\n",
    "# Section for Urban vs UHI Intensity\n",
    "fig.add_trace(go.Scatter(y=df_min['UHI Heat Wave'], x=urban_summer_df_min[\"Mean\"],\n",
    "                    mode='markers',\n",
    "                    name='Min Urban'))\n",
    "\n",
    "x_min_urban, y_urban_min = linear_fit_relation(df_min, urban_summer_df_min)\n",
    "\n",
    "fig.add_trace(go.Line(x=x_min_urban, y=y_urban_min,\n",
    "                    mode='lines',\n",
    "                    name='Min Linear Regression Fit'))\n",
    "\n",
    "fig.update_layout(title='UHI Intensity During Heat Waves vs Temperature in Cº',\n",
    "                   yaxis_title='UHI Intensity',\n",
    "                   xaxis_title='Mean Temperature Cº',\n",
    "                   template=\"simple_white\")\n",
    "\n",
    "fig.show()"
   ]
  }
 ],
 "metadata": {
  "kernelspec": {
   "display_name": "Python 3",
   "language": "python",
   "name": "python3"
  },
  "language_info": {
   "codemirror_mode": {
    "name": "ipython",
    "version": 3
   },
   "file_extension": ".py",
   "mimetype": "text/x-python",
   "name": "python",
   "nbconvert_exporter": "python",
   "pygments_lexer": "ipython3",
   "version": "3.10.12"
  }
 },
 "nbformat": 4,
 "nbformat_minor": 2
}
