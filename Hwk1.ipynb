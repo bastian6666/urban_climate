{
 "cells": [
  {
   "cell_type": "markdown",
   "metadata": {},
   "source": [
    "# Urban Climate Homework 1"
   ]
  },
  {
   "cell_type": "code",
   "execution_count": 1,
   "metadata": {},
   "outputs": [],
   "source": [
    "import pandas as pd\n",
    "import plotly.graph_objects as go\n",
    "import calendar\n",
    "import numpy as np"
   ]
  },
  {
   "cell_type": "markdown",
   "metadata": {},
   "source": [
    "## Cleaning data"
   ]
  },
  {
   "cell_type": "code",
   "execution_count": 2,
   "metadata": {},
   "outputs": [],
   "source": [
    "class data_explore: \n",
    "\n",
    "    \"\"\"\n",
    "    A class for exploring and cleaning data.\n",
    "\n",
    "    Attributes:\n",
    "        df (DataFrame): The input data frame.\n",
    "        name (str): The name of the file.\n",
    "\n",
    "    Methods:\n",
    "        data_cleaning(): Cleans the data by dropping rows with -9999 values and saves the cleaned data to a CSV file.\n",
    "    \"\"\"\n",
    "\n",
    "    def __init__(self, df, file_name) -> None:\n",
    "\n",
    "        self.df = df\n",
    "        self.name = file_name\n",
    "\n",
    "        \"\"\"\n",
    "        Initializes the data_explore object.\n",
    "\n",
    "        Args:\n",
    "            df (DataFrame): The input data frame.\n",
    "            file_name (str): The name of the file.\n",
    "        \"\"\"\n",
    "\n",
    "    def data_celaning(self):\n",
    "\n",
    "        \"\"\"\n",
    "        Cleans the data by changing rows with -9999 values to NaN values and saves the cleaned data to a CSV file.\n",
    "        \"\"\"\n",
    "\n",
    "        df_columns = [\"year\", \"month\", \"day\", \"Mean T\", \"Maximum T\", \"Minimum T\"]\n",
    "\n",
    "        self.df.columns = df_columns\n",
    "\n",
    "        # print((self.df == -9999).any())\n",
    "\n",
    "        for col in df_columns:\n",
    "            # print(\"Column name = \", col)\n",
    "\n",
    "            index_v = self.df[self.df[col] == -9999].index.tolist()\n",
    "\n",
    "            df_clean = self.df.drop(self.df[self.df[col] == -9999].index)\n",
    "            df_clean_nan = self.df.replace(-9999,np.NaN)\n",
    "            \n",
    "\n",
    "        # print((df_clean == -9999).any())\n",
    "\n",
    "        df_clean.to_csv(self.name + \"_Clean.csv\")\n",
    "        df_clean_nan.to_csv(self.name + \"NaN_Clean.csv\")\n",
    "\n",
    "        return index_v, df_clean\n",
    "\n",
    "\n",
    "\n"
   ]
  },
  {
   "cell_type": "markdown",
   "metadata": {},
   "source": [
    "#### Small index correction"
   ]
  },
  {
   "cell_type": "code",
   "execution_count": 3,
   "metadata": {},
   "outputs": [],
   "source": [
    "\n",
    "df_urban = pd.read_csv(\"save_DMH2.csv\")\n",
    "df_rural = pd.read_csv(\"save_BWI2.csv\")\n",
    "\n",
    "index_values_rural, clean_rural_df = data_explore(df_rural, \"rural\").data_celaning()\n",
    "index_values_urban, clean_urban_df= data_explore(df_urban, \"urban\").data_celaning()\n",
    "\n",
    "# Since we only eliminate values from the Urban DataFrame, we need to eliminate that rows in the rural data.\n",
    "\n",
    "df_clean = clean_rural_df.drop(index_values_urban)\n",
    "\n",
    "df_clean.to_csv(\"rural_Clean.csv\")\n"
   ]
  },
  {
   "cell_type": "markdown",
   "metadata": {},
   "source": [
    "## Part 2"
   ]
  },
  {
   "cell_type": "markdown",
   "metadata": {},
   "source": [
    "### UHI Intensity DataFrame"
   ]
  },
  {
   "cell_type": "markdown",
   "metadata": {},
   "source": [
    "\n",
    "* Calculate the urban heat island intensity using daily mean, maximum, and minimum temperatures for each day and then average them to each month (no figure or value is needed). Then average the monthly results from 2000 to 2016. For example, you should average all the January results from 2000 to 2016 to obtain an averaged January urban heat island effect. Plot the averaged urban heat islands as a function of month (you can think of this as the averaged seasonal cycle of urban heat island). Use different colors or markers for daily mean, maximum, and minimum temperatures but plot them on the same figure.\n"
   ]
  },
  {
   "cell_type": "markdown",
   "metadata": {},
   "source": [
    "In order to calculate Urban Heat Island Intensity we can use: \n",
    "\n",
    "$$ UHI_{\\text{Intensity}} = \\Delta T = T_{urban} - T_{rural}$$"
   ]
  },
  {
   "cell_type": "code",
   "execution_count": 4,
   "metadata": {},
   "outputs": [],
   "source": [
    "def UHI_Intensity(urband_file_name, rurald_file_name, T_type):\n",
    "\n",
    "    \"\"\"\n",
    "    Calculates the Urban Heat Island (UHI) intensity using temperature data from urban and rural areas.\n",
    "\n",
    "    Args:\n",
    "        urband_file_name (str): The file name of the urban temperature data.\n",
    "        rurald_file_name (str): The file name of the rural temperature data.\n",
    "        T_type (str): The type of temperature to calculate the UHI intensity for.\n",
    "\n",
    "    Returns:\n",
    "        None. The calculated UHI intensity values are saved to a CSV file.\n",
    "    \"\"\"\n",
    "\n",
    "    df_urban = pd.read_csv(urband_file_name)\n",
    "    df_rural = pd.read_csv(rurald_file_name)\n",
    "\n",
    "    m = calendar.month_name[1:]\n",
    "\n",
    "    mean_month_temp_rural = []\n",
    "    mean_month_temp_urban = []\n",
    "\n",
    "    UHI_df = pd.DataFrame()\n",
    "    temp_df = pd.DataFrame()\n",
    "\n",
    "    temp_df[\"Month\"] = m\n",
    "    UHI_df[\"Month\"] = m\n",
    "\n",
    "    years = 2000\n",
    "\n",
    "    for ii in range(17):\n",
    "\n",
    "        j = 1\n",
    "\n",
    "        df_rural_year = df_rural.loc[df_rural['year'] == years]\n",
    "        df_urban_year = df_urban.loc[df_urban['year'] == years]\n",
    "\n",
    "        for jj in range(len(temp_df)):\n",
    "\n",
    "            df_rural_month = df_rural_year.loc[df_rural_year['month'] == j]\n",
    "            df_urban_month = df_urban_year.loc[df_urban_year['month'] == j]\n",
    "            \n",
    "            Mean_rural = df_rural_month.loc[:, T_type].mean()\n",
    "            Mean_urban = df_urban_month.loc[:, T_type].mean()\n",
    "\n",
    "\n",
    "            mean_month_temp_rural.append(Mean_rural)\n",
    "            mean_month_temp_urban.append(Mean_urban)\n",
    "            \n",
    "            j = j + 1\n",
    "\n",
    "        mean_month_temp_rural_C = [FahrenheitToCelsius(f) for f in mean_month_temp_rural]\n",
    "        mean_month_temp_urban_C = [FahrenheitToCelsius(f) for f in mean_month_temp_urban]\n",
    "\n",
    "        UHI_month_intensity_C = np.array(mean_month_temp_urban_C) - np.array(mean_month_temp_rural_C)\n",
    "        \n",
    "        temp_df[T_type + \"_rural \" + str(years)] = mean_month_temp_rural_C\n",
    "        temp_df[T_type + \"_urban \" + str(years)] = mean_month_temp_urban_C\n",
    "        UHI_df[\"UHI_intensity\" + T_type + \" \" + str(years)] = UHI_month_intensity_C\n",
    "        \n",
    "        mean_month_temp_rural = []\n",
    "        mean_month_temp_urban = []\n",
    "\n",
    "        years = years + 1\n",
    "\n",
    "\n",
    "    UHI_df['Mean'] = UHI_df.drop('Month', axis=1).apply(lambda x: x.mean(), axis=1)\n",
    "    \n",
    "    temp_df.to_csv(T_type + \"_temperature_df.csv\")\n",
    "    UHI_df.to_csv(\"UHI_intensity\" + T_type + \".csv\")\n",
    "\n"
   ]
  },
  {
   "cell_type": "code",
   "execution_count": 16,
   "metadata": {},
   "outputs": [],
   "source": [
    "\n",
    "def FahrenheitToCelsius(f):\n",
    "\n",
    "    \"\"\"\n",
    "    Converts a temperature value in Fahrenheit to Celsius.\n",
    "\n",
    "    Args:\n",
    "        f (float): The temperature value in Fahrenheit.\n",
    "\n",
    "    Returns:\n",
    "        float: The temperature value converted to Celsius.\n",
    "    \"\"\"\n",
    "\n",
    "    c = (f - 32) * 5 / 9\n",
    "\n",
    "    return c\n",
    "\n"
   ]
  },
  {
   "cell_type": "code",
   "execution_count": 5,
   "metadata": {},
   "outputs": [],
   "source": [
    "\n",
    "T_type = [\"Mean T\", \"Maximum T\", \"Minimum T\"]\n",
    "\n",
    "for Temperature_type in T_type:\n",
    "\n",
    "    UHI_Intensity(\"urban_Clean.csv\", \"rural_Clean.csv\", Temperature_type)\n",
    "        \n"
   ]
  },
  {
   "cell_type": "code",
   "execution_count": 6,
   "metadata": {},
   "outputs": [
    {
     "data": {
      "application/vnd.plotly.v1+json": {
       "config": {
        "plotlyServerURL": "https://plotly.com"
       },
       "data": [
        {
         "cells": {
          "align": "left",
          "values": [
           [
            0,
            1,
            2,
            3,
            4,
            5,
            6,
            7,
            8,
            9,
            10,
            11
           ],
           [
            "January",
            "February",
            "March",
            "April",
            "May",
            "June",
            "July",
            "August",
            "September",
            "October",
            "November",
            "December"
           ],
           [
            1.5370370370370363,
            1.685823754789272,
            1.7383512544802855,
            1.6296296296296315,
            2.2132616487455223,
            1.907407407407412,
            1.953405017921149,
            1.5053763440860308,
            1.6574074074074048,
            2.078853046594981,
            2,
            1.2365591397849467
           ],
           [
            1.4516129032258047,
            0.9226190476190474,
            0.9498207885304666,
            0.5925925925925917,
            0.1254480286738335,
            1.3148148148148169,
            2.1326164874551985,
            1.7921146953404945,
            2.333333333333336,
            2.526881720430108,
            2.370370370370374,
            1.827956989247312
           ],
           [
            1.4336917562724,
            1.845238095238094,
            1.039426523297494,
            1.4074074074074066,
            1.7204301075268835,
            1.6460905349794253,
            1.6308243727598573,
            1.29032258064516,
            2.0740740740740726,
            1.3261648745519672,
            1.4907407407407414,
            1.5053763440860224
           ],
           [
            1.1648745519713266,
            1.3492063492063502,
            1.0035842293906807,
            1.0925925925925934,
            1.2007168458781408,
            1.3703703703703702,
            1.6666666666666643,
            1.666666666666668,
            1.666666666666668,
            1.5412186379928323,
            1.0648148148148184,
            1.3082437275985686
           ],
           [
            0.8064516129032264,
            1.5325670498084265,
            0.9318996415770622,
            0.9999999999999982,
            0.9587813620071656,
            2.222222222222221,
            2.0071684587813614,
            1.6218637992831582,
            2.351851851851851,
            2.0788530465949844,
            1.7222222222222232,
            1.5949820788530449
           ],
           [
            0.788530465949822,
            0.6944444444444446,
            1.0931899641577063,
            1.2685185185185173,
            1.7204301075268766,
            1.722222222222225,
            1.8817204301075316,
            1.7383512544802855,
            2.3055555555555536,
            1.397849462365592,
            1.722222222222218,
            1.5232974910394266
           ],
           [
            0.967741935483871,
            1.25,
            1.030465949820791,
            1.3981481481481506,
            1.675627240143374,
            1.462962962962962,
            1.594982078853043,
            2.1326164874551985,
            1.9166666666666716,
            2.670250896057347,
            3.203703703703704,
            3.225806451612904
           ],
           [
            2.858422939068098,
            2.1031746031746046,
            1.8727598566308217,
            2.245370370370376,
            3.324372759856629,
            3.3796296296296298,
            3.181003584229387,
            2.688172043010756,
            3.250000000000004,
            2.5358422939068106,
            1.4814814814814827,
            1.5949820788530489
           ],
           [
            1.6666666666666663,
            1.2452107279693512,
            1.3172043010752663,
            1.129629629629633,
            1.8279569892473104,
            1.759259259259263,
            1.711469534050181,
            1.8369175627240184,
            1.6203703703703631,
            1.7293906810035864,
            1.1944444444444429,
            0.9587813620071688
           ],
           [
            1.1738351254480288,
            1.13095238095238,
            1.146953405017923,
            1.3055555555555571,
            1.5681003584229387,
            1.8055555555555567,
            1.8369175627240144,
            1.9175627240143385,
            1.9537037037037024,
            1.881720430107528,
            2.0740740740740726,
            2.1146953405017954
           ],
           [
            1.541218637992831,
            1.904761904761904,
            1.693548387096774,
            2.268518518518519,
            1.129032258064516,
            1.2314814814814845,
            1.3351254480286734,
            1.7921146953404945,
            2.0185185185185155,
            1.9802867383512552,
            1.90740740740741,
            1.173835125448027
           ],
           [
            1.5860215053763422,
            1.4484126984127004,
            1.53225806451613,
            1.8611111111111107,
            2.5358422939068177,
            2.835249042145591,
            3.046594982078851,
            2.571684587813621,
            2.5462962962962976,
            2.401433691756269,
            2.351851851851851,
            2.688172043010752
           ],
           [
            2.087813620071685,
            2.3659003831417635,
            1.9982078853046588,
            2.3703703703703702,
            2.311827956989248,
            2.944444444444443,
            2.670250896057347,
            2.768817204301076,
            2.648148148148149,
            2.4014336917562726,
            3.314814814814815,
            2.697132616487454
           ],
           [
            2.5627240143369154,
            2.59920634920635,
            2.7150537634408582,
            2.7407407407407387,
            2.894265232974913,
            2.7407407407407405,
            2.7329749103942618,
            2.8136200716845856,
            2.9444444444444464,
            2.9749103942652333,
            2.351851851851852,
            1.666666666666666
           ],
           [
            1.137992831541218,
            1.3392857142857135,
            1.397849462365591,
            1.3796296296296298,
            1.164874551971323,
            1.1018518518518512,
            1.5949820788530469,
            1.487455197132611,
            1.749999999999993,
            1.129032258064516,
            0.935185185185186,
            0.6541218637992845
           ],
           [
            1.066308243727598,
            0.8630952380952372,
            1.160714285714282,
            1.361111111111109,
            1.4247311827956963,
            1.4259259259259238,
            1.4695340501792096,
            1.908602150537636,
            1.462962962962962,
            1.810035842293907,
            1.5277777777777768,
            1.3799283154121849
           ],
           [
            1.3082437275985686,
            0.9770114942528751,
            1.1200716845878134,
            1.0000000000000018,
            1.281362007168454,
            1.1851851851851798,
            1.9175627240143385,
            1.6308243727598573,
            1.2777777777777786,
            1.5860215053763422,
            1.973180076628351,
            1.6935483870967776
           ],
           [
            1.4787757396865553,
            1.4857006020799126,
            1.3965505557061533,
            1.5324074074074077,
            1.7104153489352731,
            1.885612567717594,
            2.021399957832595,
            1.9507695551338815,
            2.104575163398692,
            2.002951718321737,
            1.922714296446548,
            1.6967109424414932
           ]
          ]
         },
         "header": {
          "align": "left",
          "fill": {
           "color": "rgb(8, 81, 156)"
          },
          "font": {
           "color": "white"
          },
          "line": {
           "color": "rgb(8, 81, 156)"
          },
          "values": [
           "Unnamed: 0",
           "Month",
           "UHI_intensityMean T 2000",
           "UHI_intensityMean T 2001",
           "UHI_intensityMean T 2002",
           "UHI_intensityMean T 2003",
           "UHI_intensityMean T 2004",
           "UHI_intensityMean T 2005",
           "UHI_intensityMean T 2006",
           "UHI_intensityMean T 2007",
           "UHI_intensityMean T 2008",
           "UHI_intensityMean T 2009",
           "UHI_intensityMean T 2010",
           "UHI_intensityMean T 2011",
           "UHI_intensityMean T 2012",
           "UHI_intensityMean T 2013",
           "UHI_intensityMean T 2014",
           "UHI_intensityMean T 2015",
           "UHI_intensityMean T 2016",
           "Mean"
          ]
         },
         "type": "table"
        }
       ],
       "layout": {
        "template": {
         "data": {
          "bar": [
           {
            "error_x": {
             "color": "#2a3f5f"
            },
            "error_y": {
             "color": "#2a3f5f"
            },
            "marker": {
             "line": {
              "color": "#E5ECF6",
              "width": 0.5
             },
             "pattern": {
              "fillmode": "overlay",
              "size": 10,
              "solidity": 0.2
             }
            },
            "type": "bar"
           }
          ],
          "barpolar": [
           {
            "marker": {
             "line": {
              "color": "#E5ECF6",
              "width": 0.5
             },
             "pattern": {
              "fillmode": "overlay",
              "size": 10,
              "solidity": 0.2
             }
            },
            "type": "barpolar"
           }
          ],
          "carpet": [
           {
            "aaxis": {
             "endlinecolor": "#2a3f5f",
             "gridcolor": "white",
             "linecolor": "white",
             "minorgridcolor": "white",
             "startlinecolor": "#2a3f5f"
            },
            "baxis": {
             "endlinecolor": "#2a3f5f",
             "gridcolor": "white",
             "linecolor": "white",
             "minorgridcolor": "white",
             "startlinecolor": "#2a3f5f"
            },
            "type": "carpet"
           }
          ],
          "choropleth": [
           {
            "colorbar": {
             "outlinewidth": 0,
             "ticks": ""
            },
            "type": "choropleth"
           }
          ],
          "contour": [
           {
            "colorbar": {
             "outlinewidth": 0,
             "ticks": ""
            },
            "colorscale": [
             [
              0,
              "#0d0887"
             ],
             [
              0.1111111111111111,
              "#46039f"
             ],
             [
              0.2222222222222222,
              "#7201a8"
             ],
             [
              0.3333333333333333,
              "#9c179e"
             ],
             [
              0.4444444444444444,
              "#bd3786"
             ],
             [
              0.5555555555555556,
              "#d8576b"
             ],
             [
              0.6666666666666666,
              "#ed7953"
             ],
             [
              0.7777777777777778,
              "#fb9f3a"
             ],
             [
              0.8888888888888888,
              "#fdca26"
             ],
             [
              1,
              "#f0f921"
             ]
            ],
            "type": "contour"
           }
          ],
          "contourcarpet": [
           {
            "colorbar": {
             "outlinewidth": 0,
             "ticks": ""
            },
            "type": "contourcarpet"
           }
          ],
          "heatmap": [
           {
            "colorbar": {
             "outlinewidth": 0,
             "ticks": ""
            },
            "colorscale": [
             [
              0,
              "#0d0887"
             ],
             [
              0.1111111111111111,
              "#46039f"
             ],
             [
              0.2222222222222222,
              "#7201a8"
             ],
             [
              0.3333333333333333,
              "#9c179e"
             ],
             [
              0.4444444444444444,
              "#bd3786"
             ],
             [
              0.5555555555555556,
              "#d8576b"
             ],
             [
              0.6666666666666666,
              "#ed7953"
             ],
             [
              0.7777777777777778,
              "#fb9f3a"
             ],
             [
              0.8888888888888888,
              "#fdca26"
             ],
             [
              1,
              "#f0f921"
             ]
            ],
            "type": "heatmap"
           }
          ],
          "heatmapgl": [
           {
            "colorbar": {
             "outlinewidth": 0,
             "ticks": ""
            },
            "colorscale": [
             [
              0,
              "#0d0887"
             ],
             [
              0.1111111111111111,
              "#46039f"
             ],
             [
              0.2222222222222222,
              "#7201a8"
             ],
             [
              0.3333333333333333,
              "#9c179e"
             ],
             [
              0.4444444444444444,
              "#bd3786"
             ],
             [
              0.5555555555555556,
              "#d8576b"
             ],
             [
              0.6666666666666666,
              "#ed7953"
             ],
             [
              0.7777777777777778,
              "#fb9f3a"
             ],
             [
              0.8888888888888888,
              "#fdca26"
             ],
             [
              1,
              "#f0f921"
             ]
            ],
            "type": "heatmapgl"
           }
          ],
          "histogram": [
           {
            "marker": {
             "pattern": {
              "fillmode": "overlay",
              "size": 10,
              "solidity": 0.2
             }
            },
            "type": "histogram"
           }
          ],
          "histogram2d": [
           {
            "colorbar": {
             "outlinewidth": 0,
             "ticks": ""
            },
            "colorscale": [
             [
              0,
              "#0d0887"
             ],
             [
              0.1111111111111111,
              "#46039f"
             ],
             [
              0.2222222222222222,
              "#7201a8"
             ],
             [
              0.3333333333333333,
              "#9c179e"
             ],
             [
              0.4444444444444444,
              "#bd3786"
             ],
             [
              0.5555555555555556,
              "#d8576b"
             ],
             [
              0.6666666666666666,
              "#ed7953"
             ],
             [
              0.7777777777777778,
              "#fb9f3a"
             ],
             [
              0.8888888888888888,
              "#fdca26"
             ],
             [
              1,
              "#f0f921"
             ]
            ],
            "type": "histogram2d"
           }
          ],
          "histogram2dcontour": [
           {
            "colorbar": {
             "outlinewidth": 0,
             "ticks": ""
            },
            "colorscale": [
             [
              0,
              "#0d0887"
             ],
             [
              0.1111111111111111,
              "#46039f"
             ],
             [
              0.2222222222222222,
              "#7201a8"
             ],
             [
              0.3333333333333333,
              "#9c179e"
             ],
             [
              0.4444444444444444,
              "#bd3786"
             ],
             [
              0.5555555555555556,
              "#d8576b"
             ],
             [
              0.6666666666666666,
              "#ed7953"
             ],
             [
              0.7777777777777778,
              "#fb9f3a"
             ],
             [
              0.8888888888888888,
              "#fdca26"
             ],
             [
              1,
              "#f0f921"
             ]
            ],
            "type": "histogram2dcontour"
           }
          ],
          "mesh3d": [
           {
            "colorbar": {
             "outlinewidth": 0,
             "ticks": ""
            },
            "type": "mesh3d"
           }
          ],
          "parcoords": [
           {
            "line": {
             "colorbar": {
              "outlinewidth": 0,
              "ticks": ""
             }
            },
            "type": "parcoords"
           }
          ],
          "pie": [
           {
            "automargin": true,
            "type": "pie"
           }
          ],
          "scatter": [
           {
            "fillpattern": {
             "fillmode": "overlay",
             "size": 10,
             "solidity": 0.2
            },
            "type": "scatter"
           }
          ],
          "scatter3d": [
           {
            "line": {
             "colorbar": {
              "outlinewidth": 0,
              "ticks": ""
             }
            },
            "marker": {
             "colorbar": {
              "outlinewidth": 0,
              "ticks": ""
             }
            },
            "type": "scatter3d"
           }
          ],
          "scattercarpet": [
           {
            "marker": {
             "colorbar": {
              "outlinewidth": 0,
              "ticks": ""
             }
            },
            "type": "scattercarpet"
           }
          ],
          "scattergeo": [
           {
            "marker": {
             "colorbar": {
              "outlinewidth": 0,
              "ticks": ""
             }
            },
            "type": "scattergeo"
           }
          ],
          "scattergl": [
           {
            "marker": {
             "colorbar": {
              "outlinewidth": 0,
              "ticks": ""
             }
            },
            "type": "scattergl"
           }
          ],
          "scattermapbox": [
           {
            "marker": {
             "colorbar": {
              "outlinewidth": 0,
              "ticks": ""
             }
            },
            "type": "scattermapbox"
           }
          ],
          "scatterpolar": [
           {
            "marker": {
             "colorbar": {
              "outlinewidth": 0,
              "ticks": ""
             }
            },
            "type": "scatterpolar"
           }
          ],
          "scatterpolargl": [
           {
            "marker": {
             "colorbar": {
              "outlinewidth": 0,
              "ticks": ""
             }
            },
            "type": "scatterpolargl"
           }
          ],
          "scatterternary": [
           {
            "marker": {
             "colorbar": {
              "outlinewidth": 0,
              "ticks": ""
             }
            },
            "type": "scatterternary"
           }
          ],
          "surface": [
           {
            "colorbar": {
             "outlinewidth": 0,
             "ticks": ""
            },
            "colorscale": [
             [
              0,
              "#0d0887"
             ],
             [
              0.1111111111111111,
              "#46039f"
             ],
             [
              0.2222222222222222,
              "#7201a8"
             ],
             [
              0.3333333333333333,
              "#9c179e"
             ],
             [
              0.4444444444444444,
              "#bd3786"
             ],
             [
              0.5555555555555556,
              "#d8576b"
             ],
             [
              0.6666666666666666,
              "#ed7953"
             ],
             [
              0.7777777777777778,
              "#fb9f3a"
             ],
             [
              0.8888888888888888,
              "#fdca26"
             ],
             [
              1,
              "#f0f921"
             ]
            ],
            "type": "surface"
           }
          ],
          "table": [
           {
            "cells": {
             "fill": {
              "color": "#EBF0F8"
             },
             "line": {
              "color": "white"
             }
            },
            "header": {
             "fill": {
              "color": "#C8D4E3"
             },
             "line": {
              "color": "white"
             }
            },
            "type": "table"
           }
          ]
         },
         "layout": {
          "annotationdefaults": {
           "arrowcolor": "#2a3f5f",
           "arrowhead": 0,
           "arrowwidth": 1
          },
          "autotypenumbers": "strict",
          "coloraxis": {
           "colorbar": {
            "outlinewidth": 0,
            "ticks": ""
           }
          },
          "colorscale": {
           "diverging": [
            [
             0,
             "#8e0152"
            ],
            [
             0.1,
             "#c51b7d"
            ],
            [
             0.2,
             "#de77ae"
            ],
            [
             0.3,
             "#f1b6da"
            ],
            [
             0.4,
             "#fde0ef"
            ],
            [
             0.5,
             "#f7f7f7"
            ],
            [
             0.6,
             "#e6f5d0"
            ],
            [
             0.7,
             "#b8e186"
            ],
            [
             0.8,
             "#7fbc41"
            ],
            [
             0.9,
             "#4d9221"
            ],
            [
             1,
             "#276419"
            ]
           ],
           "sequential": [
            [
             0,
             "#0d0887"
            ],
            [
             0.1111111111111111,
             "#46039f"
            ],
            [
             0.2222222222222222,
             "#7201a8"
            ],
            [
             0.3333333333333333,
             "#9c179e"
            ],
            [
             0.4444444444444444,
             "#bd3786"
            ],
            [
             0.5555555555555556,
             "#d8576b"
            ],
            [
             0.6666666666666666,
             "#ed7953"
            ],
            [
             0.7777777777777778,
             "#fb9f3a"
            ],
            [
             0.8888888888888888,
             "#fdca26"
            ],
            [
             1,
             "#f0f921"
            ]
           ],
           "sequentialminus": [
            [
             0,
             "#0d0887"
            ],
            [
             0.1111111111111111,
             "#46039f"
            ],
            [
             0.2222222222222222,
             "#7201a8"
            ],
            [
             0.3333333333333333,
             "#9c179e"
            ],
            [
             0.4444444444444444,
             "#bd3786"
            ],
            [
             0.5555555555555556,
             "#d8576b"
            ],
            [
             0.6666666666666666,
             "#ed7953"
            ],
            [
             0.7777777777777778,
             "#fb9f3a"
            ],
            [
             0.8888888888888888,
             "#fdca26"
            ],
            [
             1,
             "#f0f921"
            ]
           ]
          },
          "colorway": [
           "#636efa",
           "#EF553B",
           "#00cc96",
           "#ab63fa",
           "#FFA15A",
           "#19d3f3",
           "#FF6692",
           "#B6E880",
           "#FF97FF",
           "#FECB52"
          ],
          "font": {
           "color": "#2a3f5f"
          },
          "geo": {
           "bgcolor": "white",
           "lakecolor": "white",
           "landcolor": "#E5ECF6",
           "showlakes": true,
           "showland": true,
           "subunitcolor": "white"
          },
          "hoverlabel": {
           "align": "left"
          },
          "hovermode": "closest",
          "mapbox": {
           "style": "light"
          },
          "paper_bgcolor": "white",
          "plot_bgcolor": "#E5ECF6",
          "polar": {
           "angularaxis": {
            "gridcolor": "white",
            "linecolor": "white",
            "ticks": ""
           },
           "bgcolor": "#E5ECF6",
           "radialaxis": {
            "gridcolor": "white",
            "linecolor": "white",
            "ticks": ""
           }
          },
          "scene": {
           "xaxis": {
            "backgroundcolor": "#E5ECF6",
            "gridcolor": "white",
            "gridwidth": 2,
            "linecolor": "white",
            "showbackground": true,
            "ticks": "",
            "zerolinecolor": "white"
           },
           "yaxis": {
            "backgroundcolor": "#E5ECF6",
            "gridcolor": "white",
            "gridwidth": 2,
            "linecolor": "white",
            "showbackground": true,
            "ticks": "",
            "zerolinecolor": "white"
           },
           "zaxis": {
            "backgroundcolor": "#E5ECF6",
            "gridcolor": "white",
            "gridwidth": 2,
            "linecolor": "white",
            "showbackground": true,
            "ticks": "",
            "zerolinecolor": "white"
           }
          },
          "shapedefaults": {
           "line": {
            "color": "#2a3f5f"
           }
          },
          "ternary": {
           "aaxis": {
            "gridcolor": "white",
            "linecolor": "white",
            "ticks": ""
           },
           "baxis": {
            "gridcolor": "white",
            "linecolor": "white",
            "ticks": ""
           },
           "bgcolor": "#E5ECF6",
           "caxis": {
            "gridcolor": "white",
            "linecolor": "white",
            "ticks": ""
           }
          },
          "title": {
           "x": 0.05
          },
          "xaxis": {
           "automargin": true,
           "gridcolor": "white",
           "linecolor": "white",
           "ticks": "",
           "title": {
            "standoff": 15
           },
           "zerolinecolor": "white",
           "zerolinewidth": 2
          },
          "yaxis": {
           "automargin": true,
           "gridcolor": "white",
           "linecolor": "white",
           "ticks": "",
           "title": {
            "standoff": 15
           },
           "zerolinecolor": "white",
           "zerolinewidth": 2
          }
         }
        }
       }
      }
     },
     "metadata": {},
     "output_type": "display_data"
    }
   ],
   "source": [
    "df_mean = pd.read_csv(\"UHI_intensityMean T.csv\")\n",
    "\n",
    "fig = go.Figure(data=[go.Table(\n",
    "    header=dict(values=list(df_mean.columns),\n",
    "                line_color='rgb(8, 81, 156)', fill_color='rgb(8, 81, 156)', font=dict(color='white'),\n",
    "                align='left'),\n",
    "    cells=dict(values=df_mean.transpose().values.tolist(),\n",
    "               align='left'))\n",
    "])\n",
    "\n",
    "fig.show()"
   ]
  },
  {
   "cell_type": "markdown",
   "metadata": {},
   "source": [
    "### Plots"
   ]
  },
  {
   "cell_type": "code",
   "execution_count": 7,
   "metadata": {},
   "outputs": [
    {
     "data": {
      "application/vnd.plotly.v1+json": {
       "config": {
        "plotlyServerURL": "https://plotly.com"
       },
       "data": [
        {
         "mode": "lines+markers",
         "name": "Max",
         "type": "scatter",
         "x": [
          "January",
          "February",
          "March",
          "April",
          "May",
          "June",
          "July",
          "August",
          "September",
          "October",
          "November",
          "December"
         ],
         "y": [
          0.4172816079836953,
          0.2814401622718046,
          0.2120418059697001,
          0.3981481481481486,
          0.5070630402698723,
          0.8731875892119303,
          0.9993674889310568,
          0.8644317942230645,
          0.7766884531590419,
          0.5850727387729293,
          0.3378784463977162,
          0.4285457711559332
         ]
        },
        {
         "mode": "lines+markers",
         "name": "Mean",
         "type": "scatter",
         "x": [
          "January",
          "February",
          "March",
          "April",
          "May",
          "June",
          "July",
          "August",
          "September",
          "October",
          "November",
          "December"
         ],
         "y": [
          1.4787757396865553,
          1.4857006020799126,
          1.3965505557061533,
          1.5324074074074077,
          1.7104153489352731,
          1.885612567717594,
          2.021399957832595,
          1.9507695551338815,
          2.104575163398692,
          2.002951718321737,
          1.922714296446548,
          1.6967109424414932
         ]
        },
        {
         "mode": "lines+markers",
         "name": "Min",
         "type": "scatter",
         "x": [
          "January",
          "February",
          "March",
          "April",
          "May",
          "June",
          "July",
          "August",
          "September",
          "October",
          "November",
          "December"
         ],
         "y": [
          2.637500878487596,
          2.776691136224605,
          2.626615162193909,
          2.772331154684096,
          2.8831962892683944,
          2.931201429060343,
          2.9696394686907026,
          3.060299388572634,
          3.4564270152505445,
          3.462998102466793,
          3.578205995041695,
          2.979166178618003
         ]
        }
       ],
       "layout": {
        "template": {
         "data": {
          "bar": [
           {
            "error_x": {
             "color": "#2a3f5f"
            },
            "error_y": {
             "color": "#2a3f5f"
            },
            "marker": {
             "line": {
              "color": "#E5ECF6",
              "width": 0.5
             },
             "pattern": {
              "fillmode": "overlay",
              "size": 10,
              "solidity": 0.2
             }
            },
            "type": "bar"
           }
          ],
          "barpolar": [
           {
            "marker": {
             "line": {
              "color": "#E5ECF6",
              "width": 0.5
             },
             "pattern": {
              "fillmode": "overlay",
              "size": 10,
              "solidity": 0.2
             }
            },
            "type": "barpolar"
           }
          ],
          "carpet": [
           {
            "aaxis": {
             "endlinecolor": "#2a3f5f",
             "gridcolor": "white",
             "linecolor": "white",
             "minorgridcolor": "white",
             "startlinecolor": "#2a3f5f"
            },
            "baxis": {
             "endlinecolor": "#2a3f5f",
             "gridcolor": "white",
             "linecolor": "white",
             "minorgridcolor": "white",
             "startlinecolor": "#2a3f5f"
            },
            "type": "carpet"
           }
          ],
          "choropleth": [
           {
            "colorbar": {
             "outlinewidth": 0,
             "ticks": ""
            },
            "type": "choropleth"
           }
          ],
          "contour": [
           {
            "colorbar": {
             "outlinewidth": 0,
             "ticks": ""
            },
            "colorscale": [
             [
              0,
              "#0d0887"
             ],
             [
              0.1111111111111111,
              "#46039f"
             ],
             [
              0.2222222222222222,
              "#7201a8"
             ],
             [
              0.3333333333333333,
              "#9c179e"
             ],
             [
              0.4444444444444444,
              "#bd3786"
             ],
             [
              0.5555555555555556,
              "#d8576b"
             ],
             [
              0.6666666666666666,
              "#ed7953"
             ],
             [
              0.7777777777777778,
              "#fb9f3a"
             ],
             [
              0.8888888888888888,
              "#fdca26"
             ],
             [
              1,
              "#f0f921"
             ]
            ],
            "type": "contour"
           }
          ],
          "contourcarpet": [
           {
            "colorbar": {
             "outlinewidth": 0,
             "ticks": ""
            },
            "type": "contourcarpet"
           }
          ],
          "heatmap": [
           {
            "colorbar": {
             "outlinewidth": 0,
             "ticks": ""
            },
            "colorscale": [
             [
              0,
              "#0d0887"
             ],
             [
              0.1111111111111111,
              "#46039f"
             ],
             [
              0.2222222222222222,
              "#7201a8"
             ],
             [
              0.3333333333333333,
              "#9c179e"
             ],
             [
              0.4444444444444444,
              "#bd3786"
             ],
             [
              0.5555555555555556,
              "#d8576b"
             ],
             [
              0.6666666666666666,
              "#ed7953"
             ],
             [
              0.7777777777777778,
              "#fb9f3a"
             ],
             [
              0.8888888888888888,
              "#fdca26"
             ],
             [
              1,
              "#f0f921"
             ]
            ],
            "type": "heatmap"
           }
          ],
          "heatmapgl": [
           {
            "colorbar": {
             "outlinewidth": 0,
             "ticks": ""
            },
            "colorscale": [
             [
              0,
              "#0d0887"
             ],
             [
              0.1111111111111111,
              "#46039f"
             ],
             [
              0.2222222222222222,
              "#7201a8"
             ],
             [
              0.3333333333333333,
              "#9c179e"
             ],
             [
              0.4444444444444444,
              "#bd3786"
             ],
             [
              0.5555555555555556,
              "#d8576b"
             ],
             [
              0.6666666666666666,
              "#ed7953"
             ],
             [
              0.7777777777777778,
              "#fb9f3a"
             ],
             [
              0.8888888888888888,
              "#fdca26"
             ],
             [
              1,
              "#f0f921"
             ]
            ],
            "type": "heatmapgl"
           }
          ],
          "histogram": [
           {
            "marker": {
             "pattern": {
              "fillmode": "overlay",
              "size": 10,
              "solidity": 0.2
             }
            },
            "type": "histogram"
           }
          ],
          "histogram2d": [
           {
            "colorbar": {
             "outlinewidth": 0,
             "ticks": ""
            },
            "colorscale": [
             [
              0,
              "#0d0887"
             ],
             [
              0.1111111111111111,
              "#46039f"
             ],
             [
              0.2222222222222222,
              "#7201a8"
             ],
             [
              0.3333333333333333,
              "#9c179e"
             ],
             [
              0.4444444444444444,
              "#bd3786"
             ],
             [
              0.5555555555555556,
              "#d8576b"
             ],
             [
              0.6666666666666666,
              "#ed7953"
             ],
             [
              0.7777777777777778,
              "#fb9f3a"
             ],
             [
              0.8888888888888888,
              "#fdca26"
             ],
             [
              1,
              "#f0f921"
             ]
            ],
            "type": "histogram2d"
           }
          ],
          "histogram2dcontour": [
           {
            "colorbar": {
             "outlinewidth": 0,
             "ticks": ""
            },
            "colorscale": [
             [
              0,
              "#0d0887"
             ],
             [
              0.1111111111111111,
              "#46039f"
             ],
             [
              0.2222222222222222,
              "#7201a8"
             ],
             [
              0.3333333333333333,
              "#9c179e"
             ],
             [
              0.4444444444444444,
              "#bd3786"
             ],
             [
              0.5555555555555556,
              "#d8576b"
             ],
             [
              0.6666666666666666,
              "#ed7953"
             ],
             [
              0.7777777777777778,
              "#fb9f3a"
             ],
             [
              0.8888888888888888,
              "#fdca26"
             ],
             [
              1,
              "#f0f921"
             ]
            ],
            "type": "histogram2dcontour"
           }
          ],
          "mesh3d": [
           {
            "colorbar": {
             "outlinewidth": 0,
             "ticks": ""
            },
            "type": "mesh3d"
           }
          ],
          "parcoords": [
           {
            "line": {
             "colorbar": {
              "outlinewidth": 0,
              "ticks": ""
             }
            },
            "type": "parcoords"
           }
          ],
          "pie": [
           {
            "automargin": true,
            "type": "pie"
           }
          ],
          "scatter": [
           {
            "fillpattern": {
             "fillmode": "overlay",
             "size": 10,
             "solidity": 0.2
            },
            "type": "scatter"
           }
          ],
          "scatter3d": [
           {
            "line": {
             "colorbar": {
              "outlinewidth": 0,
              "ticks": ""
             }
            },
            "marker": {
             "colorbar": {
              "outlinewidth": 0,
              "ticks": ""
             }
            },
            "type": "scatter3d"
           }
          ],
          "scattercarpet": [
           {
            "marker": {
             "colorbar": {
              "outlinewidth": 0,
              "ticks": ""
             }
            },
            "type": "scattercarpet"
           }
          ],
          "scattergeo": [
           {
            "marker": {
             "colorbar": {
              "outlinewidth": 0,
              "ticks": ""
             }
            },
            "type": "scattergeo"
           }
          ],
          "scattergl": [
           {
            "marker": {
             "colorbar": {
              "outlinewidth": 0,
              "ticks": ""
             }
            },
            "type": "scattergl"
           }
          ],
          "scattermapbox": [
           {
            "marker": {
             "colorbar": {
              "outlinewidth": 0,
              "ticks": ""
             }
            },
            "type": "scattermapbox"
           }
          ],
          "scatterpolar": [
           {
            "marker": {
             "colorbar": {
              "outlinewidth": 0,
              "ticks": ""
             }
            },
            "type": "scatterpolar"
           }
          ],
          "scatterpolargl": [
           {
            "marker": {
             "colorbar": {
              "outlinewidth": 0,
              "ticks": ""
             }
            },
            "type": "scatterpolargl"
           }
          ],
          "scatterternary": [
           {
            "marker": {
             "colorbar": {
              "outlinewidth": 0,
              "ticks": ""
             }
            },
            "type": "scatterternary"
           }
          ],
          "surface": [
           {
            "colorbar": {
             "outlinewidth": 0,
             "ticks": ""
            },
            "colorscale": [
             [
              0,
              "#0d0887"
             ],
             [
              0.1111111111111111,
              "#46039f"
             ],
             [
              0.2222222222222222,
              "#7201a8"
             ],
             [
              0.3333333333333333,
              "#9c179e"
             ],
             [
              0.4444444444444444,
              "#bd3786"
             ],
             [
              0.5555555555555556,
              "#d8576b"
             ],
             [
              0.6666666666666666,
              "#ed7953"
             ],
             [
              0.7777777777777778,
              "#fb9f3a"
             ],
             [
              0.8888888888888888,
              "#fdca26"
             ],
             [
              1,
              "#f0f921"
             ]
            ],
            "type": "surface"
           }
          ],
          "table": [
           {
            "cells": {
             "fill": {
              "color": "#EBF0F8"
             },
             "line": {
              "color": "white"
             }
            },
            "header": {
             "fill": {
              "color": "#C8D4E3"
             },
             "line": {
              "color": "white"
             }
            },
            "type": "table"
           }
          ]
         },
         "layout": {
          "annotationdefaults": {
           "arrowcolor": "#2a3f5f",
           "arrowhead": 0,
           "arrowwidth": 1
          },
          "autotypenumbers": "strict",
          "coloraxis": {
           "colorbar": {
            "outlinewidth": 0,
            "ticks": ""
           }
          },
          "colorscale": {
           "diverging": [
            [
             0,
             "#8e0152"
            ],
            [
             0.1,
             "#c51b7d"
            ],
            [
             0.2,
             "#de77ae"
            ],
            [
             0.3,
             "#f1b6da"
            ],
            [
             0.4,
             "#fde0ef"
            ],
            [
             0.5,
             "#f7f7f7"
            ],
            [
             0.6,
             "#e6f5d0"
            ],
            [
             0.7,
             "#b8e186"
            ],
            [
             0.8,
             "#7fbc41"
            ],
            [
             0.9,
             "#4d9221"
            ],
            [
             1,
             "#276419"
            ]
           ],
           "sequential": [
            [
             0,
             "#0d0887"
            ],
            [
             0.1111111111111111,
             "#46039f"
            ],
            [
             0.2222222222222222,
             "#7201a8"
            ],
            [
             0.3333333333333333,
             "#9c179e"
            ],
            [
             0.4444444444444444,
             "#bd3786"
            ],
            [
             0.5555555555555556,
             "#d8576b"
            ],
            [
             0.6666666666666666,
             "#ed7953"
            ],
            [
             0.7777777777777778,
             "#fb9f3a"
            ],
            [
             0.8888888888888888,
             "#fdca26"
            ],
            [
             1,
             "#f0f921"
            ]
           ],
           "sequentialminus": [
            [
             0,
             "#0d0887"
            ],
            [
             0.1111111111111111,
             "#46039f"
            ],
            [
             0.2222222222222222,
             "#7201a8"
            ],
            [
             0.3333333333333333,
             "#9c179e"
            ],
            [
             0.4444444444444444,
             "#bd3786"
            ],
            [
             0.5555555555555556,
             "#d8576b"
            ],
            [
             0.6666666666666666,
             "#ed7953"
            ],
            [
             0.7777777777777778,
             "#fb9f3a"
            ],
            [
             0.8888888888888888,
             "#fdca26"
            ],
            [
             1,
             "#f0f921"
            ]
           ]
          },
          "colorway": [
           "#636efa",
           "#EF553B",
           "#00cc96",
           "#ab63fa",
           "#FFA15A",
           "#19d3f3",
           "#FF6692",
           "#B6E880",
           "#FF97FF",
           "#FECB52"
          ],
          "font": {
           "color": "#2a3f5f"
          },
          "geo": {
           "bgcolor": "white",
           "lakecolor": "white",
           "landcolor": "#E5ECF6",
           "showlakes": true,
           "showland": true,
           "subunitcolor": "white"
          },
          "hoverlabel": {
           "align": "left"
          },
          "hovermode": "closest",
          "mapbox": {
           "style": "light"
          },
          "paper_bgcolor": "white",
          "plot_bgcolor": "#E5ECF6",
          "polar": {
           "angularaxis": {
            "gridcolor": "white",
            "linecolor": "white",
            "ticks": ""
           },
           "bgcolor": "#E5ECF6",
           "radialaxis": {
            "gridcolor": "white",
            "linecolor": "white",
            "ticks": ""
           }
          },
          "scene": {
           "xaxis": {
            "backgroundcolor": "#E5ECF6",
            "gridcolor": "white",
            "gridwidth": 2,
            "linecolor": "white",
            "showbackground": true,
            "ticks": "",
            "zerolinecolor": "white"
           },
           "yaxis": {
            "backgroundcolor": "#E5ECF6",
            "gridcolor": "white",
            "gridwidth": 2,
            "linecolor": "white",
            "showbackground": true,
            "ticks": "",
            "zerolinecolor": "white"
           },
           "zaxis": {
            "backgroundcolor": "#E5ECF6",
            "gridcolor": "white",
            "gridwidth": 2,
            "linecolor": "white",
            "showbackground": true,
            "ticks": "",
            "zerolinecolor": "white"
           }
          },
          "shapedefaults": {
           "line": {
            "color": "#2a3f5f"
           }
          },
          "ternary": {
           "aaxis": {
            "gridcolor": "white",
            "linecolor": "white",
            "ticks": ""
           },
           "baxis": {
            "gridcolor": "white",
            "linecolor": "white",
            "ticks": ""
           },
           "bgcolor": "#E5ECF6",
           "caxis": {
            "gridcolor": "white",
            "linecolor": "white",
            "ticks": ""
           }
          },
          "title": {
           "x": 0.05
          },
          "xaxis": {
           "automargin": true,
           "gridcolor": "white",
           "linecolor": "white",
           "ticks": "",
           "title": {
            "standoff": 15
           },
           "zerolinecolor": "white",
           "zerolinewidth": 2
          },
          "yaxis": {
           "automargin": true,
           "gridcolor": "white",
           "linecolor": "white",
           "ticks": "",
           "title": {
            "standoff": 15
           },
           "zerolinecolor": "white",
           "zerolinewidth": 2
          }
         }
        },
        "title": {
         "text": "UHI Intensity for Max, Min and Mean Values of Temperature"
        },
        "updatemenus": [
         {
          "active": 0,
          "buttons": [
           {
            "args": [
             {
              "visible": [
               true,
               true,
               true
              ]
             },
             {
              "annotations": [],
              "title": "UHI Intensity for Max, Min and Mean Values of Temperature"
             }
            ],
            "label": "All",
            "method": "update"
           },
           {
            "args": [
             {
              "visible": [
               false,
               false,
               true
              ]
             },
             {
              "annotations": [],
              "title": "UHI Intensity for Minimum Values of Temperature"
             }
            ],
            "label": "Min",
            "method": "update"
           },
           {
            "args": [
             {
              "visible": [
               true,
               false,
               false
              ]
             },
             {
              "annotations": [],
              "title": "UHI Intensity for Maximum Values of Temperature"
             }
            ],
            "label": "Max",
            "method": "update"
           },
           {
            "args": [
             {
              "visible": [
               false,
               true,
               false
              ]
             },
             {
              "annotations": [],
              "title": "UHI Intensity for Mean Values of Temperature"
             }
            ],
            "label": "Mean",
            "method": "update"
           }
          ]
         }
        ],
        "xaxis": {
         "title": {
          "text": "Month"
         }
        },
        "yaxis": {
         "title": {
          "text": "UHI Intensity"
         }
        }
       }
      }
     },
     "metadata": {},
     "output_type": "display_data"
    }
   ],
   "source": [
    "\"\"\"\n",
    "This code reads the UHI intensity data from the CSV files and creates a line chart using the `plotly.graph_objects` module. \n",
    "The resulting chart displays the UHI intensity values for maximum, mean, and minimum temperature values across different months. \n",
    "The chart includes a title, x-axis label, and y-axis label.\n",
    "\n",
    "To run this code and visualize the UHI intensity values, make sure you have the necessary libraries imported and the required CSV \n",
    "files available in the specified file paths.\n",
    "\"\"\"\n",
    "\n",
    "df_max = pd.read_csv(\"UHI_intensityMaximum T.csv\")\n",
    "df_mean = pd.read_csv(\"UHI_intensityMean T.csv\")\n",
    "df_min = pd.read_csv(\"UHI_intensityMinimum T.csv\")\n",
    "\n",
    "\n",
    "fig = go.Figure()\n",
    "\n",
    "fig.add_trace(go.Scatter(x=df_max[\"Month\"], y=df_max[\"Mean\"],\n",
    "                    mode='lines+markers',\n",
    "                    name='Max'))\n",
    "fig.add_trace(go.Scatter(x=df_mean[\"Month\"], y=df_mean[\"Mean\"],\n",
    "                    mode='lines+markers',\n",
    "                    name='Mean'))\n",
    "fig.add_trace(go.Scatter(x=df_min[\"Month\"], y=df_min[\"Mean\"],\n",
    "                    mode='lines+markers',\n",
    "                    name='Min'))\n",
    "\n",
    "\n",
    "fig.update_layout(\n",
    "    updatemenus=[\n",
    "        dict(\n",
    "            active=0,\n",
    "            buttons=list([\n",
    "                dict(label=\"All\",\n",
    "                     method=\"update\",\n",
    "                     args=[{\"visible\": [True, True, True]},\n",
    "                           {\"title\": \"UHI Intensity for Max, Min and Mean Values of Temperature\",\n",
    "                            \"annotations\": []}]),\n",
    "                dict(label=\"Min\",\n",
    "                     method=\"update\",\n",
    "                     args=[{\"visible\": [False, False, True]},\n",
    "                           {\"title\": \"UHI Intensity for Minimum Values of Temperature\",\n",
    "                            \"annotations\": []}]),\n",
    "                dict(label=\"Max\",\n",
    "                     method=\"update\",\n",
    "                     args=[{\"visible\": [True, False, False]},\n",
    "                           {\"title\": \"UHI Intensity for Maximum Values of Temperature\",\n",
    "                            \"annotations\": []}]),\n",
    "                dict(label=\"Mean\",\n",
    "                     method=\"update\",\n",
    "                     args=[{\"visible\": [False, True, False]},\n",
    "                           {\"title\": \"UHI Intensity for Mean Values of Temperature\",\n",
    "                            \"annotations\": []}]),\n",
    "            ]),\n",
    "        )\n",
    "    ])\n",
    "\n",
    "fig.update_layout(title='UHI Intensity for Max, Min and Mean Values of Temperature',\n",
    "                   xaxis_title='Month',\n",
    "                   yaxis_title='UHI Intensity')\n",
    "\n",
    "fig.show()"
   ]
  },
  {
   "cell_type": "markdown",
   "metadata": {},
   "source": [
    "### Discussion: \n",
    "\n",
    "a) which season has the strongest urban heat island effect and what are the possible causes.\n",
    "\n",
    "* Answer: \n",
    "\n",
    "b) which temperature (mean, maximum, or minimum) yields the strongest urban heat island effect. What are the possible causes?\n",
    "\n",
    "* Answer: \n",
    "\n"
   ]
  },
  {
   "cell_type": "markdown",
   "metadata": {},
   "source": [
    "## Part 2"
   ]
  },
  {
   "cell_type": "markdown",
   "metadata": {},
   "source": [
    "* Calculate the urban heat island intensity using daily mean, maximum, and minimum temperatures for each day (no figure or value is needed). Average the daily urban heat island intensities over the summer season (including June, July, August) in the period of 2000-2016 and report the values. Report the values for daily mean, maximum, and minimum temperature separately. Here you should not take the simple average of June, July, and August results you obtain in 1 because June/July/August have different numbers of days, but you also show not report values for June, July, August separately. All I want is the values for the summer season, not for individual months in the summer season.\n"
   ]
  },
  {
   "cell_type": "code",
   "execution_count": 23,
   "metadata": {},
   "outputs": [],
   "source": [
    "\n",
    "def UHI_Summer_Intensity(urband_file_name, rurald_file_name, T_type):\n",
    "\n",
    "    df_urban = pd.read_csv(urband_file_name)\n",
    "    df_rural = pd.read_csv(rurald_file_name)\n",
    "\n",
    "    years = 2000\n",
    "\n",
    "    UHI_summer = pd.DataFrame()\n",
    "    urban_T_summer = pd.DataFrame()\n",
    "    rural_T_summer = pd.DataFrame()\n",
    "\n",
    "    rural_list = []\n",
    "    urban_list = []\n",
    "\n",
    "    for ii in range(17):\n",
    "\n",
    "        df_rural_year = df_rural.loc[df_rural['year'] == years]\n",
    "        df_urban_year = df_urban.loc[df_urban['year'] == years]\n",
    "\n",
    "        j = 6\n",
    "\n",
    "        for jj in range(3):\n",
    "\n",
    "            df_rural_month = df_rural_year.loc[df_rural_year['month'] == j]\n",
    "            list1 = df_rural_month.loc[:, T_type].tolist()\n",
    "            rural_list = list1 + rural_list\n",
    "            df_urban_month = df_urban_year.loc[df_urban_year['month'] == j]\n",
    "            list2 = df_urban_month.loc[:, T_type].tolist()\n",
    "            urban_list = list2 + urban_list\n",
    "                \n",
    "            j = j + 1\n",
    "\n",
    "\n",
    "        summer_temp_rural_C = [FahrenheitToCelsius(f) for f in rural_list]\n",
    "        summer_temp_urban_C = [FahrenheitToCelsius(f) for f in urban_list]\n",
    "        UHI_summer_intensity_C = np.array(summer_temp_urban_C) - np.array(summer_temp_rural_C)\n",
    "\n",
    "        urban_T_summer[T_type + \" \" + str(years)] = summer_temp_urban_C\n",
    "        rural_T_summer[T_type + \" \" + str(years)] = summer_temp_rural_C\n",
    "        UHI_summer[\"UHI\" + T_type + \" \" + str(years)] = UHI_summer_intensity_C\n",
    "\n",
    "        rural_list = []\n",
    "        urban_list = []\n",
    "\n",
    "        years = years + 1\n",
    "        \n",
    "    urban_T_summer['Mean'] = urban_T_summer.apply(lambda x: x.mean(), axis=1)\n",
    "    rural_T_summer['Mean'] = rural_T_summer.apply(lambda x: x.mean(), axis=1)\n",
    "    UHI_summer['Mean'] = UHI_summer.apply(lambda x: x.mean(), axis=1)\n",
    "\n",
    "    UHI_summer.to_csv(\"UHI_summer \" + T_type + \".csv\")\n",
    "    urban_T_summer.to_csv(\"Urban_summer \" + T_type + \".csv\")\n",
    "    rural_T_summer.to_csv(\"Rural_summer \" + T_type + \".csv\")\n"
   ]
  },
  {
   "cell_type": "code",
   "execution_count": 24,
   "metadata": {},
   "outputs": [],
   "source": [
    "T_type = [\"Mean T\", \"Maximum T\", \"Minimum T\"]\n",
    "\n",
    "for Temperature_type in T_type:\n",
    "\n",
    "    UHI_Summer_Intensity(\"urbanNaN_Clean.csv\", \"ruralNaN_Clean.csv\", Temperature_type)\n",
    "    \n"
   ]
  },
  {
   "cell_type": "code",
   "execution_count": 45,
   "metadata": {},
   "outputs": [
    {
     "data": {
      "application/vnd.plotly.v1+json": {
       "config": {
        "plotlyServerURL": "https://plotly.com"
       },
       "data": [
        {
         "cells": {
          "align": "left",
          "values": [
           [
            1.8790849673202616,
            1.830065359477124,
            1.6503267973856215,
            2.0424836601307184,
            2.0588235294117645,
            1.9934640522875813,
            2.009803921568627,
            1.9607843137254903,
            2.205882352941177,
            1.519607843137255,
            1.4869281045751637,
            1.862745098039216,
            1.8464052287581705,
            1.7156862745098034,
            1.8464052287581705,
            2.3039215686274503,
            2.026143790849673,
            1.9771241830065365,
            1.977124183006536,
            1.8790849673202608,
            2.0588235294117645,
            2.238562091503268,
            1.84640522875817,
            2.38562091503268,
            1.977124183006536,
            2.0588235294117645,
            2.075163398692811,
            1.6666666666666663,
            1.9771241830065356,
            1.944444444444444,
            2.173202614379084,
            2.0588235294117654,
            2.1405228758169934,
            2.483660130718955,
            1.8137254901960784,
            1.9444444444444449,
            2.1078431372549016,
            2.222222222222222,
            1.9771241830065356,
            2.3202614379084965,
            1.7973856209150323,
            2.238562091503267,
            2.434640522875817,
            1.9934640522875813,
            1.7973856209150323,
            1.96078431372549,
            1.9771241830065356,
            2.598039215686274,
            2.0424836601307192,
            2.156862745098039,
            1.7320261437908495,
            1.9281045751633976,
            1.7320261437908495,
            2.0915032679738563,
            1.9771241830065356,
            1.764705882352941,
            2.0424836601307192,
            1.7156862745098045,
            1.9281045751633987,
            1.6666666666666663,
            1.84640522875817,
            2.173202614379085,
            2.009803921568627,
            1.6503267973856206,
            1.977124183006536,
            1.7320261437908488,
            1.42156862745098,
            1.5849673202614387,
            1.830065359477124,
            2.1405228758169934,
            2.1405228758169934,
            2.189542483660131,
            2.1568627450980395,
            1.336805555555556,
            1.5522875816993469,
            1.1928104575163394,
            1.7810457516339868,
            2.1568627450980395,
            1.862745098039216,
            1.8300653594771243,
            1.8464052287581705,
            1.8627450980392155,
            1.993464052287582,
            1.96078431372549,
            2.3039215686274512,
            2.430555555555556,
            1.96078431372549,
            1.8790849673202616,
            1.7483660130718954,
            1.944444444444444,
            1.805555555555556,
            2.2916666666666656
           ]
          ]
         },
         "header": {
          "align": "left",
          "fill": {
           "color": "rgb(8, 81, 156)"
          },
          "font": {
           "color": "white"
          },
          "line": {
           "color": "rgb(8, 81, 156)"
          },
          "values": [
           "Mean"
          ]
         },
         "type": "table"
        }
       ],
       "layout": {
        "template": {
         "data": {
          "bar": [
           {
            "error_x": {
             "color": "#2a3f5f"
            },
            "error_y": {
             "color": "#2a3f5f"
            },
            "marker": {
             "line": {
              "color": "#E5ECF6",
              "width": 0.5
             },
             "pattern": {
              "fillmode": "overlay",
              "size": 10,
              "solidity": 0.2
             }
            },
            "type": "bar"
           }
          ],
          "barpolar": [
           {
            "marker": {
             "line": {
              "color": "#E5ECF6",
              "width": 0.5
             },
             "pattern": {
              "fillmode": "overlay",
              "size": 10,
              "solidity": 0.2
             }
            },
            "type": "barpolar"
           }
          ],
          "carpet": [
           {
            "aaxis": {
             "endlinecolor": "#2a3f5f",
             "gridcolor": "white",
             "linecolor": "white",
             "minorgridcolor": "white",
             "startlinecolor": "#2a3f5f"
            },
            "baxis": {
             "endlinecolor": "#2a3f5f",
             "gridcolor": "white",
             "linecolor": "white",
             "minorgridcolor": "white",
             "startlinecolor": "#2a3f5f"
            },
            "type": "carpet"
           }
          ],
          "choropleth": [
           {
            "colorbar": {
             "outlinewidth": 0,
             "ticks": ""
            },
            "type": "choropleth"
           }
          ],
          "contour": [
           {
            "colorbar": {
             "outlinewidth": 0,
             "ticks": ""
            },
            "colorscale": [
             [
              0,
              "#0d0887"
             ],
             [
              0.1111111111111111,
              "#46039f"
             ],
             [
              0.2222222222222222,
              "#7201a8"
             ],
             [
              0.3333333333333333,
              "#9c179e"
             ],
             [
              0.4444444444444444,
              "#bd3786"
             ],
             [
              0.5555555555555556,
              "#d8576b"
             ],
             [
              0.6666666666666666,
              "#ed7953"
             ],
             [
              0.7777777777777778,
              "#fb9f3a"
             ],
             [
              0.8888888888888888,
              "#fdca26"
             ],
             [
              1,
              "#f0f921"
             ]
            ],
            "type": "contour"
           }
          ],
          "contourcarpet": [
           {
            "colorbar": {
             "outlinewidth": 0,
             "ticks": ""
            },
            "type": "contourcarpet"
           }
          ],
          "heatmap": [
           {
            "colorbar": {
             "outlinewidth": 0,
             "ticks": ""
            },
            "colorscale": [
             [
              0,
              "#0d0887"
             ],
             [
              0.1111111111111111,
              "#46039f"
             ],
             [
              0.2222222222222222,
              "#7201a8"
             ],
             [
              0.3333333333333333,
              "#9c179e"
             ],
             [
              0.4444444444444444,
              "#bd3786"
             ],
             [
              0.5555555555555556,
              "#d8576b"
             ],
             [
              0.6666666666666666,
              "#ed7953"
             ],
             [
              0.7777777777777778,
              "#fb9f3a"
             ],
             [
              0.8888888888888888,
              "#fdca26"
             ],
             [
              1,
              "#f0f921"
             ]
            ],
            "type": "heatmap"
           }
          ],
          "heatmapgl": [
           {
            "colorbar": {
             "outlinewidth": 0,
             "ticks": ""
            },
            "colorscale": [
             [
              0,
              "#0d0887"
             ],
             [
              0.1111111111111111,
              "#46039f"
             ],
             [
              0.2222222222222222,
              "#7201a8"
             ],
             [
              0.3333333333333333,
              "#9c179e"
             ],
             [
              0.4444444444444444,
              "#bd3786"
             ],
             [
              0.5555555555555556,
              "#d8576b"
             ],
             [
              0.6666666666666666,
              "#ed7953"
             ],
             [
              0.7777777777777778,
              "#fb9f3a"
             ],
             [
              0.8888888888888888,
              "#fdca26"
             ],
             [
              1,
              "#f0f921"
             ]
            ],
            "type": "heatmapgl"
           }
          ],
          "histogram": [
           {
            "marker": {
             "pattern": {
              "fillmode": "overlay",
              "size": 10,
              "solidity": 0.2
             }
            },
            "type": "histogram"
           }
          ],
          "histogram2d": [
           {
            "colorbar": {
             "outlinewidth": 0,
             "ticks": ""
            },
            "colorscale": [
             [
              0,
              "#0d0887"
             ],
             [
              0.1111111111111111,
              "#46039f"
             ],
             [
              0.2222222222222222,
              "#7201a8"
             ],
             [
              0.3333333333333333,
              "#9c179e"
             ],
             [
              0.4444444444444444,
              "#bd3786"
             ],
             [
              0.5555555555555556,
              "#d8576b"
             ],
             [
              0.6666666666666666,
              "#ed7953"
             ],
             [
              0.7777777777777778,
              "#fb9f3a"
             ],
             [
              0.8888888888888888,
              "#fdca26"
             ],
             [
              1,
              "#f0f921"
             ]
            ],
            "type": "histogram2d"
           }
          ],
          "histogram2dcontour": [
           {
            "colorbar": {
             "outlinewidth": 0,
             "ticks": ""
            },
            "colorscale": [
             [
              0,
              "#0d0887"
             ],
             [
              0.1111111111111111,
              "#46039f"
             ],
             [
              0.2222222222222222,
              "#7201a8"
             ],
             [
              0.3333333333333333,
              "#9c179e"
             ],
             [
              0.4444444444444444,
              "#bd3786"
             ],
             [
              0.5555555555555556,
              "#d8576b"
             ],
             [
              0.6666666666666666,
              "#ed7953"
             ],
             [
              0.7777777777777778,
              "#fb9f3a"
             ],
             [
              0.8888888888888888,
              "#fdca26"
             ],
             [
              1,
              "#f0f921"
             ]
            ],
            "type": "histogram2dcontour"
           }
          ],
          "mesh3d": [
           {
            "colorbar": {
             "outlinewidth": 0,
             "ticks": ""
            },
            "type": "mesh3d"
           }
          ],
          "parcoords": [
           {
            "line": {
             "colorbar": {
              "outlinewidth": 0,
              "ticks": ""
             }
            },
            "type": "parcoords"
           }
          ],
          "pie": [
           {
            "automargin": true,
            "type": "pie"
           }
          ],
          "scatter": [
           {
            "fillpattern": {
             "fillmode": "overlay",
             "size": 10,
             "solidity": 0.2
            },
            "type": "scatter"
           }
          ],
          "scatter3d": [
           {
            "line": {
             "colorbar": {
              "outlinewidth": 0,
              "ticks": ""
             }
            },
            "marker": {
             "colorbar": {
              "outlinewidth": 0,
              "ticks": ""
             }
            },
            "type": "scatter3d"
           }
          ],
          "scattercarpet": [
           {
            "marker": {
             "colorbar": {
              "outlinewidth": 0,
              "ticks": ""
             }
            },
            "type": "scattercarpet"
           }
          ],
          "scattergeo": [
           {
            "marker": {
             "colorbar": {
              "outlinewidth": 0,
              "ticks": ""
             }
            },
            "type": "scattergeo"
           }
          ],
          "scattergl": [
           {
            "marker": {
             "colorbar": {
              "outlinewidth": 0,
              "ticks": ""
             }
            },
            "type": "scattergl"
           }
          ],
          "scattermapbox": [
           {
            "marker": {
             "colorbar": {
              "outlinewidth": 0,
              "ticks": ""
             }
            },
            "type": "scattermapbox"
           }
          ],
          "scatterpolar": [
           {
            "marker": {
             "colorbar": {
              "outlinewidth": 0,
              "ticks": ""
             }
            },
            "type": "scatterpolar"
           }
          ],
          "scatterpolargl": [
           {
            "marker": {
             "colorbar": {
              "outlinewidth": 0,
              "ticks": ""
             }
            },
            "type": "scatterpolargl"
           }
          ],
          "scatterternary": [
           {
            "marker": {
             "colorbar": {
              "outlinewidth": 0,
              "ticks": ""
             }
            },
            "type": "scatterternary"
           }
          ],
          "surface": [
           {
            "colorbar": {
             "outlinewidth": 0,
             "ticks": ""
            },
            "colorscale": [
             [
              0,
              "#0d0887"
             ],
             [
              0.1111111111111111,
              "#46039f"
             ],
             [
              0.2222222222222222,
              "#7201a8"
             ],
             [
              0.3333333333333333,
              "#9c179e"
             ],
             [
              0.4444444444444444,
              "#bd3786"
             ],
             [
              0.5555555555555556,
              "#d8576b"
             ],
             [
              0.6666666666666666,
              "#ed7953"
             ],
             [
              0.7777777777777778,
              "#fb9f3a"
             ],
             [
              0.8888888888888888,
              "#fdca26"
             ],
             [
              1,
              "#f0f921"
             ]
            ],
            "type": "surface"
           }
          ],
          "table": [
           {
            "cells": {
             "fill": {
              "color": "#EBF0F8"
             },
             "line": {
              "color": "white"
             }
            },
            "header": {
             "fill": {
              "color": "#C8D4E3"
             },
             "line": {
              "color": "white"
             }
            },
            "type": "table"
           }
          ]
         },
         "layout": {
          "annotationdefaults": {
           "arrowcolor": "#2a3f5f",
           "arrowhead": 0,
           "arrowwidth": 1
          },
          "autotypenumbers": "strict",
          "coloraxis": {
           "colorbar": {
            "outlinewidth": 0,
            "ticks": ""
           }
          },
          "colorscale": {
           "diverging": [
            [
             0,
             "#8e0152"
            ],
            [
             0.1,
             "#c51b7d"
            ],
            [
             0.2,
             "#de77ae"
            ],
            [
             0.3,
             "#f1b6da"
            ],
            [
             0.4,
             "#fde0ef"
            ],
            [
             0.5,
             "#f7f7f7"
            ],
            [
             0.6,
             "#e6f5d0"
            ],
            [
             0.7,
             "#b8e186"
            ],
            [
             0.8,
             "#7fbc41"
            ],
            [
             0.9,
             "#4d9221"
            ],
            [
             1,
             "#276419"
            ]
           ],
           "sequential": [
            [
             0,
             "#0d0887"
            ],
            [
             0.1111111111111111,
             "#46039f"
            ],
            [
             0.2222222222222222,
             "#7201a8"
            ],
            [
             0.3333333333333333,
             "#9c179e"
            ],
            [
             0.4444444444444444,
             "#bd3786"
            ],
            [
             0.5555555555555556,
             "#d8576b"
            ],
            [
             0.6666666666666666,
             "#ed7953"
            ],
            [
             0.7777777777777778,
             "#fb9f3a"
            ],
            [
             0.8888888888888888,
             "#fdca26"
            ],
            [
             1,
             "#f0f921"
            ]
           ],
           "sequentialminus": [
            [
             0,
             "#0d0887"
            ],
            [
             0.1111111111111111,
             "#46039f"
            ],
            [
             0.2222222222222222,
             "#7201a8"
            ],
            [
             0.3333333333333333,
             "#9c179e"
            ],
            [
             0.4444444444444444,
             "#bd3786"
            ],
            [
             0.5555555555555556,
             "#d8576b"
            ],
            [
             0.6666666666666666,
             "#ed7953"
            ],
            [
             0.7777777777777778,
             "#fb9f3a"
            ],
            [
             0.8888888888888888,
             "#fdca26"
            ],
            [
             1,
             "#f0f921"
            ]
           ]
          },
          "colorway": [
           "#636efa",
           "#EF553B",
           "#00cc96",
           "#ab63fa",
           "#FFA15A",
           "#19d3f3",
           "#FF6692",
           "#B6E880",
           "#FF97FF",
           "#FECB52"
          ],
          "font": {
           "color": "#2a3f5f"
          },
          "geo": {
           "bgcolor": "white",
           "lakecolor": "white",
           "landcolor": "#E5ECF6",
           "showlakes": true,
           "showland": true,
           "subunitcolor": "white"
          },
          "hoverlabel": {
           "align": "left"
          },
          "hovermode": "closest",
          "mapbox": {
           "style": "light"
          },
          "paper_bgcolor": "white",
          "plot_bgcolor": "#E5ECF6",
          "polar": {
           "angularaxis": {
            "gridcolor": "white",
            "linecolor": "white",
            "ticks": ""
           },
           "bgcolor": "#E5ECF6",
           "radialaxis": {
            "gridcolor": "white",
            "linecolor": "white",
            "ticks": ""
           }
          },
          "scene": {
           "xaxis": {
            "backgroundcolor": "#E5ECF6",
            "gridcolor": "white",
            "gridwidth": 2,
            "linecolor": "white",
            "showbackground": true,
            "ticks": "",
            "zerolinecolor": "white"
           },
           "yaxis": {
            "backgroundcolor": "#E5ECF6",
            "gridcolor": "white",
            "gridwidth": 2,
            "linecolor": "white",
            "showbackground": true,
            "ticks": "",
            "zerolinecolor": "white"
           },
           "zaxis": {
            "backgroundcolor": "#E5ECF6",
            "gridcolor": "white",
            "gridwidth": 2,
            "linecolor": "white",
            "showbackground": true,
            "ticks": "",
            "zerolinecolor": "white"
           }
          },
          "shapedefaults": {
           "line": {
            "color": "#2a3f5f"
           }
          },
          "ternary": {
           "aaxis": {
            "gridcolor": "white",
            "linecolor": "white",
            "ticks": ""
           },
           "baxis": {
            "gridcolor": "white",
            "linecolor": "white",
            "ticks": ""
           },
           "bgcolor": "#E5ECF6",
           "caxis": {
            "gridcolor": "white",
            "linecolor": "white",
            "ticks": ""
           }
          },
          "title": {
           "x": 0.05
          },
          "xaxis": {
           "automargin": true,
           "gridcolor": "white",
           "linecolor": "white",
           "ticks": "",
           "title": {
            "standoff": 15
           },
           "zerolinecolor": "white",
           "zerolinewidth": 2
          },
          "yaxis": {
           "automargin": true,
           "gridcolor": "white",
           "linecolor": "white",
           "ticks": "",
           "title": {
            "standoff": 15
           },
           "zerolinecolor": "white",
           "zerolinewidth": 2
          }
         }
        }
       }
      }
     },
     "metadata": {},
     "output_type": "display_data"
    }
   ],
   "source": [
    "df_mean1 = pd.read_csv(\"UHI_summer Mean T.csv\")\n",
    "df_mean = list(df_mean1.loc[:,'Mean'])\n",
    "\n",
    "fig = go.Figure(data=[go.Table(\n",
    "    header=dict(values=['Mean'],\n",
    "                line_color='rgb(8, 81, 156)', fill_color='rgb(8, 81, 156)', font=dict(color='white'),\n",
    "                align='left'),\n",
    "    cells=dict(values=[df_mean1.Mean],\n",
    "               align='left'))\n",
    "])\n",
    "fig.show()"
   ]
  },
  {
   "cell_type": "markdown",
   "metadata": {},
   "source": [
    "* Focus on daily results in the summer (June, July, August) seasons in the period of 2000-2016 (you should have 17 years x 92 summer days per year = 1564 summer days). Plot the daily urban heat island intensity (use different subplots or subfigures for daily mean, maximum, and minimum temperatures) as a function of the daily mean temperature of the rural site and fit a linear relation between the two. How does the urban heat island intensity change with the mean temperature of the rural site?\n"
   ]
  },
  {
   "cell_type": "code",
   "execution_count": null,
   "metadata": {},
   "outputs": [],
   "source": [
    "df_max = pd.read_csv(\"UHI_summer Maximum T.csv\")\n",
    "df_mean = pd.read_csv(\"UHI_summer Mean T.csv\")\n",
    "df_min = pd.read_csv(\"UHI_summer Minimum T.csv\")\n",
    "\n",
    "\n",
    "fig = go.Figure()\n",
    "\n",
    "fig.add_trace(go.Scatter(x=df_max[\"Month\"], y=df_max[\"Mean\"],\n",
    "                    mode='lines+markers',\n",
    "                    name='Max'))\n",
    "fig.add_trace(go.Scatter(x=df_mean[\"Month\"], y=df_mean[\"Mean\"],\n",
    "                    mode='lines+markers',\n",
    "                    name='Mean'))\n",
    "fig.add_trace(go.Scatter(x=df_min[\"Month\"], y=df_min[\"Mean\"],\n",
    "                    mode='lines+markers',\n",
    "                    name='Min'))\n",
    "\n",
    "\n",
    "fig.update_layout(\n",
    "    updatemenus=[\n",
    "        dict(\n",
    "            active=0,\n",
    "            buttons=list([\n",
    "                dict(label=\"All\",\n",
    "                     method=\"update\",\n",
    "                     args=[{\"visible\": [True, True, True]},\n",
    "                           {\"title\": \"UHI Intensity for Max, Min and Mean Values of Temperature\",\n",
    "                            \"annotations\": []}]),\n",
    "                dict(label=\"Min\",\n",
    "                     method=\"update\",\n",
    "                     args=[{\"visible\": [False, False, True]},\n",
    "                           {\"title\": \"UHI Intensity for Minimum Values of Temperature\",\n",
    "                            \"annotations\": []}]),\n",
    "                dict(label=\"Max\",\n",
    "                     method=\"update\",\n",
    "                     args=[{\"visible\": [True, False, False]},\n",
    "                           {\"title\": \"UHI Intensity for Maximum Values of Temperature\",\n",
    "                            \"annotations\": []}]),\n",
    "                dict(label=\"Mean\",\n",
    "                     method=\"update\",\n",
    "                     args=[{\"visible\": [False, True, False]},\n",
    "                           {\"title\": \"UHI Intensity for Mean Values of Temperature\",\n",
    "                            \"annotations\": []}]),\n",
    "            ]),\n",
    "        )\n",
    "    ])\n",
    "\n",
    "fig.update_layout(title='UHI Intensity for Max, Min and Mean Values of Temperature',\n",
    "                   xaxis_title='Month',\n",
    "                   yaxis_title='UHI Intensity')\n",
    "\n",
    "fig.show()"
   ]
  }
 ],
 "metadata": {
  "kernelspec": {
   "display_name": "Python 3",
   "language": "python",
   "name": "python3"
  },
  "language_info": {
   "codemirror_mode": {
    "name": "ipython",
    "version": 3
   },
   "file_extension": ".py",
   "mimetype": "text/x-python",
   "name": "python",
   "nbconvert_exporter": "python",
   "pygments_lexer": "ipython3",
   "version": "3.7.6"
  }
 },
 "nbformat": 4,
 "nbformat_minor": 2
}
