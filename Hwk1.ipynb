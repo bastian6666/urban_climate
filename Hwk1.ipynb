{
 "cells": [
  {
   "cell_type": "markdown",
   "metadata": {},
   "source": [
    "# Urban Climate Homework 1"
   ]
  },
  {
   "cell_type": "code",
   "execution_count": 1,
   "metadata": {},
   "outputs": [],
   "source": [
    "import pandas as pd\n",
    "import plotly.graph_objects as go\n",
    "import calendar\n",
    "import numpy as np\n",
    "from sklearn.linear_model import LinearRegression"
   ]
  },
  {
   "cell_type": "markdown",
   "metadata": {},
   "source": [
    "## Cleaning data"
   ]
  },
  {
   "cell_type": "code",
   "execution_count": 2,
   "metadata": {},
   "outputs": [],
   "source": [
    "class data_explore: \n",
    "\n",
    "    \"\"\"\n",
    "    A class for exploring and cleaning data.\n",
    "\n",
    "    Attributes:\n",
    "        df (DataFrame): The input data frame.\n",
    "        name (str): The name of the file.\n",
    "\n",
    "    Methods:\n",
    "        data_cleaning(): Cleans the data by dropping rows with -9999 values and saves the cleaned data to a CSV file.\n",
    "    \"\"\"\n",
    "\n",
    "    def __init__(self, df, file_name) -> None:\n",
    "\n",
    "        self.df = df\n",
    "        self.name = file_name\n",
    "\n",
    "        \"\"\"\n",
    "        Initializes the data_explore object.\n",
    "\n",
    "        Args:\n",
    "            df (DataFrame): The input data frame.\n",
    "            file_name (str): The name of the file.\n",
    "        \"\"\"\n",
    "\n",
    "    def data_celaning(self):\n",
    "\n",
    "        \"\"\"\n",
    "        Cleans the data by changing rows with -9999 values to NaN values and saves the cleaned data to a CSV file.\n",
    "        \"\"\"\n",
    "\n",
    "        df_columns = [\"year\", \"month\", \"day\", \"Mean T\", \"Maximum T\", \"Minimum T\"]\n",
    "\n",
    "        self.df.columns = df_columns\n",
    "\n",
    "        # print((self.df == -9999).any())\n",
    "\n",
    "        for col in df_columns:\n",
    "            # print(\"Column name = \", col)\n",
    "\n",
    "            index_v = self.df[self.df[col] == -9999].index.tolist()\n",
    "\n",
    "            df_clean = self.df.drop(self.df[self.df[col] == -9999].index)\n",
    "            df_clean_nan = self.df.replace(-9999,np.NaN)\n",
    "            \n",
    "\n",
    "        # print((df_clean == -9999).any())\n",
    "\n",
    "        df_clean.to_csv(self.name + \"_Clean.csv\")\n",
    "        df_clean_nan.to_csv(self.name + \"NaN_Clean.csv\")\n",
    "\n",
    "        return index_v, df_clean\n",
    "\n",
    "\n",
    "\n"
   ]
  },
  {
   "cell_type": "markdown",
   "metadata": {},
   "source": [
    "#### Small index correction"
   ]
  },
  {
   "cell_type": "code",
   "execution_count": 3,
   "metadata": {},
   "outputs": [],
   "source": [
    "\n",
    "df_urban = pd.read_csv(\"save_DMH2.csv\")\n",
    "df_rural = pd.read_csv(\"save_BWI2.csv\")\n",
    "\n",
    "index_values_rural, clean_rural_df = data_explore(df_rural, \"rural\").data_celaning()\n",
    "index_values_urban, clean_urban_df= data_explore(df_urban, \"urban\").data_celaning()\n",
    "\n",
    "# Since we only eliminate values from the Urban DataFrame, we need to eliminate that rows in the rural data.\n",
    "\n",
    "df_clean = clean_rural_df.drop(index_values_urban)\n",
    "\n",
    "df_clean.to_csv(\"rural_Clean.csv\")\n"
   ]
  },
  {
   "cell_type": "markdown",
   "metadata": {},
   "source": [
    "## Part 1"
   ]
  },
  {
   "cell_type": "markdown",
   "metadata": {},
   "source": [
    "### UHI Intensity DataFrame"
   ]
  },
  {
   "cell_type": "markdown",
   "metadata": {},
   "source": [
    "\n",
    "* Calculate the urban heat island intensity using daily mean, maximum, and minimum temperatures for each day and then average them to each month (no figure or value is needed). Then average the monthly results from 2000 to 2016. For example, you should average all the January results from 2000 to 2016 to obtain an averaged January urban heat island effect. Plot the averaged urban heat islands as a function of month (you can think of this as the averaged seasonal cycle of urban heat island). Use different colors or markers for daily mean, maximum, and minimum temperatures but plot them on the same figure.\n"
   ]
  },
  {
   "cell_type": "markdown",
   "metadata": {},
   "source": [
    "In order to calculate Urban Heat Island Intensity we can use: \n",
    "\n",
    "$$ UHI_{\\text{Intensity}} = \\Delta T = T_{urban} - T_{rural}$$"
   ]
  },
  {
   "cell_type": "code",
   "execution_count": 4,
   "metadata": {},
   "outputs": [],
   "source": [
    "def UHI_Intensity(urband_file_name, rurald_file_name, T_type):\n",
    "\n",
    "    \"\"\"\n",
    "    Calculates the Urban Heat Island (UHI) intensity using temperature data from urban and rural areas.\n",
    "\n",
    "    Args:\n",
    "        urband_file_name (str): The file name of the urban temperature data.\n",
    "        rurald_file_name (str): The file name of the rural temperature data.\n",
    "        T_type (str): The type of temperature to calculate the UHI intensity for.\n",
    "\n",
    "    Returns:\n",
    "        None. The calculated UHI intensity values are saved to a CSV file.\n",
    "    \"\"\"\n",
    "\n",
    "    df_urban = pd.read_csv(urband_file_name)\n",
    "    df_rural = pd.read_csv(rurald_file_name)\n",
    "\n",
    "    m = calendar.month_name[1:]\n",
    "\n",
    "    mean_month_temp_rural = []\n",
    "    mean_month_temp_urban = []\n",
    "\n",
    "    UHI_df = pd.DataFrame()\n",
    "    temp_df = pd.DataFrame()\n",
    "\n",
    "    temp_df[\"Month\"] = m\n",
    "    UHI_df[\"Month\"] = m\n",
    "\n",
    "    years = 2000\n",
    "\n",
    "    for ii in range(17):\n",
    "\n",
    "        j = 1\n",
    "\n",
    "        df_rural_year = df_rural.loc[df_rural['year'] == years]\n",
    "        df_urban_year = df_urban.loc[df_urban['year'] == years]\n",
    "\n",
    "        for jj in range(len(temp_df)):\n",
    "\n",
    "            df_rural_month = df_rural_year.loc[df_rural_year['month'] == j]\n",
    "            df_urban_month = df_urban_year.loc[df_urban_year['month'] == j]\n",
    "            \n",
    "            Mean_rural = df_rural_month.loc[:, T_type].mean()\n",
    "            Mean_urban = df_urban_month.loc[:, T_type].mean()\n",
    "\n",
    "\n",
    "            mean_month_temp_rural.append(Mean_rural)\n",
    "            mean_month_temp_urban.append(Mean_urban)\n",
    "            \n",
    "            j = j + 1\n",
    "\n",
    "        mean_month_temp_rural_C = [FahrenheitToCelsius(f) for f in mean_month_temp_rural]\n",
    "        mean_month_temp_urban_C = [FahrenheitToCelsius(f) for f in mean_month_temp_urban]\n",
    "\n",
    "        UHI_month_intensity_C = np.array(mean_month_temp_urban_C) - np.array(mean_month_temp_rural_C)\n",
    "        \n",
    "        temp_df[T_type + \"_rural \" + str(years)] = mean_month_temp_rural_C\n",
    "        temp_df[T_type + \"_urban \" + str(years)] = mean_month_temp_urban_C\n",
    "        UHI_df[\"UHI_intensity\" + T_type + \" \" + str(years)] = UHI_month_intensity_C\n",
    "        \n",
    "        mean_month_temp_rural = []\n",
    "        mean_month_temp_urban = []\n",
    "\n",
    "        years = years + 1\n",
    "\n",
    "\n",
    "    UHI_df['Mean'] = UHI_df.drop('Month', axis=1).apply(lambda x: x.mean(), axis=1)\n",
    "    \n",
    "    temp_df.to_csv(T_type + \"_temperature_df.csv\")\n",
    "    UHI_df.to_csv(\"UHI_intensity\" + T_type + \".csv\")\n",
    "\n"
   ]
  },
  {
   "cell_type": "code",
   "execution_count": 16,
   "metadata": {},
   "outputs": [],
   "source": [
    "\n",
    "def FahrenheitToCelsius(f):\n",
    "\n",
    "    \"\"\"\n",
    "    Converts a temperature value in Fahrenheit to Celsius.\n",
    "\n",
    "    Args:\n",
    "        f (float): The temperature value in Fahrenheit.\n",
    "\n",
    "    Returns:\n",
    "        float: The temperature value converted to Celsius.\n",
    "    \"\"\"\n",
    "\n",
    "    c = (f - 32) * 5 / 9\n",
    "\n",
    "    return c\n",
    "\n"
   ]
  },
  {
   "cell_type": "code",
   "execution_count": 5,
   "metadata": {},
   "outputs": [],
   "source": [
    "\n",
    "T_type = [\"Mean T\", \"Maximum T\", \"Minimum T\"]\n",
    "\n",
    "for Temperature_type in T_type:\n",
    "\n",
    "    UHI_Intensity(\"urban_Clean.csv\", \"rural_Clean.csv\", Temperature_type)\n",
    "        \n"
   ]
  },
  {
   "cell_type": "code",
   "execution_count": 67,
   "metadata": {},
   "outputs": [
    {
     "data": {
      "application/vnd.plotly.v1+json": {
       "config": {
        "plotlyServerURL": "https://plotly.com"
       },
       "data": [
        {
         "cells": {
          "align": "left",
          "values": [
           [
            "January",
            "February",
            "March",
            "April",
            "May",
            "June",
            "July",
            "August",
            "September",
            "October",
            "November",
            "December"
           ],
           [
            1.4787757396865553,
            1.4857006020799126,
            1.3965505557061533,
            1.5324074074074077,
            1.7104153489352731,
            1.885612567717594,
            2.021399957832595,
            1.9507695551338815,
            2.104575163398692,
            2.002951718321737,
            1.922714296446548,
            1.6967109424414932
           ],
           [
            0.4172816079836953,
            0.2814401622718046,
            0.2120418059697001,
            0.3981481481481486,
            0.5070630402698723,
            0.8731875892119303,
            0.9993674889310568,
            0.8644317942230645,
            0.7766884531590419,
            0.5850727387729293,
            0.3378784463977162,
            0.4285457711559332
           ],
           [
            2.637500878487596,
            2.776691136224605,
            2.626615162193909,
            2.772331154684096,
            2.8831962892683944,
            2.931201429060343,
            2.9696394686907026,
            3.060299388572634,
            3.4564270152505445,
            3.462998102466793,
            3.578205995041695,
            2.979166178618003
           ]
          ]
         },
         "header": {
          "align": "left",
          "fill": {
           "color": "rgb(8, 81, 156)"
          },
          "font": {
           "color": "white"
          },
          "line": {
           "color": "rgb(8, 81, 156)"
          },
          "values": [
           "Month",
           "UHI Intensity 2000 - 2016 (Mean T)",
           "UHI Intensity 2000 - 2016 (Max T)",
           "UHI Intensity 2000 - 2016 (Min T)"
          ]
         },
         "type": "table"
        }
       ],
       "layout": {
        "template": {
         "data": {
          "bar": [
           {
            "error_x": {
             "color": "#2a3f5f"
            },
            "error_y": {
             "color": "#2a3f5f"
            },
            "marker": {
             "line": {
              "color": "#E5ECF6",
              "width": 0.5
             },
             "pattern": {
              "fillmode": "overlay",
              "size": 10,
              "solidity": 0.2
             }
            },
            "type": "bar"
           }
          ],
          "barpolar": [
           {
            "marker": {
             "line": {
              "color": "#E5ECF6",
              "width": 0.5
             },
             "pattern": {
              "fillmode": "overlay",
              "size": 10,
              "solidity": 0.2
             }
            },
            "type": "barpolar"
           }
          ],
          "carpet": [
           {
            "aaxis": {
             "endlinecolor": "#2a3f5f",
             "gridcolor": "white",
             "linecolor": "white",
             "minorgridcolor": "white",
             "startlinecolor": "#2a3f5f"
            },
            "baxis": {
             "endlinecolor": "#2a3f5f",
             "gridcolor": "white",
             "linecolor": "white",
             "minorgridcolor": "white",
             "startlinecolor": "#2a3f5f"
            },
            "type": "carpet"
           }
          ],
          "choropleth": [
           {
            "colorbar": {
             "outlinewidth": 0,
             "ticks": ""
            },
            "type": "choropleth"
           }
          ],
          "contour": [
           {
            "colorbar": {
             "outlinewidth": 0,
             "ticks": ""
            },
            "colorscale": [
             [
              0,
              "#0d0887"
             ],
             [
              0.1111111111111111,
              "#46039f"
             ],
             [
              0.2222222222222222,
              "#7201a8"
             ],
             [
              0.3333333333333333,
              "#9c179e"
             ],
             [
              0.4444444444444444,
              "#bd3786"
             ],
             [
              0.5555555555555556,
              "#d8576b"
             ],
             [
              0.6666666666666666,
              "#ed7953"
             ],
             [
              0.7777777777777778,
              "#fb9f3a"
             ],
             [
              0.8888888888888888,
              "#fdca26"
             ],
             [
              1,
              "#f0f921"
             ]
            ],
            "type": "contour"
           }
          ],
          "contourcarpet": [
           {
            "colorbar": {
             "outlinewidth": 0,
             "ticks": ""
            },
            "type": "contourcarpet"
           }
          ],
          "heatmap": [
           {
            "colorbar": {
             "outlinewidth": 0,
             "ticks": ""
            },
            "colorscale": [
             [
              0,
              "#0d0887"
             ],
             [
              0.1111111111111111,
              "#46039f"
             ],
             [
              0.2222222222222222,
              "#7201a8"
             ],
             [
              0.3333333333333333,
              "#9c179e"
             ],
             [
              0.4444444444444444,
              "#bd3786"
             ],
             [
              0.5555555555555556,
              "#d8576b"
             ],
             [
              0.6666666666666666,
              "#ed7953"
             ],
             [
              0.7777777777777778,
              "#fb9f3a"
             ],
             [
              0.8888888888888888,
              "#fdca26"
             ],
             [
              1,
              "#f0f921"
             ]
            ],
            "type": "heatmap"
           }
          ],
          "heatmapgl": [
           {
            "colorbar": {
             "outlinewidth": 0,
             "ticks": ""
            },
            "colorscale": [
             [
              0,
              "#0d0887"
             ],
             [
              0.1111111111111111,
              "#46039f"
             ],
             [
              0.2222222222222222,
              "#7201a8"
             ],
             [
              0.3333333333333333,
              "#9c179e"
             ],
             [
              0.4444444444444444,
              "#bd3786"
             ],
             [
              0.5555555555555556,
              "#d8576b"
             ],
             [
              0.6666666666666666,
              "#ed7953"
             ],
             [
              0.7777777777777778,
              "#fb9f3a"
             ],
             [
              0.8888888888888888,
              "#fdca26"
             ],
             [
              1,
              "#f0f921"
             ]
            ],
            "type": "heatmapgl"
           }
          ],
          "histogram": [
           {
            "marker": {
             "pattern": {
              "fillmode": "overlay",
              "size": 10,
              "solidity": 0.2
             }
            },
            "type": "histogram"
           }
          ],
          "histogram2d": [
           {
            "colorbar": {
             "outlinewidth": 0,
             "ticks": ""
            },
            "colorscale": [
             [
              0,
              "#0d0887"
             ],
             [
              0.1111111111111111,
              "#46039f"
             ],
             [
              0.2222222222222222,
              "#7201a8"
             ],
             [
              0.3333333333333333,
              "#9c179e"
             ],
             [
              0.4444444444444444,
              "#bd3786"
             ],
             [
              0.5555555555555556,
              "#d8576b"
             ],
             [
              0.6666666666666666,
              "#ed7953"
             ],
             [
              0.7777777777777778,
              "#fb9f3a"
             ],
             [
              0.8888888888888888,
              "#fdca26"
             ],
             [
              1,
              "#f0f921"
             ]
            ],
            "type": "histogram2d"
           }
          ],
          "histogram2dcontour": [
           {
            "colorbar": {
             "outlinewidth": 0,
             "ticks": ""
            },
            "colorscale": [
             [
              0,
              "#0d0887"
             ],
             [
              0.1111111111111111,
              "#46039f"
             ],
             [
              0.2222222222222222,
              "#7201a8"
             ],
             [
              0.3333333333333333,
              "#9c179e"
             ],
             [
              0.4444444444444444,
              "#bd3786"
             ],
             [
              0.5555555555555556,
              "#d8576b"
             ],
             [
              0.6666666666666666,
              "#ed7953"
             ],
             [
              0.7777777777777778,
              "#fb9f3a"
             ],
             [
              0.8888888888888888,
              "#fdca26"
             ],
             [
              1,
              "#f0f921"
             ]
            ],
            "type": "histogram2dcontour"
           }
          ],
          "mesh3d": [
           {
            "colorbar": {
             "outlinewidth": 0,
             "ticks": ""
            },
            "type": "mesh3d"
           }
          ],
          "parcoords": [
           {
            "line": {
             "colorbar": {
              "outlinewidth": 0,
              "ticks": ""
             }
            },
            "type": "parcoords"
           }
          ],
          "pie": [
           {
            "automargin": true,
            "type": "pie"
           }
          ],
          "scatter": [
           {
            "fillpattern": {
             "fillmode": "overlay",
             "size": 10,
             "solidity": 0.2
            },
            "type": "scatter"
           }
          ],
          "scatter3d": [
           {
            "line": {
             "colorbar": {
              "outlinewidth": 0,
              "ticks": ""
             }
            },
            "marker": {
             "colorbar": {
              "outlinewidth": 0,
              "ticks": ""
             }
            },
            "type": "scatter3d"
           }
          ],
          "scattercarpet": [
           {
            "marker": {
             "colorbar": {
              "outlinewidth": 0,
              "ticks": ""
             }
            },
            "type": "scattercarpet"
           }
          ],
          "scattergeo": [
           {
            "marker": {
             "colorbar": {
              "outlinewidth": 0,
              "ticks": ""
             }
            },
            "type": "scattergeo"
           }
          ],
          "scattergl": [
           {
            "marker": {
             "colorbar": {
              "outlinewidth": 0,
              "ticks": ""
             }
            },
            "type": "scattergl"
           }
          ],
          "scattermapbox": [
           {
            "marker": {
             "colorbar": {
              "outlinewidth": 0,
              "ticks": ""
             }
            },
            "type": "scattermapbox"
           }
          ],
          "scatterpolar": [
           {
            "marker": {
             "colorbar": {
              "outlinewidth": 0,
              "ticks": ""
             }
            },
            "type": "scatterpolar"
           }
          ],
          "scatterpolargl": [
           {
            "marker": {
             "colorbar": {
              "outlinewidth": 0,
              "ticks": ""
             }
            },
            "type": "scatterpolargl"
           }
          ],
          "scatterternary": [
           {
            "marker": {
             "colorbar": {
              "outlinewidth": 0,
              "ticks": ""
             }
            },
            "type": "scatterternary"
           }
          ],
          "surface": [
           {
            "colorbar": {
             "outlinewidth": 0,
             "ticks": ""
            },
            "colorscale": [
             [
              0,
              "#0d0887"
             ],
             [
              0.1111111111111111,
              "#46039f"
             ],
             [
              0.2222222222222222,
              "#7201a8"
             ],
             [
              0.3333333333333333,
              "#9c179e"
             ],
             [
              0.4444444444444444,
              "#bd3786"
             ],
             [
              0.5555555555555556,
              "#d8576b"
             ],
             [
              0.6666666666666666,
              "#ed7953"
             ],
             [
              0.7777777777777778,
              "#fb9f3a"
             ],
             [
              0.8888888888888888,
              "#fdca26"
             ],
             [
              1,
              "#f0f921"
             ]
            ],
            "type": "surface"
           }
          ],
          "table": [
           {
            "cells": {
             "fill": {
              "color": "#EBF0F8"
             },
             "line": {
              "color": "white"
             }
            },
            "header": {
             "fill": {
              "color": "#C8D4E3"
             },
             "line": {
              "color": "white"
             }
            },
            "type": "table"
           }
          ]
         },
         "layout": {
          "annotationdefaults": {
           "arrowcolor": "#2a3f5f",
           "arrowhead": 0,
           "arrowwidth": 1
          },
          "autotypenumbers": "strict",
          "coloraxis": {
           "colorbar": {
            "outlinewidth": 0,
            "ticks": ""
           }
          },
          "colorscale": {
           "diverging": [
            [
             0,
             "#8e0152"
            ],
            [
             0.1,
             "#c51b7d"
            ],
            [
             0.2,
             "#de77ae"
            ],
            [
             0.3,
             "#f1b6da"
            ],
            [
             0.4,
             "#fde0ef"
            ],
            [
             0.5,
             "#f7f7f7"
            ],
            [
             0.6,
             "#e6f5d0"
            ],
            [
             0.7,
             "#b8e186"
            ],
            [
             0.8,
             "#7fbc41"
            ],
            [
             0.9,
             "#4d9221"
            ],
            [
             1,
             "#276419"
            ]
           ],
           "sequential": [
            [
             0,
             "#0d0887"
            ],
            [
             0.1111111111111111,
             "#46039f"
            ],
            [
             0.2222222222222222,
             "#7201a8"
            ],
            [
             0.3333333333333333,
             "#9c179e"
            ],
            [
             0.4444444444444444,
             "#bd3786"
            ],
            [
             0.5555555555555556,
             "#d8576b"
            ],
            [
             0.6666666666666666,
             "#ed7953"
            ],
            [
             0.7777777777777778,
             "#fb9f3a"
            ],
            [
             0.8888888888888888,
             "#fdca26"
            ],
            [
             1,
             "#f0f921"
            ]
           ],
           "sequentialminus": [
            [
             0,
             "#0d0887"
            ],
            [
             0.1111111111111111,
             "#46039f"
            ],
            [
             0.2222222222222222,
             "#7201a8"
            ],
            [
             0.3333333333333333,
             "#9c179e"
            ],
            [
             0.4444444444444444,
             "#bd3786"
            ],
            [
             0.5555555555555556,
             "#d8576b"
            ],
            [
             0.6666666666666666,
             "#ed7953"
            ],
            [
             0.7777777777777778,
             "#fb9f3a"
            ],
            [
             0.8888888888888888,
             "#fdca26"
            ],
            [
             1,
             "#f0f921"
            ]
           ]
          },
          "colorway": [
           "#636efa",
           "#EF553B",
           "#00cc96",
           "#ab63fa",
           "#FFA15A",
           "#19d3f3",
           "#FF6692",
           "#B6E880",
           "#FF97FF",
           "#FECB52"
          ],
          "font": {
           "color": "#2a3f5f"
          },
          "geo": {
           "bgcolor": "white",
           "lakecolor": "white",
           "landcolor": "#E5ECF6",
           "showlakes": true,
           "showland": true,
           "subunitcolor": "white"
          },
          "hoverlabel": {
           "align": "left"
          },
          "hovermode": "closest",
          "mapbox": {
           "style": "light"
          },
          "paper_bgcolor": "white",
          "plot_bgcolor": "#E5ECF6",
          "polar": {
           "angularaxis": {
            "gridcolor": "white",
            "linecolor": "white",
            "ticks": ""
           },
           "bgcolor": "#E5ECF6",
           "radialaxis": {
            "gridcolor": "white",
            "linecolor": "white",
            "ticks": ""
           }
          },
          "scene": {
           "xaxis": {
            "backgroundcolor": "#E5ECF6",
            "gridcolor": "white",
            "gridwidth": 2,
            "linecolor": "white",
            "showbackground": true,
            "ticks": "",
            "zerolinecolor": "white"
           },
           "yaxis": {
            "backgroundcolor": "#E5ECF6",
            "gridcolor": "white",
            "gridwidth": 2,
            "linecolor": "white",
            "showbackground": true,
            "ticks": "",
            "zerolinecolor": "white"
           },
           "zaxis": {
            "backgroundcolor": "#E5ECF6",
            "gridcolor": "white",
            "gridwidth": 2,
            "linecolor": "white",
            "showbackground": true,
            "ticks": "",
            "zerolinecolor": "white"
           }
          },
          "shapedefaults": {
           "line": {
            "color": "#2a3f5f"
           }
          },
          "ternary": {
           "aaxis": {
            "gridcolor": "white",
            "linecolor": "white",
            "ticks": ""
           },
           "baxis": {
            "gridcolor": "white",
            "linecolor": "white",
            "ticks": ""
           },
           "bgcolor": "#E5ECF6",
           "caxis": {
            "gridcolor": "white",
            "linecolor": "white",
            "ticks": ""
           }
          },
          "title": {
           "x": 0.05
          },
          "xaxis": {
           "automargin": true,
           "gridcolor": "white",
           "linecolor": "white",
           "ticks": "",
           "title": {
            "standoff": 15
           },
           "zerolinecolor": "white",
           "zerolinewidth": 2
          },
          "yaxis": {
           "automargin": true,
           "gridcolor": "white",
           "linecolor": "white",
           "ticks": "",
           "title": {
            "standoff": 15
           },
           "zerolinecolor": "white",
           "zerolinewidth": 2
          }
         }
        }
       }
      }
     },
     "metadata": {},
     "output_type": "display_data"
    }
   ],
   "source": [
    "df_mean = pd.read_csv(\"UHI_intensityMean T.csv\")\n",
    "df_max = pd.read_csv(\"UHI_intensityMaximum T.csv\")\n",
    "df_min = pd.read_csv(\"UHI_intensityMinimum T.csv\")\n",
    "\n",
    "fig = go.Figure(data=[go.Table(\n",
    "    header=dict(values=['Month', 'UHI Intensity 2000 - 2016 (Mean T)', 'UHI Intensity 2000 - 2016 (Max T)', 'UHI Intensity 2000 - 2016 (Min T)'],\n",
    "                line_color='rgb(8, 81, 156)', fill_color='rgb(8, 81, 156)', font=dict(color='white'),\n",
    "                align='left'),\n",
    "    cells=dict(values=[df_mean.Month, df_mean.Mean, df_max.Mean, df_min.Mean],\n",
    "               align='left'))\n",
    "])\n",
    "\n",
    "fig.show()"
   ]
  },
  {
   "cell_type": "markdown",
   "metadata": {},
   "source": [
    "### Plots"
   ]
  },
  {
   "cell_type": "code",
   "execution_count": 7,
   "metadata": {},
   "outputs": [
    {
     "data": {
      "application/vnd.plotly.v1+json": {
       "config": {
        "plotlyServerURL": "https://plotly.com"
       },
       "data": [
        {
         "mode": "lines+markers",
         "name": "Max",
         "type": "scatter",
         "x": [
          "January",
          "February",
          "March",
          "April",
          "May",
          "June",
          "July",
          "August",
          "September",
          "October",
          "November",
          "December"
         ],
         "y": [
          0.4172816079836953,
          0.2814401622718046,
          0.2120418059697001,
          0.3981481481481486,
          0.5070630402698723,
          0.8731875892119303,
          0.9993674889310568,
          0.8644317942230645,
          0.7766884531590419,
          0.5850727387729293,
          0.3378784463977162,
          0.4285457711559332
         ]
        },
        {
         "mode": "lines+markers",
         "name": "Mean",
         "type": "scatter",
         "x": [
          "January",
          "February",
          "March",
          "April",
          "May",
          "June",
          "July",
          "August",
          "September",
          "October",
          "November",
          "December"
         ],
         "y": [
          1.4787757396865553,
          1.4857006020799126,
          1.3965505557061533,
          1.5324074074074077,
          1.7104153489352731,
          1.885612567717594,
          2.021399957832595,
          1.9507695551338815,
          2.104575163398692,
          2.002951718321737,
          1.922714296446548,
          1.6967109424414932
         ]
        },
        {
         "mode": "lines+markers",
         "name": "Min",
         "type": "scatter",
         "x": [
          "January",
          "February",
          "March",
          "April",
          "May",
          "June",
          "July",
          "August",
          "September",
          "October",
          "November",
          "December"
         ],
         "y": [
          2.637500878487596,
          2.776691136224605,
          2.626615162193909,
          2.772331154684096,
          2.8831962892683944,
          2.931201429060343,
          2.9696394686907026,
          3.060299388572634,
          3.4564270152505445,
          3.462998102466793,
          3.578205995041695,
          2.979166178618003
         ]
        }
       ],
       "layout": {
        "template": {
         "data": {
          "bar": [
           {
            "error_x": {
             "color": "#2a3f5f"
            },
            "error_y": {
             "color": "#2a3f5f"
            },
            "marker": {
             "line": {
              "color": "#E5ECF6",
              "width": 0.5
             },
             "pattern": {
              "fillmode": "overlay",
              "size": 10,
              "solidity": 0.2
             }
            },
            "type": "bar"
           }
          ],
          "barpolar": [
           {
            "marker": {
             "line": {
              "color": "#E5ECF6",
              "width": 0.5
             },
             "pattern": {
              "fillmode": "overlay",
              "size": 10,
              "solidity": 0.2
             }
            },
            "type": "barpolar"
           }
          ],
          "carpet": [
           {
            "aaxis": {
             "endlinecolor": "#2a3f5f",
             "gridcolor": "white",
             "linecolor": "white",
             "minorgridcolor": "white",
             "startlinecolor": "#2a3f5f"
            },
            "baxis": {
             "endlinecolor": "#2a3f5f",
             "gridcolor": "white",
             "linecolor": "white",
             "minorgridcolor": "white",
             "startlinecolor": "#2a3f5f"
            },
            "type": "carpet"
           }
          ],
          "choropleth": [
           {
            "colorbar": {
             "outlinewidth": 0,
             "ticks": ""
            },
            "type": "choropleth"
           }
          ],
          "contour": [
           {
            "colorbar": {
             "outlinewidth": 0,
             "ticks": ""
            },
            "colorscale": [
             [
              0,
              "#0d0887"
             ],
             [
              0.1111111111111111,
              "#46039f"
             ],
             [
              0.2222222222222222,
              "#7201a8"
             ],
             [
              0.3333333333333333,
              "#9c179e"
             ],
             [
              0.4444444444444444,
              "#bd3786"
             ],
             [
              0.5555555555555556,
              "#d8576b"
             ],
             [
              0.6666666666666666,
              "#ed7953"
             ],
             [
              0.7777777777777778,
              "#fb9f3a"
             ],
             [
              0.8888888888888888,
              "#fdca26"
             ],
             [
              1,
              "#f0f921"
             ]
            ],
            "type": "contour"
           }
          ],
          "contourcarpet": [
           {
            "colorbar": {
             "outlinewidth": 0,
             "ticks": ""
            },
            "type": "contourcarpet"
           }
          ],
          "heatmap": [
           {
            "colorbar": {
             "outlinewidth": 0,
             "ticks": ""
            },
            "colorscale": [
             [
              0,
              "#0d0887"
             ],
             [
              0.1111111111111111,
              "#46039f"
             ],
             [
              0.2222222222222222,
              "#7201a8"
             ],
             [
              0.3333333333333333,
              "#9c179e"
             ],
             [
              0.4444444444444444,
              "#bd3786"
             ],
             [
              0.5555555555555556,
              "#d8576b"
             ],
             [
              0.6666666666666666,
              "#ed7953"
             ],
             [
              0.7777777777777778,
              "#fb9f3a"
             ],
             [
              0.8888888888888888,
              "#fdca26"
             ],
             [
              1,
              "#f0f921"
             ]
            ],
            "type": "heatmap"
           }
          ],
          "heatmapgl": [
           {
            "colorbar": {
             "outlinewidth": 0,
             "ticks": ""
            },
            "colorscale": [
             [
              0,
              "#0d0887"
             ],
             [
              0.1111111111111111,
              "#46039f"
             ],
             [
              0.2222222222222222,
              "#7201a8"
             ],
             [
              0.3333333333333333,
              "#9c179e"
             ],
             [
              0.4444444444444444,
              "#bd3786"
             ],
             [
              0.5555555555555556,
              "#d8576b"
             ],
             [
              0.6666666666666666,
              "#ed7953"
             ],
             [
              0.7777777777777778,
              "#fb9f3a"
             ],
             [
              0.8888888888888888,
              "#fdca26"
             ],
             [
              1,
              "#f0f921"
             ]
            ],
            "type": "heatmapgl"
           }
          ],
          "histogram": [
           {
            "marker": {
             "pattern": {
              "fillmode": "overlay",
              "size": 10,
              "solidity": 0.2
             }
            },
            "type": "histogram"
           }
          ],
          "histogram2d": [
           {
            "colorbar": {
             "outlinewidth": 0,
             "ticks": ""
            },
            "colorscale": [
             [
              0,
              "#0d0887"
             ],
             [
              0.1111111111111111,
              "#46039f"
             ],
             [
              0.2222222222222222,
              "#7201a8"
             ],
             [
              0.3333333333333333,
              "#9c179e"
             ],
             [
              0.4444444444444444,
              "#bd3786"
             ],
             [
              0.5555555555555556,
              "#d8576b"
             ],
             [
              0.6666666666666666,
              "#ed7953"
             ],
             [
              0.7777777777777778,
              "#fb9f3a"
             ],
             [
              0.8888888888888888,
              "#fdca26"
             ],
             [
              1,
              "#f0f921"
             ]
            ],
            "type": "histogram2d"
           }
          ],
          "histogram2dcontour": [
           {
            "colorbar": {
             "outlinewidth": 0,
             "ticks": ""
            },
            "colorscale": [
             [
              0,
              "#0d0887"
             ],
             [
              0.1111111111111111,
              "#46039f"
             ],
             [
              0.2222222222222222,
              "#7201a8"
             ],
             [
              0.3333333333333333,
              "#9c179e"
             ],
             [
              0.4444444444444444,
              "#bd3786"
             ],
             [
              0.5555555555555556,
              "#d8576b"
             ],
             [
              0.6666666666666666,
              "#ed7953"
             ],
             [
              0.7777777777777778,
              "#fb9f3a"
             ],
             [
              0.8888888888888888,
              "#fdca26"
             ],
             [
              1,
              "#f0f921"
             ]
            ],
            "type": "histogram2dcontour"
           }
          ],
          "mesh3d": [
           {
            "colorbar": {
             "outlinewidth": 0,
             "ticks": ""
            },
            "type": "mesh3d"
           }
          ],
          "parcoords": [
           {
            "line": {
             "colorbar": {
              "outlinewidth": 0,
              "ticks": ""
             }
            },
            "type": "parcoords"
           }
          ],
          "pie": [
           {
            "automargin": true,
            "type": "pie"
           }
          ],
          "scatter": [
           {
            "fillpattern": {
             "fillmode": "overlay",
             "size": 10,
             "solidity": 0.2
            },
            "type": "scatter"
           }
          ],
          "scatter3d": [
           {
            "line": {
             "colorbar": {
              "outlinewidth": 0,
              "ticks": ""
             }
            },
            "marker": {
             "colorbar": {
              "outlinewidth": 0,
              "ticks": ""
             }
            },
            "type": "scatter3d"
           }
          ],
          "scattercarpet": [
           {
            "marker": {
             "colorbar": {
              "outlinewidth": 0,
              "ticks": ""
             }
            },
            "type": "scattercarpet"
           }
          ],
          "scattergeo": [
           {
            "marker": {
             "colorbar": {
              "outlinewidth": 0,
              "ticks": ""
             }
            },
            "type": "scattergeo"
           }
          ],
          "scattergl": [
           {
            "marker": {
             "colorbar": {
              "outlinewidth": 0,
              "ticks": ""
             }
            },
            "type": "scattergl"
           }
          ],
          "scattermapbox": [
           {
            "marker": {
             "colorbar": {
              "outlinewidth": 0,
              "ticks": ""
             }
            },
            "type": "scattermapbox"
           }
          ],
          "scatterpolar": [
           {
            "marker": {
             "colorbar": {
              "outlinewidth": 0,
              "ticks": ""
             }
            },
            "type": "scatterpolar"
           }
          ],
          "scatterpolargl": [
           {
            "marker": {
             "colorbar": {
              "outlinewidth": 0,
              "ticks": ""
             }
            },
            "type": "scatterpolargl"
           }
          ],
          "scatterternary": [
           {
            "marker": {
             "colorbar": {
              "outlinewidth": 0,
              "ticks": ""
             }
            },
            "type": "scatterternary"
           }
          ],
          "surface": [
           {
            "colorbar": {
             "outlinewidth": 0,
             "ticks": ""
            },
            "colorscale": [
             [
              0,
              "#0d0887"
             ],
             [
              0.1111111111111111,
              "#46039f"
             ],
             [
              0.2222222222222222,
              "#7201a8"
             ],
             [
              0.3333333333333333,
              "#9c179e"
             ],
             [
              0.4444444444444444,
              "#bd3786"
             ],
             [
              0.5555555555555556,
              "#d8576b"
             ],
             [
              0.6666666666666666,
              "#ed7953"
             ],
             [
              0.7777777777777778,
              "#fb9f3a"
             ],
             [
              0.8888888888888888,
              "#fdca26"
             ],
             [
              1,
              "#f0f921"
             ]
            ],
            "type": "surface"
           }
          ],
          "table": [
           {
            "cells": {
             "fill": {
              "color": "#EBF0F8"
             },
             "line": {
              "color": "white"
             }
            },
            "header": {
             "fill": {
              "color": "#C8D4E3"
             },
             "line": {
              "color": "white"
             }
            },
            "type": "table"
           }
          ]
         },
         "layout": {
          "annotationdefaults": {
           "arrowcolor": "#2a3f5f",
           "arrowhead": 0,
           "arrowwidth": 1
          },
          "autotypenumbers": "strict",
          "coloraxis": {
           "colorbar": {
            "outlinewidth": 0,
            "ticks": ""
           }
          },
          "colorscale": {
           "diverging": [
            [
             0,
             "#8e0152"
            ],
            [
             0.1,
             "#c51b7d"
            ],
            [
             0.2,
             "#de77ae"
            ],
            [
             0.3,
             "#f1b6da"
            ],
            [
             0.4,
             "#fde0ef"
            ],
            [
             0.5,
             "#f7f7f7"
            ],
            [
             0.6,
             "#e6f5d0"
            ],
            [
             0.7,
             "#b8e186"
            ],
            [
             0.8,
             "#7fbc41"
            ],
            [
             0.9,
             "#4d9221"
            ],
            [
             1,
             "#276419"
            ]
           ],
           "sequential": [
            [
             0,
             "#0d0887"
            ],
            [
             0.1111111111111111,
             "#46039f"
            ],
            [
             0.2222222222222222,
             "#7201a8"
            ],
            [
             0.3333333333333333,
             "#9c179e"
            ],
            [
             0.4444444444444444,
             "#bd3786"
            ],
            [
             0.5555555555555556,
             "#d8576b"
            ],
            [
             0.6666666666666666,
             "#ed7953"
            ],
            [
             0.7777777777777778,
             "#fb9f3a"
            ],
            [
             0.8888888888888888,
             "#fdca26"
            ],
            [
             1,
             "#f0f921"
            ]
           ],
           "sequentialminus": [
            [
             0,
             "#0d0887"
            ],
            [
             0.1111111111111111,
             "#46039f"
            ],
            [
             0.2222222222222222,
             "#7201a8"
            ],
            [
             0.3333333333333333,
             "#9c179e"
            ],
            [
             0.4444444444444444,
             "#bd3786"
            ],
            [
             0.5555555555555556,
             "#d8576b"
            ],
            [
             0.6666666666666666,
             "#ed7953"
            ],
            [
             0.7777777777777778,
             "#fb9f3a"
            ],
            [
             0.8888888888888888,
             "#fdca26"
            ],
            [
             1,
             "#f0f921"
            ]
           ]
          },
          "colorway": [
           "#636efa",
           "#EF553B",
           "#00cc96",
           "#ab63fa",
           "#FFA15A",
           "#19d3f3",
           "#FF6692",
           "#B6E880",
           "#FF97FF",
           "#FECB52"
          ],
          "font": {
           "color": "#2a3f5f"
          },
          "geo": {
           "bgcolor": "white",
           "lakecolor": "white",
           "landcolor": "#E5ECF6",
           "showlakes": true,
           "showland": true,
           "subunitcolor": "white"
          },
          "hoverlabel": {
           "align": "left"
          },
          "hovermode": "closest",
          "mapbox": {
           "style": "light"
          },
          "paper_bgcolor": "white",
          "plot_bgcolor": "#E5ECF6",
          "polar": {
           "angularaxis": {
            "gridcolor": "white",
            "linecolor": "white",
            "ticks": ""
           },
           "bgcolor": "#E5ECF6",
           "radialaxis": {
            "gridcolor": "white",
            "linecolor": "white",
            "ticks": ""
           }
          },
          "scene": {
           "xaxis": {
            "backgroundcolor": "#E5ECF6",
            "gridcolor": "white",
            "gridwidth": 2,
            "linecolor": "white",
            "showbackground": true,
            "ticks": "",
            "zerolinecolor": "white"
           },
           "yaxis": {
            "backgroundcolor": "#E5ECF6",
            "gridcolor": "white",
            "gridwidth": 2,
            "linecolor": "white",
            "showbackground": true,
            "ticks": "",
            "zerolinecolor": "white"
           },
           "zaxis": {
            "backgroundcolor": "#E5ECF6",
            "gridcolor": "white",
            "gridwidth": 2,
            "linecolor": "white",
            "showbackground": true,
            "ticks": "",
            "zerolinecolor": "white"
           }
          },
          "shapedefaults": {
           "line": {
            "color": "#2a3f5f"
           }
          },
          "ternary": {
           "aaxis": {
            "gridcolor": "white",
            "linecolor": "white",
            "ticks": ""
           },
           "baxis": {
            "gridcolor": "white",
            "linecolor": "white",
            "ticks": ""
           },
           "bgcolor": "#E5ECF6",
           "caxis": {
            "gridcolor": "white",
            "linecolor": "white",
            "ticks": ""
           }
          },
          "title": {
           "x": 0.05
          },
          "xaxis": {
           "automargin": true,
           "gridcolor": "white",
           "linecolor": "white",
           "ticks": "",
           "title": {
            "standoff": 15
           },
           "zerolinecolor": "white",
           "zerolinewidth": 2
          },
          "yaxis": {
           "automargin": true,
           "gridcolor": "white",
           "linecolor": "white",
           "ticks": "",
           "title": {
            "standoff": 15
           },
           "zerolinecolor": "white",
           "zerolinewidth": 2
          }
         }
        },
        "title": {
         "text": "UHI Intensity for Max, Min and Mean Values of Temperature"
        },
        "updatemenus": [
         {
          "active": 0,
          "buttons": [
           {
            "args": [
             {
              "visible": [
               true,
               true,
               true
              ]
             },
             {
              "annotations": [],
              "title": "UHI Intensity for Max, Min and Mean Values of Temperature"
             }
            ],
            "label": "All",
            "method": "update"
           },
           {
            "args": [
             {
              "visible": [
               false,
               false,
               true
              ]
             },
             {
              "annotations": [],
              "title": "UHI Intensity for Minimum Values of Temperature"
             }
            ],
            "label": "Min",
            "method": "update"
           },
           {
            "args": [
             {
              "visible": [
               true,
               false,
               false
              ]
             },
             {
              "annotations": [],
              "title": "UHI Intensity for Maximum Values of Temperature"
             }
            ],
            "label": "Max",
            "method": "update"
           },
           {
            "args": [
             {
              "visible": [
               false,
               true,
               false
              ]
             },
             {
              "annotations": [],
              "title": "UHI Intensity for Mean Values of Temperature"
             }
            ],
            "label": "Mean",
            "method": "update"
           }
          ]
         }
        ],
        "xaxis": {
         "title": {
          "text": "Month"
         }
        },
        "yaxis": {
         "title": {
          "text": "UHI Intensity"
         }
        }
       }
      }
     },
     "metadata": {},
     "output_type": "display_data"
    }
   ],
   "source": [
    "\"\"\"\n",
    "This code reads the UHI intensity data from the CSV files and creates a line chart using the `plotly.graph_objects` module. \n",
    "The resulting chart displays the UHI intensity values for maximum, mean, and minimum temperature values across different months. \n",
    "The chart includes a title, x-axis label, and y-axis label.\n",
    "\n",
    "To run this code and visualize the UHI intensity values, make sure you have the necessary libraries imported and the required CSV \n",
    "files available in the specified file paths.\n",
    "\"\"\"\n",
    "\n",
    "df_max = pd.read_csv(\"UHI_intensityMaximum T.csv\")\n",
    "df_mean = pd.read_csv(\"UHI_intensityMean T.csv\")\n",
    "df_min = pd.read_csv(\"UHI_intensityMinimum T.csv\")\n",
    "\n",
    "\n",
    "fig = go.Figure()\n",
    "\n",
    "fig.add_trace(go.Scatter(x=df_max[\"Month\"], y=df_max[\"Mean\"],\n",
    "                    mode='lines+markers',\n",
    "                    name='Max'))\n",
    "fig.add_trace(go.Scatter(x=df_mean[\"Month\"], y=df_mean[\"Mean\"],\n",
    "                    mode='lines+markers',\n",
    "                    name='Mean'))\n",
    "fig.add_trace(go.Scatter(x=df_min[\"Month\"], y=df_min[\"Mean\"],\n",
    "                    mode='lines+markers',\n",
    "                    name='Min'))\n",
    "\n",
    "\n",
    "fig.update_layout(\n",
    "    updatemenus=[\n",
    "        dict(\n",
    "            active=0,\n",
    "            buttons=list([\n",
    "                dict(label=\"All\",\n",
    "                     method=\"update\",\n",
    "                     args=[{\"visible\": [True, True, True]},\n",
    "                           {\"title\": \"UHI Intensity for Max, Min and Mean Values of Temperature\",\n",
    "                            \"annotations\": []}]),\n",
    "                dict(label=\"Min\",\n",
    "                     method=\"update\",\n",
    "                     args=[{\"visible\": [False, False, True]},\n",
    "                           {\"title\": \"UHI Intensity for Minimum Values of Temperature\",\n",
    "                            \"annotations\": []}]),\n",
    "                dict(label=\"Max\",\n",
    "                     method=\"update\",\n",
    "                     args=[{\"visible\": [True, False, False]},\n",
    "                           {\"title\": \"UHI Intensity for Maximum Values of Temperature\",\n",
    "                            \"annotations\": []}]),\n",
    "                dict(label=\"Mean\",\n",
    "                     method=\"update\",\n",
    "                     args=[{\"visible\": [False, True, False]},\n",
    "                           {\"title\": \"UHI Intensity for Mean Values of Temperature\",\n",
    "                            \"annotations\": []}]),\n",
    "            ]),\n",
    "        )\n",
    "    ])\n",
    "\n",
    "fig.update_layout(title='UHI Intensity for Max, Min and Mean Values of Temperature',\n",
    "                   xaxis_title='Month',\n",
    "                   yaxis_title='UHI Intensity')\n",
    "\n",
    "fig.show()"
   ]
  },
  {
   "cell_type": "markdown",
   "metadata": {},
   "source": [
    "### Discussion: \n",
    "\n",
    "a) which season has the strongest urban heat island effect and what are the possible causes.\n",
    "\n",
    "* Answer: \n",
    "\n",
    "b) which temperature (mean, maximum, or minimum) yields the strongest urban heat island effect. What are the possible causes?\n",
    "\n",
    "* Answer: \n",
    "\n"
   ]
  },
  {
   "cell_type": "markdown",
   "metadata": {},
   "source": [
    "## Part 2"
   ]
  },
  {
   "cell_type": "markdown",
   "metadata": {},
   "source": [
    "* Calculate the urban heat island intensity using daily mean, maximum, and minimum temperatures for each day (no figure or value is needed). Average the daily urban heat island intensities over the summer season (including June, July, August) in the period of 2000-2016 and report the values. Report the values for daily mean, maximum, and minimum temperature separately. Here you should not take the simple average of June, July, and August results you obtain in 1 because June/July/August have different numbers of days, but you also show not report values for June, July, August separately. All I want is the values for the summer season, not for individual months in the summer season.\n"
   ]
  },
  {
   "cell_type": "code",
   "execution_count": 56,
   "metadata": {},
   "outputs": [],
   "source": [
    "\n",
    "def UHI_Summer_Intensity(urband_file_name, rurald_file_name, T_type):\n",
    "\n",
    "    df_urban = pd.read_csv(urband_file_name)\n",
    "    df_rural = pd.read_csv(rurald_file_name)\n",
    "\n",
    "    years = 2000\n",
    "\n",
    "    UHI_summer = pd.DataFrame()\n",
    "    urban_T_summer = pd.DataFrame()\n",
    "    rural_T_summer = pd.DataFrame()\n",
    "\n",
    "\n",
    "    rural_list = []\n",
    "    urban_list = []\n",
    "\n",
    "    for ii in range(17):\n",
    "\n",
    "        df_rural_year = df_rural.loc[df_rural['year'] == years]\n",
    "        df_urban_year = df_urban.loc[df_urban['year'] == years]\n",
    "\n",
    "        j = 6\n",
    "\n",
    "        for jj in range(3):\n",
    "\n",
    "            df_rural_month = df_rural_year.loc[df_rural_year['month'] == j]\n",
    "            list1 = df_rural_month.loc[:, T_type].tolist()\n",
    "            rural_list = list1 + rural_list\n",
    "            df_urban_month = df_urban_year.loc[df_urban_year['month'] == j]\n",
    "            list2 = df_urban_month.loc[:, T_type].tolist()\n",
    "            urban_list = list2 + urban_list\n",
    "                \n",
    "            j = j + 1\n",
    "\n",
    "\n",
    "        summer_temp_rural_C = [FahrenheitToCelsius(f) for f in rural_list]\n",
    "        summer_temp_urban_C = [FahrenheitToCelsius(f) for f in urban_list]\n",
    "        UHI_summer_intensity_C = np.array(summer_temp_urban_C) - np.array(summer_temp_rural_C)\n",
    "\n",
    "        urban_T_summer[T_type + \" \" + str(years)] = summer_temp_urban_C\n",
    "        rural_T_summer[T_type + \" \" + str(years)] = summer_temp_rural_C\n",
    "        UHI_summer[\"UHI\" + T_type + \" \" + str(years)] = UHI_summer_intensity_C\n",
    "\n",
    "        rural_list = []\n",
    "        urban_list = []\n",
    "\n",
    "        years = years + 1\n",
    "        \n",
    "    urban_T_summer['Mean'] = urban_T_summer.apply(lambda x: x.mean(), axis=1)\n",
    "    rural_T_summer['Mean'] = rural_T_summer.apply(lambda x: x.mean(), axis=1)\n",
    "    UHI_summer['Mean'] = UHI_summer.apply(lambda x: x.mean(), axis=1)\n",
    "\n",
    "    UHI_summer.to_csv(\"UHI_summer \" + T_type + \".csv\")\n",
    "    urban_T_summer.to_csv(\"Urban_summer \" + T_type + \".csv\")\n",
    "    rural_T_summer.to_csv(\"Rural_summer \" + T_type + \".csv\")\n"
   ]
  },
  {
   "cell_type": "code",
   "execution_count": 57,
   "metadata": {},
   "outputs": [],
   "source": [
    "T_type = [\"Mean T\", \"Maximum T\", \"Minimum T\"]\n",
    "\n",
    "for Temperature_type in T_type:\n",
    "\n",
    "    UHI_Summer_Intensity(\"urbanNaN_Clean.csv\", \"ruralNaN_Clean.csv\", Temperature_type)\n",
    "    \n"
   ]
  },
  {
   "cell_type": "code",
   "execution_count": 68,
   "metadata": {},
   "outputs": [
    {
     "data": {
      "application/vnd.plotly.v1+json": {
       "config": {
        "plotlyServerURL": "https://plotly.com"
       },
       "data": [
        {
         "cells": {
          "align": "left",
          "values": [
           [
            0,
            1,
            2,
            3,
            4,
            5,
            6,
            7,
            8,
            9,
            10,
            11,
            12,
            13,
            14,
            15,
            16,
            17,
            18,
            19,
            20,
            21,
            22,
            23,
            24,
            25,
            26,
            27,
            28,
            29,
            30,
            31,
            32,
            33,
            34,
            35,
            36,
            37,
            38,
            39,
            40,
            41,
            42,
            43,
            44,
            45,
            46,
            47,
            48,
            49,
            50,
            51,
            52,
            53,
            54,
            55,
            56,
            57,
            58,
            59,
            60,
            61,
            62,
            63,
            64,
            65,
            66,
            67,
            68,
            69,
            70,
            71,
            72,
            73,
            74,
            75,
            76,
            77,
            78,
            79,
            80,
            81,
            82,
            83,
            84,
            85,
            86,
            87,
            88,
            89,
            90,
            91
           ],
           [
            1.8790849673202616,
            1.830065359477124,
            1.6503267973856215,
            2.0424836601307184,
            2.0588235294117645,
            1.9934640522875813,
            2.009803921568627,
            1.9607843137254903,
            2.205882352941177,
            1.519607843137255,
            1.4869281045751637,
            1.862745098039216,
            1.8464052287581705,
            1.7156862745098034,
            1.8464052287581705,
            2.3039215686274503,
            2.026143790849673,
            1.9771241830065365,
            1.977124183006536,
            1.8790849673202608,
            2.0588235294117645,
            2.238562091503268,
            1.84640522875817,
            2.38562091503268,
            1.977124183006536,
            2.0588235294117645,
            2.075163398692811,
            1.6666666666666663,
            1.9771241830065356,
            1.944444444444444,
            2.173202614379084,
            2.0588235294117654,
            2.1405228758169934,
            2.483660130718955,
            1.8137254901960784,
            1.9444444444444449,
            2.1078431372549016,
            2.222222222222222,
            1.9771241830065356,
            2.3202614379084965,
            1.7973856209150323,
            2.238562091503267,
            2.434640522875817,
            1.9934640522875813,
            1.7973856209150323,
            1.96078431372549,
            1.9771241830065356,
            2.598039215686274,
            2.0424836601307192,
            2.156862745098039,
            1.7320261437908495,
            1.9281045751633976,
            1.7320261437908495,
            2.0915032679738563,
            1.9771241830065356,
            1.764705882352941,
            2.0424836601307192,
            1.7156862745098045,
            1.9281045751633987,
            1.6666666666666663,
            1.84640522875817,
            2.173202614379085,
            2.009803921568627,
            1.6503267973856206,
            1.977124183006536,
            1.7320261437908488,
            1.42156862745098,
            1.5849673202614387,
            1.830065359477124,
            2.1405228758169934,
            2.1405228758169934,
            2.189542483660131,
            2.1568627450980395,
            1.336805555555556,
            1.5522875816993469,
            1.1928104575163394,
            1.7810457516339868,
            2.1568627450980395,
            1.862745098039216,
            1.8300653594771243,
            1.8464052287581705,
            1.8627450980392155,
            1.993464052287582,
            1.96078431372549,
            2.3039215686274512,
            2.430555555555556,
            1.96078431372549,
            1.8790849673202616,
            1.7483660130718954,
            1.944444444444444,
            1.805555555555556,
            2.2916666666666656
           ],
           [
            0.9150326797385632,
            0.980392156862745,
            1.0457516339869268,
            1.0457516339869286,
            0.9803921568627458,
            0.915032679738562,
            0.8169934640522872,
            0.8823529411764708,
            1.013071895424837,
            0.8169934640522878,
            0.2614379084967324,
            0.7516339869281057,
            0.8169934640522876,
            0.7843137254901966,
            0.6535947712418306,
            0.947712418300654,
            0.8169934640522878,
            1.0457516339869275,
            0.947712418300654,
            0.9477124183006532,
            0.8169934640522873,
            0.9803921568627444,
            0.5555555555555555,
            0.8496732026143794,
            0.8823529411764708,
            0.7516339869281048,
            1.0130718954248357,
            0.7516339869281046,
            0.8823529411764712,
            0.9150326797385622,
            1.0130718954248368,
            0.7189542483660136,
            0.8169934640522885,
            1.372549019607843,
            1.07843137254902,
            1.2418300653594774,
            0.8823529411764703,
            1.2745098039215677,
            0.9150326797385616,
            1.2418300653594774,
            1.0130718954248352,
            1.111111111111111,
            1.274509803921568,
            1.0457516339869282,
            1.0130718954248366,
            0.8496732026143798,
            0.8823529411764708,
            1.1437908496732028,
            0.9477124183006536,
            1.3398692810457518,
            0.5228758169934647,
            0.8496732026143792,
            0.8823529411764703,
            1.0457516339869288,
            0.9477124183006532,
            0.9803921568627448,
            1.0457516339869282,
            1.0130718954248366,
            0.784313725490196,
            0.9477124183006538,
            0.88235294117647,
            0.915032679738562,
            0.5555555555555562,
            0.6862745098039212,
            0.7843137254901958,
            0.9803921568627448,
            0.5882352941176479,
            0.6535947712418304,
            0.7843137254901958,
            0.784313725490196,
            1.143790849673202,
            0.9477124183006528,
            1.2418300653594774,
            0.5902777777777779,
            0.8823529411764706,
            0.7189542483660134,
            0.7516339869281038,
            1.1111111111111114,
            1.0130718954248368,
            0.915032679738562,
            0.8496732026143792,
            0.8169934640522876,
            0.7189542483660128,
            0.8496732026143796,
            1.111111111111111,
            1.0763888888888886,
            0.947712418300654,
            0.8169934640522873,
            0.7843137254901966,
            0.849673202614379,
            1.1805555555555556,
            1.111111111111111
           ],
           [
            2.8758169934640514,
            2.581699346405228,
            2.38562091503268,
            3.006535947712418,
            3.202614379084967,
            3.071895424836601,
            3.2679738562091503,
            3.0065359477124183,
            3.398692810457516,
            2.2549019607843133,
            2.549019607843137,
            2.810457516339869,
            3.1372549019607843,
            3.137254901960784,
            3.1699346405228765,
            3.627450980392157,
            3.235294117647059,
            2.973856209150327,
            2.973856209150326,
            2.745098039215686,
            3.169934640522876,
            3.594771241830066,
            3.594771241830065,
            3.562091503267974,
            3.333333333333332,
            3.235294117647059,
            3.071895424836601,
            2.973856209150327,
            3.03921568627451,
            2.8758169934640514,
            3.0065359477124183,
            3.398692810457516,
            3.660130718954248,
            3.2679738562091503,
            2.647058823529412,
            2.516339869281045,
            3.137254901960784,
            3.169934640522876,
            3.0065359477124183,
            2.908496732026144,
            2.6797385620915044,
            3.562091503267974,
            3.7581699346405233,
            2.8431372549019605,
            2.026143790849674,
            2.973856209150326,
            3.3660130718954244,
            4.052287581699348,
            2.9084967320261432,
            2.8431372549019613,
            2.7450980392156867,
            2.908496732026144,
            2.6143790849673203,
            3.137254901960784,
            3.333333333333333,
            2.647058823529412,
            2.777777777777778,
            2.1241830065359477,
            2.712418300653595,
            2.2549019607843133,
            2.679738562091502,
            3.398692810457516,
            3.69281045751634,
            2.908496732026143,
            3.0065359477124183,
            2.5816993464052285,
            2.1568627450980387,
            2.4836601307189548,
            2.973856209150326,
            3.562091503267974,
            3.169934640522876,
            3.4640522875817,
            2.81045751633987,
            2.4652777777777777,
            2.287581699346405,
            1.9934640522875813,
            2.777777777777777,
            2.9411764705882346,
            2.908496732026144,
            2.908496732026143,
            2.908496732026145,
            2.9411764705882355,
            3.300653594771242,
            2.9411764705882355,
            3.3986928104575163,
            3.5069444444444446,
            2.9411764705882355,
            3.0392156862745106,
            2.810457516339869,
            3.03921568627451,
            2.569444444444444,
            3.4027777777777777
           ]
          ]
         },
         "header": {
          "align": "left",
          "fill": {
           "color": "rgb(8, 81, 156)"
          },
          "font": {
           "color": "white"
          },
          "line": {
           "color": "rgb(8, 81, 156)"
          },
          "values": [
           "Index day",
           "UHI Intensity Mean T 2000 - 2016",
           "UHI Intensity Max T 2000 - 2016",
           "UHI Intensity Min T 2000 - 2016"
          ]
         },
         "type": "table"
        }
       ],
       "layout": {
        "template": {
         "data": {
          "bar": [
           {
            "error_x": {
             "color": "#2a3f5f"
            },
            "error_y": {
             "color": "#2a3f5f"
            },
            "marker": {
             "line": {
              "color": "#E5ECF6",
              "width": 0.5
             },
             "pattern": {
              "fillmode": "overlay",
              "size": 10,
              "solidity": 0.2
             }
            },
            "type": "bar"
           }
          ],
          "barpolar": [
           {
            "marker": {
             "line": {
              "color": "#E5ECF6",
              "width": 0.5
             },
             "pattern": {
              "fillmode": "overlay",
              "size": 10,
              "solidity": 0.2
             }
            },
            "type": "barpolar"
           }
          ],
          "carpet": [
           {
            "aaxis": {
             "endlinecolor": "#2a3f5f",
             "gridcolor": "white",
             "linecolor": "white",
             "minorgridcolor": "white",
             "startlinecolor": "#2a3f5f"
            },
            "baxis": {
             "endlinecolor": "#2a3f5f",
             "gridcolor": "white",
             "linecolor": "white",
             "minorgridcolor": "white",
             "startlinecolor": "#2a3f5f"
            },
            "type": "carpet"
           }
          ],
          "choropleth": [
           {
            "colorbar": {
             "outlinewidth": 0,
             "ticks": ""
            },
            "type": "choropleth"
           }
          ],
          "contour": [
           {
            "colorbar": {
             "outlinewidth": 0,
             "ticks": ""
            },
            "colorscale": [
             [
              0,
              "#0d0887"
             ],
             [
              0.1111111111111111,
              "#46039f"
             ],
             [
              0.2222222222222222,
              "#7201a8"
             ],
             [
              0.3333333333333333,
              "#9c179e"
             ],
             [
              0.4444444444444444,
              "#bd3786"
             ],
             [
              0.5555555555555556,
              "#d8576b"
             ],
             [
              0.6666666666666666,
              "#ed7953"
             ],
             [
              0.7777777777777778,
              "#fb9f3a"
             ],
             [
              0.8888888888888888,
              "#fdca26"
             ],
             [
              1,
              "#f0f921"
             ]
            ],
            "type": "contour"
           }
          ],
          "contourcarpet": [
           {
            "colorbar": {
             "outlinewidth": 0,
             "ticks": ""
            },
            "type": "contourcarpet"
           }
          ],
          "heatmap": [
           {
            "colorbar": {
             "outlinewidth": 0,
             "ticks": ""
            },
            "colorscale": [
             [
              0,
              "#0d0887"
             ],
             [
              0.1111111111111111,
              "#46039f"
             ],
             [
              0.2222222222222222,
              "#7201a8"
             ],
             [
              0.3333333333333333,
              "#9c179e"
             ],
             [
              0.4444444444444444,
              "#bd3786"
             ],
             [
              0.5555555555555556,
              "#d8576b"
             ],
             [
              0.6666666666666666,
              "#ed7953"
             ],
             [
              0.7777777777777778,
              "#fb9f3a"
             ],
             [
              0.8888888888888888,
              "#fdca26"
             ],
             [
              1,
              "#f0f921"
             ]
            ],
            "type": "heatmap"
           }
          ],
          "heatmapgl": [
           {
            "colorbar": {
             "outlinewidth": 0,
             "ticks": ""
            },
            "colorscale": [
             [
              0,
              "#0d0887"
             ],
             [
              0.1111111111111111,
              "#46039f"
             ],
             [
              0.2222222222222222,
              "#7201a8"
             ],
             [
              0.3333333333333333,
              "#9c179e"
             ],
             [
              0.4444444444444444,
              "#bd3786"
             ],
             [
              0.5555555555555556,
              "#d8576b"
             ],
             [
              0.6666666666666666,
              "#ed7953"
             ],
             [
              0.7777777777777778,
              "#fb9f3a"
             ],
             [
              0.8888888888888888,
              "#fdca26"
             ],
             [
              1,
              "#f0f921"
             ]
            ],
            "type": "heatmapgl"
           }
          ],
          "histogram": [
           {
            "marker": {
             "pattern": {
              "fillmode": "overlay",
              "size": 10,
              "solidity": 0.2
             }
            },
            "type": "histogram"
           }
          ],
          "histogram2d": [
           {
            "colorbar": {
             "outlinewidth": 0,
             "ticks": ""
            },
            "colorscale": [
             [
              0,
              "#0d0887"
             ],
             [
              0.1111111111111111,
              "#46039f"
             ],
             [
              0.2222222222222222,
              "#7201a8"
             ],
             [
              0.3333333333333333,
              "#9c179e"
             ],
             [
              0.4444444444444444,
              "#bd3786"
             ],
             [
              0.5555555555555556,
              "#d8576b"
             ],
             [
              0.6666666666666666,
              "#ed7953"
             ],
             [
              0.7777777777777778,
              "#fb9f3a"
             ],
             [
              0.8888888888888888,
              "#fdca26"
             ],
             [
              1,
              "#f0f921"
             ]
            ],
            "type": "histogram2d"
           }
          ],
          "histogram2dcontour": [
           {
            "colorbar": {
             "outlinewidth": 0,
             "ticks": ""
            },
            "colorscale": [
             [
              0,
              "#0d0887"
             ],
             [
              0.1111111111111111,
              "#46039f"
             ],
             [
              0.2222222222222222,
              "#7201a8"
             ],
             [
              0.3333333333333333,
              "#9c179e"
             ],
             [
              0.4444444444444444,
              "#bd3786"
             ],
             [
              0.5555555555555556,
              "#d8576b"
             ],
             [
              0.6666666666666666,
              "#ed7953"
             ],
             [
              0.7777777777777778,
              "#fb9f3a"
             ],
             [
              0.8888888888888888,
              "#fdca26"
             ],
             [
              1,
              "#f0f921"
             ]
            ],
            "type": "histogram2dcontour"
           }
          ],
          "mesh3d": [
           {
            "colorbar": {
             "outlinewidth": 0,
             "ticks": ""
            },
            "type": "mesh3d"
           }
          ],
          "parcoords": [
           {
            "line": {
             "colorbar": {
              "outlinewidth": 0,
              "ticks": ""
             }
            },
            "type": "parcoords"
           }
          ],
          "pie": [
           {
            "automargin": true,
            "type": "pie"
           }
          ],
          "scatter": [
           {
            "fillpattern": {
             "fillmode": "overlay",
             "size": 10,
             "solidity": 0.2
            },
            "type": "scatter"
           }
          ],
          "scatter3d": [
           {
            "line": {
             "colorbar": {
              "outlinewidth": 0,
              "ticks": ""
             }
            },
            "marker": {
             "colorbar": {
              "outlinewidth": 0,
              "ticks": ""
             }
            },
            "type": "scatter3d"
           }
          ],
          "scattercarpet": [
           {
            "marker": {
             "colorbar": {
              "outlinewidth": 0,
              "ticks": ""
             }
            },
            "type": "scattercarpet"
           }
          ],
          "scattergeo": [
           {
            "marker": {
             "colorbar": {
              "outlinewidth": 0,
              "ticks": ""
             }
            },
            "type": "scattergeo"
           }
          ],
          "scattergl": [
           {
            "marker": {
             "colorbar": {
              "outlinewidth": 0,
              "ticks": ""
             }
            },
            "type": "scattergl"
           }
          ],
          "scattermapbox": [
           {
            "marker": {
             "colorbar": {
              "outlinewidth": 0,
              "ticks": ""
             }
            },
            "type": "scattermapbox"
           }
          ],
          "scatterpolar": [
           {
            "marker": {
             "colorbar": {
              "outlinewidth": 0,
              "ticks": ""
             }
            },
            "type": "scatterpolar"
           }
          ],
          "scatterpolargl": [
           {
            "marker": {
             "colorbar": {
              "outlinewidth": 0,
              "ticks": ""
             }
            },
            "type": "scatterpolargl"
           }
          ],
          "scatterternary": [
           {
            "marker": {
             "colorbar": {
              "outlinewidth": 0,
              "ticks": ""
             }
            },
            "type": "scatterternary"
           }
          ],
          "surface": [
           {
            "colorbar": {
             "outlinewidth": 0,
             "ticks": ""
            },
            "colorscale": [
             [
              0,
              "#0d0887"
             ],
             [
              0.1111111111111111,
              "#46039f"
             ],
             [
              0.2222222222222222,
              "#7201a8"
             ],
             [
              0.3333333333333333,
              "#9c179e"
             ],
             [
              0.4444444444444444,
              "#bd3786"
             ],
             [
              0.5555555555555556,
              "#d8576b"
             ],
             [
              0.6666666666666666,
              "#ed7953"
             ],
             [
              0.7777777777777778,
              "#fb9f3a"
             ],
             [
              0.8888888888888888,
              "#fdca26"
             ],
             [
              1,
              "#f0f921"
             ]
            ],
            "type": "surface"
           }
          ],
          "table": [
           {
            "cells": {
             "fill": {
              "color": "#EBF0F8"
             },
             "line": {
              "color": "white"
             }
            },
            "header": {
             "fill": {
              "color": "#C8D4E3"
             },
             "line": {
              "color": "white"
             }
            },
            "type": "table"
           }
          ]
         },
         "layout": {
          "annotationdefaults": {
           "arrowcolor": "#2a3f5f",
           "arrowhead": 0,
           "arrowwidth": 1
          },
          "autotypenumbers": "strict",
          "coloraxis": {
           "colorbar": {
            "outlinewidth": 0,
            "ticks": ""
           }
          },
          "colorscale": {
           "diverging": [
            [
             0,
             "#8e0152"
            ],
            [
             0.1,
             "#c51b7d"
            ],
            [
             0.2,
             "#de77ae"
            ],
            [
             0.3,
             "#f1b6da"
            ],
            [
             0.4,
             "#fde0ef"
            ],
            [
             0.5,
             "#f7f7f7"
            ],
            [
             0.6,
             "#e6f5d0"
            ],
            [
             0.7,
             "#b8e186"
            ],
            [
             0.8,
             "#7fbc41"
            ],
            [
             0.9,
             "#4d9221"
            ],
            [
             1,
             "#276419"
            ]
           ],
           "sequential": [
            [
             0,
             "#0d0887"
            ],
            [
             0.1111111111111111,
             "#46039f"
            ],
            [
             0.2222222222222222,
             "#7201a8"
            ],
            [
             0.3333333333333333,
             "#9c179e"
            ],
            [
             0.4444444444444444,
             "#bd3786"
            ],
            [
             0.5555555555555556,
             "#d8576b"
            ],
            [
             0.6666666666666666,
             "#ed7953"
            ],
            [
             0.7777777777777778,
             "#fb9f3a"
            ],
            [
             0.8888888888888888,
             "#fdca26"
            ],
            [
             1,
             "#f0f921"
            ]
           ],
           "sequentialminus": [
            [
             0,
             "#0d0887"
            ],
            [
             0.1111111111111111,
             "#46039f"
            ],
            [
             0.2222222222222222,
             "#7201a8"
            ],
            [
             0.3333333333333333,
             "#9c179e"
            ],
            [
             0.4444444444444444,
             "#bd3786"
            ],
            [
             0.5555555555555556,
             "#d8576b"
            ],
            [
             0.6666666666666666,
             "#ed7953"
            ],
            [
             0.7777777777777778,
             "#fb9f3a"
            ],
            [
             0.8888888888888888,
             "#fdca26"
            ],
            [
             1,
             "#f0f921"
            ]
           ]
          },
          "colorway": [
           "#636efa",
           "#EF553B",
           "#00cc96",
           "#ab63fa",
           "#FFA15A",
           "#19d3f3",
           "#FF6692",
           "#B6E880",
           "#FF97FF",
           "#FECB52"
          ],
          "font": {
           "color": "#2a3f5f"
          },
          "geo": {
           "bgcolor": "white",
           "lakecolor": "white",
           "landcolor": "#E5ECF6",
           "showlakes": true,
           "showland": true,
           "subunitcolor": "white"
          },
          "hoverlabel": {
           "align": "left"
          },
          "hovermode": "closest",
          "mapbox": {
           "style": "light"
          },
          "paper_bgcolor": "white",
          "plot_bgcolor": "#E5ECF6",
          "polar": {
           "angularaxis": {
            "gridcolor": "white",
            "linecolor": "white",
            "ticks": ""
           },
           "bgcolor": "#E5ECF6",
           "radialaxis": {
            "gridcolor": "white",
            "linecolor": "white",
            "ticks": ""
           }
          },
          "scene": {
           "xaxis": {
            "backgroundcolor": "#E5ECF6",
            "gridcolor": "white",
            "gridwidth": 2,
            "linecolor": "white",
            "showbackground": true,
            "ticks": "",
            "zerolinecolor": "white"
           },
           "yaxis": {
            "backgroundcolor": "#E5ECF6",
            "gridcolor": "white",
            "gridwidth": 2,
            "linecolor": "white",
            "showbackground": true,
            "ticks": "",
            "zerolinecolor": "white"
           },
           "zaxis": {
            "backgroundcolor": "#E5ECF6",
            "gridcolor": "white",
            "gridwidth": 2,
            "linecolor": "white",
            "showbackground": true,
            "ticks": "",
            "zerolinecolor": "white"
           }
          },
          "shapedefaults": {
           "line": {
            "color": "#2a3f5f"
           }
          },
          "ternary": {
           "aaxis": {
            "gridcolor": "white",
            "linecolor": "white",
            "ticks": ""
           },
           "baxis": {
            "gridcolor": "white",
            "linecolor": "white",
            "ticks": ""
           },
           "bgcolor": "#E5ECF6",
           "caxis": {
            "gridcolor": "white",
            "linecolor": "white",
            "ticks": ""
           }
          },
          "title": {
           "x": 0.05
          },
          "xaxis": {
           "automargin": true,
           "gridcolor": "white",
           "linecolor": "white",
           "ticks": "",
           "title": {
            "standoff": 15
           },
           "zerolinecolor": "white",
           "zerolinewidth": 2
          },
          "yaxis": {
           "automargin": true,
           "gridcolor": "white",
           "linecolor": "white",
           "ticks": "",
           "title": {
            "standoff": 15
           },
           "zerolinecolor": "white",
           "zerolinewidth": 2
          }
         }
        }
       }
      }
     },
     "metadata": {},
     "output_type": "display_data"
    }
   ],
   "source": [
    "df_mean = pd.read_csv(\"UHI_summer Mean T.csv\")\n",
    "df_max = pd.read_csv(\"UHI_summer Maximum T.csv\")\n",
    "df_min = pd.read_csv(\"UHI_summer Minimum T.csv\")\n",
    "\n",
    "fig = go.Figure(data=[go.Table(\n",
    "    header=dict(values=['Index day', 'UHI Intensity Mean T 2000 - 2016', 'UHI Intensity Max T 2000 - 2016', 'UHI Intensity Min T 2000 - 2016'],\n",
    "                line_color='rgb(8, 81, 156)', fill_color='rgb(8, 81, 156)', font=dict(color='white'),\n",
    "                align='left'),\n",
    "    cells=dict(values=[df_mean.index, df_mean.Mean, df_max.Mean, df_min.Mean],\n",
    "               align='left'))\n",
    "])\n",
    "fig.show()"
   ]
  },
  {
   "cell_type": "markdown",
   "metadata": {},
   "source": [
    "* Focus on daily results in the summer (June, July, August) seasons in the period of 2000-2016 (you should have 17 years x 92 summer days per year = 1564 summer days). Plot the daily urban heat island intensity (use different subplots or subfigures for daily mean, maximum, and minimum temperatures) as a function of the daily mean temperature of the rural site and fit a linear relation between the two. How does the urban heat island intensity change with the mean temperature of the rural site?\n"
   ]
  },
  {
   "cell_type": "code",
   "execution_count": 3,
   "metadata": {},
   "outputs": [],
   "source": [
    "# Lets open all the df\n",
    "\n",
    "#! UHI df\n",
    "df_max = pd.read_csv(\"UHI_summer Maximum T.csv\")\n",
    "df_mean = pd.read_csv(\"UHI_summer Mean T.csv\")\n",
    "df_min = pd.read_csv(\"UHI_summer Minimum T.csv\")\n",
    "\n",
    "#! Urban df\n",
    "urban_summer_df_mean = pd.read_csv(\"Urban_summer Mean T.csv\")\n",
    "urban_summer_df_max = pd.read_csv(\"Urban_summer Maximum T.csv\")\n",
    "urban_summer_df_min = pd.read_csv(\"Urban_summer Minimum T.csv\")\n",
    "\n",
    "#! Rural df\n",
    "rural_summer_df_mean = pd.read_csv(\"Rural_summer Mean T.csv\")\n",
    "rural_summer_df_max = pd.read_csv(\"Rural_summer Maximum T.csv\")\n",
    "rural_summer_df_min = pd.read_csv(\"Rural_summer Minimum T.csv\")\n",
    "\n"
   ]
  },
  {
   "cell_type": "code",
   "execution_count": 53,
   "metadata": {},
   "outputs": [],
   "source": [
    "\n",
    "def linear_fit_relation(df_x, df_y):\n",
    "\n",
    "    model = LinearRegression()\n",
    "    x = df_x.Mean.values.reshape(-1, 1)\n",
    "    model.fit(x, df_y.Mean)\n",
    "\n",
    "    x_range = np.linspace(x.min(), x.max(), 100)\n",
    "    y_range = model.predict(x_range.reshape(-1, 1))\n",
    "\n",
    "    return x_range, y_range\n",
    "\n"
   ]
  },
  {
   "cell_type": "code",
   "execution_count": 57,
   "metadata": {},
   "outputs": [],
   "source": [
    "# Linear fit for Urban region\n",
    "x_mean_urban, y_urban_mean = linear_fit_relation(df_mean, urban_summer_df_mean)\n",
    "x_min_urban, y_urban_min = linear_fit_relation(df_min, urban_summer_df_min)\n",
    "x_max_urban, y_urban_max = linear_fit_relation(df_max, urban_summer_df_max)\n",
    "\n",
    "# Linear fit for Rural region\n",
    "x_mean_rural, y_rural_mean = linear_fit_relation(df_mean, rural_summer_df_mean)\n",
    "x_min_rural, y_rural_min = linear_fit_relation(df_min, rural_summer_df_min)\n",
    "x_max_rural, y_rural_max = linear_fit_relation(df_max, rural_summer_df_max)\n"
   ]
  },
  {
   "cell_type": "code",
   "execution_count": 61,
   "metadata": {},
   "outputs": [
    {
     "name": "stderr",
     "output_type": "stream",
     "text": [
      "/usr/local/lib/python3.10/site-packages/plotly/graph_objs/_deprecations.py:378: DeprecationWarning:\n",
      "\n",
      "plotly.graph_objs.Line is deprecated.\n",
      "Please replace it with one of the following more specific types\n",
      "  - plotly.graph_objs.scatter.Line\n",
      "  - plotly.graph_objs.layout.shape.Line\n",
      "  - etc.\n",
      "\n",
      "\n"
     ]
    },
    {
     "data": {
      "application/vnd.plotly.v1+json": {
       "config": {
        "plotlyServerURL": "https://plotly.com"
       },
       "data": [
        {
         "mode": "markers",
         "name": "Min Urban",
         "type": "scatter",
         "x": [
          2.8758169934640514,
          2.581699346405228,
          2.38562091503268,
          3.006535947712418,
          3.202614379084967,
          3.071895424836601,
          3.2679738562091503,
          3.0065359477124183,
          3.398692810457516,
          2.2549019607843133,
          2.549019607843137,
          2.810457516339869,
          3.1372549019607843,
          3.137254901960784,
          3.1699346405228765,
          3.627450980392157,
          3.235294117647059,
          2.973856209150327,
          2.973856209150326,
          2.745098039215686,
          3.169934640522876,
          3.594771241830066,
          3.594771241830065,
          3.562091503267974,
          3.333333333333332,
          3.235294117647059,
          3.071895424836601,
          2.973856209150327,
          3.03921568627451,
          2.8758169934640514,
          3.0065359477124183,
          3.398692810457516,
          3.660130718954248,
          3.2679738562091503,
          2.647058823529412,
          2.516339869281045,
          3.137254901960784,
          3.169934640522876,
          3.0065359477124183,
          2.908496732026144,
          2.6797385620915044,
          3.562091503267974,
          3.7581699346405233,
          2.8431372549019605,
          2.026143790849674,
          2.973856209150326,
          3.3660130718954244,
          4.052287581699348,
          2.9084967320261432,
          2.8431372549019613,
          2.7450980392156867,
          2.908496732026144,
          2.6143790849673203,
          3.137254901960784,
          3.333333333333333,
          2.647058823529412,
          2.777777777777778,
          2.1241830065359477,
          2.712418300653595,
          2.2549019607843133,
          2.679738562091502,
          3.398692810457516,
          3.69281045751634,
          2.908496732026143,
          3.0065359477124183,
          2.5816993464052285,
          2.1568627450980387,
          2.4836601307189548,
          2.973856209150326,
          3.562091503267974,
          3.169934640522876,
          3.4640522875817,
          2.81045751633987,
          2.4652777777777777,
          2.287581699346405,
          1.9934640522875813,
          2.777777777777777,
          2.9411764705882346,
          2.908496732026144,
          2.908496732026143,
          2.908496732026145,
          2.9411764705882355,
          3.300653594771242,
          2.9411764705882355,
          3.3986928104575163,
          3.5069444444444446,
          2.9411764705882355,
          3.0392156862745106,
          2.810457516339869,
          3.03921568627451,
          2.569444444444444,
          3.4027777777777777
         ],
         "y": [
          23.56209150326797,
          23.26797385620915,
          23.202614379084967,
          23.26797385620915,
          23.137254901960784,
          22.516339869281044,
          22.516339869281044,
          22.54901960784313,
          22.77777777777778,
          22.581699346405227,
          22.352941176470587,
          22.48366013071896,
          22.7124183006536,
          21.764705882352946,
          21.895424836601304,
          21.993464052287575,
          22.15686274509804,
          21.928104575163395,
          22.254901960784316,
          21.99346405228758,
          21.503267973856204,
          21.37254901960784,
          21.013071895424837,
          21.24183006535948,
          21.47058823529412,
          21.47058823529412,
          21.9281045751634,
          21.895424836601308,
          21.69934640522876,
          21.993464052287575,
          21.895424836601308,
          21.732026143790847,
          21.633986928104576,
          21.47058823529412,
          22.41830065359477,
          22.745098039215687,
          22.7124183006536,
          22.77777777777778,
          22.6797385620915,
          22.87581699346405,
          22.581699346405227,
          22.54901960784313,
          22.45098039215686,
          22.54901960784314,
          21.895424836601304,
          22.450980392156865,
          23.202614379084963,
          23.431372549019606,
          24.01960784313726,
          23.4640522875817,
          23.10457516339869,
          23.0718954248366,
          23.16993464052288,
          23.431372549019606,
          22.875816993464053,
          21.99346405228758,
          22.54901960784313,
          23.300653594771244,
          23.0718954248366,
          22.6797385620915,
          23.0718954248366,
          23.496732026143796,
          19.15032679738562,
          18.69281045751634,
          17.84313725490196,
          17.745098039215687,
          18.039215686274503,
          17.941176470588236,
          18.0718954248366,
          19.34640522875817,
          20.35947712418301,
          21.24183006535948,
          20.68627450980392,
          21.21527777777778,
          20.55555555555556,
          20.294117647058822,
          20.13071895424837,
          20,
          20.22875816993464,
          20.294117647058822,
          20.49019607843137,
          20.228758169934643,
          20.65359477124183,
          21.764705882352946,
          21.666666666666664,
          21.666666666666668,
          22.254901960784316,
          22.026143790849677,
          22.38562091503268,
          22.51633986928104,
          21.736111111111107,
          21.666666666666668
         ]
        },
        {
         "mode": "markers",
         "name": "Max Urban",
         "type": "scatter",
         "x": [
          0.9150326797385632,
          0.980392156862745,
          1.0457516339869268,
          1.0457516339869286,
          0.9803921568627458,
          0.915032679738562,
          0.8169934640522872,
          0.8823529411764708,
          1.013071895424837,
          0.8169934640522878,
          0.2614379084967324,
          0.7516339869281057,
          0.8169934640522876,
          0.7843137254901966,
          0.6535947712418306,
          0.947712418300654,
          0.8169934640522878,
          1.0457516339869275,
          0.947712418300654,
          0.9477124183006532,
          0.8169934640522873,
          0.9803921568627444,
          0.5555555555555555,
          0.8496732026143794,
          0.8823529411764708,
          0.7516339869281048,
          1.0130718954248357,
          0.7516339869281046,
          0.8823529411764712,
          0.9150326797385622,
          1.0130718954248368,
          0.7189542483660136,
          0.8169934640522885,
          1.372549019607843,
          1.07843137254902,
          1.2418300653594774,
          0.8823529411764703,
          1.2745098039215677,
          0.9150326797385616,
          1.2418300653594774,
          1.0130718954248352,
          1.111111111111111,
          1.274509803921568,
          1.0457516339869282,
          1.0130718954248366,
          0.8496732026143798,
          0.8823529411764708,
          1.1437908496732028,
          0.9477124183006536,
          1.3398692810457518,
          0.5228758169934647,
          0.8496732026143792,
          0.8823529411764703,
          1.0457516339869288,
          0.9477124183006532,
          0.9803921568627448,
          1.0457516339869282,
          1.0130718954248366,
          0.784313725490196,
          0.9477124183006538,
          0.88235294117647,
          0.915032679738562,
          0.5555555555555562,
          0.6862745098039212,
          0.7843137254901958,
          0.9803921568627448,
          0.5882352941176479,
          0.6535947712418304,
          0.7843137254901958,
          0.784313725490196,
          1.143790849673202,
          0.9477124183006528,
          1.2418300653594774,
          0.5902777777777779,
          0.8823529411764706,
          0.7189542483660134,
          0.7516339869281038,
          1.1111111111111114,
          1.0130718954248368,
          0.915032679738562,
          0.8496732026143792,
          0.8169934640522876,
          0.7189542483660128,
          0.8496732026143796,
          1.111111111111111,
          1.0763888888888886,
          0.947712418300654,
          0.8169934640522873,
          0.7843137254901966,
          0.849673202614379,
          1.1805555555555556,
          1.111111111111111
         ],
         "y": [
          31.993464052287575,
          32.35294117647059,
          31.89542483660131,
          32.287581699346404,
          31.5359477124183,
          30.13071895424837,
          30.91503267973856,
          31.73202614379085,
          31.764705882352946,
          31.83006535947712,
          30.91503267973856,
          31.078431372549023,
          30.81699346405229,
          30.424836601307188,
          30.392156862745104,
          31.5359477124183,
          31.862745098039213,
          30.22875816993464,
          29.836601307189543,
          30.751633986928105,
          30.163398692810453,
          30.065359477124183,
          28.986928104575163,
          30.228758169934643,
          30.22875816993464,
          29.96732026143791,
          30.13071895424837,
          29.509803921568626,
          29.967320261437905,
          30.163398692810453,
          30.457516339869283,
          31.1437908496732,
          30.424836601307188,
          31.307189542483652,
          31.437908496732028,
          32.18954248366013,
          32.15686274509803,
          32.908496732026144,
          31.99346405228758,
          32.67973856209151,
          31.37254901960784,
          31.764705882352946,
          31.503267973856207,
          30.88235294117647,
          30.71895424836601,
          31.928104575163403,
          32.61437908496732,
          33.39869281045752,
          33.10457516339869,
          32.84313725490196,
          31.372549019607845,
          31.993464052287575,
          32.745098039215684,
          32.48366013071895,
          31.274509803921568,
          31.47058823529412,
          31.73202614379085,
          32.15686274509804,
          31.86274509803922,
          30.91503267973856,
          31.111111111111107,
          31.797385620915037,
          29.24836601307189,
          27.94117647058824,
          25.45751633986928,
          25.686274509803923,
          26.04575163398693,
          27.058823529411764,
          27.908496732026144,
          29.54248366013072,
          30.81699346405229,
          30.424836601307188,
          30.91503267973856,
          30.625,
          29.01960784313725,
          27.87581699346405,
          28.95424836601307,
          29.08496732026144,
          29.281045751633982,
          30.098039215686278,
          29.64052287581699,
          29.70588235294117,
          30.392156862745097,
          31.372549019607845,
          30.94771241830065,
          31.666666666666668,
          31.83006535947712,
          31.86274509803922,
          31.27450980392157,
          31.37254901960784,
          30.97222222222222,
          31.25
         ]
        },
        {
         "mode": "markers",
         "name": "Mean Urban",
         "type": "scatter",
         "x": [
          1.8790849673202616,
          1.830065359477124,
          1.6503267973856215,
          2.0424836601307184,
          2.0588235294117645,
          1.9934640522875813,
          2.009803921568627,
          1.9607843137254903,
          2.205882352941177,
          1.519607843137255,
          1.4869281045751637,
          1.862745098039216,
          1.8464052287581705,
          1.7156862745098034,
          1.8464052287581705,
          2.3039215686274503,
          2.026143790849673,
          1.9771241830065365,
          1.977124183006536,
          1.8790849673202608,
          2.0588235294117645,
          2.238562091503268,
          1.84640522875817,
          2.38562091503268,
          1.977124183006536,
          2.0588235294117645,
          2.075163398692811,
          1.6666666666666663,
          1.9771241830065356,
          1.944444444444444,
          2.173202614379084,
          2.0588235294117654,
          2.1405228758169934,
          2.483660130718955,
          1.8137254901960784,
          1.9444444444444449,
          2.1078431372549016,
          2.222222222222222,
          1.9771241830065356,
          2.3202614379084965,
          1.7973856209150323,
          2.238562091503267,
          2.434640522875817,
          1.9934640522875813,
          1.7973856209150323,
          1.96078431372549,
          1.9771241830065356,
          2.598039215686274,
          2.0424836601307192,
          2.156862745098039,
          1.7320261437908495,
          1.9281045751633976,
          1.7320261437908495,
          2.0915032679738563,
          1.9771241830065356,
          1.764705882352941,
          2.0424836601307192,
          1.7156862745098045,
          1.9281045751633987,
          1.6666666666666663,
          1.84640522875817,
          2.173202614379085,
          2.009803921568627,
          1.6503267973856206,
          1.977124183006536,
          1.7320261437908488,
          1.42156862745098,
          1.5849673202614387,
          1.830065359477124,
          2.1405228758169934,
          2.1405228758169934,
          2.189542483660131,
          2.1568627450980395,
          1.336805555555556,
          1.5522875816993469,
          1.1928104575163394,
          1.7810457516339868,
          2.1568627450980395,
          1.862745098039216,
          1.8300653594771243,
          1.8464052287581705,
          1.8627450980392155,
          1.993464052287582,
          1.96078431372549,
          2.3039215686274512,
          2.430555555555556,
          1.96078431372549,
          1.8790849673202616,
          1.7483660130718954,
          1.944444444444444,
          1.805555555555556,
          2.2916666666666656
         ],
         "y": [
          27.810457516339877,
          27.85947712418301,
          27.598039215686278,
          27.826797385620917,
          27.38562091503268,
          26.3562091503268,
          26.73202614379085,
          27.18954248366013,
          27.287581699346404,
          27.25490196078432,
          26.650326797385624,
          26.830065359477125,
          26.781045751633982,
          26.111111111111114,
          26.209150326797385,
          26.79738562091504,
          27.02614379084967,
          26.12745098039216,
          26.094771241830067,
          26.38888888888889,
          25.882352941176475,
          25.784313725490197,
          25.016339869281047,
          25.767973856209156,
          25.88235294117647,
          25.76797385620915,
          26.078431372549023,
          25.71895424836601,
          25.84967320261438,
          26.1437908496732,
          26.209150326797385,
          26.47058823529412,
          26.062091503267972,
          26.437908496732028,
          26.977124183006534,
          27.516339869281044,
          27.516339869281044,
          27.90849673202614,
          27.38562091503268,
          27.85947712418301,
          26.99346405228758,
          27.18954248366013,
          27.026143790849677,
          26.764705882352946,
          26.37254901960784,
          27.205882352941178,
          27.94117647058824,
          28.4640522875817,
          28.578431372549023,
          28.202614379084967,
          27.30392156862745,
          27.565359477124183,
          27.973856209150327,
          28.00653594771242,
          27.14052287581699,
          26.797385620915037,
          27.205882352941178,
          27.74509803921569,
          27.565359477124183,
          26.879084967320264,
          27.15686274509804,
          27.69607843137255,
          24.232026143790847,
          23.349673202614376,
          21.683006535947715,
          21.73202614379085,
          22.07516339869281,
          22.565359477124183,
          23.03921568627451,
          24.49346405228758,
          25.653594771241828,
          25.88235294117647,
          25.83333333333333,
          25.972222222222225,
          24.8202614379085,
          24.084967320261438,
          24.59150326797386,
          24.607843137254903,
          24.80392156862745,
          25.26143790849673,
          25.09803921568627,
          25.016339869281044,
          25.571895424836605,
          26.633986928104576,
          26.38888888888889,
          26.71875,
          27.091503267973856,
          26.977124183006534,
          26.895424836601308,
          26.977124183006534,
          26.40625,
          26.49305555555556
         ]
        },
        {
         "mode": "markers",
         "name": "Min Rural",
         "type": "scatter",
         "x": [
          2.8758169934640514,
          2.581699346405228,
          2.38562091503268,
          3.006535947712418,
          3.202614379084967,
          3.071895424836601,
          3.2679738562091503,
          3.0065359477124183,
          3.398692810457516,
          2.2549019607843133,
          2.549019607843137,
          2.810457516339869,
          3.1372549019607843,
          3.137254901960784,
          3.1699346405228765,
          3.627450980392157,
          3.235294117647059,
          2.973856209150327,
          2.973856209150326,
          2.745098039215686,
          3.169934640522876,
          3.594771241830066,
          3.594771241830065,
          3.562091503267974,
          3.333333333333332,
          3.235294117647059,
          3.071895424836601,
          2.973856209150327,
          3.03921568627451,
          2.8758169934640514,
          3.0065359477124183,
          3.398692810457516,
          3.660130718954248,
          3.2679738562091503,
          2.647058823529412,
          2.516339869281045,
          3.137254901960784,
          3.169934640522876,
          3.0065359477124183,
          2.908496732026144,
          2.6797385620915044,
          3.562091503267974,
          3.7581699346405233,
          2.8431372549019605,
          2.026143790849674,
          2.973856209150326,
          3.3660130718954244,
          4.052287581699348,
          2.9084967320261432,
          2.8431372549019613,
          2.7450980392156867,
          2.908496732026144,
          2.6143790849673203,
          3.137254901960784,
          3.333333333333333,
          2.647058823529412,
          2.777777777777778,
          2.1241830065359477,
          2.712418300653595,
          2.2549019607843133,
          2.679738562091502,
          3.398692810457516,
          3.69281045751634,
          2.908496732026143,
          3.0065359477124183,
          2.5816993464052285,
          2.1568627450980387,
          2.4836601307189548,
          2.973856209150326,
          3.562091503267974,
          3.169934640522876,
          3.4640522875817,
          2.81045751633987,
          2.4652777777777777,
          2.287581699346405,
          1.9934640522875813,
          2.777777777777777,
          2.9411764705882346,
          2.908496732026144,
          2.908496732026143,
          2.908496732026145,
          2.9411764705882355,
          3.300653594771242,
          2.9411764705882355,
          3.3986928104575163,
          3.5069444444444446,
          2.9411764705882355,
          3.0392156862745106,
          2.810457516339869,
          3.03921568627451,
          2.569444444444444,
          3.4027777777777777
         ],
         "y": [
          20.686274509803923,
          20.686274509803923,
          20.816993464052285,
          20.26143790849673,
          19.934640522875817,
          19.444444444444443,
          19.248366013071895,
          19.54248366013072,
          19.379084967320264,
          20.32679738562092,
          19.803921568627448,
          19.67320261437909,
          19.57516339869281,
          18.627450980392155,
          18.72549019607843,
          18.366013071895424,
          18.92156862745098,
          18.954248366013072,
          19.281045751633982,
          19.24836601307189,
          18.333333333333336,
          17.77777777777778,
          17.41830065359477,
          17.6797385620915,
          18.137254901960787,
          18.23529411764705,
          18.8562091503268,
          18.92156862745098,
          18.66013071895425,
          19.11764705882353,
          18.88888888888889,
          18.333333333333336,
          17.97385620915033,
          18.202614379084963,
          19.77124183006536,
          20.228758169934643,
          19.57516339869281,
          19.6078431372549,
          19.673202614379083,
          19.967320261437905,
          19.90196078431373,
          18.986928104575163,
          18.69281045751634,
          19.70588235294117,
          19.86928104575164,
          19.477124183006534,
          19.836601307189543,
          19.37908496732026,
          21.111111111111114,
          20.620915032679736,
          20.359477124183005,
          20.163398692810457,
          20.55555555555556,
          20.294117647058822,
          19.54248366013072,
          19.34640522875817,
          19.77124183006536,
          21.176470588235293,
          20.359477124183005,
          20.42483660130719,
          20.3921568627451,
          20.098039215686278,
          15.45751633986928,
          15.7843137254902,
          14.836601307189545,
          15.163398692810455,
          15.882352941176473,
          15.45751633986928,
          15.098039215686276,
          15.7843137254902,
          17.18954248366013,
          17.77777777777778,
          17.875816993464053,
          18.823529411764707,
          18.26797385620915,
          18.30065359477124,
          17.352941176470587,
          17.058823529411764,
          17.3202614379085,
          17.38562091503268,
          17.581699346405227,
          17.287581699346404,
          17.352941176470587,
          18.823529411764707,
          18.26797385620915,
          18.202614379084967,
          19.31372549019608,
          18.986928104575167,
          19.57516339869281,
          19.47712418300653,
          19.11764705882353,
          18.16993464052288
         ]
        },
        {
         "mode": "markers",
         "name": "Max Rural",
         "type": "scatter",
         "x": [
          0.9150326797385632,
          0.980392156862745,
          1.0457516339869268,
          1.0457516339869286,
          0.9803921568627458,
          0.915032679738562,
          0.8169934640522872,
          0.8823529411764708,
          1.013071895424837,
          0.8169934640522878,
          0.2614379084967324,
          0.7516339869281057,
          0.8169934640522876,
          0.7843137254901966,
          0.6535947712418306,
          0.947712418300654,
          0.8169934640522878,
          1.0457516339869275,
          0.947712418300654,
          0.9477124183006532,
          0.8169934640522873,
          0.9803921568627444,
          0.5555555555555555,
          0.8496732026143794,
          0.8823529411764708,
          0.7516339869281048,
          1.0130718954248357,
          0.7516339869281046,
          0.8823529411764712,
          0.9150326797385622,
          1.0130718954248368,
          0.7189542483660136,
          0.8169934640522885,
          1.372549019607843,
          1.07843137254902,
          1.2418300653594774,
          0.8823529411764703,
          1.2745098039215677,
          0.9150326797385616,
          1.2418300653594774,
          1.0130718954248352,
          1.111111111111111,
          1.274509803921568,
          1.0457516339869282,
          1.0130718954248366,
          0.8496732026143798,
          0.8823529411764708,
          1.1437908496732028,
          0.9477124183006536,
          1.3398692810457518,
          0.5228758169934647,
          0.8496732026143792,
          0.8823529411764703,
          1.0457516339869288,
          0.9477124183006532,
          0.9803921568627448,
          1.0457516339869282,
          1.0130718954248366,
          0.784313725490196,
          0.9477124183006538,
          0.88235294117647,
          0.915032679738562,
          0.5555555555555562,
          0.6862745098039212,
          0.7843137254901958,
          0.9803921568627448,
          0.5882352941176479,
          0.6535947712418304,
          0.7843137254901958,
          0.784313725490196,
          1.143790849673202,
          0.9477124183006528,
          1.2418300653594774,
          0.5902777777777779,
          0.8823529411764706,
          0.7189542483660134,
          0.7516339869281038,
          1.1111111111111114,
          1.0130718954248368,
          0.915032679738562,
          0.8496732026143792,
          0.8169934640522876,
          0.7189542483660128,
          0.8496732026143796,
          1.111111111111111,
          1.0763888888888886,
          0.947712418300654,
          0.8169934640522873,
          0.7843137254901966,
          0.849673202614379,
          1.1805555555555556,
          1.111111111111111
         ],
         "y": [
          31.078431372549016,
          31.37254901960784,
          30.84967320261438,
          31.241830065359483,
          30.55555555555556,
          29.215686274509807,
          30.098039215686278,
          30.84967320261438,
          30.751633986928105,
          31.013071895424837,
          30.653594771241828,
          30.326797385620917,
          30,
          29.640522875816995,
          29.73856209150327,
          30.58823529411765,
          31.04575163398693,
          29.183006535947715,
          28.88888888888889,
          29.803921568627448,
          29.34640522875817,
          29.08496732026144,
          28.431372549019606,
          29.379084967320264,
          29.34640522875817,
          29.215686274509803,
          29.117647058823533,
          28.75816993464052,
          29.08496732026144,
          29.24836601307189,
          29.44444444444444,
          30.424836601307188,
          29.607843137254896,
          29.934640522875814,
          30.359477124183005,
          30.94771241830065,
          31.27450980392157,
          31.633986928104576,
          31.078431372549023,
          31.43790849673202,
          30.35947712418301,
          30.653594771241828,
          30.228758169934643,
          29.836601307189543,
          29.705882352941178,
          31.078431372549016,
          31.73202614379085,
          32.25490196078431,
          32.15686274509804,
          31.503267973856207,
          30.84967320261438,
          31.1437908496732,
          31.862745098039213,
          31.437908496732028,
          30.326797385620917,
          30.49019607843137,
          30.68627450980392,
          31.1437908496732,
          31.078431372549023,
          29.96732026143791,
          30.228758169934643,
          30.88235294117647,
          28.692810457516337,
          27.254901960784316,
          24.67320261437909,
          24.70588235294117,
          25.45751633986928,
          26.405228758169937,
          27.124183006535947,
          28.75816993464052,
          29.67320261437909,
          29.477124183006534,
          29.673202614379083,
          30.065359477124183,
          28.137254901960784,
          27.15686274509804,
          28.202614379084963,
          27.973856209150327,
          28.267973856209156,
          29.183006535947715,
          28.79084967320261,
          28.88888888888889,
          29.673202614379083,
          30.522875816993466,
          29.836601307189543,
          30.84967320261438,
          30.88235294117647,
          31.04575163398693,
          30.49019607843137,
          30.522875816993466,
          29.869281045751634,
          30.228758169934643
         ]
        },
        {
         "mode": "markers",
         "name": "Mean Rural",
         "type": "scatter",
         "x": [
          1.8790849673202616,
          1.830065359477124,
          1.6503267973856215,
          2.0424836601307184,
          2.0588235294117645,
          1.9934640522875813,
          2.009803921568627,
          1.9607843137254903,
          2.205882352941177,
          1.519607843137255,
          1.4869281045751637,
          1.862745098039216,
          1.8464052287581705,
          1.7156862745098034,
          1.8464052287581705,
          2.3039215686274503,
          2.026143790849673,
          1.9771241830065365,
          1.977124183006536,
          1.8790849673202608,
          2.0588235294117645,
          2.238562091503268,
          1.84640522875817,
          2.38562091503268,
          1.977124183006536,
          2.0588235294117645,
          2.075163398692811,
          1.6666666666666663,
          1.9771241830065356,
          1.944444444444444,
          2.173202614379084,
          2.0588235294117654,
          2.1405228758169934,
          2.483660130718955,
          1.8137254901960784,
          1.9444444444444449,
          2.1078431372549016,
          2.222222222222222,
          1.9771241830065356,
          2.3202614379084965,
          1.7973856209150323,
          2.238562091503267,
          2.434640522875817,
          1.9934640522875813,
          1.7973856209150323,
          1.96078431372549,
          1.9771241830065356,
          2.598039215686274,
          2.0424836601307192,
          2.156862745098039,
          1.7320261437908495,
          1.9281045751633976,
          1.7320261437908495,
          2.0915032679738563,
          1.9771241830065356,
          1.764705882352941,
          2.0424836601307192,
          1.7156862745098045,
          1.9281045751633987,
          1.6666666666666663,
          1.84640522875817,
          2.173202614379085,
          2.009803921568627,
          1.6503267973856206,
          1.977124183006536,
          1.7320261437908488,
          1.42156862745098,
          1.5849673202614387,
          1.830065359477124,
          2.1405228758169934,
          2.1405228758169934,
          2.189542483660131,
          2.1568627450980395,
          1.336805555555556,
          1.5522875816993469,
          1.1928104575163394,
          1.7810457516339868,
          2.1568627450980395,
          1.862745098039216,
          1.8300653594771243,
          1.8464052287581705,
          1.8627450980392155,
          1.993464052287582,
          1.96078431372549,
          2.3039215686274512,
          2.430555555555556,
          1.96078431372549,
          1.8790849673202616,
          1.7483660130718954,
          1.944444444444444,
          1.805555555555556,
          2.2916666666666656
         ],
         "y": [
          25.931372549019606,
          26.029411764705884,
          25.94771241830065,
          25.784313725490197,
          25.326797385620917,
          24.362745098039216,
          24.72222222222222,
          25.228758169934643,
          25.081699346405227,
          25.735294117647054,
          25.163398692810457,
          24.96732026143791,
          24.934640522875817,
          24.395424836601308,
          24.362745098039216,
          24.49346405228758,
          25,
          24.15032679738562,
          24.117647058823533,
          24.509803921568626,
          23.823529411764707,
          23.545751633986928,
          23.16993464052288,
          23.38235294117647,
          23.905228758169937,
          23.70915032679738,
          24.00326797385621,
          24.052287581699343,
          23.87254901960784,
          24.19934640522876,
          24.0359477124183,
          24.41176470588235,
          23.92156862745098,
          23.95424836601307,
          25.163398692810457,
          25.5718954248366,
          25.408496732026144,
          25.686274509803923,
          25.40849673202614,
          25.53921568627451,
          25.19607843137255,
          24.950980392156865,
          24.591503267973856,
          24.77124183006536,
          24.57516339869281,
          25.245098039215687,
          25.9640522875817,
          25.866013071895424,
          26.535947712418302,
          26.045751633986924,
          25.5718954248366,
          25.637254901960787,
          26.24183006535948,
          25.91503267973856,
          25.163398692810457,
          25.03267973856209,
          25.16339869281046,
          26.029411764705884,
          25.637254901960784,
          25.212418300653592,
          25.310457516339863,
          25.522875816993466,
          22.222222222222225,
          21.69934640522876,
          19.705882352941178,
          20,
          20.65359477124183,
          20.98039215686274,
          21.209150326797385,
          22.352941176470587,
          23.51307189542484,
          23.69281045751634,
          23.676470588235293,
          24.67320261437909,
          23.267973856209156,
          22.8921568627451,
          22.810457516339863,
          22.450980392156865,
          22.94117647058824,
          23.431372549019606,
          23.25163398692811,
          23.153594771241828,
          23.578431372549016,
          24.67320261437909,
          24.084967320261438,
          24.46078431372549,
          25.13071895424837,
          25.09803921568627,
          25.147058823529413,
          25.03267973856209,
          24.624183006535947,
          24.215686274509807
         ]
        },
        {
         "mode": "lines",
         "name": "Min Linear Regression Fit",
         "type": "scatter",
         "x": [
          1.9934640522875813,
          2.0142602495543667,
          2.0350564468211525,
          2.055852644087938,
          2.0766488413547233,
          2.097445038621509,
          2.1182412358882945,
          2.13903743315508,
          2.1598336304218653,
          2.180629827688651,
          2.2014260249554365,
          2.222222222222222,
          2.2430184194890077,
          2.263814616755793,
          2.2846108140225785,
          2.3054070112893643,
          2.3262032085561497,
          2.346999405822935,
          2.3677956030897205,
          2.3885918003565063,
          2.4093879976232917,
          2.430184194890077,
          2.450980392156863,
          2.4717765894236483,
          2.4925727866904337,
          2.5133689839572195,
          2.534165181224005,
          2.5549613784907903,
          2.575757575757576,
          2.5965537730243615,
          2.617349970291147,
          2.6381461675579327,
          2.658942364824718,
          2.6797385620915035,
          2.700534759358289,
          2.7213309566250747,
          2.74212715389186,
          2.7629233511586455,
          2.783719548425431,
          2.8045157456922167,
          2.825311942959002,
          2.8461081402257875,
          2.8669043374925733,
          2.8877005347593587,
          2.908496732026144,
          2.92929292929293,
          2.9500891265597153,
          2.9708853238265007,
          2.9916815210932866,
          3.012477718360072,
          3.0332739156268573,
          3.054070112893643,
          3.0748663101604286,
          3.095662507427214,
          3.1164587046939998,
          3.137254901960785,
          3.1580510992275705,
          3.1788472964943564,
          3.1996434937611413,
          3.220439691027927,
          3.241235888294713,
          3.262032085561498,
          3.2828282828282838,
          3.303624480095069,
          3.3244206773618545,
          3.3452168746286404,
          3.3660130718954258,
          3.386809269162211,
          3.407605466428997,
          3.4284016636957824,
          3.4491978609625678,
          3.4699940582293536,
          3.490790255496139,
          3.5115864527629244,
          3.53238265002971,
          3.5531788472964956,
          3.573975044563281,
          3.594771241830067,
          3.615567439096852,
          3.6363636363636376,
          3.6571598336304234,
          3.6779560308972084,
          3.698752228163994,
          3.71954842543078,
          3.740344622697565,
          3.761140819964351,
          3.781937017231136,
          3.8027332144979216,
          3.8235294117647074,
          3.844325609031493,
          3.865121806298278,
          3.885918003565064,
          3.9067142008318494,
          3.927510398098635,
          3.9483065953654206,
          3.969102792632206,
          3.9898989898989914,
          4.010695187165777,
          4.031491384432563,
          4.052287581699348
         ],
         "y": [
          21.602243805965944,
          21.60618877015561,
          21.610133734345283,
          21.61407869853495,
          21.618023662724617,
          21.621968626914285,
          21.625913591103952,
          21.62985855529362,
          21.63380351948329,
          21.637748483672958,
          21.641693447862625,
          21.645638412052293,
          21.64958337624196,
          21.65352834043163,
          21.6574733046213,
          21.661418268810966,
          21.665363233000633,
          21.6693081971903,
          21.673253161379968,
          21.67719812556964,
          21.681143089759306,
          21.685088053948974,
          21.68903301813864,
          21.69297798232831,
          21.69692294651798,
          21.700867910707647,
          21.704812874897314,
          21.70875783908698,
          21.71270280327665,
          21.716647767466316,
          21.720592731655987,
          21.724537695845655,
          21.728482660035322,
          21.73242762422499,
          21.736372588414657,
          21.740317552604328,
          21.744262516793995,
          21.748207480983663,
          21.75215244517333,
          21.756097409362997,
          21.760042373552665,
          21.763987337742336,
          21.767932301932003,
          21.77187726612167,
          21.775822230311338,
          21.779767194501005,
          21.783712158690676,
          21.787657122880344,
          21.79160208707001,
          21.79554705125968,
          21.799492015449346,
          21.803436979639013,
          21.807381943828684,
          21.81132690801835,
          21.81527187220802,
          21.819216836397686,
          21.823161800587354,
          21.827106764777024,
          21.831051728966692,
          21.83499669315636,
          21.838941657346027,
          21.842886621535694,
          21.84683158572536,
          21.850776549915032,
          21.8547215141047,
          21.858666478294367,
          21.862611442484035,
          21.866556406673702,
          21.870501370863373,
          21.87444633505304,
          21.878391299242708,
          21.882336263432375,
          21.886281227622042,
          21.89022619181171,
          21.89417115600138,
          21.898116120191048,
          21.902061084380716,
          21.906006048570383,
          21.90995101276005,
          21.913895976949718,
          21.91784094113939,
          21.921785905329056,
          21.925730869518723,
          21.92967583370839,
          21.933620797898058,
          21.93756576208773,
          21.941510726277397,
          21.945455690467064,
          21.94940065465673,
          21.9533456188464,
          21.957290583036066,
          21.961235547225737,
          21.965180511415404,
          21.969125475605072,
          21.97307043979474,
          21.977015403984407,
          21.980960368174078,
          21.984905332363745,
          21.988850296553412,
          21.99279526074308
         ]
        },
        {
         "mode": "lines",
         "name": "Max Linear Regression Fit",
         "type": "scatter",
         "x": [
          0.2614379084967324,
          0.27266125305341027,
          0.28388459761008816,
          0.29510794216676606,
          0.3063312867234439,
          0.3175546312801218,
          0.3287779758367997,
          0.3400013203934776,
          0.3512246649501555,
          0.3624480095068333,
          0.3736713540635112,
          0.3848946986201891,
          0.396118043176867,
          0.4073413877335449,
          0.41856473229022273,
          0.4297880768469006,
          0.4410114214035785,
          0.4522347659602564,
          0.4634581105169343,
          0.47468145507361215,
          0.48590479963029004,
          0.49712814418696794,
          0.5083514887436458,
          0.5195748333003237,
          0.5307981778570017,
          0.5420215224136795,
          0.5532448669703574,
          0.5644682115270352,
          0.5756915560837131,
          0.5869149006403911,
          0.5981382451970689,
          0.6093615897537468,
          0.6205849343104246,
          0.6318082788671026,
          0.6430316234237805,
          0.6542549679804583,
          0.6654783125371362,
          0.676701657093814,
          0.687925001650492,
          0.6991483462071699,
          0.7103716907638478,
          0.7215950353205256,
          0.7328183798772034,
          0.7440417244338814,
          0.7552650689905593,
          0.7664884135472372,
          0.777711758103915,
          0.7889351026605929,
          0.8001584472172709,
          0.8113817917739488,
          0.8226051363306266,
          0.8338284808873044,
          0.8450518254439823,
          0.8562751700006603,
          0.8674985145573382,
          0.878721859114016,
          0.8899452036706939,
          0.9011685482273717,
          0.9123918927840498,
          0.9236152373407276,
          0.9348385818974054,
          0.9460619264540833,
          0.9572852710107611,
          0.9685086155674392,
          0.979731960124117,
          0.9909553046807948,
          1.0021786492374727,
          1.0134019937941505,
          1.0246253383508286,
          1.0358486829075064,
          1.0470720274641843,
          1.058295372020862,
          1.06951871657754,
          1.080742061134218,
          1.0919654056908958,
          1.1031887502475737,
          1.1144120948042515,
          1.1256354393609294,
          1.1368587839176074,
          1.1480821284742853,
          1.159305473030963,
          1.170528817587641,
          1.1817521621443188,
          1.1929755067009968,
          1.2041988512576747,
          1.2154221958143525,
          1.2266455403710304,
          1.2378688849277082,
          1.2490922294843863,
          1.260315574041064,
          1.271538918597742,
          1.2827622631544198,
          1.2939856077110978,
          1.3052089522677757,
          1.3164322968244535,
          1.3276556413811313,
          1.3388789859378094,
          1.3501023304944872,
          1.361325675051165,
          1.372549019607843
         ],
         "y": [
          28.5687909565479,
          28.606478427411055,
          28.64416589827421,
          28.681853369137364,
          28.719540840000523,
          28.757228310863677,
          28.794915781726832,
          28.832603252589987,
          28.87029072345314,
          28.9079781943163,
          28.945665665179455,
          28.98335313604261,
          29.021040606905764,
          29.05872807776892,
          29.096415548632073,
          29.13410301949523,
          29.171790490358386,
          29.20947796122154,
          29.247165432084696,
          29.28485290294785,
          29.32254037381101,
          29.360227844674164,
          29.39791531553732,
          29.435602786400473,
          29.473290257263628,
          29.510977728126786,
          29.54866519898994,
          29.586352669853095,
          29.62404014071625,
          29.661727611579405,
          29.699415082442563,
          29.737102553305718,
          29.774790024168873,
          29.812477495032027,
          29.850164965895182,
          29.887852436758337,
          29.925539907621495,
          29.96322737848465,
          30.000914849347804,
          30.03860232021096,
          30.076289791074117,
          30.113977261937272,
          30.151664732800427,
          30.18935220366358,
          30.227039674526736,
          30.26472714538989,
          30.302414616253046,
          30.340102087116204,
          30.37778955797936,
          30.415477028842513,
          30.453164499705668,
          30.490851970568826,
          30.52853944143198,
          30.566226912295136,
          30.60391438315829,
          30.641601854021445,
          30.6792893248846,
          30.716976795747758,
          30.754664266610913,
          30.792351737474068,
          30.830039208337222,
          30.867726679200377,
          30.905414150063535,
          30.94310162092669,
          30.980789091789845,
          31.018476562653,
          31.056164033516154,
          31.09385150437931,
          31.131538975242467,
          31.169226446105622,
          31.206913916968777,
          31.24460138783193,
          31.28228885869509,
          31.319976329558244,
          31.3576638004214,
          31.395351271284554,
          31.43303874214771,
          31.470726213010863,
          31.50841368387402,
          31.546101154737176,
          31.58378862560033,
          31.621476096463486,
          31.65916356732664,
          31.6968510381898,
          31.734538509052953,
          31.772225979916108,
          31.809913450779263,
          31.847600921642417,
          31.885288392505576,
          31.92297586336873,
          31.960663334231885,
          31.99835080509504,
          32.0360382759582,
          32.07372574682135,
          32.11141321768451,
          32.14910068854766,
          32.18678815941082,
          32.22447563027397,
          32.262163101137126,
          32.29985057200028
         ]
        },
        {
         "mode": "lines",
         "name": "Mean Linear Regression Fit",
         "type": "scatter",
         "x": [
          1.1928104575163394,
          1.2070046873968439,
          1.221198917277348,
          1.2353931471578525,
          1.249587377038357,
          1.2637816069188614,
          1.2779758367993657,
          1.29217006667987,
          1.3063642965603746,
          1.320558526440879,
          1.3347527563213832,
          1.3489469862018877,
          1.3631412160823921,
          1.3773354459628964,
          1.3915296758434008,
          1.4057239057239053,
          1.4199181356044097,
          1.4341123654849142,
          1.4483065953654184,
          1.4625008252459228,
          1.4766950551264273,
          1.4908892850069315,
          1.505083514887436,
          1.5192777447679404,
          1.5334719746484446,
          1.547666204528949,
          1.5618604344094535,
          1.576054664289958,
          1.5902488941704624,
          1.6044431240509667,
          1.6186373539314711,
          1.6328315838119756,
          1.6470258136924798,
          1.6612200435729843,
          1.6754142734534887,
          1.6896085033339932,
          1.7038027332144976,
          1.7179969630950018,
          1.7321911929755063,
          1.7463854228560107,
          1.760579652736515,
          1.7747738826170194,
          1.7889681124975239,
          1.803162342378028,
          1.8173565722585328,
          1.831550802139037,
          1.8457450320195414,
          1.8599392619000459,
          1.87413349178055,
          1.8883277216610546,
          1.902521951541559,
          1.9167161814220632,
          1.9309104113025677,
          1.9451046411830721,
          1.9592988710635764,
          1.973493100944081,
          1.9876873308245853,
          2.0018815607050895,
          2.016075790585594,
          2.0302700204660984,
          2.0444642503466026,
          2.0586584802271073,
          2.0728527101076115,
          2.087046939988116,
          2.1012411698686204,
          2.1154353997491246,
          2.1296296296296293,
          2.1438238595101335,
          2.158018089390638,
          2.1722123192711424,
          2.1864065491516467,
          2.2006007790321513,
          2.2147950089126556,
          2.22898923879316,
          2.2431834686736645,
          2.2573776985541687,
          2.271571928434673,
          2.2857661583151776,
          2.299960388195682,
          2.314154618076186,
          2.3283488479566907,
          2.342543077837195,
          2.356737307717699,
          2.370931537598204,
          2.3851257674787085,
          2.3993199973592123,
          2.413514227239717,
          2.4277084571202217,
          2.441902687000726,
          2.45609691688123,
          2.470291146761735,
          2.484485376642239,
          2.4986796065227432,
          2.512873836403248,
          2.527068066283752,
          2.5412622961642564,
          2.555456526044761,
          2.5696507559252653,
          2.5838449858057695,
          2.598039215686274
         ],
         "y": [
          24.917445956517795,
          24.943588140418807,
          24.96973032431982,
          24.99587250822083,
          25.022014692121843,
          25.04815687602285,
          25.074299059923863,
          25.100441243824875,
          25.126583427725887,
          25.1527256116269,
          25.178867795527907,
          25.20500997942892,
          25.23115216332993,
          25.25729434723094,
          25.28343653113195,
          25.309578715032963,
          25.335720898933975,
          25.361863082834986,
          25.388005266735995,
          25.414147450637007,
          25.44028963453802,
          25.46643181843903,
          25.492574002340042,
          25.51871618624105,
          25.544858370142062,
          25.571000554043074,
          25.597142737944086,
          25.623284921845098,
          25.649427105746106,
          25.675569289647118,
          25.70171147354813,
          25.727853657449142,
          25.75399584135015,
          25.780138025251162,
          25.806280209152174,
          25.832422393053186,
          25.858564576954198,
          25.884706760855206,
          25.910848944756218,
          25.93699112865723,
          25.96313331255824,
          25.98927549645925,
          26.01541768036026,
          26.041559864261274,
          26.067702048162285,
          26.093844232063297,
          26.119986415964306,
          26.146128599865317,
          26.17227078376633,
          26.19841296766734,
          26.224555151568353,
          26.25069733546936,
          26.276839519370373,
          26.302981703271385,
          26.329123887172397,
          26.35526607107341,
          26.381408254974417,
          26.40755043887543,
          26.43369262277644,
          26.459834806677453,
          26.48597699057846,
          26.512119174479473,
          26.538261358380485,
          26.564403542281497,
          26.59054572618251,
          26.616687910083517,
          26.64283009398453,
          26.66897227788554,
          26.695114461786552,
          26.72125664568756,
          26.747398829588573,
          26.773541013489584,
          26.799683197390596,
          26.825825381291608,
          26.851967565192616,
          26.87810974909363,
          26.90425193299464,
          26.930394116895652,
          26.956536300796664,
          26.982678484697672,
          27.008820668598684,
          27.034962852499696,
          27.061105036400704,
          27.08724722030172,
          27.113389404202728,
          27.13953158810374,
          27.16567377200475,
          27.191815955905764,
          27.217958139806775,
          27.244100323707784,
          27.270242507608796,
          27.296384691509807,
          27.322526875410816,
          27.34866905931183,
          27.37481124321284,
          27.40095342711385,
          27.427095611014863,
          27.45323779491587,
          27.479379978816883,
          27.505522162717895
         ]
        },
        {
         "mode": "lines",
         "name": "Min Linear Regression Fit",
         "type": "scatter",
         "x": [
          1.9934640522875813,
          2.0142602495543667,
          2.0350564468211525,
          2.055852644087938,
          2.0766488413547233,
          2.097445038621509,
          2.1182412358882945,
          2.13903743315508,
          2.1598336304218653,
          2.180629827688651,
          2.2014260249554365,
          2.222222222222222,
          2.2430184194890077,
          2.263814616755793,
          2.2846108140225785,
          2.3054070112893643,
          2.3262032085561497,
          2.346999405822935,
          2.3677956030897205,
          2.3885918003565063,
          2.4093879976232917,
          2.430184194890077,
          2.450980392156863,
          2.4717765894236483,
          2.4925727866904337,
          2.5133689839572195,
          2.534165181224005,
          2.5549613784907903,
          2.575757575757576,
          2.5965537730243615,
          2.617349970291147,
          2.6381461675579327,
          2.658942364824718,
          2.6797385620915035,
          2.700534759358289,
          2.7213309566250747,
          2.74212715389186,
          2.7629233511586455,
          2.783719548425431,
          2.8045157456922167,
          2.825311942959002,
          2.8461081402257875,
          2.8669043374925733,
          2.8877005347593587,
          2.908496732026144,
          2.92929292929293,
          2.9500891265597153,
          2.9708853238265007,
          2.9916815210932866,
          3.012477718360072,
          3.0332739156268573,
          3.054070112893643,
          3.0748663101604286,
          3.095662507427214,
          3.1164587046939998,
          3.137254901960785,
          3.1580510992275705,
          3.1788472964943564,
          3.1996434937611413,
          3.220439691027927,
          3.241235888294713,
          3.262032085561498,
          3.2828282828282838,
          3.303624480095069,
          3.3244206773618545,
          3.3452168746286404,
          3.3660130718954258,
          3.386809269162211,
          3.407605466428997,
          3.4284016636957824,
          3.4491978609625678,
          3.4699940582293536,
          3.490790255496139,
          3.5115864527629244,
          3.53238265002971,
          3.5531788472964956,
          3.573975044563281,
          3.594771241830067,
          3.615567439096852,
          3.6363636363636376,
          3.6571598336304234,
          3.6779560308972084,
          3.698752228163994,
          3.71954842543078,
          3.740344622697565,
          3.761140819964351,
          3.781937017231136,
          3.8027332144979216,
          3.8235294117647074,
          3.844325609031493,
          3.865121806298278,
          3.885918003565064,
          3.9067142008318494,
          3.927510398098635,
          3.9483065953654206,
          3.969102792632206,
          3.9898989898989914,
          4.010695187165777,
          4.031491384432563,
          4.052287581699348
         ],
         "y": [
          19.610788506907706,
          19.59388919508844,
          19.576989883269174,
          19.56009057144991,
          19.543191259630643,
          19.526291947811377,
          19.50939263599211,
          19.492493324172845,
          19.47559401235358,
          19.45869470053431,
          19.441795388715043,
          19.424896076895777,
          19.40799676507651,
          19.391097453257245,
          19.37419814143798,
          19.357298829618713,
          19.340399517799447,
          19.32350020598018,
          19.306600894160916,
          19.28970158234165,
          19.272802270522384,
          19.255902958703118,
          19.239003646883848,
          19.222104335064582,
          19.205205023245316,
          19.18830571142605,
          19.171406399606784,
          19.15450708778752,
          19.137607775968252,
          19.120708464148986,
          19.10380915232972,
          19.08690984051045,
          19.070010528691185,
          19.05311121687192,
          19.036211905052653,
          19.019312593233387,
          19.00241328141412,
          18.985513969594855,
          18.96861465777559,
          18.951715345956323,
          18.934816034137057,
          18.91791672231779,
          18.901017410498525,
          18.88411809867926,
          18.867218786859993,
          18.850319475040724,
          18.833420163221458,
          18.816520851402192,
          18.799621539582926,
          18.78272222776366,
          18.765822915944394,
          18.748923604125128,
          18.732024292305862,
          18.715124980486596,
          18.69822566866733,
          18.68132635684806,
          18.664427045028795,
          18.64752773320953,
          18.630628421390263,
          18.613729109570997,
          18.59682979775173,
          18.579930485932465,
          18.5630311741132,
          18.546131862293933,
          18.529232550474667,
          18.5123332386554,
          18.495433926836135,
          18.47853461501687,
          18.4616353031976,
          18.444735991378334,
          18.427836679559068,
          18.410937367739802,
          18.394038055920536,
          18.37713874410127,
          18.360239432282004,
          18.343340120462738,
          18.326440808643472,
          18.309541496824206,
          18.29264218500494,
          18.27574287318567,
          18.258843561366405,
          18.24194424954714,
          18.225044937727873,
          18.208145625908607,
          18.19124631408934,
          18.174347002270075,
          18.15744769045081,
          18.140548378631543,
          18.123649066812277,
          18.10674975499301,
          18.089850443173745,
          18.07295113135448,
          18.05605181953521,
          18.039152507715944,
          18.022253195896678,
          18.00535388407741,
          17.988454572258146,
          17.97155526043888,
          17.954655948619614,
          17.937756636800348
         ]
        },
        {
         "mode": "lines",
         "name": "Max Linear Regression Fit",
         "type": "scatter",
         "x": [
          0.2614379084967324,
          0.27266125305341027,
          0.28388459761008816,
          0.29510794216676606,
          0.3063312867234439,
          0.3175546312801218,
          0.3287779758367997,
          0.3400013203934776,
          0.3512246649501555,
          0.3624480095068333,
          0.3736713540635112,
          0.3848946986201891,
          0.396118043176867,
          0.4073413877335449,
          0.41856473229022273,
          0.4297880768469006,
          0.4410114214035785,
          0.4522347659602564,
          0.4634581105169343,
          0.47468145507361215,
          0.48590479963029004,
          0.49712814418696794,
          0.5083514887436458,
          0.5195748333003237,
          0.5307981778570017,
          0.5420215224136795,
          0.5532448669703574,
          0.5644682115270352,
          0.5756915560837131,
          0.5869149006403911,
          0.5981382451970689,
          0.6093615897537468,
          0.6205849343104246,
          0.6318082788671026,
          0.6430316234237805,
          0.6542549679804583,
          0.6654783125371362,
          0.676701657093814,
          0.687925001650492,
          0.6991483462071699,
          0.7103716907638478,
          0.7215950353205256,
          0.7328183798772034,
          0.7440417244338814,
          0.7552650689905593,
          0.7664884135472372,
          0.777711758103915,
          0.7889351026605929,
          0.8001584472172709,
          0.8113817917739488,
          0.8226051363306266,
          0.8338284808873044,
          0.8450518254439823,
          0.8562751700006603,
          0.8674985145573382,
          0.878721859114016,
          0.8899452036706939,
          0.9011685482273717,
          0.9123918927840498,
          0.9236152373407276,
          0.9348385818974054,
          0.9460619264540833,
          0.9572852710107611,
          0.9685086155674392,
          0.979731960124117,
          0.9909553046807948,
          1.0021786492374727,
          1.0134019937941505,
          1.0246253383508286,
          1.0358486829075064,
          1.0470720274641843,
          1.058295372020862,
          1.06951871657754,
          1.080742061134218,
          1.0919654056908958,
          1.1031887502475737,
          1.1144120948042515,
          1.1256354393609294,
          1.1368587839176074,
          1.1480821284742853,
          1.159305473030963,
          1.170528817587641,
          1.1817521621443188,
          1.1929755067009968,
          1.2041988512576747,
          1.2154221958143525,
          1.2266455403710304,
          1.2378688849277082,
          1.2490922294843863,
          1.260315574041064,
          1.271538918597742,
          1.2827622631544198,
          1.2939856077110978,
          1.3052089522677757,
          1.3164322968244535,
          1.3276556413811313,
          1.3388789859378094,
          1.3501023304944872,
          1.361325675051165,
          1.372549019607843
         ],
         "y": [
          28.297994959382013,
          28.3247058288887,
          28.351416698395383,
          28.378127567902066,
          28.40483843740875,
          28.431549306915436,
          28.45826017642212,
          28.484971045928805,
          28.51168191543549,
          28.53839278494217,
          28.56510365444886,
          28.59181452395554,
          28.618525393462225,
          28.64523626296891,
          28.671947132475594,
          28.698658001982277,
          28.725368871488964,
          28.752079740995647,
          28.77879061050233,
          28.805501480009017,
          28.8322123495157,
          28.858923219022383,
          28.88563408852907,
          28.912344958035753,
          28.939055827542436,
          28.965766697049123,
          28.992477566555806,
          29.01918843606249,
          29.045899305569176,
          29.07261017507586,
          29.099321044582542,
          29.12603191408923,
          29.15274278359591,
          29.179453653102595,
          29.20616452260928,
          29.232875392115965,
          29.259586261622648,
          29.286297131129334,
          29.313008000636017,
          29.3397188701427,
          29.366429739649387,
          29.39314060915607,
          29.419851478662753,
          29.44656234816944,
          29.473273217676123,
          29.499984087182806,
          29.526694956689493,
          29.553405826196176,
          29.58011669570286,
          29.606827565209546,
          29.63353843471623,
          29.660249304222912,
          29.6869601737296,
          29.713671043236282,
          29.740381912742965,
          29.76709278224965,
          29.793803651756335,
          29.820514521263018,
          29.847225390769704,
          29.873936260276388,
          29.90064712978307,
          29.927357999289757,
          29.95406886879644,
          29.980779738303127,
          30.00749060780981,
          30.034201477316493,
          30.060912346823176,
          30.087623216329863,
          30.114334085836546,
          30.141044955343233,
          30.167755824849916,
          30.1944666943566,
          30.221177563863282,
          30.24788843336997,
          30.274599302876652,
          30.30131017238334,
          30.328021041890022,
          30.354731911396705,
          30.38144278090339,
          30.408153650410075,
          30.434864519916758,
          30.46157538942344,
          30.488286258930128,
          30.51499712843681,
          30.541707997943497,
          30.56841886745018,
          30.595129736956864,
          30.621840606463547,
          30.648551475970233,
          30.675262345476916,
          30.701973214983603,
          30.728684084490286,
          30.75539495399697,
          30.782105823503656,
          30.80881669301034,
          30.835527562517022,
          30.86223843202371,
          30.888949301530392,
          30.915660171037075,
          30.94237104054376
         ]
        },
        {
         "mode": "lines",
         "name": "Mean Linear Regression Fit",
         "type": "scatter",
         "x": [
          1.1928104575163394,
          1.2070046873968439,
          1.221198917277348,
          1.2353931471578525,
          1.249587377038357,
          1.2637816069188614,
          1.2779758367993657,
          1.29217006667987,
          1.3063642965603746,
          1.320558526440879,
          1.3347527563213832,
          1.3489469862018877,
          1.3631412160823921,
          1.3773354459628964,
          1.3915296758434008,
          1.4057239057239053,
          1.4199181356044097,
          1.4341123654849142,
          1.4483065953654184,
          1.4625008252459228,
          1.4766950551264273,
          1.4908892850069315,
          1.505083514887436,
          1.5192777447679404,
          1.5334719746484446,
          1.547666204528949,
          1.5618604344094535,
          1.576054664289958,
          1.5902488941704624,
          1.6044431240509667,
          1.6186373539314711,
          1.6328315838119756,
          1.6470258136924798,
          1.6612200435729843,
          1.6754142734534887,
          1.6896085033339932,
          1.7038027332144976,
          1.7179969630950018,
          1.7321911929755063,
          1.7463854228560107,
          1.760579652736515,
          1.7747738826170194,
          1.7889681124975239,
          1.803162342378028,
          1.8173565722585328,
          1.831550802139037,
          1.8457450320195414,
          1.8599392619000459,
          1.87413349178055,
          1.8883277216610546,
          1.902521951541559,
          1.9167161814220632,
          1.9309104113025677,
          1.9451046411830721,
          1.9592988710635764,
          1.973493100944081,
          1.9876873308245853,
          2.0018815607050895,
          2.016075790585594,
          2.0302700204660984,
          2.0444642503466026,
          2.0586584802271073,
          2.0728527101076115,
          2.087046939988116,
          2.1012411698686204,
          2.1154353997491246,
          2.1296296296296293,
          2.1438238595101335,
          2.158018089390638,
          2.1722123192711424,
          2.1864065491516467,
          2.2006007790321513,
          2.2147950089126556,
          2.22898923879316,
          2.2431834686736645,
          2.2573776985541687,
          2.271571928434673,
          2.2857661583151776,
          2.299960388195682,
          2.314154618076186,
          2.3283488479566907,
          2.342543077837195,
          2.356737307717699,
          2.370931537598204,
          2.3851257674787085,
          2.3993199973592123,
          2.413514227239717,
          2.4277084571202217,
          2.441902687000726,
          2.45609691688123,
          2.470291146761735,
          2.484485376642239,
          2.4986796065227432,
          2.512873836403248,
          2.527068066283752,
          2.5412622961642564,
          2.555456526044761,
          2.5696507559252653,
          2.5838449858057695,
          2.598039215686274
         ],
         "y": [
          23.719067818714166,
          23.73117002102359,
          23.743272223333015,
          23.755374425642437,
          23.76747662795186,
          23.779578830261286,
          23.79168103257071,
          23.803783234880132,
          23.815885437189557,
          23.827987639498982,
          23.840089841808407,
          23.852192044117828,
          23.864294246427253,
          23.876396448736678,
          23.888498651046103,
          23.900600853355524,
          23.91270305566495,
          23.924805257974374,
          23.9369074602838,
          23.94900966259322,
          23.961111864902644,
          23.97321406721207,
          23.98531626952149,
          23.997418471830915,
          24.00952067414034,
          24.021622876449765,
          24.03372507875919,
          24.04582728106861,
          24.057929483378036,
          24.07003168568746,
          24.082133887996882,
          24.094236090306307,
          24.10633829261573,
          24.118440494925157,
          24.13054269723458,
          24.142644899544003,
          24.154747101853427,
          24.166849304162852,
          24.178951506472274,
          24.1910537087817,
          24.203155911091123,
          24.215258113400548,
          24.22736031570997,
          24.239462518019394,
          24.25156472032882,
          24.263666922638244,
          24.275769124947665,
          24.28787132725709,
          24.299973529566515,
          24.31207573187594,
          24.32417793418536,
          24.336280136494786,
          24.34838233880421,
          24.360484541113635,
          24.372586743423057,
          24.38468894573248,
          24.396791148041906,
          24.40889335035133,
          24.420995552660752,
          24.433097754970177,
          24.445199957279602,
          24.457302159589027,
          24.469404361898448,
          24.481506564207873,
          24.493608766517298,
          24.505710968826723,
          24.517813171136144,
          24.52991537344557,
          24.542017575754993,
          24.55411977806442,
          24.56622198037384,
          24.578324182683264,
          24.59042638499269,
          24.60252858730211,
          24.614630789611535,
          24.62673299192096,
          24.638835194230385,
          24.65093739653981,
          24.66303959884923,
          24.675141801158656,
          24.68724400346808,
          24.699346205777502,
          24.711448408086927,
          24.72355061039635,
          24.735652812705776,
          24.747755015015198,
          24.759857217324623,
          24.771959419634047,
          24.784061621943472,
          24.796163824252893,
          24.80826602656232,
          24.820368228871743,
          24.832470431181168,
          24.844572633490593,
          24.856674835800014,
          24.86877703810944,
          24.880879240418864,
          24.892981442728285,
          24.90508364503771,
          24.917185847347135
         ]
        }
       ],
       "layout": {
        "template": {
         "data": {
          "bar": [
           {
            "error_x": {
             "color": "#2a3f5f"
            },
            "error_y": {
             "color": "#2a3f5f"
            },
            "marker": {
             "line": {
              "color": "#E5ECF6",
              "width": 0.5
             },
             "pattern": {
              "fillmode": "overlay",
              "size": 10,
              "solidity": 0.2
             }
            },
            "type": "bar"
           }
          ],
          "barpolar": [
           {
            "marker": {
             "line": {
              "color": "#E5ECF6",
              "width": 0.5
             },
             "pattern": {
              "fillmode": "overlay",
              "size": 10,
              "solidity": 0.2
             }
            },
            "type": "barpolar"
           }
          ],
          "carpet": [
           {
            "aaxis": {
             "endlinecolor": "#2a3f5f",
             "gridcolor": "white",
             "linecolor": "white",
             "minorgridcolor": "white",
             "startlinecolor": "#2a3f5f"
            },
            "baxis": {
             "endlinecolor": "#2a3f5f",
             "gridcolor": "white",
             "linecolor": "white",
             "minorgridcolor": "white",
             "startlinecolor": "#2a3f5f"
            },
            "type": "carpet"
           }
          ],
          "choropleth": [
           {
            "colorbar": {
             "outlinewidth": 0,
             "ticks": ""
            },
            "type": "choropleth"
           }
          ],
          "contour": [
           {
            "colorbar": {
             "outlinewidth": 0,
             "ticks": ""
            },
            "colorscale": [
             [
              0,
              "#0d0887"
             ],
             [
              0.1111111111111111,
              "#46039f"
             ],
             [
              0.2222222222222222,
              "#7201a8"
             ],
             [
              0.3333333333333333,
              "#9c179e"
             ],
             [
              0.4444444444444444,
              "#bd3786"
             ],
             [
              0.5555555555555556,
              "#d8576b"
             ],
             [
              0.6666666666666666,
              "#ed7953"
             ],
             [
              0.7777777777777778,
              "#fb9f3a"
             ],
             [
              0.8888888888888888,
              "#fdca26"
             ],
             [
              1,
              "#f0f921"
             ]
            ],
            "type": "contour"
           }
          ],
          "contourcarpet": [
           {
            "colorbar": {
             "outlinewidth": 0,
             "ticks": ""
            },
            "type": "contourcarpet"
           }
          ],
          "heatmap": [
           {
            "colorbar": {
             "outlinewidth": 0,
             "ticks": ""
            },
            "colorscale": [
             [
              0,
              "#0d0887"
             ],
             [
              0.1111111111111111,
              "#46039f"
             ],
             [
              0.2222222222222222,
              "#7201a8"
             ],
             [
              0.3333333333333333,
              "#9c179e"
             ],
             [
              0.4444444444444444,
              "#bd3786"
             ],
             [
              0.5555555555555556,
              "#d8576b"
             ],
             [
              0.6666666666666666,
              "#ed7953"
             ],
             [
              0.7777777777777778,
              "#fb9f3a"
             ],
             [
              0.8888888888888888,
              "#fdca26"
             ],
             [
              1,
              "#f0f921"
             ]
            ],
            "type": "heatmap"
           }
          ],
          "heatmapgl": [
           {
            "colorbar": {
             "outlinewidth": 0,
             "ticks": ""
            },
            "colorscale": [
             [
              0,
              "#0d0887"
             ],
             [
              0.1111111111111111,
              "#46039f"
             ],
             [
              0.2222222222222222,
              "#7201a8"
             ],
             [
              0.3333333333333333,
              "#9c179e"
             ],
             [
              0.4444444444444444,
              "#bd3786"
             ],
             [
              0.5555555555555556,
              "#d8576b"
             ],
             [
              0.6666666666666666,
              "#ed7953"
             ],
             [
              0.7777777777777778,
              "#fb9f3a"
             ],
             [
              0.8888888888888888,
              "#fdca26"
             ],
             [
              1,
              "#f0f921"
             ]
            ],
            "type": "heatmapgl"
           }
          ],
          "histogram": [
           {
            "marker": {
             "pattern": {
              "fillmode": "overlay",
              "size": 10,
              "solidity": 0.2
             }
            },
            "type": "histogram"
           }
          ],
          "histogram2d": [
           {
            "colorbar": {
             "outlinewidth": 0,
             "ticks": ""
            },
            "colorscale": [
             [
              0,
              "#0d0887"
             ],
             [
              0.1111111111111111,
              "#46039f"
             ],
             [
              0.2222222222222222,
              "#7201a8"
             ],
             [
              0.3333333333333333,
              "#9c179e"
             ],
             [
              0.4444444444444444,
              "#bd3786"
             ],
             [
              0.5555555555555556,
              "#d8576b"
             ],
             [
              0.6666666666666666,
              "#ed7953"
             ],
             [
              0.7777777777777778,
              "#fb9f3a"
             ],
             [
              0.8888888888888888,
              "#fdca26"
             ],
             [
              1,
              "#f0f921"
             ]
            ],
            "type": "histogram2d"
           }
          ],
          "histogram2dcontour": [
           {
            "colorbar": {
             "outlinewidth": 0,
             "ticks": ""
            },
            "colorscale": [
             [
              0,
              "#0d0887"
             ],
             [
              0.1111111111111111,
              "#46039f"
             ],
             [
              0.2222222222222222,
              "#7201a8"
             ],
             [
              0.3333333333333333,
              "#9c179e"
             ],
             [
              0.4444444444444444,
              "#bd3786"
             ],
             [
              0.5555555555555556,
              "#d8576b"
             ],
             [
              0.6666666666666666,
              "#ed7953"
             ],
             [
              0.7777777777777778,
              "#fb9f3a"
             ],
             [
              0.8888888888888888,
              "#fdca26"
             ],
             [
              1,
              "#f0f921"
             ]
            ],
            "type": "histogram2dcontour"
           }
          ],
          "mesh3d": [
           {
            "colorbar": {
             "outlinewidth": 0,
             "ticks": ""
            },
            "type": "mesh3d"
           }
          ],
          "parcoords": [
           {
            "line": {
             "colorbar": {
              "outlinewidth": 0,
              "ticks": ""
             }
            },
            "type": "parcoords"
           }
          ],
          "pie": [
           {
            "automargin": true,
            "type": "pie"
           }
          ],
          "scatter": [
           {
            "fillpattern": {
             "fillmode": "overlay",
             "size": 10,
             "solidity": 0.2
            },
            "type": "scatter"
           }
          ],
          "scatter3d": [
           {
            "line": {
             "colorbar": {
              "outlinewidth": 0,
              "ticks": ""
             }
            },
            "marker": {
             "colorbar": {
              "outlinewidth": 0,
              "ticks": ""
             }
            },
            "type": "scatter3d"
           }
          ],
          "scattercarpet": [
           {
            "marker": {
             "colorbar": {
              "outlinewidth": 0,
              "ticks": ""
             }
            },
            "type": "scattercarpet"
           }
          ],
          "scattergeo": [
           {
            "marker": {
             "colorbar": {
              "outlinewidth": 0,
              "ticks": ""
             }
            },
            "type": "scattergeo"
           }
          ],
          "scattergl": [
           {
            "marker": {
             "colorbar": {
              "outlinewidth": 0,
              "ticks": ""
             }
            },
            "type": "scattergl"
           }
          ],
          "scattermapbox": [
           {
            "marker": {
             "colorbar": {
              "outlinewidth": 0,
              "ticks": ""
             }
            },
            "type": "scattermapbox"
           }
          ],
          "scatterpolar": [
           {
            "marker": {
             "colorbar": {
              "outlinewidth": 0,
              "ticks": ""
             }
            },
            "type": "scatterpolar"
           }
          ],
          "scatterpolargl": [
           {
            "marker": {
             "colorbar": {
              "outlinewidth": 0,
              "ticks": ""
             }
            },
            "type": "scatterpolargl"
           }
          ],
          "scatterternary": [
           {
            "marker": {
             "colorbar": {
              "outlinewidth": 0,
              "ticks": ""
             }
            },
            "type": "scatterternary"
           }
          ],
          "surface": [
           {
            "colorbar": {
             "outlinewidth": 0,
             "ticks": ""
            },
            "colorscale": [
             [
              0,
              "#0d0887"
             ],
             [
              0.1111111111111111,
              "#46039f"
             ],
             [
              0.2222222222222222,
              "#7201a8"
             ],
             [
              0.3333333333333333,
              "#9c179e"
             ],
             [
              0.4444444444444444,
              "#bd3786"
             ],
             [
              0.5555555555555556,
              "#d8576b"
             ],
             [
              0.6666666666666666,
              "#ed7953"
             ],
             [
              0.7777777777777778,
              "#fb9f3a"
             ],
             [
              0.8888888888888888,
              "#fdca26"
             ],
             [
              1,
              "#f0f921"
             ]
            ],
            "type": "surface"
           }
          ],
          "table": [
           {
            "cells": {
             "fill": {
              "color": "#EBF0F8"
             },
             "line": {
              "color": "white"
             }
            },
            "header": {
             "fill": {
              "color": "#C8D4E3"
             },
             "line": {
              "color": "white"
             }
            },
            "type": "table"
           }
          ]
         },
         "layout": {
          "annotationdefaults": {
           "arrowcolor": "#2a3f5f",
           "arrowhead": 0,
           "arrowwidth": 1
          },
          "autotypenumbers": "strict",
          "coloraxis": {
           "colorbar": {
            "outlinewidth": 0,
            "ticks": ""
           }
          },
          "colorscale": {
           "diverging": [
            [
             0,
             "#8e0152"
            ],
            [
             0.1,
             "#c51b7d"
            ],
            [
             0.2,
             "#de77ae"
            ],
            [
             0.3,
             "#f1b6da"
            ],
            [
             0.4,
             "#fde0ef"
            ],
            [
             0.5,
             "#f7f7f7"
            ],
            [
             0.6,
             "#e6f5d0"
            ],
            [
             0.7,
             "#b8e186"
            ],
            [
             0.8,
             "#7fbc41"
            ],
            [
             0.9,
             "#4d9221"
            ],
            [
             1,
             "#276419"
            ]
           ],
           "sequential": [
            [
             0,
             "#0d0887"
            ],
            [
             0.1111111111111111,
             "#46039f"
            ],
            [
             0.2222222222222222,
             "#7201a8"
            ],
            [
             0.3333333333333333,
             "#9c179e"
            ],
            [
             0.4444444444444444,
             "#bd3786"
            ],
            [
             0.5555555555555556,
             "#d8576b"
            ],
            [
             0.6666666666666666,
             "#ed7953"
            ],
            [
             0.7777777777777778,
             "#fb9f3a"
            ],
            [
             0.8888888888888888,
             "#fdca26"
            ],
            [
             1,
             "#f0f921"
            ]
           ],
           "sequentialminus": [
            [
             0,
             "#0d0887"
            ],
            [
             0.1111111111111111,
             "#46039f"
            ],
            [
             0.2222222222222222,
             "#7201a8"
            ],
            [
             0.3333333333333333,
             "#9c179e"
            ],
            [
             0.4444444444444444,
             "#bd3786"
            ],
            [
             0.5555555555555556,
             "#d8576b"
            ],
            [
             0.6666666666666666,
             "#ed7953"
            ],
            [
             0.7777777777777778,
             "#fb9f3a"
            ],
            [
             0.8888888888888888,
             "#fdca26"
            ],
            [
             1,
             "#f0f921"
            ]
           ]
          },
          "colorway": [
           "#636efa",
           "#EF553B",
           "#00cc96",
           "#ab63fa",
           "#FFA15A",
           "#19d3f3",
           "#FF6692",
           "#B6E880",
           "#FF97FF",
           "#FECB52"
          ],
          "font": {
           "color": "#2a3f5f"
          },
          "geo": {
           "bgcolor": "white",
           "lakecolor": "white",
           "landcolor": "#E5ECF6",
           "showlakes": true,
           "showland": true,
           "subunitcolor": "white"
          },
          "hoverlabel": {
           "align": "left"
          },
          "hovermode": "closest",
          "mapbox": {
           "style": "light"
          },
          "paper_bgcolor": "white",
          "plot_bgcolor": "#E5ECF6",
          "polar": {
           "angularaxis": {
            "gridcolor": "white",
            "linecolor": "white",
            "ticks": ""
           },
           "bgcolor": "#E5ECF6",
           "radialaxis": {
            "gridcolor": "white",
            "linecolor": "white",
            "ticks": ""
           }
          },
          "scene": {
           "xaxis": {
            "backgroundcolor": "#E5ECF6",
            "gridcolor": "white",
            "gridwidth": 2,
            "linecolor": "white",
            "showbackground": true,
            "ticks": "",
            "zerolinecolor": "white"
           },
           "yaxis": {
            "backgroundcolor": "#E5ECF6",
            "gridcolor": "white",
            "gridwidth": 2,
            "linecolor": "white",
            "showbackground": true,
            "ticks": "",
            "zerolinecolor": "white"
           },
           "zaxis": {
            "backgroundcolor": "#E5ECF6",
            "gridcolor": "white",
            "gridwidth": 2,
            "linecolor": "white",
            "showbackground": true,
            "ticks": "",
            "zerolinecolor": "white"
           }
          },
          "shapedefaults": {
           "line": {
            "color": "#2a3f5f"
           }
          },
          "ternary": {
           "aaxis": {
            "gridcolor": "white",
            "linecolor": "white",
            "ticks": ""
           },
           "baxis": {
            "gridcolor": "white",
            "linecolor": "white",
            "ticks": ""
           },
           "bgcolor": "#E5ECF6",
           "caxis": {
            "gridcolor": "white",
            "linecolor": "white",
            "ticks": ""
           }
          },
          "title": {
           "x": 0.05
          },
          "xaxis": {
           "automargin": true,
           "gridcolor": "white",
           "linecolor": "white",
           "ticks": "",
           "title": {
            "standoff": 15
           },
           "zerolinecolor": "white",
           "zerolinewidth": 2
          },
          "yaxis": {
           "automargin": true,
           "gridcolor": "white",
           "linecolor": "white",
           "ticks": "",
           "title": {
            "standoff": 15
           },
           "zerolinecolor": "white",
           "zerolinewidth": 2
          }
         }
        },
        "title": {
         "text": "UHI Intensity vs Temperature in Cº"
        },
        "updatemenus": [
         {
          "active": 0,
          "buttons": [
           {
            "args": [
             {
              "visible": [
               true,
               true,
               true,
               true,
               true,
               true,
               false,
               false,
               false,
               false,
               false,
               false
              ]
             },
             {
              "annotations": [],
              "title": "UHI Intensity vs Temperature Cº in Urban area"
             }
            ],
            "label": "All",
            "method": "update"
           },
           {
            "args": [
             {
              "visible": [
               true,
               false,
               false,
               false,
               false,
               false,
               true,
               false,
               false,
               false,
               false,
               false
              ]
             },
             {
              "annotations": [],
              "title": "UHI Intensity vs Temperature Cº for Minimum Values in Urban area"
             }
            ],
            "label": "Min Urban",
            "method": "update"
           },
           {
            "args": [
             {
              "visible": [
               false,
               true,
               false,
               false,
               false,
               false,
               false,
               true,
               false,
               false,
               false,
               false
              ]
             },
             {
              "annotations": [],
              "title": "UHI Intensity vs Temperature Cº for Maximum Values in Urban area"
             }
            ],
            "label": "Max Urban",
            "method": "update"
           },
           {
            "args": [
             {
              "visible": [
               false,
               false,
               true,
               false,
               false,
               false,
               false,
               false,
               true,
               false,
               false,
               false
              ]
             },
             {
              "annotations": [],
              "title": "UHI Intensity vs Temperature Cº for Mean Values in Urban area"
             }
            ],
            "label": "Mean Urban",
            "method": "update"
           },
           {
            "args": [
             {
              "visible": [
               false,
               false,
               false,
               true,
               false,
               false,
               false,
               false,
               false,
               true,
               false,
               false
              ]
             },
             {
              "annotations": [],
              "title": "UHI Intensity vs Temperature Cº for Minimum Values in Rural area"
             }
            ],
            "label": "Min Rural",
            "method": "update"
           },
           {
            "args": [
             {
              "visible": [
               false,
               false,
               false,
               false,
               true,
               false,
               false,
               false,
               false,
               false,
               true,
               false
              ]
             },
             {
              "annotations": [],
              "title": "UHI Intensity vs Temperature Cº for Maximum Values in Rural area"
             }
            ],
            "label": "Max Rural",
            "method": "update"
           },
           {
            "args": [
             {
              "visible": [
               false,
               false,
               false,
               false,
               false,
               true,
               false,
               false,
               false,
               false,
               false,
               true
              ]
             },
             {
              "annotations": [],
              "title": "UHI Intensity vs Temperature Cº for Mean Values in Rural area"
             }
            ],
            "label": "Mean Rural",
            "method": "update"
           }
          ]
         }
        ],
        "xaxis": {
         "title": {
          "text": "UHI Intensity"
         }
        },
        "yaxis": {
         "title": {
          "text": "Mean Temperature Cº"
         }
        }
       }
      }
     },
     "metadata": {},
     "output_type": "display_data"
    }
   ],
   "source": [
    "\n",
    "fig = go.Figure()\n",
    "\n",
    "# Section for Urban vs UHI Intensity\n",
    "fig.add_trace(go.Scatter(x=df_min[\"Mean\"], y=urban_summer_df_min[\"Mean\"],\n",
    "                    mode='markers',\n",
    "                    name='Min Urban'))\n",
    "fig.add_trace(go.Scatter(x= df_max[\"Mean\"], y=urban_summer_df_max[\"Mean\"],\n",
    "                    mode='markers',\n",
    "                    name='Max Urban'))\n",
    "fig.add_trace(go.Scatter(x=df_mean[\"Mean\"], y=urban_summer_df_mean[\"Mean\"],\n",
    "                    mode='markers',\n",
    "                    name='Mean Urban'))\n",
    "\n",
    "# Section for Rural vs UHI Intensity\n",
    "fig.add_trace(go.Scatter(x=df_min[\"Mean\"], y=rural_summer_df_min[\"Mean\"],\n",
    "                    mode='markers',\n",
    "                    name='Min Rural'))\n",
    "fig.add_trace(go.Scatter(x= df_max[\"Mean\"], y=rural_summer_df_max[\"Mean\"],\n",
    "                    mode='markers',\n",
    "                    name='Max Rural'))\n",
    "fig.add_trace(go.Scatter(x=df_mean[\"Mean\"], y=rural_summer_df_mean[\"Mean\"],\n",
    "                    mode='markers',\n",
    "                    name='Mean Rural'))\n",
    "\n",
    "fig.add_trace(go.Line(x=x_min_urban, y=y_urban_min,\n",
    "                    mode='lines',\n",
    "                    name='Min Linear Regression Fit'))\n",
    "fig.add_trace(go.Line(x=x_max_urban, y=y_urban_max,\n",
    "                    mode='lines',\n",
    "                    name='Max Linear Regression Fit'))\n",
    "fig.add_trace(go.Line(x=x_mean_urban, y=y_urban_mean,\n",
    "                    mode='lines',\n",
    "                    name='Mean Linear Regression Fit'))\n",
    "fig.add_trace(go.Line(x=x_min_rural, y=y_rural_min,\n",
    "                    mode='lines',\n",
    "                    name='Min Linear Regression Fit'))\n",
    "fig.add_trace(go.Line(x=x_max_rural, y=y_rural_max,\n",
    "                    mode='lines',\n",
    "                    name='Max Linear Regression Fit'))\n",
    "fig.add_trace(go.Line(x=x_mean_rural, y=y_rural_mean,\n",
    "                    mode='lines',\n",
    "                    name='Mean Linear Regression Fit'))\n",
    "\n",
    "\n",
    "fig.update_layout(\n",
    "    updatemenus=[\n",
    "        dict(\n",
    "            active=0,\n",
    "            buttons=list([\n",
    "                dict(label=\"All\",\n",
    "                     method=\"update\",\n",
    "                     args=[{\"visible\": [True, True, True, True, True, True, False, False, False, False, False, False]},\n",
    "                           {\"title\": \"UHI Intensity vs Temperature Cº in Urban area\",\n",
    "                            \"annotations\": []}]),\n",
    "                dict(label=\"Min Urban\",\n",
    "                     method=\"update\",\n",
    "                     args=[{\"visible\": [True, False, False, False, False, False, True, False, False, False, False, False]},\n",
    "                           {\"title\": \"UHI Intensity vs Temperature Cº for Minimum Values in Urban area\",\n",
    "                            \"annotations\": []}]),\n",
    "                dict(label=\"Max Urban\",\n",
    "                     method=\"update\",\n",
    "                     args=[{\"visible\": [False, True, False, False, False, False, False, True, False, False, False, False]},\n",
    "                           {\"title\": \"UHI Intensity vs Temperature Cº for Maximum Values in Urban area\",\n",
    "                            \"annotations\": []}]),\n",
    "                dict(label=\"Mean Urban\",\n",
    "                     method=\"update\",\n",
    "                     args=[{\"visible\": [False, False, True, False, False, False, False, False, True, False, False, False]},\n",
    "                           {\"title\": \"UHI Intensity vs Temperature Cº for Mean Values in Urban area\",\n",
    "                            \"annotations\": []}]),\n",
    "                dict(label=\"Min Rural\",\n",
    "                     method=\"update\",\n",
    "                     args=[{\"visible\": [False, False, False, True, False, False, False, False, False, True, False, False]},\n",
    "                           {\"title\": \"UHI Intensity vs Temperature Cº for Minimum Values in Rural area\",\n",
    "                            \"annotations\": []}]),\n",
    "                dict(label=\"Max Rural\",\n",
    "                     method=\"update\",\n",
    "                     args=[{\"visible\": [False, False, False, False, True, False, False, False, False, False, True, False]},\n",
    "                           {\"title\": \"UHI Intensity vs Temperature Cº for Maximum Values in Rural area\",\n",
    "                            \"annotations\": []}]),\n",
    "                dict(label=\"Mean Rural\",\n",
    "                     method=\"update\",\n",
    "                     args=[{\"visible\": [False, False, False, False, False, True, False, False, False, False, False, True]},\n",
    "                           {\"title\": \"UHI Intensity vs Temperature Cº for Mean Values in Rural area\",\n",
    "                            \"annotations\": []}]),\n",
    "            ]),\n",
    "        )\n",
    "    ])\n",
    "\n",
    "fig.update_layout(title='UHI Intensity vs Temperature in Cº',\n",
    "                   xaxis_title='UHI Intensity',\n",
    "                   yaxis_title='Mean Temperature Cº')\n",
    "\n",
    "fig.show()"
   ]
  }
 ],
 "metadata": {
  "kernelspec": {
   "display_name": "Python 3",
   "language": "python",
   "name": "python3"
  },
  "language_info": {
   "codemirror_mode": {
    "name": "ipython",
    "version": 3
   },
   "file_extension": ".py",
   "mimetype": "text/x-python",
   "name": "python",
   "nbconvert_exporter": "python",
   "pygments_lexer": "ipython3",
   "version": "3.7.6"
  }
 },
 "nbformat": 4,
 "nbformat_minor": 2
}
