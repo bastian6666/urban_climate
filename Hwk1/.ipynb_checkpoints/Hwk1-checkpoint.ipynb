{
 "cells": [
  {
   "cell_type": "markdown",
   "metadata": {},
   "source": [
    "# Urban Climate Homework 1"
   ]
  },
  {
   "cell_type": "code",
   "execution_count": 2,
   "metadata": {},
   "outputs": [],
   "source": [
    "from data_man import data_explore\n",
    "import pandas as pd\n",
    "import plotly.graph_objects as go\n",
    "import calendar\n",
    "import numpy as np"
   ]
  },
  {
   "cell_type": "markdown",
   "metadata": {},
   "source": [
    "## Cleaning data"
   ]
  },
  {
   "cell_type": "code",
   "execution_count": 3,
   "metadata": {},
   "outputs": [],
   "source": [
    "import pandas as pd \n",
    "\n",
    "class data_explore: \n",
    "\n",
    "    \"\"\"\n",
    "    A class for exploring and cleaning data.\n",
    "\n",
    "    Attributes:\n",
    "        df (DataFrame): The input data frame.\n",
    "        name (str): The name of the file.\n",
    "\n",
    "    Methods:\n",
    "        data_cleaning(): Cleans the data by dropping rows with -9999 values and saves the cleaned data to a CSV file.\n",
    "    \"\"\"\n",
    "\n",
    "    def __init__(self, df, file_name) -> None:\n",
    "\n",
    "        self.df = df\n",
    "        self.name = file_name\n",
    "\n",
    "        \"\"\"\n",
    "        Initializes the data_explore object.\n",
    "\n",
    "        Args:\n",
    "            df (DataFrame): The input data frame.\n",
    "            file_name (str): The name of the file.\n",
    "        \"\"\"\n",
    "\n",
    "    def data_celaning(self):\n",
    "\n",
    "        \"\"\"\n",
    "        Cleans the data by dropping rows with -9999 values and saves the cleaned data to a CSV file.\n",
    "        \"\"\"\n",
    "\n",
    "        df_columns = [\"year\", \"month\", \"day\", \"Mean T\", \"Maximum T\", \"Minimum T\"]\n",
    "\n",
    "        self.df.columns = df_columns\n",
    "\n",
    "        # print((self.df == -9999).any())\n",
    "\n",
    "        for col in df_columns:\n",
    "            # print(\"Column name = \", col)\n",
    "\n",
    "            df_clean = self.df.drop(self.df[self.df[col] == -9999].index)\n",
    "\n",
    "        # print((df_clean == -9999).any())\n",
    "\n",
    "        df_clean.to_csv(self.name + \"_Clean.csv\")"
   ]
  },
  {
   "cell_type": "code",
   "execution_count": 4,
   "metadata": {},
   "outputs": [],
   "source": [
    "\n",
    "df_urban = pd.read_csv(\"save_DMH2.csv\")\n",
    "df_rural = pd.read_csv(\"save_BWI2.csv\")\n",
    "\n",
    "data_explore(df_rural, \"rural\").data_celaning()\n",
    "data_explore(df_urban, \"urban\").data_celaning()\n"
   ]
  },
  {
   "cell_type": "markdown",
   "metadata": {},
   "source": [
    "## UHI Intensity DataFrame"
   ]
  },
  {
   "cell_type": "markdown",
   "metadata": {},
   "source": [
    "\n",
    "* Calculate the urban heat island intensity using daily mean, maximum, and minimum temperatures for each day and then average them to each month (no figure or value is needed). Then average the monthly results from 2000 to 2016. For example, you should average all the January results from 2000 to 2016 to obtain an averaged January urban heat island effect. Plot the averaged urban heat islands as a function of month (you can think of this as the averaged seasonal cycle of urban heat island). Use different colors or markers for daily mean, maximum, and minimum temperatures but plot them on the same figure.\n"
   ]
  },
  {
   "cell_type": "markdown",
   "metadata": {},
   "source": [
    "In order to calculate Urban Heat Island Intensity we can use: \n",
    "\n",
    "$$ UHI_{\\text{Intensity}} = \\Delta T = T_{urban} - T_{rural}$$"
   ]
  },
  {
   "cell_type": "code",
   "execution_count": 5,
   "metadata": {},
   "outputs": [],
   "source": [
    "def UHI_Intensity(urband_file_name, rurald_file_name, T_type):\n",
    "\n",
    "    \"\"\"\n",
    "    Calculates the Urban Heat Island (UHI) intensity using temperature data from urban and rural areas.\n",
    "\n",
    "    Args:\n",
    "        urband_file_name (str): The file name of the urban temperature data.\n",
    "        rurald_file_name (str): The file name of the rural temperature data.\n",
    "        T_type (str): The type of temperature to calculate the UHI intensity for.\n",
    "\n",
    "    Returns:\n",
    "        None. The calculated UHI intensity values are saved to a CSV file.\n",
    "    \"\"\"\n",
    "\n",
    "    df_urban = pd.read_csv(urband_file_name)\n",
    "    df_rural = pd.read_csv(rurald_file_name)\n",
    "\n",
    "    m = calendar.month_name[1:]\n",
    "\n",
    "    mean_month_temp_rural = []\n",
    "    mean_month_temp_urban = []\n",
    "\n",
    "    UHI_df = pd.DataFrame()\n",
    "    temp_df = pd.DataFrame()\n",
    "\n",
    "    temp_df[\"Month\"] = m\n",
    "    UHI_df[\"Month\"] = m\n",
    "\n",
    "    years = 2000\n",
    "\n",
    "    for ii in range(17):\n",
    "\n",
    "        j = 1\n",
    "\n",
    "        df_rural_year = df_rural.loc[df_rural['year'] == years]\n",
    "        df_urban_year = df_urban.loc[df_urban['year'] == years]\n",
    "\n",
    "        for jj in range(len(temp_df)):\n",
    "\n",
    "            df_rural_month = df_rural_year.loc[df_rural_year['month'] == j]\n",
    "            df_urban_month = df_urban_year.loc[df_urban_year['month'] == j]\n",
    "            \n",
    "            Mean_rural = df_rural_month.loc[:, T_type].mean()\n",
    "            Mean_urban = df_urban_month.loc[:, T_type].mean()\n",
    "\n",
    "\n",
    "            mean_month_temp_rural.append(Mean_rural)\n",
    "            mean_month_temp_urban.append(Mean_urban)\n",
    "            \n",
    "            j = j + 1\n",
    "\n",
    "        mean_month_temp_rural_C = [FahrenheitToCelsius(f) for f in mean_month_temp_rural]\n",
    "        mean_month_temp_urban_C = [FahrenheitToCelsius(f) for f in mean_month_temp_urban]\n",
    "\n",
    "        UHI_month_intensity_C = np.array(mean_month_temp_urban_C) - np.array(mean_month_temp_rural_C)\n",
    "        \n",
    "        temp_df[T_type + \"_rural \" + str(years)] = mean_month_temp_rural_C\n",
    "        temp_df[T_type + \"_urban \" + str(years)] = mean_month_temp_urban_C\n",
    "        UHI_df[\"UHI_intensity\" + T_type + \" \" + str(years)] = UHI_month_intensity_C\n",
    "        \n",
    "        mean_month_temp_rural = []\n",
    "        mean_month_temp_urban = []\n",
    "\n",
    "        years = years + 1\n",
    "\n",
    "\n",
    "    UHI_df['Mean'] = UHI_df.drop('Month', axis=1).apply(lambda x: x.mean(), axis=1)\n",
    "    temp_df['Mean'] = temp_df.drop('Month', axis=1).apply(lambda x: x.mean(), axis=1)\n",
    "    \n",
    "    temp_df.to_csv(T_type + \"_temperature_df.csv\")\n",
    "    UHI_df.to_csv(\"UHI_intensity\" + T_type + \".csv\")\n",
    "\n",
    "\n",
    "def FahrenheitToCelsius(f):\n",
    "\n",
    "    \"\"\"\n",
    "    Converts a temperature value in Fahrenheit to Celsius.\n",
    "\n",
    "    Args:\n",
    "        f (float): The temperature value in Fahrenheit.\n",
    "\n",
    "    Returns:\n",
    "        float: The temperature value converted to Celsius.\n",
    "    \"\"\"\n",
    "\n",
    "    c = (f - 32) * 5 / 9\n",
    "\n",
    "    return c\n",
    "\n"
   ]
  },
  {
   "cell_type": "code",
   "execution_count": 6,
   "metadata": {},
   "outputs": [],
   "source": [
    "\n",
    "T_type = [\"Mean T\", \"Maximum T\", \"Minimum T\"]\n",
    "\n",
    "for Temperature_type in T_type:\n",
    "\n",
    "    UHI_Intensity(\"urban_Clean.csv\", \"rural_Clean.csv\", Temperature_type)\n",
    "        \n"
   ]
  },
  {
   "cell_type": "markdown",
   "metadata": {},
   "source": [
    "## Plots"
   ]
  },
  {
   "cell_type": "code",
   "execution_count": 11,
   "metadata": {},
   "outputs": [
    {
     "data": {
      "application/vnd.plotly.v1+json": {
       "config": {
        "plotlyServerURL": "https://plotly.com"
       },
       "data": [
        {
         "mode": "lines+markers",
         "name": "Max",
         "type": "scatter",
         "x": [
          "January",
          "February",
          "March",
          "April",
          "May",
          "June",
          "July",
          "August",
          "September",
          "October",
          "November",
          "December"
         ],
         "y": [
          0.4172816079836953,
          0.2814401622718046,
          0.2619650010541856,
          0.4346405228758172,
          0.5070630402698723,
          0.8521690498251241,
          0.9993674889310568,
          0.8644317942230645,
          0.7766884531590419,
          0.5850727387729293,
          0.3352114792277065,
          0.4673554009417384
         ]
        },
        {
         "mode": "lines+markers",
         "name": "Mean",
         "type": "scatter",
         "x": [
          "January",
          "February",
          "March",
          "April",
          "May",
          "June",
          "July",
          "August",
          "September",
          "October",
          "November",
          "December"
         ],
         "y": [
          1.4787757396865553,
          1.4857006020799126,
          1.4352165597421764,
          1.601307189542484,
          1.7104153489352731,
          1.869283132580406,
          2.021399957832595,
          1.9507695551338815,
          2.104575163398692,
          2.002951718321737,
          1.911971301930734,
          1.7206838928323225
         ]
        },
        {
         "mode": "lines+markers",
         "name": "Min",
         "type": "scatter",
         "x": [
          "January",
          "February",
          "March",
          "April",
          "May",
          "June",
          "July",
          "August",
          "September",
          "October",
          "November",
          "December"
         ],
         "y": [
          2.637500878487596,
          2.776691136224605,
          2.652743893256227,
          2.873638344226579,
          2.8831962892683944,
          2.9208924949290065,
          2.9696394686907026,
          3.060299388572634,
          3.4564270152505445,
          3.462998102466793,
          3.557358575614154,
          2.983500050757062
         ]
        }
       ],
       "layout": {
        "template": {
         "data": {
          "bar": [
           {
            "error_x": {
             "color": "#2a3f5f"
            },
            "error_y": {
             "color": "#2a3f5f"
            },
            "marker": {
             "line": {
              "color": "#E5ECF6",
              "width": 0.5
             },
             "pattern": {
              "fillmode": "overlay",
              "size": 10,
              "solidity": 0.2
             }
            },
            "type": "bar"
           }
          ],
          "barpolar": [
           {
            "marker": {
             "line": {
              "color": "#E5ECF6",
              "width": 0.5
             },
             "pattern": {
              "fillmode": "overlay",
              "size": 10,
              "solidity": 0.2
             }
            },
            "type": "barpolar"
           }
          ],
          "carpet": [
           {
            "aaxis": {
             "endlinecolor": "#2a3f5f",
             "gridcolor": "white",
             "linecolor": "white",
             "minorgridcolor": "white",
             "startlinecolor": "#2a3f5f"
            },
            "baxis": {
             "endlinecolor": "#2a3f5f",
             "gridcolor": "white",
             "linecolor": "white",
             "minorgridcolor": "white",
             "startlinecolor": "#2a3f5f"
            },
            "type": "carpet"
           }
          ],
          "choropleth": [
           {
            "colorbar": {
             "outlinewidth": 0,
             "ticks": ""
            },
            "type": "choropleth"
           }
          ],
          "contour": [
           {
            "colorbar": {
             "outlinewidth": 0,
             "ticks": ""
            },
            "colorscale": [
             [
              0,
              "#0d0887"
             ],
             [
              0.1111111111111111,
              "#46039f"
             ],
             [
              0.2222222222222222,
              "#7201a8"
             ],
             [
              0.3333333333333333,
              "#9c179e"
             ],
             [
              0.4444444444444444,
              "#bd3786"
             ],
             [
              0.5555555555555556,
              "#d8576b"
             ],
             [
              0.6666666666666666,
              "#ed7953"
             ],
             [
              0.7777777777777778,
              "#fb9f3a"
             ],
             [
              0.8888888888888888,
              "#fdca26"
             ],
             [
              1,
              "#f0f921"
             ]
            ],
            "type": "contour"
           }
          ],
          "contourcarpet": [
           {
            "colorbar": {
             "outlinewidth": 0,
             "ticks": ""
            },
            "type": "contourcarpet"
           }
          ],
          "heatmap": [
           {
            "colorbar": {
             "outlinewidth": 0,
             "ticks": ""
            },
            "colorscale": [
             [
              0,
              "#0d0887"
             ],
             [
              0.1111111111111111,
              "#46039f"
             ],
             [
              0.2222222222222222,
              "#7201a8"
             ],
             [
              0.3333333333333333,
              "#9c179e"
             ],
             [
              0.4444444444444444,
              "#bd3786"
             ],
             [
              0.5555555555555556,
              "#d8576b"
             ],
             [
              0.6666666666666666,
              "#ed7953"
             ],
             [
              0.7777777777777778,
              "#fb9f3a"
             ],
             [
              0.8888888888888888,
              "#fdca26"
             ],
             [
              1,
              "#f0f921"
             ]
            ],
            "type": "heatmap"
           }
          ],
          "heatmapgl": [
           {
            "colorbar": {
             "outlinewidth": 0,
             "ticks": ""
            },
            "colorscale": [
             [
              0,
              "#0d0887"
             ],
             [
              0.1111111111111111,
              "#46039f"
             ],
             [
              0.2222222222222222,
              "#7201a8"
             ],
             [
              0.3333333333333333,
              "#9c179e"
             ],
             [
              0.4444444444444444,
              "#bd3786"
             ],
             [
              0.5555555555555556,
              "#d8576b"
             ],
             [
              0.6666666666666666,
              "#ed7953"
             ],
             [
              0.7777777777777778,
              "#fb9f3a"
             ],
             [
              0.8888888888888888,
              "#fdca26"
             ],
             [
              1,
              "#f0f921"
             ]
            ],
            "type": "heatmapgl"
           }
          ],
          "histogram": [
           {
            "marker": {
             "pattern": {
              "fillmode": "overlay",
              "size": 10,
              "solidity": 0.2
             }
            },
            "type": "histogram"
           }
          ],
          "histogram2d": [
           {
            "colorbar": {
             "outlinewidth": 0,
             "ticks": ""
            },
            "colorscale": [
             [
              0,
              "#0d0887"
             ],
             [
              0.1111111111111111,
              "#46039f"
             ],
             [
              0.2222222222222222,
              "#7201a8"
             ],
             [
              0.3333333333333333,
              "#9c179e"
             ],
             [
              0.4444444444444444,
              "#bd3786"
             ],
             [
              0.5555555555555556,
              "#d8576b"
             ],
             [
              0.6666666666666666,
              "#ed7953"
             ],
             [
              0.7777777777777778,
              "#fb9f3a"
             ],
             [
              0.8888888888888888,
              "#fdca26"
             ],
             [
              1,
              "#f0f921"
             ]
            ],
            "type": "histogram2d"
           }
          ],
          "histogram2dcontour": [
           {
            "colorbar": {
             "outlinewidth": 0,
             "ticks": ""
            },
            "colorscale": [
             [
              0,
              "#0d0887"
             ],
             [
              0.1111111111111111,
              "#46039f"
             ],
             [
              0.2222222222222222,
              "#7201a8"
             ],
             [
              0.3333333333333333,
              "#9c179e"
             ],
             [
              0.4444444444444444,
              "#bd3786"
             ],
             [
              0.5555555555555556,
              "#d8576b"
             ],
             [
              0.6666666666666666,
              "#ed7953"
             ],
             [
              0.7777777777777778,
              "#fb9f3a"
             ],
             [
              0.8888888888888888,
              "#fdca26"
             ],
             [
              1,
              "#f0f921"
             ]
            ],
            "type": "histogram2dcontour"
           }
          ],
          "mesh3d": [
           {
            "colorbar": {
             "outlinewidth": 0,
             "ticks": ""
            },
            "type": "mesh3d"
           }
          ],
          "parcoords": [
           {
            "line": {
             "colorbar": {
              "outlinewidth": 0,
              "ticks": ""
             }
            },
            "type": "parcoords"
           }
          ],
          "pie": [
           {
            "automargin": true,
            "type": "pie"
           }
          ],
          "scatter": [
           {
            "fillpattern": {
             "fillmode": "overlay",
             "size": 10,
             "solidity": 0.2
            },
            "type": "scatter"
           }
          ],
          "scatter3d": [
           {
            "line": {
             "colorbar": {
              "outlinewidth": 0,
              "ticks": ""
             }
            },
            "marker": {
             "colorbar": {
              "outlinewidth": 0,
              "ticks": ""
             }
            },
            "type": "scatter3d"
           }
          ],
          "scattercarpet": [
           {
            "marker": {
             "colorbar": {
              "outlinewidth": 0,
              "ticks": ""
             }
            },
            "type": "scattercarpet"
           }
          ],
          "scattergeo": [
           {
            "marker": {
             "colorbar": {
              "outlinewidth": 0,
              "ticks": ""
             }
            },
            "type": "scattergeo"
           }
          ],
          "scattergl": [
           {
            "marker": {
             "colorbar": {
              "outlinewidth": 0,
              "ticks": ""
             }
            },
            "type": "scattergl"
           }
          ],
          "scattermapbox": [
           {
            "marker": {
             "colorbar": {
              "outlinewidth": 0,
              "ticks": ""
             }
            },
            "type": "scattermapbox"
           }
          ],
          "scatterpolar": [
           {
            "marker": {
             "colorbar": {
              "outlinewidth": 0,
              "ticks": ""
             }
            },
            "type": "scatterpolar"
           }
          ],
          "scatterpolargl": [
           {
            "marker": {
             "colorbar": {
              "outlinewidth": 0,
              "ticks": ""
             }
            },
            "type": "scatterpolargl"
           }
          ],
          "scatterternary": [
           {
            "marker": {
             "colorbar": {
              "outlinewidth": 0,
              "ticks": ""
             }
            },
            "type": "scatterternary"
           }
          ],
          "surface": [
           {
            "colorbar": {
             "outlinewidth": 0,
             "ticks": ""
            },
            "colorscale": [
             [
              0,
              "#0d0887"
             ],
             [
              0.1111111111111111,
              "#46039f"
             ],
             [
              0.2222222222222222,
              "#7201a8"
             ],
             [
              0.3333333333333333,
              "#9c179e"
             ],
             [
              0.4444444444444444,
              "#bd3786"
             ],
             [
              0.5555555555555556,
              "#d8576b"
             ],
             [
              0.6666666666666666,
              "#ed7953"
             ],
             [
              0.7777777777777778,
              "#fb9f3a"
             ],
             [
              0.8888888888888888,
              "#fdca26"
             ],
             [
              1,
              "#f0f921"
             ]
            ],
            "type": "surface"
           }
          ],
          "table": [
           {
            "cells": {
             "fill": {
              "color": "#EBF0F8"
             },
             "line": {
              "color": "white"
             }
            },
            "header": {
             "fill": {
              "color": "#C8D4E3"
             },
             "line": {
              "color": "white"
             }
            },
            "type": "table"
           }
          ]
         },
         "layout": {
          "annotationdefaults": {
           "arrowcolor": "#2a3f5f",
           "arrowhead": 0,
           "arrowwidth": 1
          },
          "autotypenumbers": "strict",
          "coloraxis": {
           "colorbar": {
            "outlinewidth": 0,
            "ticks": ""
           }
          },
          "colorscale": {
           "diverging": [
            [
             0,
             "#8e0152"
            ],
            [
             0.1,
             "#c51b7d"
            ],
            [
             0.2,
             "#de77ae"
            ],
            [
             0.3,
             "#f1b6da"
            ],
            [
             0.4,
             "#fde0ef"
            ],
            [
             0.5,
             "#f7f7f7"
            ],
            [
             0.6,
             "#e6f5d0"
            ],
            [
             0.7,
             "#b8e186"
            ],
            [
             0.8,
             "#7fbc41"
            ],
            [
             0.9,
             "#4d9221"
            ],
            [
             1,
             "#276419"
            ]
           ],
           "sequential": [
            [
             0,
             "#0d0887"
            ],
            [
             0.1111111111111111,
             "#46039f"
            ],
            [
             0.2222222222222222,
             "#7201a8"
            ],
            [
             0.3333333333333333,
             "#9c179e"
            ],
            [
             0.4444444444444444,
             "#bd3786"
            ],
            [
             0.5555555555555556,
             "#d8576b"
            ],
            [
             0.6666666666666666,
             "#ed7953"
            ],
            [
             0.7777777777777778,
             "#fb9f3a"
            ],
            [
             0.8888888888888888,
             "#fdca26"
            ],
            [
             1,
             "#f0f921"
            ]
           ],
           "sequentialminus": [
            [
             0,
             "#0d0887"
            ],
            [
             0.1111111111111111,
             "#46039f"
            ],
            [
             0.2222222222222222,
             "#7201a8"
            ],
            [
             0.3333333333333333,
             "#9c179e"
            ],
            [
             0.4444444444444444,
             "#bd3786"
            ],
            [
             0.5555555555555556,
             "#d8576b"
            ],
            [
             0.6666666666666666,
             "#ed7953"
            ],
            [
             0.7777777777777778,
             "#fb9f3a"
            ],
            [
             0.8888888888888888,
             "#fdca26"
            ],
            [
             1,
             "#f0f921"
            ]
           ]
          },
          "colorway": [
           "#636efa",
           "#EF553B",
           "#00cc96",
           "#ab63fa",
           "#FFA15A",
           "#19d3f3",
           "#FF6692",
           "#B6E880",
           "#FF97FF",
           "#FECB52"
          ],
          "font": {
           "color": "#2a3f5f"
          },
          "geo": {
           "bgcolor": "white",
           "lakecolor": "white",
           "landcolor": "#E5ECF6",
           "showlakes": true,
           "showland": true,
           "subunitcolor": "white"
          },
          "hoverlabel": {
           "align": "left"
          },
          "hovermode": "closest",
          "mapbox": {
           "style": "light"
          },
          "paper_bgcolor": "white",
          "plot_bgcolor": "#E5ECF6",
          "polar": {
           "angularaxis": {
            "gridcolor": "white",
            "linecolor": "white",
            "ticks": ""
           },
           "bgcolor": "#E5ECF6",
           "radialaxis": {
            "gridcolor": "white",
            "linecolor": "white",
            "ticks": ""
           }
          },
          "scene": {
           "xaxis": {
            "backgroundcolor": "#E5ECF6",
            "gridcolor": "white",
            "gridwidth": 2,
            "linecolor": "white",
            "showbackground": true,
            "ticks": "",
            "zerolinecolor": "white"
           },
           "yaxis": {
            "backgroundcolor": "#E5ECF6",
            "gridcolor": "white",
            "gridwidth": 2,
            "linecolor": "white",
            "showbackground": true,
            "ticks": "",
            "zerolinecolor": "white"
           },
           "zaxis": {
            "backgroundcolor": "#E5ECF6",
            "gridcolor": "white",
            "gridwidth": 2,
            "linecolor": "white",
            "showbackground": true,
            "ticks": "",
            "zerolinecolor": "white"
           }
          },
          "shapedefaults": {
           "line": {
            "color": "#2a3f5f"
           }
          },
          "ternary": {
           "aaxis": {
            "gridcolor": "white",
            "linecolor": "white",
            "ticks": ""
           },
           "baxis": {
            "gridcolor": "white",
            "linecolor": "white",
            "ticks": ""
           },
           "bgcolor": "#E5ECF6",
           "caxis": {
            "gridcolor": "white",
            "linecolor": "white",
            "ticks": ""
           }
          },
          "title": {
           "x": 0.05
          },
          "xaxis": {
           "automargin": true,
           "gridcolor": "white",
           "linecolor": "white",
           "ticks": "",
           "title": {
            "standoff": 15
           },
           "zerolinecolor": "white",
           "zerolinewidth": 2
          },
          "yaxis": {
           "automargin": true,
           "gridcolor": "white",
           "linecolor": "white",
           "ticks": "",
           "title": {
            "standoff": 15
           },
           "zerolinecolor": "white",
           "zerolinewidth": 2
          }
         }
        },
        "title": {
         "text": "UHI Intensity for Max, Min and Mean Values of Temperature"
        },
        "updatemenus": [
         {
          "active": 0,
          "buttons": [
           {
            "args": [
             {
              "visible": [
               true,
               true,
               true
              ]
             },
             {
              "annotations": [],
              "title": "UHI Intensity for Max, Min and Mean Values of Temperature"
             }
            ],
            "label": "All",
            "method": "update"
           },
           {
            "args": [
             {
              "visible": [
               false,
               false,
               true
              ]
             },
             {
              "annotations": [],
              "title": "UHI Intensity for Minimum Values of Temperature"
             }
            ],
            "label": "Min",
            "method": "update"
           },
           {
            "args": [
             {
              "visible": [
               true,
               false,
               false
              ]
             },
             {
              "annotations": [],
              "title": "UHI Intensity for Maximum Values of Temperature"
             }
            ],
            "label": "Max",
            "method": "update"
           },
           {
            "args": [
             {
              "visible": [
               false,
               true,
               false
              ]
             },
             {
              "annotations": [],
              "title": "UHI Intensity for Mean Values of Temperature"
             }
            ],
            "label": "Mean",
            "method": "update"
           }
          ]
         }
        ],
        "xaxis": {
         "title": {
          "text": "Month"
         }
        },
        "yaxis": {
         "title": {
          "text": "UHI Intensity"
         }
        }
       }
      }
     },
     "metadata": {},
     "output_type": "display_data"
    }
   ],
   "source": [
    "\"\"\"\n",
    "This code reads the UHI intensity data from the CSV files and creates a line chart using the `plotly.graph_objects` module. \n",
    "The resulting chart displays the UHI intensity values for maximum, mean, and minimum temperature values across different months. \n",
    "The chart includes a title, x-axis label, and y-axis label.\n",
    "\n",
    "To run this code and visualize the UHI intensity values, make sure you have the necessary libraries imported and the required CSV \n",
    "files available in the specified file paths.\n",
    "\"\"\"\n",
    "\n",
    "df_max = pd.read_csv(\"UHI_intensityMaximum T.csv\")\n",
    "df_mean = pd.read_csv(\"UHI_intensityMean T.csv\")\n",
    "df_min = pd.read_csv(\"UHI_intensityMinimum T.csv\")\n",
    "df_T_Maximum = pd.read_csv(\"Maximum T_temperature_df.csv\")\n",
    "\n",
    "df_T_Maximum['Mean'] = df_T_Maximum.drop('Month', axis=1).apply(lambda x: x.mean(), axis=1)\n",
    "\n",
    "\n",
    "fig = go.Figure()\n",
    "\n",
    "fig.add_trace(go.Scatter(x=df_max[\"Month\"], y=df_max[\"Mean\"],\n",
    "                    mode='lines+markers',\n",
    "                    name='Max'))\n",
    "fig.add_trace(go.Scatter(x=df_mean[\"Month\"], y=df_mean[\"Mean\"],\n",
    "                    mode='lines+markers',\n",
    "                    name='Mean'))\n",
    "fig.add_trace(go.Scatter(x=df_min[\"Month\"], y=df_min[\"Mean\"],\n",
    "                    mode='lines+markers',\n",
    "                    name='Min'))\n",
    "\n",
    "\n",
    "fig.update_layout(\n",
    "    updatemenus=[\n",
    "        dict(\n",
    "            active=0,\n",
    "            buttons=list([\n",
    "                dict(label=\"All\",\n",
    "                     method=\"update\",\n",
    "                     args=[{\"visible\": [True, True, True]},\n",
    "                           {\"title\": \"UHI Intensity for Max, Min and Mean Values of Temperature\",\n",
    "                            \"annotations\": []}]),\n",
    "                dict(label=\"Min\",\n",
    "                     method=\"update\",\n",
    "                     args=[{\"visible\": [False, False, True]},\n",
    "                           {\"title\": \"UHI Intensity for Minimum Values of Temperature\",\n",
    "                            \"annotations\": []}]),\n",
    "                dict(label=\"Max\",\n",
    "                     method=\"update\",\n",
    "                     args=[{\"visible\": [True, False, False]},\n",
    "                           {\"title\": \"UHI Intensity for Maximum Values of Temperature\",\n",
    "                            \"annotations\": []}]),\n",
    "                dict(label=\"Mean\",\n",
    "                     method=\"update\",\n",
    "                     args=[{\"visible\": [False, True, False]},\n",
    "                           {\"title\": \"UHI Intensity for Mean Values of Temperature\",\n",
    "                            \"annotations\": []}]),\n",
    "            ]),\n",
    "        )\n",
    "    ])\n",
    "\n",
    "fig.update_layout(title='UHI Intensity for Max, Min and Mean Values of Temperature',\n",
    "                   xaxis_title='Month',\n",
    "                   yaxis_title='UHI Intensity')\n",
    "\n",
    "fig.show()"
   ]
  },
  {
   "cell_type": "markdown",
   "metadata": {},
   "source": [
    "## Discussion: \n",
    "\n",
    "a) which season has the strongest urban heat island effect and what are the possible causes.\n",
    "\n",
    "* Answer: \n",
    "\n",
    "b) which temperature (mean, maximum, or minimum) yields the strongest urban heat island effect. What are the possible causes?\n",
    "\n",
    "* Answer: \n",
    "\n"
   ]
  }
 ],
 "metadata": {
  "kernelspec": {
   "display_name": "Python 3",
   "language": "python",
   "name": "python3"
  },
  "language_info": {
   "codemirror_mode": {
    "name": "ipython",
    "version": 3
   },
   "file_extension": ".py",
   "mimetype": "text/x-python",
   "name": "python",
   "nbconvert_exporter": "python",
   "pygments_lexer": "ipython3",
   "version": "3.7.6"
  }
 },
 "nbformat": 4,
 "nbformat_minor": 4
}
